{
 "cells": [
  {
   "cell_type": "markdown",
   "metadata": {},
   "source": [
    "# Agenda"
   ]
  },
  {
   "cell_type": "code",
   "execution_count": null,
   "metadata": {},
   "outputs": [],
   "source": [
    "- Extracting and scraping the Data\n",
    "\n",
    "- Exploring and Processing Text Data"
   ]
  },
  {
   "cell_type": "markdown",
   "metadata": {},
   "source": [
    "## Recipe 1-1. Collecting Data\n",
    "-  there are a lot of free APIs through which we can collect data and use it to solve problems. \n",
    "- We will discuss the **Twitter API** in particular (it can be used in other scenarios as well)."
   ]
  },
  {
   "cell_type": "markdown",
   "metadata": {},
   "source": [
    "### Step 1-1 (Log in to the Twitter developer portal)\n",
    "\n",
    "**Create your own app in the Twitter developer portal, and get the keys mentioned below.**\n",
    "https://developer.twitter.com/en/apps\n",
    "\n",
    "**Keys needed:**\n",
    "- ***consumer key:*** Key associated with the application (Twitter, Facebook, etc.).\n",
    "- ***consumer secret:*** Password used to authenticate with the authentication server (Twitter, Facebook, etc.).\n",
    "- ***access token:*** Key given to the client after successful authentication of above keys.\n",
    "- ***access token secret:*** Password for the access key"
   ]
  },
  {
   "cell_type": "markdown",
   "metadata": {},
   "source": [
    "### Step 1-2\n",
    "Once all the credentials are in place, use the code below to fetch the data."
   ]
  },
  {
   "cell_type": "code",
   "execution_count": 99,
   "metadata": {},
   "outputs": [
    {
     "name": "stdout",
     "output_type": "stream",
     "text": [
      "Requirement already satisfied: tweepy in c:\\users\\data team\\anaconda3\\lib\\site-packages (3.8.0)\n",
      "Requirement already satisfied: requests-oauthlib>=0.7.0 in c:\\users\\data team\\anaconda3\\lib\\site-packages (from tweepy) (1.3.0)\n",
      "Requirement already satisfied: requests>=2.11.1 in c:\\users\\data team\\anaconda3\\lib\\site-packages (from tweepy) (2.22.0)\n",
      "Requirement already satisfied: PySocks>=1.5.7 in c:\\users\\data team\\anaconda3\\lib\\site-packages (from tweepy) (1.7.1)\n",
      "Requirement already satisfied: six>=1.10.0 in c:\\users\\data team\\anaconda3\\lib\\site-packages (from tweepy) (1.12.0)\n",
      "Requirement already satisfied: oauthlib>=3.0.0 in c:\\users\\data team\\anaconda3\\lib\\site-packages (from requests-oauthlib>=0.7.0->tweepy) (3.1.0)\n",
      "Requirement already satisfied: certifi>=2017.4.17 in c:\\users\\data team\\anaconda3\\lib\\site-packages (from requests>=2.11.1->tweepy) (2019.9.11)\n",
      "Requirement already satisfied: idna<2.9,>=2.5 in c:\\users\\data team\\anaconda3\\lib\\site-packages (from requests>=2.11.1->tweepy) (2.8)\n",
      "Requirement already satisfied: chardet<3.1.0,>=3.0.2 in c:\\users\\data team\\anaconda3\\lib\\site-packages (from requests>=2.11.1->tweepy) (3.0.4)\n",
      "Requirement already satisfied: urllib3!=1.25.0,!=1.25.1,<1.26,>=1.21.1 in c:\\users\\data team\\anaconda3\\lib\\site-packages (from requests>=2.11.1->tweepy) (1.24.2)\n",
      "[Status(_api=<tweepy.api.API object at 0x0000020D2CA58B88>, _json={'created_at': 'Tue Jan 21 09:26:48 +0000 2020', 'id': 1219551909490483201, 'id_str': '1219551909490483201', 'full_text': '@kunalkamra88 aree could have said ur a peaceful protestor/Rioter twitter Azadiisit and sadist  for CAA NRC ABC XYZ ....zayada izzat milti.', 'truncated': False, 'display_text_range': [14, 139], 'entities': {'hashtags': [], 'symbols': [], 'user_mentions': [{'screen_name': 'kunalkamra88', 'name': 'Kunal Kamra', 'id': 2259895735, 'id_str': '2259895735', 'indices': [0, 13]}], 'urls': []}, 'metadata': {'iso_language_code': 'en', 'result_type': 'recent'}, 'source': '<a href=\"https://mobile.twitter.com\" rel=\"nofollow\">Twitter Web App</a>', 'in_reply_to_status_id': 1219508188220919810, 'in_reply_to_status_id_str': '1219508188220919810', 'in_reply_to_user_id': 2259895735, 'in_reply_to_user_id_str': '2259895735', 'in_reply_to_screen_name': 'kunalkamra88', 'user': {'id': 1162225485008396288, 'id_str': '1162225485008396288', 'name': 'jai', 'screen_name': 'jaijee2009', 'location': 'India', 'description': 'A stupid tax payer born indian  citizen.', 'url': None, 'entities': {'description': {'urls': []}}, 'protected': False, 'followers_count': 2, 'friends_count': 230, 'listed_count': 0, 'created_at': 'Fri Aug 16 04:52:14 +0000 2019', 'favourites_count': 1, 'utc_offset': None, 'time_zone': None, 'geo_enabled': False, 'verified': False, 'statuses_count': 257, 'lang': None, 'contributors_enabled': False, 'is_translator': False, 'is_translation_enabled': False, 'profile_background_color': 'F5F8FA', 'profile_background_image_url': None, 'profile_background_image_url_https': None, 'profile_background_tile': False, 'profile_image_url': 'http://abs.twimg.com/sticky/default_profile_images/default_profile_normal.png', 'profile_image_url_https': 'https://abs.twimg.com/sticky/default_profile_images/default_profile_normal.png', 'profile_link_color': '1DA1F2', 'profile_sidebar_border_color': 'C0DEED', 'profile_sidebar_fill_color': 'DDEEF6', 'profile_text_color': '333333', 'profile_use_background_image': True, 'has_extended_profile': True, 'default_profile': True, 'default_profile_image': True, 'following': False, 'follow_request_sent': False, 'notifications': False, 'translator_type': 'none'}, 'geo': None, 'coordinates': None, 'place': None, 'contributors': None, 'is_quote_status': False, 'retweet_count': 0, 'favorite_count': 0, 'favorited': False, 'retweeted': False, 'lang': 'en'}, created_at=datetime.datetime(2020, 1, 21, 9, 26, 48), id=1219551909490483201, id_str='1219551909490483201', full_text='@kunalkamra88 aree could have said ur a peaceful protestor/Rioter twitter Azadiisit and sadist  for CAA NRC ABC XYZ ....zayada izzat milti.', truncated=False, display_text_range=[14, 139], entities={'hashtags': [], 'symbols': [], 'user_mentions': [{'screen_name': 'kunalkamra88', 'name': 'Kunal Kamra', 'id': 2259895735, 'id_str': '2259895735', 'indices': [0, 13]}], 'urls': []}, metadata={'iso_language_code': 'en', 'result_type': 'recent'}, source='Twitter Web App', source_url='https://mobile.twitter.com', in_reply_to_status_id=1219508188220919810, in_reply_to_status_id_str='1219508188220919810', in_reply_to_user_id=2259895735, in_reply_to_user_id_str='2259895735', in_reply_to_screen_name='kunalkamra88', author=User(_api=<tweepy.api.API object at 0x0000020D2CA58B88>, _json={'id': 1162225485008396288, 'id_str': '1162225485008396288', 'name': 'jai', 'screen_name': 'jaijee2009', 'location': 'India', 'description': 'A stupid tax payer born indian  citizen.', 'url': None, 'entities': {'description': {'urls': []}}, 'protected': False, 'followers_count': 2, 'friends_count': 230, 'listed_count': 0, 'created_at': 'Fri Aug 16 04:52:14 +0000 2019', 'favourites_count': 1, 'utc_offset': None, 'time_zone': None, 'geo_enabled': False, 'verified': False, 'statuses_count': 257, 'lang': None, 'contributors_enabled': False, 'is_translator': False, 'is_translation_enabled': False, 'profile_background_color': 'F5F8FA', 'profile_background_image_url': None, 'profile_background_image_url_https': None, 'profile_background_tile': False, 'profile_image_url': 'http://abs.twimg.com/sticky/default_profile_images/default_profile_normal.png', 'profile_image_url_https': 'https://abs.twimg.com/sticky/default_profile_images/default_profile_normal.png', 'profile_link_color': '1DA1F2', 'profile_sidebar_border_color': 'C0DEED', 'profile_sidebar_fill_color': 'DDEEF6', 'profile_text_color': '333333', 'profile_use_background_image': True, 'has_extended_profile': True, 'default_profile': True, 'default_profile_image': True, 'following': False, 'follow_request_sent': False, 'notifications': False, 'translator_type': 'none'}, id=1162225485008396288, id_str='1162225485008396288', name='jai', screen_name='jaijee2009', location='India', description='A stupid tax payer born indian  citizen.', url=None, entities={'description': {'urls': []}}, protected=False, followers_count=2, friends_count=230, listed_count=0, created_at=datetime.datetime(2019, 8, 16, 4, 52, 14), favourites_count=1, utc_offset=None, time_zone=None, geo_enabled=False, verified=False, statuses_count=257, lang=None, contributors_enabled=False, is_translator=False, is_translation_enabled=False, profile_background_color='F5F8FA', profile_background_image_url=None, profile_background_image_url_https=None, profile_background_tile=False, profile_image_url='http://abs.twimg.com/sticky/default_profile_images/default_profile_normal.png', profile_image_url_https='https://abs.twimg.com/sticky/default_profile_images/default_profile_normal.png', profile_link_color='1DA1F2', profile_sidebar_border_color='C0DEED', profile_sidebar_fill_color='DDEEF6', profile_text_color='333333', profile_use_background_image=True, has_extended_profile=True, default_profile=True, default_profile_image=True, following=False, follow_request_sent=False, notifications=False, translator_type='none'), user=User(_api=<tweepy.api.API object at 0x0000020D2CA58B88>, _json={'id': 1162225485008396288, 'id_str': '1162225485008396288', 'name': 'jai', 'screen_name': 'jaijee2009', 'location': 'India', 'description': 'A stupid tax payer born indian  citizen.', 'url': None, 'entities': {'description': {'urls': []}}, 'protected': False, 'followers_count': 2, 'friends_count': 230, 'listed_count': 0, 'created_at': 'Fri Aug 16 04:52:14 +0000 2019', 'favourites_count': 1, 'utc_offset': None, 'time_zone': None, 'geo_enabled': False, 'verified': False, 'statuses_count': 257, 'lang': None, 'contributors_enabled': False, 'is_translator': False, 'is_translation_enabled': False, 'profile_background_color': 'F5F8FA', 'profile_background_image_url': None, 'profile_background_image_url_https': None, 'profile_background_tile': False, 'profile_image_url': 'http://abs.twimg.com/sticky/default_profile_images/default_profile_normal.png', 'profile_image_url_https': 'https://abs.twimg.com/sticky/default_profile_images/default_profile_normal.png', 'profile_link_color': '1DA1F2', 'profile_sidebar_border_color': 'C0DEED', 'profile_sidebar_fill_color': 'DDEEF6', 'profile_text_color': '333333', 'profile_use_background_image': True, 'has_extended_profile': True, 'default_profile': True, 'default_profile_image': True, 'following': False, 'follow_request_sent': False, 'notifications': False, 'translator_type': 'none'}, id=1162225485008396288, id_str='1162225485008396288', name='jai', screen_name='jaijee2009', location='India', description='A stupid tax payer born indian  citizen.', url=None, entities={'description': {'urls': []}}, protected=False, followers_count=2, friends_count=230, listed_count=0, created_at=datetime.datetime(2019, 8, 16, 4, 52, 14), favourites_count=1, utc_offset=None, time_zone=None, geo_enabled=False, verified=False, statuses_count=257, lang=None, contributors_enabled=False, is_translator=False, is_translation_enabled=False, profile_background_color='F5F8FA', profile_background_image_url=None, profile_background_image_url_https=None, profile_background_tile=False, profile_image_url='http://abs.twimg.com/sticky/default_profile_images/default_profile_normal.png', profile_image_url_https='https://abs.twimg.com/sticky/default_profile_images/default_profile_normal.png', profile_link_color='1DA1F2', profile_sidebar_border_color='C0DEED', profile_sidebar_fill_color='DDEEF6', profile_text_color='333333', profile_use_background_image=True, has_extended_profile=True, default_profile=True, default_profile_image=True, following=False, follow_request_sent=False, notifications=False, translator_type='none'), geo=None, coordinates=None, place=None, contributors=None, is_quote_status=False, retweet_count=0, favorite_count=0, favorited=False, retweeted=False, lang='en'), Status(_api=<tweepy.api.API object at 0x0000020D2CA58B88>, _json={'created_at': 'Tue Jan 21 09:26:41 +0000 2020', 'id': 1219551879971164160, 'id_str': '1219551879971164160', 'full_text': \"Ever wondered why the US can't pass gun control laws? A perfect example is unfolding in Virginia https://t.co/OcKuRj92iq via @ABCNews\", 'truncated': False, 'display_text_range': [0, 133], 'entities': {'hashtags': [], 'symbols': [], 'user_mentions': [{'screen_name': 'abcnews', 'name': 'ABC News', 'id': 2768501, 'id_str': '2768501', 'indices': [125, 133]}], 'urls': [{'url': 'https://t.co/OcKuRj92iq', 'expanded_url': 'https://www.abc.net.au/news/2020-01-21/virginia-gun-rally-shows-what-happens-when-us-tries-to-pass-laws/11879410', 'display_url': 'abc.net.au/news/2020-01-2…', 'indices': [97, 120]}]}, 'metadata': {'iso_language_code': 'en', 'result_type': 'recent'}, 'source': '<a href=\"http://twitter.com\" rel=\"nofollow\">Twitter Web Client</a>', 'in_reply_to_status_id': None, 'in_reply_to_status_id_str': None, 'in_reply_to_user_id': None, 'in_reply_to_user_id_str': None, 'in_reply_to_screen_name': None, 'user': {'id': 1042722278520184833, 'id_str': '1042722278520184833', 'name': 'Deplorable David', 'screen_name': 'David42716938', 'location': 'Texas', 'description': \"Im an old cowboy hippie conservative.I love The USA ,my Texas and I'm grateful for the great job President Donald Trump is doing. 🇺🇸#MAGA #VotingRepublican\", 'url': None, 'entities': {'description': {'urls': []}}, 'protected': False, 'followers_count': 5351, 'friends_count': 5830, 'listed_count': 1, 'created_at': 'Thu Sep 20 10:28:58 +0000 2018', 'favourites_count': 24941, 'utc_offset': None, 'time_zone': None, 'geo_enabled': False, 'verified': False, 'statuses_count': 22483, 'lang': None, 'contributors_enabled': False, 'is_translator': False, 'is_translation_enabled': False, 'profile_background_color': 'F5F8FA', 'profile_background_image_url': None, 'profile_background_image_url_https': None, 'profile_background_tile': False, 'profile_image_url': 'http://pbs.twimg.com/profile_images/1044929696473833474/XpC_vTPh_normal.jpg', 'profile_image_url_https': 'https://pbs.twimg.com/profile_images/1044929696473833474/XpC_vTPh_normal.jpg', 'profile_banner_url': 'https://pbs.twimg.com/profile_banners/1042722278520184833/1549721377', 'profile_link_color': '1DA1F2', 'profile_sidebar_border_color': 'C0DEED', 'profile_sidebar_fill_color': 'DDEEF6', 'profile_text_color': '333333', 'profile_use_background_image': True, 'has_extended_profile': False, 'default_profile': True, 'default_profile_image': False, 'following': False, 'follow_request_sent': False, 'notifications': False, 'translator_type': 'none'}, 'geo': None, 'coordinates': None, 'place': None, 'contributors': None, 'is_quote_status': False, 'retweet_count': 0, 'favorite_count': 0, 'favorited': False, 'retweeted': False, 'possibly_sensitive': False, 'lang': 'en'}, created_at=datetime.datetime(2020, 1, 21, 9, 26, 41), id=1219551879971164160, id_str='1219551879971164160', full_text=\"Ever wondered why the US can't pass gun control laws? A perfect example is unfolding in Virginia https://t.co/OcKuRj92iq via @ABCNews\", truncated=False, display_text_range=[0, 133], entities={'hashtags': [], 'symbols': [], 'user_mentions': [{'screen_name': 'abcnews', 'name': 'ABC News', 'id': 2768501, 'id_str': '2768501', 'indices': [125, 133]}], 'urls': [{'url': 'https://t.co/OcKuRj92iq', 'expanded_url': 'https://www.abc.net.au/news/2020-01-21/virginia-gun-rally-shows-what-happens-when-us-tries-to-pass-laws/11879410', 'display_url': 'abc.net.au/news/2020-01-2…', 'indices': [97, 120]}]}, metadata={'iso_language_code': 'en', 'result_type': 'recent'}, source='Twitter Web Client', source_url='http://twitter.com', in_reply_to_status_id=None, in_reply_to_status_id_str=None, in_reply_to_user_id=None, in_reply_to_user_id_str=None, in_reply_to_screen_name=None, author=User(_api=<tweepy.api.API object at 0x0000020D2CA58B88>, _json={'id': 1042722278520184833, 'id_str': '1042722278520184833', 'name': 'Deplorable David', 'screen_name': 'David42716938', 'location': 'Texas', 'description': \"Im an old cowboy hippie conservative.I love The USA ,my Texas and I'm grateful for the great job President Donald Trump is doing. 🇺🇸#MAGA #VotingRepublican\", 'url': None, 'entities': {'description': {'urls': []}}, 'protected': False, 'followers_count': 5351, 'friends_count': 5830, 'listed_count': 1, 'created_at': 'Thu Sep 20 10:28:58 +0000 2018', 'favourites_count': 24941, 'utc_offset': None, 'time_zone': None, 'geo_enabled': False, 'verified': False, 'statuses_count': 22483, 'lang': None, 'contributors_enabled': False, 'is_translator': False, 'is_translation_enabled': False, 'profile_background_color': 'F5F8FA', 'profile_background_image_url': None, 'profile_background_image_url_https': None, 'profile_background_tile': False, 'profile_image_url': 'http://pbs.twimg.com/profile_images/1044929696473833474/XpC_vTPh_normal.jpg', 'profile_image_url_https': 'https://pbs.twimg.com/profile_images/1044929696473833474/XpC_vTPh_normal.jpg', 'profile_banner_url': 'https://pbs.twimg.com/profile_banners/1042722278520184833/1549721377', 'profile_link_color': '1DA1F2', 'profile_sidebar_border_color': 'C0DEED', 'profile_sidebar_fill_color': 'DDEEF6', 'profile_text_color': '333333', 'profile_use_background_image': True, 'has_extended_profile': False, 'default_profile': True, 'default_profile_image': False, 'following': False, 'follow_request_sent': False, 'notifications': False, 'translator_type': 'none'}, id=1042722278520184833, id_str='1042722278520184833', name='Deplorable David', screen_name='David42716938', location='Texas', description=\"Im an old cowboy hippie conservative.I love The USA ,my Texas and I'm grateful for the great job President Donald Trump is doing. 🇺🇸#MAGA #VotingRepublican\", url=None, entities={'description': {'urls': []}}, protected=False, followers_count=5351, friends_count=5830, listed_count=1, created_at=datetime.datetime(2018, 9, 20, 10, 28, 58), favourites_count=24941, utc_offset=None, time_zone=None, geo_enabled=False, verified=False, statuses_count=22483, lang=None, contributors_enabled=False, is_translator=False, is_translation_enabled=False, profile_background_color='F5F8FA', profile_background_image_url=None, profile_background_image_url_https=None, profile_background_tile=False, profile_image_url='http://pbs.twimg.com/profile_images/1044929696473833474/XpC_vTPh_normal.jpg', profile_image_url_https='https://pbs.twimg.com/profile_images/1044929696473833474/XpC_vTPh_normal.jpg', profile_banner_url='https://pbs.twimg.com/profile_banners/1042722278520184833/1549721377', profile_link_color='1DA1F2', profile_sidebar_border_color='C0DEED', profile_sidebar_fill_color='DDEEF6', profile_text_color='333333', profile_use_background_image=True, has_extended_profile=False, default_profile=True, default_profile_image=False, following=False, follow_request_sent=False, notifications=False, translator_type='none'), user=User(_api=<tweepy.api.API object at 0x0000020D2CA58B88>, _json={'id': 1042722278520184833, 'id_str': '1042722278520184833', 'name': 'Deplorable David', 'screen_name': 'David42716938', 'location': 'Texas', 'description': \"Im an old cowboy hippie conservative.I love The USA ,my Texas and I'm grateful for the great job President Donald Trump is doing. 🇺🇸#MAGA #VotingRepublican\", 'url': None, 'entities': {'description': {'urls': []}}, 'protected': False, 'followers_count': 5351, 'friends_count': 5830, 'listed_count': 1, 'created_at': 'Thu Sep 20 10:28:58 +0000 2018', 'favourites_count': 24941, 'utc_offset': None, 'time_zone': None, 'geo_enabled': False, 'verified': False, 'statuses_count': 22483, 'lang': None, 'contributors_enabled': False, 'is_translator': False, 'is_translation_enabled': False, 'profile_background_color': 'F5F8FA', 'profile_background_image_url': None, 'profile_background_image_url_https': None, 'profile_background_tile': False, 'profile_image_url': 'http://pbs.twimg.com/profile_images/1044929696473833474/XpC_vTPh_normal.jpg', 'profile_image_url_https': 'https://pbs.twimg.com/profile_images/1044929696473833474/XpC_vTPh_normal.jpg', 'profile_banner_url': 'https://pbs.twimg.com/profile_banners/1042722278520184833/1549721377', 'profile_link_color': '1DA1F2', 'profile_sidebar_border_color': 'C0DEED', 'profile_sidebar_fill_color': 'DDEEF6', 'profile_text_color': '333333', 'profile_use_background_image': True, 'has_extended_profile': False, 'default_profile': True, 'default_profile_image': False, 'following': False, 'follow_request_sent': False, 'notifications': False, 'translator_type': 'none'}, id=1042722278520184833, id_str='1042722278520184833', name='Deplorable David', screen_name='David42716938', location='Texas', description=\"Im an old cowboy hippie conservative.I love The USA ,my Texas and I'm grateful for the great job President Donald Trump is doing. 🇺🇸#MAGA #VotingRepublican\", url=None, entities={'description': {'urls': []}}, protected=False, followers_count=5351, friends_count=5830, listed_count=1, created_at=datetime.datetime(2018, 9, 20, 10, 28, 58), favourites_count=24941, utc_offset=None, time_zone=None, geo_enabled=False, verified=False, statuses_count=22483, lang=None, contributors_enabled=False, is_translator=False, is_translation_enabled=False, profile_background_color='F5F8FA', profile_background_image_url=None, profile_background_image_url_https=None, profile_background_tile=False, profile_image_url='http://pbs.twimg.com/profile_images/1044929696473833474/XpC_vTPh_normal.jpg', profile_image_url_https='https://pbs.twimg.com/profile_images/1044929696473833474/XpC_vTPh_normal.jpg', profile_banner_url='https://pbs.twimg.com/profile_banners/1042722278520184833/1549721377', profile_link_color='1DA1F2', profile_sidebar_border_color='C0DEED', profile_sidebar_fill_color='DDEEF6', profile_text_color='333333', profile_use_background_image=True, has_extended_profile=False, default_profile=True, default_profile_image=False, following=False, follow_request_sent=False, notifications=False, translator_type='none'), geo=None, coordinates=None, place=None, contributors=None, is_quote_status=False, retweet_count=0, favorite_count=0, favorited=False, retweeted=False, possibly_sensitive=False, lang='en'), Status(_api=<tweepy.api.API object at 0x0000020D2CA58B88>, _json={'created_at': 'Tue Jan 21 09:26:38 +0000 2020', 'id': 1219551869183283200, 'id_str': '1219551869183283200', 'full_text': '@ChannelNewsAsia We don’t want our money to go to #ccp and I wish your money won’t go to #CCPChina too. \\n#BoycottChina \\n#AnywherebutChina \\n#ABC_challenge', 'truncated': False, 'display_text_range': [17, 153], 'entities': {'hashtags': [{'text': 'ccp', 'indices': [50, 54]}, {'text': 'CCPChina', 'indices': [89, 98]}, {'text': 'BoycottChina', 'indices': [105, 118]}, {'text': 'AnywherebutChina', 'indices': [120, 137]}, {'text': 'ABC_challenge', 'indices': [139, 153]}], 'symbols': [], 'user_mentions': [{'screen_name': 'ChannelNewsAsia', 'name': 'CNA', 'id': 38400130, 'id_str': '38400130', 'indices': [0, 16]}], 'urls': []}, 'metadata': {'iso_language_code': 'en', 'result_type': 'recent'}, 'source': '<a href=\"http://twitter.com/download/iphone\" rel=\"nofollow\">Twitter for iPhone</a>', 'in_reply_to_status_id': 1219497493186039808, 'in_reply_to_status_id_str': '1219497493186039808', 'in_reply_to_user_id': 38400130, 'in_reply_to_user_id_str': '38400130', 'in_reply_to_screen_name': 'ChannelNewsAsia', 'user': {'id': 1144453393211019264, 'id_str': '1144453393211019264', 'name': 'Hugo93', 'screen_name': 'Hugo9343104801', 'location': '', 'description': 'A Hongkonger #StandwithHongKong #FollowbackHongKong For more information: https://t.co/WzqqzGYkAB', 'url': None, 'entities': {'description': {'urls': [{'url': 'https://t.co/WzqqzGYkAB', 'expanded_url': 'https://hkrev.info', 'display_url': 'hkrev.info', 'indices': [74, 97]}]}}, 'protected': False, 'followers_count': 938, 'friends_count': 1792, 'listed_count': 0, 'created_at': 'Fri Jun 28 03:52:06 +0000 2019', 'favourites_count': 9413, 'utc_offset': None, 'time_zone': None, 'geo_enabled': False, 'verified': False, 'statuses_count': 6899, 'lang': None, 'contributors_enabled': False, 'is_translator': False, 'is_translation_enabled': False, 'profile_background_color': 'F5F8FA', 'profile_background_image_url': None, 'profile_background_image_url_https': None, 'profile_background_tile': False, 'profile_image_url': 'http://pbs.twimg.com/profile_images/1183513021332652032/yPWGJq0o_normal.jpg', 'profile_image_url_https': 'https://pbs.twimg.com/profile_images/1183513021332652032/yPWGJq0o_normal.jpg', 'profile_banner_url': 'https://pbs.twimg.com/profile_banners/1144453393211019264/1566280647', 'profile_link_color': '1DA1F2', 'profile_sidebar_border_color': 'C0DEED', 'profile_sidebar_fill_color': 'DDEEF6', 'profile_text_color': '333333', 'profile_use_background_image': True, 'has_extended_profile': False, 'default_profile': True, 'default_profile_image': False, 'following': False, 'follow_request_sent': False, 'notifications': False, 'translator_type': 'none'}, 'geo': None, 'coordinates': None, 'place': None, 'contributors': None, 'is_quote_status': False, 'retweet_count': 0, 'favorite_count': 0, 'favorited': False, 'retweeted': False, 'lang': 'en'}, created_at=datetime.datetime(2020, 1, 21, 9, 26, 38), id=1219551869183283200, id_str='1219551869183283200', full_text='@ChannelNewsAsia We don’t want our money to go to #ccp and I wish your money won’t go to #CCPChina too. \\n#BoycottChina \\n#AnywherebutChina \\n#ABC_challenge', truncated=False, display_text_range=[17, 153], entities={'hashtags': [{'text': 'ccp', 'indices': [50, 54]}, {'text': 'CCPChina', 'indices': [89, 98]}, {'text': 'BoycottChina', 'indices': [105, 118]}, {'text': 'AnywherebutChina', 'indices': [120, 137]}, {'text': 'ABC_challenge', 'indices': [139, 153]}], 'symbols': [], 'user_mentions': [{'screen_name': 'ChannelNewsAsia', 'name': 'CNA', 'id': 38400130, 'id_str': '38400130', 'indices': [0, 16]}], 'urls': []}, metadata={'iso_language_code': 'en', 'result_type': 'recent'}, source='Twitter for iPhone', source_url='http://twitter.com/download/iphone', in_reply_to_status_id=1219497493186039808, in_reply_to_status_id_str='1219497493186039808', in_reply_to_user_id=38400130, in_reply_to_user_id_str='38400130', in_reply_to_screen_name='ChannelNewsAsia', author=User(_api=<tweepy.api.API object at 0x0000020D2CA58B88>, _json={'id': 1144453393211019264, 'id_str': '1144453393211019264', 'name': 'Hugo93', 'screen_name': 'Hugo9343104801', 'location': '', 'description': 'A Hongkonger #StandwithHongKong #FollowbackHongKong For more information: https://t.co/WzqqzGYkAB', 'url': None, 'entities': {'description': {'urls': [{'url': 'https://t.co/WzqqzGYkAB', 'expanded_url': 'https://hkrev.info', 'display_url': 'hkrev.info', 'indices': [74, 97]}]}}, 'protected': False, 'followers_count': 938, 'friends_count': 1792, 'listed_count': 0, 'created_at': 'Fri Jun 28 03:52:06 +0000 2019', 'favourites_count': 9413, 'utc_offset': None, 'time_zone': None, 'geo_enabled': False, 'verified': False, 'statuses_count': 6899, 'lang': None, 'contributors_enabled': False, 'is_translator': False, 'is_translation_enabled': False, 'profile_background_color': 'F5F8FA', 'profile_background_image_url': None, 'profile_background_image_url_https': None, 'profile_background_tile': False, 'profile_image_url': 'http://pbs.twimg.com/profile_images/1183513021332652032/yPWGJq0o_normal.jpg', 'profile_image_url_https': 'https://pbs.twimg.com/profile_images/1183513021332652032/yPWGJq0o_normal.jpg', 'profile_banner_url': 'https://pbs.twimg.com/profile_banners/1144453393211019264/1566280647', 'profile_link_color': '1DA1F2', 'profile_sidebar_border_color': 'C0DEED', 'profile_sidebar_fill_color': 'DDEEF6', 'profile_text_color': '333333', 'profile_use_background_image': True, 'has_extended_profile': False, 'default_profile': True, 'default_profile_image': False, 'following': False, 'follow_request_sent': False, 'notifications': False, 'translator_type': 'none'}, id=1144453393211019264, id_str='1144453393211019264', name='Hugo93', screen_name='Hugo9343104801', location='', description='A Hongkonger #StandwithHongKong #FollowbackHongKong For more information: https://t.co/WzqqzGYkAB', url=None, entities={'description': {'urls': [{'url': 'https://t.co/WzqqzGYkAB', 'expanded_url': 'https://hkrev.info', 'display_url': 'hkrev.info', 'indices': [74, 97]}]}}, protected=False, followers_count=938, friends_count=1792, listed_count=0, created_at=datetime.datetime(2019, 6, 28, 3, 52, 6), favourites_count=9413, utc_offset=None, time_zone=None, geo_enabled=False, verified=False, statuses_count=6899, lang=None, contributors_enabled=False, is_translator=False, is_translation_enabled=False, profile_background_color='F5F8FA', profile_background_image_url=None, profile_background_image_url_https=None, profile_background_tile=False, profile_image_url='http://pbs.twimg.com/profile_images/1183513021332652032/yPWGJq0o_normal.jpg', profile_image_url_https='https://pbs.twimg.com/profile_images/1183513021332652032/yPWGJq0o_normal.jpg', profile_banner_url='https://pbs.twimg.com/profile_banners/1144453393211019264/1566280647', profile_link_color='1DA1F2', profile_sidebar_border_color='C0DEED', profile_sidebar_fill_color='DDEEF6', profile_text_color='333333', profile_use_background_image=True, has_extended_profile=False, default_profile=True, default_profile_image=False, following=False, follow_request_sent=False, notifications=False, translator_type='none'), user=User(_api=<tweepy.api.API object at 0x0000020D2CA58B88>, _json={'id': 1144453393211019264, 'id_str': '1144453393211019264', 'name': 'Hugo93', 'screen_name': 'Hugo9343104801', 'location': '', 'description': 'A Hongkonger #StandwithHongKong #FollowbackHongKong For more information: https://t.co/WzqqzGYkAB', 'url': None, 'entities': {'description': {'urls': [{'url': 'https://t.co/WzqqzGYkAB', 'expanded_url': 'https://hkrev.info', 'display_url': 'hkrev.info', 'indices': [74, 97]}]}}, 'protected': False, 'followers_count': 938, 'friends_count': 1792, 'listed_count': 0, 'created_at': 'Fri Jun 28 03:52:06 +0000 2019', 'favourites_count': 9413, 'utc_offset': None, 'time_zone': None, 'geo_enabled': False, 'verified': False, 'statuses_count': 6899, 'lang': None, 'contributors_enabled': False, 'is_translator': False, 'is_translation_enabled': False, 'profile_background_color': 'F5F8FA', 'profile_background_image_url': None, 'profile_background_image_url_https': None, 'profile_background_tile': False, 'profile_image_url': 'http://pbs.twimg.com/profile_images/1183513021332652032/yPWGJq0o_normal.jpg', 'profile_image_url_https': 'https://pbs.twimg.com/profile_images/1183513021332652032/yPWGJq0o_normal.jpg', 'profile_banner_url': 'https://pbs.twimg.com/profile_banners/1144453393211019264/1566280647', 'profile_link_color': '1DA1F2', 'profile_sidebar_border_color': 'C0DEED', 'profile_sidebar_fill_color': 'DDEEF6', 'profile_text_color': '333333', 'profile_use_background_image': True, 'has_extended_profile': False, 'default_profile': True, 'default_profile_image': False, 'following': False, 'follow_request_sent': False, 'notifications': False, 'translator_type': 'none'}, id=1144453393211019264, id_str='1144453393211019264', name='Hugo93', screen_name='Hugo9343104801', location='', description='A Hongkonger #StandwithHongKong #FollowbackHongKong For more information: https://t.co/WzqqzGYkAB', url=None, entities={'description': {'urls': [{'url': 'https://t.co/WzqqzGYkAB', 'expanded_url': 'https://hkrev.info', 'display_url': 'hkrev.info', 'indices': [74, 97]}]}}, protected=False, followers_count=938, friends_count=1792, listed_count=0, created_at=datetime.datetime(2019, 6, 28, 3, 52, 6), favourites_count=9413, utc_offset=None, time_zone=None, geo_enabled=False, verified=False, statuses_count=6899, lang=None, contributors_enabled=False, is_translator=False, is_translation_enabled=False, profile_background_color='F5F8FA', profile_background_image_url=None, profile_background_image_url_https=None, profile_background_tile=False, profile_image_url='http://pbs.twimg.com/profile_images/1183513021332652032/yPWGJq0o_normal.jpg', profile_image_url_https='https://pbs.twimg.com/profile_images/1183513021332652032/yPWGJq0o_normal.jpg', profile_banner_url='https://pbs.twimg.com/profile_banners/1144453393211019264/1566280647', profile_link_color='1DA1F2', profile_sidebar_border_color='C0DEED', profile_sidebar_fill_color='DDEEF6', profile_text_color='333333', profile_use_background_image=True, has_extended_profile=False, default_profile=True, default_profile_image=False, following=False, follow_request_sent=False, notifications=False, translator_type='none'), geo=None, coordinates=None, place=None, contributors=None, is_quote_status=False, retweet_count=0, favorite_count=0, favorited=False, retweeted=False, lang='en'), Status(_api=<tweepy.api.API object at 0x0000020D2CA58B88>, _json={'created_at': 'Tue Jan 21 09:26:32 +0000 2020', 'id': 1219551845959589894, 'id_str': '1219551845959589894', 'full_text': '@ABC I love the way they exclude the fake news from their plans and just do whatever they are going to do. You are irrrlrvant.', 'truncated': False, 'display_text_range': [5, 126], 'entities': {'hashtags': [], 'symbols': [], 'user_mentions': [{'screen_name': 'ABC', 'name': 'ABC News', 'id': 28785486, 'id_str': '28785486', 'indices': [0, 4]}], 'urls': []}, 'metadata': {'iso_language_code': 'en', 'result_type': 'recent'}, 'source': '<a href=\"http://twitter.com/download/iphone\" rel=\"nofollow\">Twitter for iPhone</a>', 'in_reply_to_status_id': 1219468942848274432, 'in_reply_to_status_id_str': '1219468942848274432', 'in_reply_to_user_id': 28785486, 'in_reply_to_user_id_str': '28785486', 'in_reply_to_screen_name': 'ABC', 'user': {'id': 1069705653164363782, 'id_str': '1069705653164363782', 'name': 'New Media One', 'screen_name': 'NewMedi98031162', 'location': '', 'description': '', 'url': None, 'entities': {'description': {'urls': []}}, 'protected': False, 'followers_count': 3, 'friends_count': 24, 'listed_count': 0, 'created_at': 'Mon Dec 03 21:31:16 +0000 2018', 'favourites_count': 0, 'utc_offset': None, 'time_zone': None, 'geo_enabled': True, 'verified': False, 'statuses_count': 831, 'lang': None, 'contributors_enabled': False, 'is_translator': False, 'is_translation_enabled': False, 'profile_background_color': 'F5F8FA', 'profile_background_image_url': None, 'profile_background_image_url_https': None, 'profile_background_tile': False, 'profile_image_url': 'http://pbs.twimg.com/profile_images/1070510748839882752/SDCTcbih_normal.jpg', 'profile_image_url_https': 'https://pbs.twimg.com/profile_images/1070510748839882752/SDCTcbih_normal.jpg', 'profile_link_color': '1DA1F2', 'profile_sidebar_border_color': 'C0DEED', 'profile_sidebar_fill_color': 'DDEEF6', 'profile_text_color': '333333', 'profile_use_background_image': True, 'has_extended_profile': False, 'default_profile': True, 'default_profile_image': False, 'following': False, 'follow_request_sent': False, 'notifications': False, 'translator_type': 'none'}, 'geo': None, 'coordinates': None, 'place': None, 'contributors': None, 'is_quote_status': False, 'retweet_count': 0, 'favorite_count': 0, 'favorited': False, 'retweeted': False, 'lang': 'en'}, created_at=datetime.datetime(2020, 1, 21, 9, 26, 32), id=1219551845959589894, id_str='1219551845959589894', full_text='@ABC I love the way they exclude the fake news from their plans and just do whatever they are going to do. You are irrrlrvant.', truncated=False, display_text_range=[5, 126], entities={'hashtags': [], 'symbols': [], 'user_mentions': [{'screen_name': 'ABC', 'name': 'ABC News', 'id': 28785486, 'id_str': '28785486', 'indices': [0, 4]}], 'urls': []}, metadata={'iso_language_code': 'en', 'result_type': 'recent'}, source='Twitter for iPhone', source_url='http://twitter.com/download/iphone', in_reply_to_status_id=1219468942848274432, in_reply_to_status_id_str='1219468942848274432', in_reply_to_user_id=28785486, in_reply_to_user_id_str='28785486', in_reply_to_screen_name='ABC', author=User(_api=<tweepy.api.API object at 0x0000020D2CA58B88>, _json={'id': 1069705653164363782, 'id_str': '1069705653164363782', 'name': 'New Media One', 'screen_name': 'NewMedi98031162', 'location': '', 'description': '', 'url': None, 'entities': {'description': {'urls': []}}, 'protected': False, 'followers_count': 3, 'friends_count': 24, 'listed_count': 0, 'created_at': 'Mon Dec 03 21:31:16 +0000 2018', 'favourites_count': 0, 'utc_offset': None, 'time_zone': None, 'geo_enabled': True, 'verified': False, 'statuses_count': 831, 'lang': None, 'contributors_enabled': False, 'is_translator': False, 'is_translation_enabled': False, 'profile_background_color': 'F5F8FA', 'profile_background_image_url': None, 'profile_background_image_url_https': None, 'profile_background_tile': False, 'profile_image_url': 'http://pbs.twimg.com/profile_images/1070510748839882752/SDCTcbih_normal.jpg', 'profile_image_url_https': 'https://pbs.twimg.com/profile_images/1070510748839882752/SDCTcbih_normal.jpg', 'profile_link_color': '1DA1F2', 'profile_sidebar_border_color': 'C0DEED', 'profile_sidebar_fill_color': 'DDEEF6', 'profile_text_color': '333333', 'profile_use_background_image': True, 'has_extended_profile': False, 'default_profile': True, 'default_profile_image': False, 'following': False, 'follow_request_sent': False, 'notifications': False, 'translator_type': 'none'}, id=1069705653164363782, id_str='1069705653164363782', name='New Media One', screen_name='NewMedi98031162', location='', description='', url=None, entities={'description': {'urls': []}}, protected=False, followers_count=3, friends_count=24, listed_count=0, created_at=datetime.datetime(2018, 12, 3, 21, 31, 16), favourites_count=0, utc_offset=None, time_zone=None, geo_enabled=True, verified=False, statuses_count=831, lang=None, contributors_enabled=False, is_translator=False, is_translation_enabled=False, profile_background_color='F5F8FA', profile_background_image_url=None, profile_background_image_url_https=None, profile_background_tile=False, profile_image_url='http://pbs.twimg.com/profile_images/1070510748839882752/SDCTcbih_normal.jpg', profile_image_url_https='https://pbs.twimg.com/profile_images/1070510748839882752/SDCTcbih_normal.jpg', profile_link_color='1DA1F2', profile_sidebar_border_color='C0DEED', profile_sidebar_fill_color='DDEEF6', profile_text_color='333333', profile_use_background_image=True, has_extended_profile=False, default_profile=True, default_profile_image=False, following=False, follow_request_sent=False, notifications=False, translator_type='none'), user=User(_api=<tweepy.api.API object at 0x0000020D2CA58B88>, _json={'id': 1069705653164363782, 'id_str': '1069705653164363782', 'name': 'New Media One', 'screen_name': 'NewMedi98031162', 'location': '', 'description': '', 'url': None, 'entities': {'description': {'urls': []}}, 'protected': False, 'followers_count': 3, 'friends_count': 24, 'listed_count': 0, 'created_at': 'Mon Dec 03 21:31:16 +0000 2018', 'favourites_count': 0, 'utc_offset': None, 'time_zone': None, 'geo_enabled': True, 'verified': False, 'statuses_count': 831, 'lang': None, 'contributors_enabled': False, 'is_translator': False, 'is_translation_enabled': False, 'profile_background_color': 'F5F8FA', 'profile_background_image_url': None, 'profile_background_image_url_https': None, 'profile_background_tile': False, 'profile_image_url': 'http://pbs.twimg.com/profile_images/1070510748839882752/SDCTcbih_normal.jpg', 'profile_image_url_https': 'https://pbs.twimg.com/profile_images/1070510748839882752/SDCTcbih_normal.jpg', 'profile_link_color': '1DA1F2', 'profile_sidebar_border_color': 'C0DEED', 'profile_sidebar_fill_color': 'DDEEF6', 'profile_text_color': '333333', 'profile_use_background_image': True, 'has_extended_profile': False, 'default_profile': True, 'default_profile_image': False, 'following': False, 'follow_request_sent': False, 'notifications': False, 'translator_type': 'none'}, id=1069705653164363782, id_str='1069705653164363782', name='New Media One', screen_name='NewMedi98031162', location='', description='', url=None, entities={'description': {'urls': []}}, protected=False, followers_count=3, friends_count=24, listed_count=0, created_at=datetime.datetime(2018, 12, 3, 21, 31, 16), favourites_count=0, utc_offset=None, time_zone=None, geo_enabled=True, verified=False, statuses_count=831, lang=None, contributors_enabled=False, is_translator=False, is_translation_enabled=False, profile_background_color='F5F8FA', profile_background_image_url=None, profile_background_image_url_https=None, profile_background_tile=False, profile_image_url='http://pbs.twimg.com/profile_images/1070510748839882752/SDCTcbih_normal.jpg', profile_image_url_https='https://pbs.twimg.com/profile_images/1070510748839882752/SDCTcbih_normal.jpg', profile_link_color='1DA1F2', profile_sidebar_border_color='C0DEED', profile_sidebar_fill_color='DDEEF6', profile_text_color='333333', profile_use_background_image=True, has_extended_profile=False, default_profile=True, default_profile_image=False, following=False, follow_request_sent=False, notifications=False, translator_type='none'), geo=None, coordinates=None, place=None, contributors=None, is_quote_status=False, retweet_count=0, favorite_count=0, favorited=False, retweeted=False, lang='en'), Status(_api=<tweepy.api.API object at 0x0000020D2CA58B88>, _json={'created_at': 'Tue Jan 21 09:26:21 +0000 2020', 'id': 1219551798534582272, 'id_str': '1219551798534582272', 'full_text': 'Super PACs have spent $2.9 billion since landmark court decision - ABC News https://t.co/jeEMUbA0cS (via @ABC)', 'truncated': False, 'display_text_range': [0, 110], 'entities': {'hashtags': [], 'symbols': [], 'user_mentions': [{'screen_name': 'ABC', 'name': 'ABC News', 'id': 28785486, 'id_str': '28785486', 'indices': [105, 109]}], 'urls': [{'url': 'https://t.co/jeEMUbA0cS', 'expanded_url': 'https://abcnews.go.com/Politics/10-years-landmark-citizens-united-supreme-court-decision/story?id=68099167', 'display_url': 'abcnews.go.com/Politics/10-ye…', 'indices': [76, 99]}]}, 'metadata': {'iso_language_code': 'en', 'result_type': 'recent'}, 'source': '<a href=\"http://twitter.com/download/android\" rel=\"nofollow\">Twitter for Android</a>', 'in_reply_to_status_id': None, 'in_reply_to_status_id_str': None, 'in_reply_to_user_id': None, 'in_reply_to_user_id_str': None, 'in_reply_to_screen_name': None, 'user': {'id': 925408498761940992, 'id_str': '925408498761940992', 'name': 'Laurie', 'screen_name': 'LaurieFitch3', 'location': '', 'description': \"The opposite of love is not hate, it's indifference. -  Elie Wiesel\", 'url': None, 'entities': {'description': {'urls': []}}, 'protected': False, 'followers_count': 380, 'friends_count': 1129, 'listed_count': 0, 'created_at': 'Tue Oct 31 17:05:54 +0000 2017', 'favourites_count': 21618, 'utc_offset': None, 'time_zone': None, 'geo_enabled': False, 'verified': False, 'statuses_count': 13781, 'lang': None, 'contributors_enabled': False, 'is_translator': False, 'is_translation_enabled': False, 'profile_background_color': 'F5F8FA', 'profile_background_image_url': None, 'profile_background_image_url_https': None, 'profile_background_tile': False, 'profile_image_url': 'http://pbs.twimg.com/profile_images/942267375914713088/unt2b_dR_normal.jpg', 'profile_image_url_https': 'https://pbs.twimg.com/profile_images/942267375914713088/unt2b_dR_normal.jpg', 'profile_banner_url': 'https://pbs.twimg.com/profile_banners/925408498761940992/1513489022', 'profile_link_color': '1DA1F2', 'profile_sidebar_border_color': 'C0DEED', 'profile_sidebar_fill_color': 'DDEEF6', 'profile_text_color': '333333', 'profile_use_background_image': True, 'has_extended_profile': False, 'default_profile': True, 'default_profile_image': False, 'following': False, 'follow_request_sent': False, 'notifications': False, 'translator_type': 'none'}, 'geo': None, 'coordinates': None, 'place': None, 'contributors': None, 'is_quote_status': False, 'retweet_count': 0, 'favorite_count': 0, 'favorited': False, 'retweeted': False, 'possibly_sensitive': False, 'lang': 'en'}, created_at=datetime.datetime(2020, 1, 21, 9, 26, 21), id=1219551798534582272, id_str='1219551798534582272', full_text='Super PACs have spent $2.9 billion since landmark court decision - ABC News https://t.co/jeEMUbA0cS (via @ABC)', truncated=False, display_text_range=[0, 110], entities={'hashtags': [], 'symbols': [], 'user_mentions': [{'screen_name': 'ABC', 'name': 'ABC News', 'id': 28785486, 'id_str': '28785486', 'indices': [105, 109]}], 'urls': [{'url': 'https://t.co/jeEMUbA0cS', 'expanded_url': 'https://abcnews.go.com/Politics/10-years-landmark-citizens-united-supreme-court-decision/story?id=68099167', 'display_url': 'abcnews.go.com/Politics/10-ye…', 'indices': [76, 99]}]}, metadata={'iso_language_code': 'en', 'result_type': 'recent'}, source='Twitter for Android', source_url='http://twitter.com/download/android', in_reply_to_status_id=None, in_reply_to_status_id_str=None, in_reply_to_user_id=None, in_reply_to_user_id_str=None, in_reply_to_screen_name=None, author=User(_api=<tweepy.api.API object at 0x0000020D2CA58B88>, _json={'id': 925408498761940992, 'id_str': '925408498761940992', 'name': 'Laurie', 'screen_name': 'LaurieFitch3', 'location': '', 'description': \"The opposite of love is not hate, it's indifference. -  Elie Wiesel\", 'url': None, 'entities': {'description': {'urls': []}}, 'protected': False, 'followers_count': 380, 'friends_count': 1129, 'listed_count': 0, 'created_at': 'Tue Oct 31 17:05:54 +0000 2017', 'favourites_count': 21618, 'utc_offset': None, 'time_zone': None, 'geo_enabled': False, 'verified': False, 'statuses_count': 13781, 'lang': None, 'contributors_enabled': False, 'is_translator': False, 'is_translation_enabled': False, 'profile_background_color': 'F5F8FA', 'profile_background_image_url': None, 'profile_background_image_url_https': None, 'profile_background_tile': False, 'profile_image_url': 'http://pbs.twimg.com/profile_images/942267375914713088/unt2b_dR_normal.jpg', 'profile_image_url_https': 'https://pbs.twimg.com/profile_images/942267375914713088/unt2b_dR_normal.jpg', 'profile_banner_url': 'https://pbs.twimg.com/profile_banners/925408498761940992/1513489022', 'profile_link_color': '1DA1F2', 'profile_sidebar_border_color': 'C0DEED', 'profile_sidebar_fill_color': 'DDEEF6', 'profile_text_color': '333333', 'profile_use_background_image': True, 'has_extended_profile': False, 'default_profile': True, 'default_profile_image': False, 'following': False, 'follow_request_sent': False, 'notifications': False, 'translator_type': 'none'}, id=925408498761940992, id_str='925408498761940992', name='Laurie', screen_name='LaurieFitch3', location='', description=\"The opposite of love is not hate, it's indifference. -  Elie Wiesel\", url=None, entities={'description': {'urls': []}}, protected=False, followers_count=380, friends_count=1129, listed_count=0, created_at=datetime.datetime(2017, 10, 31, 17, 5, 54), favourites_count=21618, utc_offset=None, time_zone=None, geo_enabled=False, verified=False, statuses_count=13781, lang=None, contributors_enabled=False, is_translator=False, is_translation_enabled=False, profile_background_color='F5F8FA', profile_background_image_url=None, profile_background_image_url_https=None, profile_background_tile=False, profile_image_url='http://pbs.twimg.com/profile_images/942267375914713088/unt2b_dR_normal.jpg', profile_image_url_https='https://pbs.twimg.com/profile_images/942267375914713088/unt2b_dR_normal.jpg', profile_banner_url='https://pbs.twimg.com/profile_banners/925408498761940992/1513489022', profile_link_color='1DA1F2', profile_sidebar_border_color='C0DEED', profile_sidebar_fill_color='DDEEF6', profile_text_color='333333', profile_use_background_image=True, has_extended_profile=False, default_profile=True, default_profile_image=False, following=False, follow_request_sent=False, notifications=False, translator_type='none'), user=User(_api=<tweepy.api.API object at 0x0000020D2CA58B88>, _json={'id': 925408498761940992, 'id_str': '925408498761940992', 'name': 'Laurie', 'screen_name': 'LaurieFitch3', 'location': '', 'description': \"The opposite of love is not hate, it's indifference. -  Elie Wiesel\", 'url': None, 'entities': {'description': {'urls': []}}, 'protected': False, 'followers_count': 380, 'friends_count': 1129, 'listed_count': 0, 'created_at': 'Tue Oct 31 17:05:54 +0000 2017', 'favourites_count': 21618, 'utc_offset': None, 'time_zone': None, 'geo_enabled': False, 'verified': False, 'statuses_count': 13781, 'lang': None, 'contributors_enabled': False, 'is_translator': False, 'is_translation_enabled': False, 'profile_background_color': 'F5F8FA', 'profile_background_image_url': None, 'profile_background_image_url_https': None, 'profile_background_tile': False, 'profile_image_url': 'http://pbs.twimg.com/profile_images/942267375914713088/unt2b_dR_normal.jpg', 'profile_image_url_https': 'https://pbs.twimg.com/profile_images/942267375914713088/unt2b_dR_normal.jpg', 'profile_banner_url': 'https://pbs.twimg.com/profile_banners/925408498761940992/1513489022', 'profile_link_color': '1DA1F2', 'profile_sidebar_border_color': 'C0DEED', 'profile_sidebar_fill_color': 'DDEEF6', 'profile_text_color': '333333', 'profile_use_background_image': True, 'has_extended_profile': False, 'default_profile': True, 'default_profile_image': False, 'following': False, 'follow_request_sent': False, 'notifications': False, 'translator_type': 'none'}, id=925408498761940992, id_str='925408498761940992', name='Laurie', screen_name='LaurieFitch3', location='', description=\"The opposite of love is not hate, it's indifference. -  Elie Wiesel\", url=None, entities={'description': {'urls': []}}, protected=False, followers_count=380, friends_count=1129, listed_count=0, created_at=datetime.datetime(2017, 10, 31, 17, 5, 54), favourites_count=21618, utc_offset=None, time_zone=None, geo_enabled=False, verified=False, statuses_count=13781, lang=None, contributors_enabled=False, is_translator=False, is_translation_enabled=False, profile_background_color='F5F8FA', profile_background_image_url=None, profile_background_image_url_https=None, profile_background_tile=False, profile_image_url='http://pbs.twimg.com/profile_images/942267375914713088/unt2b_dR_normal.jpg', profile_image_url_https='https://pbs.twimg.com/profile_images/942267375914713088/unt2b_dR_normal.jpg', profile_banner_url='https://pbs.twimg.com/profile_banners/925408498761940992/1513489022', profile_link_color='1DA1F2', profile_sidebar_border_color='C0DEED', profile_sidebar_fill_color='DDEEF6', profile_text_color='333333', profile_use_background_image=True, has_extended_profile=False, default_profile=True, default_profile_image=False, following=False, follow_request_sent=False, notifications=False, translator_type='none'), geo=None, coordinates=None, place=None, contributors=None, is_quote_status=False, retweet_count=0, favorite_count=0, favorited=False, retweeted=False, possibly_sensitive=False, lang='en'), Status(_api=<tweepy.api.API object at 0x0000020D2CA58B88>, _json={'created_at': 'Tue Jan 21 09:26:13 +0000 2020', 'id': 1219551764753666048, 'id_str': '1219551764753666048', 'full_text': 'Get 12% Off Any Word Art.\\nUse Coupon Code: WORDART12\\n\\nhttps://t.co/N1xzJdIUJu https://t.co/JhGYuPZ08D', 'truncated': False, 'display_text_range': [0, 77], 'entities': {'hashtags': [], 'symbols': [], 'user_mentions': [], 'urls': [{'url': 'https://t.co/N1xzJdIUJu', 'expanded_url': 'https://abcprints.co.uk/category/prints/personalised-prints/word-art-prints/', 'display_url': 'abcprints.co.uk/category/print…', 'indices': [54, 77]}], 'media': [{'id': 1219551759829536768, 'id_str': '1219551759829536768', 'indices': [78, 101], 'media_url': 'http://pbs.twimg.com/media/EOy33TXXkAAmCWq.png', 'media_url_https': 'https://pbs.twimg.com/media/EOy33TXXkAAmCWq.png', 'url': 'https://t.co/JhGYuPZ08D', 'display_url': 'pic.twitter.com/JhGYuPZ08D', 'expanded_url': 'https://twitter.com/abc_prints/status/1219551764753666048/photo/1', 'type': 'photo', 'sizes': {'large': {'w': 510, 'h': 600, 'resize': 'fit'}, 'medium': {'w': 510, 'h': 600, 'resize': 'fit'}, 'thumb': {'w': 150, 'h': 150, 'resize': 'crop'}, 'small': {'w': 510, 'h': 600, 'resize': 'fit'}}}]}, 'extended_entities': {'media': [{'id': 1219551759829536768, 'id_str': '1219551759829536768', 'indices': [78, 101], 'media_url': 'http://pbs.twimg.com/media/EOy33TXXkAAmCWq.png', 'media_url_https': 'https://pbs.twimg.com/media/EOy33TXXkAAmCWq.png', 'url': 'https://t.co/JhGYuPZ08D', 'display_url': 'pic.twitter.com/JhGYuPZ08D', 'expanded_url': 'https://twitter.com/abc_prints/status/1219551764753666048/photo/1', 'type': 'photo', 'sizes': {'large': {'w': 510, 'h': 600, 'resize': 'fit'}, 'medium': {'w': 510, 'h': 600, 'resize': 'fit'}, 'thumb': {'w': 150, 'h': 150, 'resize': 'crop'}, 'small': {'w': 510, 'h': 600, 'resize': 'fit'}}}]}, 'metadata': {'iso_language_code': 'en', 'result_type': 'recent'}, 'source': '<a href=\"https://mobile.twitter.com\" rel=\"nofollow\">Twitter Web App</a>', 'in_reply_to_status_id': None, 'in_reply_to_status_id_str': None, 'in_reply_to_user_id': None, 'in_reply_to_user_id_str': None, 'in_reply_to_screen_name': None, 'user': {'id': 3347781141, 'id_str': '3347781141', 'name': 'ABC Prints', 'screen_name': 'abc_prints', 'location': 'UK', 'description': 'Personalised prints -  See our website shop for some great gift ideas..\\nhttps://t.co/Y5V29uAWWG', 'url': 'http://t.co/8dI1sKU0aZ', 'entities': {'url': {'urls': [{'url': 'http://t.co/8dI1sKU0aZ', 'expanded_url': 'http://abcprints.co.uk', 'display_url': 'abcprints.co.uk', 'indices': [0, 22]}]}, 'description': {'urls': [{'url': 'https://t.co/Y5V29uAWWG', 'expanded_url': 'https://abcprints.co.uk', 'display_url': 'abcprints.co.uk', 'indices': [72, 95]}]}}, 'protected': False, 'followers_count': 85, 'friends_count': 132, 'listed_count': 0, 'created_at': 'Sat Jun 27 18:37:57 +0000 2015', 'favourites_count': 37, 'utc_offset': None, 'time_zone': None, 'geo_enabled': False, 'verified': False, 'statuses_count': 58, 'lang': None, 'contributors_enabled': False, 'is_translator': False, 'is_translation_enabled': False, 'profile_background_color': '000000', 'profile_background_image_url': 'http://abs.twimg.com/images/themes/theme1/bg.png', 'profile_background_image_url_https': 'https://abs.twimg.com/images/themes/theme1/bg.png', 'profile_background_tile': False, 'profile_image_url': 'http://pbs.twimg.com/profile_images/614866385265627137/_AGbUNsY_normal.jpg', 'profile_image_url_https': 'https://pbs.twimg.com/profile_images/614866385265627137/_AGbUNsY_normal.jpg', 'profile_banner_url': 'https://pbs.twimg.com/profile_banners/3347781141/1454356261', 'profile_link_color': 'FA743E', 'profile_sidebar_border_color': '000000', 'profile_sidebar_fill_color': '000000', 'profile_text_color': '000000', 'profile_use_background_image': True, 'has_extended_profile': False, 'default_profile': False, 'default_profile_image': False, 'following': False, 'follow_request_sent': False, 'notifications': False, 'translator_type': 'none'}, 'geo': None, 'coordinates': None, 'place': None, 'contributors': None, 'is_quote_status': False, 'retweet_count': 0, 'favorite_count': 0, 'favorited': False, 'retweeted': False, 'possibly_sensitive': False, 'lang': 'en'}, created_at=datetime.datetime(2020, 1, 21, 9, 26, 13), id=1219551764753666048, id_str='1219551764753666048', full_text='Get 12% Off Any Word Art.\\nUse Coupon Code: WORDART12\\n\\nhttps://t.co/N1xzJdIUJu https://t.co/JhGYuPZ08D', truncated=False, display_text_range=[0, 77], entities={'hashtags': [], 'symbols': [], 'user_mentions': [], 'urls': [{'url': 'https://t.co/N1xzJdIUJu', 'expanded_url': 'https://abcprints.co.uk/category/prints/personalised-prints/word-art-prints/', 'display_url': 'abcprints.co.uk/category/print…', 'indices': [54, 77]}], 'media': [{'id': 1219551759829536768, 'id_str': '1219551759829536768', 'indices': [78, 101], 'media_url': 'http://pbs.twimg.com/media/EOy33TXXkAAmCWq.png', 'media_url_https': 'https://pbs.twimg.com/media/EOy33TXXkAAmCWq.png', 'url': 'https://t.co/JhGYuPZ08D', 'display_url': 'pic.twitter.com/JhGYuPZ08D', 'expanded_url': 'https://twitter.com/abc_prints/status/1219551764753666048/photo/1', 'type': 'photo', 'sizes': {'large': {'w': 510, 'h': 600, 'resize': 'fit'}, 'medium': {'w': 510, 'h': 600, 'resize': 'fit'}, 'thumb': {'w': 150, 'h': 150, 'resize': 'crop'}, 'small': {'w': 510, 'h': 600, 'resize': 'fit'}}}]}, extended_entities={'media': [{'id': 1219551759829536768, 'id_str': '1219551759829536768', 'indices': [78, 101], 'media_url': 'http://pbs.twimg.com/media/EOy33TXXkAAmCWq.png', 'media_url_https': 'https://pbs.twimg.com/media/EOy33TXXkAAmCWq.png', 'url': 'https://t.co/JhGYuPZ08D', 'display_url': 'pic.twitter.com/JhGYuPZ08D', 'expanded_url': 'https://twitter.com/abc_prints/status/1219551764753666048/photo/1', 'type': 'photo', 'sizes': {'large': {'w': 510, 'h': 600, 'resize': 'fit'}, 'medium': {'w': 510, 'h': 600, 'resize': 'fit'}, 'thumb': {'w': 150, 'h': 150, 'resize': 'crop'}, 'small': {'w': 510, 'h': 600, 'resize': 'fit'}}}]}, metadata={'iso_language_code': 'en', 'result_type': 'recent'}, source='Twitter Web App', source_url='https://mobile.twitter.com', in_reply_to_status_id=None, in_reply_to_status_id_str=None, in_reply_to_user_id=None, in_reply_to_user_id_str=None, in_reply_to_screen_name=None, author=User(_api=<tweepy.api.API object at 0x0000020D2CA58B88>, _json={'id': 3347781141, 'id_str': '3347781141', 'name': 'ABC Prints', 'screen_name': 'abc_prints', 'location': 'UK', 'description': 'Personalised prints -  See our website shop for some great gift ideas..\\nhttps://t.co/Y5V29uAWWG', 'url': 'http://t.co/8dI1sKU0aZ', 'entities': {'url': {'urls': [{'url': 'http://t.co/8dI1sKU0aZ', 'expanded_url': 'http://abcprints.co.uk', 'display_url': 'abcprints.co.uk', 'indices': [0, 22]}]}, 'description': {'urls': [{'url': 'https://t.co/Y5V29uAWWG', 'expanded_url': 'https://abcprints.co.uk', 'display_url': 'abcprints.co.uk', 'indices': [72, 95]}]}}, 'protected': False, 'followers_count': 85, 'friends_count': 132, 'listed_count': 0, 'created_at': 'Sat Jun 27 18:37:57 +0000 2015', 'favourites_count': 37, 'utc_offset': None, 'time_zone': None, 'geo_enabled': False, 'verified': False, 'statuses_count': 58, 'lang': None, 'contributors_enabled': False, 'is_translator': False, 'is_translation_enabled': False, 'profile_background_color': '000000', 'profile_background_image_url': 'http://abs.twimg.com/images/themes/theme1/bg.png', 'profile_background_image_url_https': 'https://abs.twimg.com/images/themes/theme1/bg.png', 'profile_background_tile': False, 'profile_image_url': 'http://pbs.twimg.com/profile_images/614866385265627137/_AGbUNsY_normal.jpg', 'profile_image_url_https': 'https://pbs.twimg.com/profile_images/614866385265627137/_AGbUNsY_normal.jpg', 'profile_banner_url': 'https://pbs.twimg.com/profile_banners/3347781141/1454356261', 'profile_link_color': 'FA743E', 'profile_sidebar_border_color': '000000', 'profile_sidebar_fill_color': '000000', 'profile_text_color': '000000', 'profile_use_background_image': True, 'has_extended_profile': False, 'default_profile': False, 'default_profile_image': False, 'following': False, 'follow_request_sent': False, 'notifications': False, 'translator_type': 'none'}, id=3347781141, id_str='3347781141', name='ABC Prints', screen_name='abc_prints', location='UK', description='Personalised prints -  See our website shop for some great gift ideas..\\nhttps://t.co/Y5V29uAWWG', url='http://t.co/8dI1sKU0aZ', entities={'url': {'urls': [{'url': 'http://t.co/8dI1sKU0aZ', 'expanded_url': 'http://abcprints.co.uk', 'display_url': 'abcprints.co.uk', 'indices': [0, 22]}]}, 'description': {'urls': [{'url': 'https://t.co/Y5V29uAWWG', 'expanded_url': 'https://abcprints.co.uk', 'display_url': 'abcprints.co.uk', 'indices': [72, 95]}]}}, protected=False, followers_count=85, friends_count=132, listed_count=0, created_at=datetime.datetime(2015, 6, 27, 18, 37, 57), favourites_count=37, utc_offset=None, time_zone=None, geo_enabled=False, verified=False, statuses_count=58, lang=None, contributors_enabled=False, is_translator=False, is_translation_enabled=False, profile_background_color='000000', profile_background_image_url='http://abs.twimg.com/images/themes/theme1/bg.png', profile_background_image_url_https='https://abs.twimg.com/images/themes/theme1/bg.png', profile_background_tile=False, profile_image_url='http://pbs.twimg.com/profile_images/614866385265627137/_AGbUNsY_normal.jpg', profile_image_url_https='https://pbs.twimg.com/profile_images/614866385265627137/_AGbUNsY_normal.jpg', profile_banner_url='https://pbs.twimg.com/profile_banners/3347781141/1454356261', profile_link_color='FA743E', profile_sidebar_border_color='000000', profile_sidebar_fill_color='000000', profile_text_color='000000', profile_use_background_image=True, has_extended_profile=False, default_profile=False, default_profile_image=False, following=False, follow_request_sent=False, notifications=False, translator_type='none'), user=User(_api=<tweepy.api.API object at 0x0000020D2CA58B88>, _json={'id': 3347781141, 'id_str': '3347781141', 'name': 'ABC Prints', 'screen_name': 'abc_prints', 'location': 'UK', 'description': 'Personalised prints -  See our website shop for some great gift ideas..\\nhttps://t.co/Y5V29uAWWG', 'url': 'http://t.co/8dI1sKU0aZ', 'entities': {'url': {'urls': [{'url': 'http://t.co/8dI1sKU0aZ', 'expanded_url': 'http://abcprints.co.uk', 'display_url': 'abcprints.co.uk', 'indices': [0, 22]}]}, 'description': {'urls': [{'url': 'https://t.co/Y5V29uAWWG', 'expanded_url': 'https://abcprints.co.uk', 'display_url': 'abcprints.co.uk', 'indices': [72, 95]}]}}, 'protected': False, 'followers_count': 85, 'friends_count': 132, 'listed_count': 0, 'created_at': 'Sat Jun 27 18:37:57 +0000 2015', 'favourites_count': 37, 'utc_offset': None, 'time_zone': None, 'geo_enabled': False, 'verified': False, 'statuses_count': 58, 'lang': None, 'contributors_enabled': False, 'is_translator': False, 'is_translation_enabled': False, 'profile_background_color': '000000', 'profile_background_image_url': 'http://abs.twimg.com/images/themes/theme1/bg.png', 'profile_background_image_url_https': 'https://abs.twimg.com/images/themes/theme1/bg.png', 'profile_background_tile': False, 'profile_image_url': 'http://pbs.twimg.com/profile_images/614866385265627137/_AGbUNsY_normal.jpg', 'profile_image_url_https': 'https://pbs.twimg.com/profile_images/614866385265627137/_AGbUNsY_normal.jpg', 'profile_banner_url': 'https://pbs.twimg.com/profile_banners/3347781141/1454356261', 'profile_link_color': 'FA743E', 'profile_sidebar_border_color': '000000', 'profile_sidebar_fill_color': '000000', 'profile_text_color': '000000', 'profile_use_background_image': True, 'has_extended_profile': False, 'default_profile': False, 'default_profile_image': False, 'following': False, 'follow_request_sent': False, 'notifications': False, 'translator_type': 'none'}, id=3347781141, id_str='3347781141', name='ABC Prints', screen_name='abc_prints', location='UK', description='Personalised prints -  See our website shop for some great gift ideas..\\nhttps://t.co/Y5V29uAWWG', url='http://t.co/8dI1sKU0aZ', entities={'url': {'urls': [{'url': 'http://t.co/8dI1sKU0aZ', 'expanded_url': 'http://abcprints.co.uk', 'display_url': 'abcprints.co.uk', 'indices': [0, 22]}]}, 'description': {'urls': [{'url': 'https://t.co/Y5V29uAWWG', 'expanded_url': 'https://abcprints.co.uk', 'display_url': 'abcprints.co.uk', 'indices': [72, 95]}]}}, protected=False, followers_count=85, friends_count=132, listed_count=0, created_at=datetime.datetime(2015, 6, 27, 18, 37, 57), favourites_count=37, utc_offset=None, time_zone=None, geo_enabled=False, verified=False, statuses_count=58, lang=None, contributors_enabled=False, is_translator=False, is_translation_enabled=False, profile_background_color='000000', profile_background_image_url='http://abs.twimg.com/images/themes/theme1/bg.png', profile_background_image_url_https='https://abs.twimg.com/images/themes/theme1/bg.png', profile_background_tile=False, profile_image_url='http://pbs.twimg.com/profile_images/614866385265627137/_AGbUNsY_normal.jpg', profile_image_url_https='https://pbs.twimg.com/profile_images/614866385265627137/_AGbUNsY_normal.jpg', profile_banner_url='https://pbs.twimg.com/profile_banners/3347781141/1454356261', profile_link_color='FA743E', profile_sidebar_border_color='000000', profile_sidebar_fill_color='000000', profile_text_color='000000', profile_use_background_image=True, has_extended_profile=False, default_profile=False, default_profile_image=False, following=False, follow_request_sent=False, notifications=False, translator_type='none'), geo=None, coordinates=None, place=None, contributors=None, is_quote_status=False, retweet_count=0, favorite_count=0, favorited=False, retweeted=False, possibly_sensitive=False, lang='en'), Status(_api=<tweepy.api.API object at 0x0000020D2CA58B88>, _json={'created_at': 'Tue Jan 21 09:26:02 +0000 2020', 'id': 1219551718272356352, 'id_str': '1219551718272356352', 'full_text': '#Germany court convicted a #SriLanka man of accessory to murder in the 2005 killing of foreign minister Kadirgamar for providing his assassins with crucial information\\nhttps://t.co/iIkxrCc0AV via @ABC', 'truncated': False, 'display_text_range': [0, 200], 'entities': {'hashtags': [{'text': 'Germany', 'indices': [0, 8]}, {'text': 'SriLanka', 'indices': [27, 36]}], 'symbols': [], 'user_mentions': [{'screen_name': 'ABC', 'name': 'ABC News', 'id': 28785486, 'id_str': '28785486', 'indices': [196, 200]}], 'urls': [{'url': 'https://t.co/iIkxrCc0AV', 'expanded_url': 'https://abcn.ws/377vhZf', 'display_url': 'abcn.ws/377vhZf', 'indices': [168, 191]}]}, 'metadata': {'iso_language_code': 'en', 'result_type': 'recent'}, 'source': '<a href=\"http://twitter.com/download/android\" rel=\"nofollow\">Twitter for Android</a>', 'in_reply_to_status_id': None, 'in_reply_to_status_id_str': None, 'in_reply_to_user_id': None, 'in_reply_to_user_id_str': None, 'in_reply_to_screen_name': None, 'user': {'id': 222217244, 'id_str': '222217244', 'name': 'VG', 'screen_name': 'vg123e', 'location': '', 'description': 'Peace is not just to stop wars, but also to stop oppression & injustice.\\nWar consumes the very things it is  fought for: Justice,Humanity & Decency', 'url': None, 'entities': {'description': {'urls': []}}, 'protected': False, 'followers_count': 2639, 'friends_count': 3255, 'listed_count': 158, 'created_at': 'Thu Dec 02 19:56:07 +0000 2010', 'favourites_count': 50672, 'utc_offset': None, 'time_zone': None, 'geo_enabled': True, 'verified': False, 'statuses_count': 392884, 'lang': None, 'contributors_enabled': False, 'is_translator': False, 'is_translation_enabled': False, 'profile_background_color': 'C0DEED', 'profile_background_image_url': 'http://abs.twimg.com/images/themes/theme1/bg.png', 'profile_background_image_url_https': 'https://abs.twimg.com/images/themes/theme1/bg.png', 'profile_background_tile': False, 'profile_image_url': 'http://pbs.twimg.com/profile_images/1107291390785085443/Dkpr8E3I_normal.jpg', 'profile_image_url_https': 'https://pbs.twimg.com/profile_images/1107291390785085443/Dkpr8E3I_normal.jpg', 'profile_banner_url': 'https://pbs.twimg.com/profile_banners/222217244/1552901108', 'profile_link_color': '1DA1F2', 'profile_sidebar_border_color': 'C0DEED', 'profile_sidebar_fill_color': 'DDEEF6', 'profile_text_color': '333333', 'profile_use_background_image': True, 'has_extended_profile': False, 'default_profile': True, 'default_profile_image': False, 'following': False, 'follow_request_sent': False, 'notifications': False, 'translator_type': 'none'}, 'geo': None, 'coordinates': None, 'place': None, 'contributors': None, 'is_quote_status': False, 'retweet_count': 0, 'favorite_count': 0, 'favorited': False, 'retweeted': False, 'possibly_sensitive': False, 'lang': 'en'}, created_at=datetime.datetime(2020, 1, 21, 9, 26, 2), id=1219551718272356352, id_str='1219551718272356352', full_text='#Germany court convicted a #SriLanka man of accessory to murder in the 2005 killing of foreign minister Kadirgamar for providing his assassins with crucial information\\nhttps://t.co/iIkxrCc0AV via @ABC', truncated=False, display_text_range=[0, 200], entities={'hashtags': [{'text': 'Germany', 'indices': [0, 8]}, {'text': 'SriLanka', 'indices': [27, 36]}], 'symbols': [], 'user_mentions': [{'screen_name': 'ABC', 'name': 'ABC News', 'id': 28785486, 'id_str': '28785486', 'indices': [196, 200]}], 'urls': [{'url': 'https://t.co/iIkxrCc0AV', 'expanded_url': 'https://abcn.ws/377vhZf', 'display_url': 'abcn.ws/377vhZf', 'indices': [168, 191]}]}, metadata={'iso_language_code': 'en', 'result_type': 'recent'}, source='Twitter for Android', source_url='http://twitter.com/download/android', in_reply_to_status_id=None, in_reply_to_status_id_str=None, in_reply_to_user_id=None, in_reply_to_user_id_str=None, in_reply_to_screen_name=None, author=User(_api=<tweepy.api.API object at 0x0000020D2CA58B88>, _json={'id': 222217244, 'id_str': '222217244', 'name': 'VG', 'screen_name': 'vg123e', 'location': '', 'description': 'Peace is not just to stop wars, but also to stop oppression & injustice.\\nWar consumes the very things it is  fought for: Justice,Humanity & Decency', 'url': None, 'entities': {'description': {'urls': []}}, 'protected': False, 'followers_count': 2639, 'friends_count': 3255, 'listed_count': 158, 'created_at': 'Thu Dec 02 19:56:07 +0000 2010', 'favourites_count': 50672, 'utc_offset': None, 'time_zone': None, 'geo_enabled': True, 'verified': False, 'statuses_count': 392884, 'lang': None, 'contributors_enabled': False, 'is_translator': False, 'is_translation_enabled': False, 'profile_background_color': 'C0DEED', 'profile_background_image_url': 'http://abs.twimg.com/images/themes/theme1/bg.png', 'profile_background_image_url_https': 'https://abs.twimg.com/images/themes/theme1/bg.png', 'profile_background_tile': False, 'profile_image_url': 'http://pbs.twimg.com/profile_images/1107291390785085443/Dkpr8E3I_normal.jpg', 'profile_image_url_https': 'https://pbs.twimg.com/profile_images/1107291390785085443/Dkpr8E3I_normal.jpg', 'profile_banner_url': 'https://pbs.twimg.com/profile_banners/222217244/1552901108', 'profile_link_color': '1DA1F2', 'profile_sidebar_border_color': 'C0DEED', 'profile_sidebar_fill_color': 'DDEEF6', 'profile_text_color': '333333', 'profile_use_background_image': True, 'has_extended_profile': False, 'default_profile': True, 'default_profile_image': False, 'following': False, 'follow_request_sent': False, 'notifications': False, 'translator_type': 'none'}, id=222217244, id_str='222217244', name='VG', screen_name='vg123e', location='', description='Peace is not just to stop wars, but also to stop oppression & injustice.\\nWar consumes the very things it is  fought for: Justice,Humanity & Decency', url=None, entities={'description': {'urls': []}}, protected=False, followers_count=2639, friends_count=3255, listed_count=158, created_at=datetime.datetime(2010, 12, 2, 19, 56, 7), favourites_count=50672, utc_offset=None, time_zone=None, geo_enabled=True, verified=False, statuses_count=392884, lang=None, contributors_enabled=False, is_translator=False, is_translation_enabled=False, profile_background_color='C0DEED', profile_background_image_url='http://abs.twimg.com/images/themes/theme1/bg.png', profile_background_image_url_https='https://abs.twimg.com/images/themes/theme1/bg.png', profile_background_tile=False, profile_image_url='http://pbs.twimg.com/profile_images/1107291390785085443/Dkpr8E3I_normal.jpg', profile_image_url_https='https://pbs.twimg.com/profile_images/1107291390785085443/Dkpr8E3I_normal.jpg', profile_banner_url='https://pbs.twimg.com/profile_banners/222217244/1552901108', profile_link_color='1DA1F2', profile_sidebar_border_color='C0DEED', profile_sidebar_fill_color='DDEEF6', profile_text_color='333333', profile_use_background_image=True, has_extended_profile=False, default_profile=True, default_profile_image=False, following=False, follow_request_sent=False, notifications=False, translator_type='none'), user=User(_api=<tweepy.api.API object at 0x0000020D2CA58B88>, _json={'id': 222217244, 'id_str': '222217244', 'name': 'VG', 'screen_name': 'vg123e', 'location': '', 'description': 'Peace is not just to stop wars, but also to stop oppression & injustice.\\nWar consumes the very things it is  fought for: Justice,Humanity & Decency', 'url': None, 'entities': {'description': {'urls': []}}, 'protected': False, 'followers_count': 2639, 'friends_count': 3255, 'listed_count': 158, 'created_at': 'Thu Dec 02 19:56:07 +0000 2010', 'favourites_count': 50672, 'utc_offset': None, 'time_zone': None, 'geo_enabled': True, 'verified': False, 'statuses_count': 392884, 'lang': None, 'contributors_enabled': False, 'is_translator': False, 'is_translation_enabled': False, 'profile_background_color': 'C0DEED', 'profile_background_image_url': 'http://abs.twimg.com/images/themes/theme1/bg.png', 'profile_background_image_url_https': 'https://abs.twimg.com/images/themes/theme1/bg.png', 'profile_background_tile': False, 'profile_image_url': 'http://pbs.twimg.com/profile_images/1107291390785085443/Dkpr8E3I_normal.jpg', 'profile_image_url_https': 'https://pbs.twimg.com/profile_images/1107291390785085443/Dkpr8E3I_normal.jpg', 'profile_banner_url': 'https://pbs.twimg.com/profile_banners/222217244/1552901108', 'profile_link_color': '1DA1F2', 'profile_sidebar_border_color': 'C0DEED', 'profile_sidebar_fill_color': 'DDEEF6', 'profile_text_color': '333333', 'profile_use_background_image': True, 'has_extended_profile': False, 'default_profile': True, 'default_profile_image': False, 'following': False, 'follow_request_sent': False, 'notifications': False, 'translator_type': 'none'}, id=222217244, id_str='222217244', name='VG', screen_name='vg123e', location='', description='Peace is not just to stop wars, but also to stop oppression & injustice.\\nWar consumes the very things it is  fought for: Justice,Humanity & Decency', url=None, entities={'description': {'urls': []}}, protected=False, followers_count=2639, friends_count=3255, listed_count=158, created_at=datetime.datetime(2010, 12, 2, 19, 56, 7), favourites_count=50672, utc_offset=None, time_zone=None, geo_enabled=True, verified=False, statuses_count=392884, lang=None, contributors_enabled=False, is_translator=False, is_translation_enabled=False, profile_background_color='C0DEED', profile_background_image_url='http://abs.twimg.com/images/themes/theme1/bg.png', profile_background_image_url_https='https://abs.twimg.com/images/themes/theme1/bg.png', profile_background_tile=False, profile_image_url='http://pbs.twimg.com/profile_images/1107291390785085443/Dkpr8E3I_normal.jpg', profile_image_url_https='https://pbs.twimg.com/profile_images/1107291390785085443/Dkpr8E3I_normal.jpg', profile_banner_url='https://pbs.twimg.com/profile_banners/222217244/1552901108', profile_link_color='1DA1F2', profile_sidebar_border_color='C0DEED', profile_sidebar_fill_color='DDEEF6', profile_text_color='333333', profile_use_background_image=True, has_extended_profile=False, default_profile=True, default_profile_image=False, following=False, follow_request_sent=False, notifications=False, translator_type='none'), geo=None, coordinates=None, place=None, contributors=None, is_quote_status=False, retweet_count=0, favorite_count=0, favorited=False, retweeted=False, possibly_sensitive=False, lang='en'), Status(_api=<tweepy.api.API object at 0x0000020D2CA58B88>, _json={'created_at': 'Tue Jan 21 09:25:27 +0000 2020', 'id': 1219551572272865281, 'id_str': '1219551572272865281', 'full_text': \"Father and 4-year-old son shot in head while play wrestling when man's concealed gun discharges - ABC News -  via @ABC https://t.co/d3PmcLMTXV\", 'truncated': False, 'display_text_range': [0, 142], 'entities': {'hashtags': [], 'symbols': [], 'user_mentions': [{'screen_name': 'ABC', 'name': 'ABC News', 'id': 28785486, 'id_str': '28785486', 'indices': [114, 118]}], 'urls': [{'url': 'https://t.co/d3PmcLMTXV', 'expanded_url': 'https://abcn.ws/2RBfuvd', 'display_url': 'abcn.ws/2RBfuvd', 'indices': [119, 142]}]}, 'metadata': {'iso_language_code': 'en', 'result_type': 'recent'}, 'source': '<a href=\"http://twitter.com/download/iphone\" rel=\"nofollow\">Twitter for iPhone</a>', 'in_reply_to_status_id': None, 'in_reply_to_status_id_str': None, 'in_reply_to_user_id': None, 'in_reply_to_user_id_str': None, 'in_reply_to_screen_name': None, 'user': {'id': 920457340758962182, 'id_str': '920457340758962182', 'name': '@trockfitness- Coach Todd', 'screen_name': 'trockfitness', 'location': 'Georgia, USA', 'description': '', 'url': None, 'entities': {'description': {'urls': []}}, 'protected': False, 'followers_count': 74, 'friends_count': 336, 'listed_count': 0, 'created_at': 'Wed Oct 18 01:11:46 +0000 2017', 'favourites_count': 1560, 'utc_offset': None, 'time_zone': None, 'geo_enabled': True, 'verified': False, 'statuses_count': 1434, 'lang': None, 'contributors_enabled': False, 'is_translator': False, 'is_translation_enabled': False, 'profile_background_color': 'F5F8FA', 'profile_background_image_url': None, 'profile_background_image_url_https': None, 'profile_background_tile': False, 'profile_image_url': 'http://pbs.twimg.com/profile_images/1219482468992147458/rrw1QOIC_normal.jpg', 'profile_image_url_https': 'https://pbs.twimg.com/profile_images/1219482468992147458/rrw1QOIC_normal.jpg', 'profile_link_color': '1DA1F2', 'profile_sidebar_border_color': 'C0DEED', 'profile_sidebar_fill_color': 'DDEEF6', 'profile_text_color': '333333', 'profile_use_background_image': True, 'has_extended_profile': True, 'default_profile': True, 'default_profile_image': False, 'following': False, 'follow_request_sent': False, 'notifications': False, 'translator_type': 'none'}, 'geo': None, 'coordinates': None, 'place': {'id': 'b077585758242faa', 'url': 'https://api.twitter.com/1.1/geo/id/b077585758242faa.json', 'place_type': 'city', 'name': 'Sandy Springs', 'full_name': 'Sandy Springs, GA', 'country_code': 'US', 'country': 'United States', 'contained_within': [], 'bounding_box': {'type': 'Polygon', 'coordinates': [[[-84.4468, 33.876737], [-84.2580892, 33.876737], [-84.2580892, 34.010177], [-84.4468, 34.010177]]]}, 'attributes': {}}, 'contributors': None, 'is_quote_status': False, 'retweet_count': 0, 'favorite_count': 0, 'favorited': False, 'retweeted': False, 'possibly_sensitive': False, 'lang': 'en'}, created_at=datetime.datetime(2020, 1, 21, 9, 25, 27), id=1219551572272865281, id_str='1219551572272865281', full_text=\"Father and 4-year-old son shot in head while play wrestling when man's concealed gun discharges - ABC News -  via @ABC https://t.co/d3PmcLMTXV\", truncated=False, display_text_range=[0, 142], entities={'hashtags': [], 'symbols': [], 'user_mentions': [{'screen_name': 'ABC', 'name': 'ABC News', 'id': 28785486, 'id_str': '28785486', 'indices': [114, 118]}], 'urls': [{'url': 'https://t.co/d3PmcLMTXV', 'expanded_url': 'https://abcn.ws/2RBfuvd', 'display_url': 'abcn.ws/2RBfuvd', 'indices': [119, 142]}]}, metadata={'iso_language_code': 'en', 'result_type': 'recent'}, source='Twitter for iPhone', source_url='http://twitter.com/download/iphone', in_reply_to_status_id=None, in_reply_to_status_id_str=None, in_reply_to_user_id=None, in_reply_to_user_id_str=None, in_reply_to_screen_name=None, author=User(_api=<tweepy.api.API object at 0x0000020D2CA58B88>, _json={'id': 920457340758962182, 'id_str': '920457340758962182', 'name': '@trockfitness- Coach Todd', 'screen_name': 'trockfitness', 'location': 'Georgia, USA', 'description': '', 'url': None, 'entities': {'description': {'urls': []}}, 'protected': False, 'followers_count': 74, 'friends_count': 336, 'listed_count': 0, 'created_at': 'Wed Oct 18 01:11:46 +0000 2017', 'favourites_count': 1560, 'utc_offset': None, 'time_zone': None, 'geo_enabled': True, 'verified': False, 'statuses_count': 1434, 'lang': None, 'contributors_enabled': False, 'is_translator': False, 'is_translation_enabled': False, 'profile_background_color': 'F5F8FA', 'profile_background_image_url': None, 'profile_background_image_url_https': None, 'profile_background_tile': False, 'profile_image_url': 'http://pbs.twimg.com/profile_images/1219482468992147458/rrw1QOIC_normal.jpg', 'profile_image_url_https': 'https://pbs.twimg.com/profile_images/1219482468992147458/rrw1QOIC_normal.jpg', 'profile_link_color': '1DA1F2', 'profile_sidebar_border_color': 'C0DEED', 'profile_sidebar_fill_color': 'DDEEF6', 'profile_text_color': '333333', 'profile_use_background_image': True, 'has_extended_profile': True, 'default_profile': True, 'default_profile_image': False, 'following': False, 'follow_request_sent': False, 'notifications': False, 'translator_type': 'none'}, id=920457340758962182, id_str='920457340758962182', name='@trockfitness- Coach Todd', screen_name='trockfitness', location='Georgia, USA', description='', url=None, entities={'description': {'urls': []}}, protected=False, followers_count=74, friends_count=336, listed_count=0, created_at=datetime.datetime(2017, 10, 18, 1, 11, 46), favourites_count=1560, utc_offset=None, time_zone=None, geo_enabled=True, verified=False, statuses_count=1434, lang=None, contributors_enabled=False, is_translator=False, is_translation_enabled=False, profile_background_color='F5F8FA', profile_background_image_url=None, profile_background_image_url_https=None, profile_background_tile=False, profile_image_url='http://pbs.twimg.com/profile_images/1219482468992147458/rrw1QOIC_normal.jpg', profile_image_url_https='https://pbs.twimg.com/profile_images/1219482468992147458/rrw1QOIC_normal.jpg', profile_link_color='1DA1F2', profile_sidebar_border_color='C0DEED', profile_sidebar_fill_color='DDEEF6', profile_text_color='333333', profile_use_background_image=True, has_extended_profile=True, default_profile=True, default_profile_image=False, following=False, follow_request_sent=False, notifications=False, translator_type='none'), user=User(_api=<tweepy.api.API object at 0x0000020D2CA58B88>, _json={'id': 920457340758962182, 'id_str': '920457340758962182', 'name': '@trockfitness- Coach Todd', 'screen_name': 'trockfitness', 'location': 'Georgia, USA', 'description': '', 'url': None, 'entities': {'description': {'urls': []}}, 'protected': False, 'followers_count': 74, 'friends_count': 336, 'listed_count': 0, 'created_at': 'Wed Oct 18 01:11:46 +0000 2017', 'favourites_count': 1560, 'utc_offset': None, 'time_zone': None, 'geo_enabled': True, 'verified': False, 'statuses_count': 1434, 'lang': None, 'contributors_enabled': False, 'is_translator': False, 'is_translation_enabled': False, 'profile_background_color': 'F5F8FA', 'profile_background_image_url': None, 'profile_background_image_url_https': None, 'profile_background_tile': False, 'profile_image_url': 'http://pbs.twimg.com/profile_images/1219482468992147458/rrw1QOIC_normal.jpg', 'profile_image_url_https': 'https://pbs.twimg.com/profile_images/1219482468992147458/rrw1QOIC_normal.jpg', 'profile_link_color': '1DA1F2', 'profile_sidebar_border_color': 'C0DEED', 'profile_sidebar_fill_color': 'DDEEF6', 'profile_text_color': '333333', 'profile_use_background_image': True, 'has_extended_profile': True, 'default_profile': True, 'default_profile_image': False, 'following': False, 'follow_request_sent': False, 'notifications': False, 'translator_type': 'none'}, id=920457340758962182, id_str='920457340758962182', name='@trockfitness- Coach Todd', screen_name='trockfitness', location='Georgia, USA', description='', url=None, entities={'description': {'urls': []}}, protected=False, followers_count=74, friends_count=336, listed_count=0, created_at=datetime.datetime(2017, 10, 18, 1, 11, 46), favourites_count=1560, utc_offset=None, time_zone=None, geo_enabled=True, verified=False, statuses_count=1434, lang=None, contributors_enabled=False, is_translator=False, is_translation_enabled=False, profile_background_color='F5F8FA', profile_background_image_url=None, profile_background_image_url_https=None, profile_background_tile=False, profile_image_url='http://pbs.twimg.com/profile_images/1219482468992147458/rrw1QOIC_normal.jpg', profile_image_url_https='https://pbs.twimg.com/profile_images/1219482468992147458/rrw1QOIC_normal.jpg', profile_link_color='1DA1F2', profile_sidebar_border_color='C0DEED', profile_sidebar_fill_color='DDEEF6', profile_text_color='333333', profile_use_background_image=True, has_extended_profile=True, default_profile=True, default_profile_image=False, following=False, follow_request_sent=False, notifications=False, translator_type='none'), geo=None, coordinates=None, place=Place(_api=<tweepy.api.API object at 0x0000020D2CA58B88>, id='b077585758242faa', url='https://api.twitter.com/1.1/geo/id/b077585758242faa.json', place_type='city', name='Sandy Springs', full_name='Sandy Springs, GA', country_code='US', country='United States', contained_within=[], bounding_box=BoundingBox(_api=<tweepy.api.API object at 0x0000020D2CA58B88>, type='Polygon', coordinates=[[[-84.4468, 33.876737], [-84.2580892, 33.876737], [-84.2580892, 34.010177], [-84.4468, 34.010177]]]), attributes={}), contributors=None, is_quote_status=False, retweet_count=0, favorite_count=0, favorited=False, retweeted=False, possibly_sensitive=False, lang='en'), Status(_api=<tweepy.api.API object at 0x0000020D2CA58B88>, _json={'created_at': 'Tue Jan 21 09:25:18 +0000 2020', 'id': 1219551533689266177, 'id_str': '1219551533689266177', 'full_text': \"My kids aren't asleep... not at all.. i'm not a 35yr old mum playing with @OfficialBlueyTV toys all by myself 🤔😏😆😋\\n\\n#Bluey #ABC https://t.co/mXaHnxzzN9\", 'truncated': False, 'display_text_range': [0, 127], 'entities': {'hashtags': [{'text': 'Bluey', 'indices': [116, 122]}, {'text': 'ABC', 'indices': [123, 127]}], 'symbols': [], 'user_mentions': [{'screen_name': 'OfficialBlueyTV', 'name': 'Official Bluey TV', 'id': 1037252171472023553, 'id_str': '1037252171472023553', 'indices': [74, 90]}], 'urls': [], 'media': [{'id': 1219551418907971586, 'id_str': '1219551418907971586', 'indices': [128, 151], 'media_url': 'http://pbs.twimg.com/ext_tw_video_thumb/1219551418907971586/pu/img/PT-xhwM1aHNxfAVe.jpg', 'media_url_https': 'https://pbs.twimg.com/ext_tw_video_thumb/1219551418907971586/pu/img/PT-xhwM1aHNxfAVe.jpg', 'url': 'https://t.co/mXaHnxzzN9', 'display_url': 'pic.twitter.com/mXaHnxzzN9', 'expanded_url': 'https://twitter.com/nynxy/status/1219551533689266177/video/1', 'type': 'photo', 'sizes': {'thumb': {'w': 150, 'h': 150, 'resize': 'crop'}, 'small': {'w': 383, 'h': 680, 'resize': 'fit'}, 'large': {'w': 720, 'h': 1280, 'resize': 'fit'}, 'medium': {'w': 675, 'h': 1200, 'resize': 'fit'}}}]}, 'extended_entities': {'media': [{'id': 1219551418907971586, 'id_str': '1219551418907971586', 'indices': [128, 151], 'media_url': 'http://pbs.twimg.com/ext_tw_video_thumb/1219551418907971586/pu/img/PT-xhwM1aHNxfAVe.jpg', 'media_url_https': 'https://pbs.twimg.com/ext_tw_video_thumb/1219551418907971586/pu/img/PT-xhwM1aHNxfAVe.jpg', 'url': 'https://t.co/mXaHnxzzN9', 'display_url': 'pic.twitter.com/mXaHnxzzN9', 'expanded_url': 'https://twitter.com/nynxy/status/1219551533689266177/video/1', 'type': 'video', 'sizes': {'thumb': {'w': 150, 'h': 150, 'resize': 'crop'}, 'small': {'w': 383, 'h': 680, 'resize': 'fit'}, 'large': {'w': 720, 'h': 1280, 'resize': 'fit'}, 'medium': {'w': 675, 'h': 1200, 'resize': 'fit'}}, 'video_info': {'aspect_ratio': [9, 16], 'duration_millis': 23153, 'variants': [{'content_type': 'application/x-mpegURL', 'url': 'https://video.twimg.com/ext_tw_video/1219551418907971586/pu/pl/BWHSg75Yu85h6j_A.m3u8?tag=10'}, {'bitrate': 632000, 'content_type': 'video/mp4', 'url': 'https://video.twimg.com/ext_tw_video/1219551418907971586/pu/vid/320x568/DdyK4tYiC_SwQ2Pn.mp4?tag=10'}, {'bitrate': 832000, 'content_type': 'video/mp4', 'url': 'https://video.twimg.com/ext_tw_video/1219551418907971586/pu/vid/360x640/t9fs47NJQOcVy4Su.mp4?tag=10'}, {'bitrate': 2176000, 'content_type': 'video/mp4', 'url': 'https://video.twimg.com/ext_tw_video/1219551418907971586/pu/vid/720x1280/g4rTespvC2XvwLmP.mp4?tag=10'}]}, 'additional_media_info': {'monetizable': False}}]}, 'metadata': {'iso_language_code': 'en', 'result_type': 'recent'}, 'source': '<a href=\"http://twitter.com/download/android\" rel=\"nofollow\">Twitter for Android</a>', 'in_reply_to_status_id': None, 'in_reply_to_status_id_str': None, 'in_reply_to_user_id': None, 'in_reply_to_user_id_str': None, 'in_reply_to_screen_name': None, 'user': {'id': 28929695, 'id_str': '28929695', 'name': 'Jess', 'screen_name': 'nynxy', 'location': 'SA, Australia', 'description': 'She/Her, Queer, Disney Villain, Parent of Demon Spawn :P', 'url': 'https://t.co/Nor4H604ir', 'entities': {'url': {'urls': [{'url': 'https://t.co/Nor4H604ir', 'expanded_url': 'http://www.facebook.com/paradoxnynxy', 'display_url': 'facebook.com/paradoxnynxy', 'indices': [0, 23]}]}, 'description': {'urls': []}}, 'protected': False, 'followers_count': 252, 'friends_count': 273, 'listed_count': 29, 'created_at': 'Sun Apr 05 03:12:49 +0000 2009', 'favourites_count': 6960, 'utc_offset': None, 'time_zone': None, 'geo_enabled': False, 'verified': False, 'statuses_count': 9689, 'lang': None, 'contributors_enabled': False, 'is_translator': False, 'is_translation_enabled': False, 'profile_background_color': '022330', 'profile_background_image_url': 'http://abs.twimg.com/images/themes/theme15/bg.png', 'profile_background_image_url_https': 'https://abs.twimg.com/images/themes/theme15/bg.png', 'profile_background_tile': False, 'profile_image_url': 'http://pbs.twimg.com/profile_images/1194569297235853312/ixAdYDME_normal.jpg', 'profile_image_url_https': 'https://pbs.twimg.com/profile_images/1194569297235853312/ixAdYDME_normal.jpg', 'profile_banner_url': 'https://pbs.twimg.com/profile_banners/28929695/1573642489', 'profile_link_color': '0084B4', 'profile_sidebar_border_color': 'A8C7F7', 'profile_sidebar_fill_color': 'C0DFEC', 'profile_text_color': '333333', 'profile_use_background_image': True, 'has_extended_profile': True, 'default_profile': False, 'default_profile_image': False, 'following': False, 'follow_request_sent': False, 'notifications': False, 'translator_type': 'none'}, 'geo': None, 'coordinates': None, 'place': None, 'contributors': None, 'is_quote_status': False, 'retweet_count': 0, 'favorite_count': 0, 'favorited': False, 'retweeted': False, 'possibly_sensitive': False, 'lang': 'en'}, created_at=datetime.datetime(2020, 1, 21, 9, 25, 18), id=1219551533689266177, id_str='1219551533689266177', full_text=\"My kids aren't asleep... not at all.. i'm not a 35yr old mum playing with @OfficialBlueyTV toys all by myself 🤔😏😆😋\\n\\n#Bluey #ABC https://t.co/mXaHnxzzN9\", truncated=False, display_text_range=[0, 127], entities={'hashtags': [{'text': 'Bluey', 'indices': [116, 122]}, {'text': 'ABC', 'indices': [123, 127]}], 'symbols': [], 'user_mentions': [{'screen_name': 'OfficialBlueyTV', 'name': 'Official Bluey TV', 'id': 1037252171472023553, 'id_str': '1037252171472023553', 'indices': [74, 90]}], 'urls': [], 'media': [{'id': 1219551418907971586, 'id_str': '1219551418907971586', 'indices': [128, 151], 'media_url': 'http://pbs.twimg.com/ext_tw_video_thumb/1219551418907971586/pu/img/PT-xhwM1aHNxfAVe.jpg', 'media_url_https': 'https://pbs.twimg.com/ext_tw_video_thumb/1219551418907971586/pu/img/PT-xhwM1aHNxfAVe.jpg', 'url': 'https://t.co/mXaHnxzzN9', 'display_url': 'pic.twitter.com/mXaHnxzzN9', 'expanded_url': 'https://twitter.com/nynxy/status/1219551533689266177/video/1', 'type': 'photo', 'sizes': {'thumb': {'w': 150, 'h': 150, 'resize': 'crop'}, 'small': {'w': 383, 'h': 680, 'resize': 'fit'}, 'large': {'w': 720, 'h': 1280, 'resize': 'fit'}, 'medium': {'w': 675, 'h': 1200, 'resize': 'fit'}}}]}, extended_entities={'media': [{'id': 1219551418907971586, 'id_str': '1219551418907971586', 'indices': [128, 151], 'media_url': 'http://pbs.twimg.com/ext_tw_video_thumb/1219551418907971586/pu/img/PT-xhwM1aHNxfAVe.jpg', 'media_url_https': 'https://pbs.twimg.com/ext_tw_video_thumb/1219551418907971586/pu/img/PT-xhwM1aHNxfAVe.jpg', 'url': 'https://t.co/mXaHnxzzN9', 'display_url': 'pic.twitter.com/mXaHnxzzN9', 'expanded_url': 'https://twitter.com/nynxy/status/1219551533689266177/video/1', 'type': 'video', 'sizes': {'thumb': {'w': 150, 'h': 150, 'resize': 'crop'}, 'small': {'w': 383, 'h': 680, 'resize': 'fit'}, 'large': {'w': 720, 'h': 1280, 'resize': 'fit'}, 'medium': {'w': 675, 'h': 1200, 'resize': 'fit'}}, 'video_info': {'aspect_ratio': [9, 16], 'duration_millis': 23153, 'variants': [{'content_type': 'application/x-mpegURL', 'url': 'https://video.twimg.com/ext_tw_video/1219551418907971586/pu/pl/BWHSg75Yu85h6j_A.m3u8?tag=10'}, {'bitrate': 632000, 'content_type': 'video/mp4', 'url': 'https://video.twimg.com/ext_tw_video/1219551418907971586/pu/vid/320x568/DdyK4tYiC_SwQ2Pn.mp4?tag=10'}, {'bitrate': 832000, 'content_type': 'video/mp4', 'url': 'https://video.twimg.com/ext_tw_video/1219551418907971586/pu/vid/360x640/t9fs47NJQOcVy4Su.mp4?tag=10'}, {'bitrate': 2176000, 'content_type': 'video/mp4', 'url': 'https://video.twimg.com/ext_tw_video/1219551418907971586/pu/vid/720x1280/g4rTespvC2XvwLmP.mp4?tag=10'}]}, 'additional_media_info': {'monetizable': False}}]}, metadata={'iso_language_code': 'en', 'result_type': 'recent'}, source='Twitter for Android', source_url='http://twitter.com/download/android', in_reply_to_status_id=None, in_reply_to_status_id_str=None, in_reply_to_user_id=None, in_reply_to_user_id_str=None, in_reply_to_screen_name=None, author=User(_api=<tweepy.api.API object at 0x0000020D2CA58B88>, _json={'id': 28929695, 'id_str': '28929695', 'name': 'Jess', 'screen_name': 'nynxy', 'location': 'SA, Australia', 'description': 'She/Her, Queer, Disney Villain, Parent of Demon Spawn :P', 'url': 'https://t.co/Nor4H604ir', 'entities': {'url': {'urls': [{'url': 'https://t.co/Nor4H604ir', 'expanded_url': 'http://www.facebook.com/paradoxnynxy', 'display_url': 'facebook.com/paradoxnynxy', 'indices': [0, 23]}]}, 'description': {'urls': []}}, 'protected': False, 'followers_count': 252, 'friends_count': 273, 'listed_count': 29, 'created_at': 'Sun Apr 05 03:12:49 +0000 2009', 'favourites_count': 6960, 'utc_offset': None, 'time_zone': None, 'geo_enabled': False, 'verified': False, 'statuses_count': 9689, 'lang': None, 'contributors_enabled': False, 'is_translator': False, 'is_translation_enabled': False, 'profile_background_color': '022330', 'profile_background_image_url': 'http://abs.twimg.com/images/themes/theme15/bg.png', 'profile_background_image_url_https': 'https://abs.twimg.com/images/themes/theme15/bg.png', 'profile_background_tile': False, 'profile_image_url': 'http://pbs.twimg.com/profile_images/1194569297235853312/ixAdYDME_normal.jpg', 'profile_image_url_https': 'https://pbs.twimg.com/profile_images/1194569297235853312/ixAdYDME_normal.jpg', 'profile_banner_url': 'https://pbs.twimg.com/profile_banners/28929695/1573642489', 'profile_link_color': '0084B4', 'profile_sidebar_border_color': 'A8C7F7', 'profile_sidebar_fill_color': 'C0DFEC', 'profile_text_color': '333333', 'profile_use_background_image': True, 'has_extended_profile': True, 'default_profile': False, 'default_profile_image': False, 'following': False, 'follow_request_sent': False, 'notifications': False, 'translator_type': 'none'}, id=28929695, id_str='28929695', name='Jess', screen_name='nynxy', location='SA, Australia', description='She/Her, Queer, Disney Villain, Parent of Demon Spawn :P', url='https://t.co/Nor4H604ir', entities={'url': {'urls': [{'url': 'https://t.co/Nor4H604ir', 'expanded_url': 'http://www.facebook.com/paradoxnynxy', 'display_url': 'facebook.com/paradoxnynxy', 'indices': [0, 23]}]}, 'description': {'urls': []}}, protected=False, followers_count=252, friends_count=273, listed_count=29, created_at=datetime.datetime(2009, 4, 5, 3, 12, 49), favourites_count=6960, utc_offset=None, time_zone=None, geo_enabled=False, verified=False, statuses_count=9689, lang=None, contributors_enabled=False, is_translator=False, is_translation_enabled=False, profile_background_color='022330', profile_background_image_url='http://abs.twimg.com/images/themes/theme15/bg.png', profile_background_image_url_https='https://abs.twimg.com/images/themes/theme15/bg.png', profile_background_tile=False, profile_image_url='http://pbs.twimg.com/profile_images/1194569297235853312/ixAdYDME_normal.jpg', profile_image_url_https='https://pbs.twimg.com/profile_images/1194569297235853312/ixAdYDME_normal.jpg', profile_banner_url='https://pbs.twimg.com/profile_banners/28929695/1573642489', profile_link_color='0084B4', profile_sidebar_border_color='A8C7F7', profile_sidebar_fill_color='C0DFEC', profile_text_color='333333', profile_use_background_image=True, has_extended_profile=True, default_profile=False, default_profile_image=False, following=False, follow_request_sent=False, notifications=False, translator_type='none'), user=User(_api=<tweepy.api.API object at 0x0000020D2CA58B88>, _json={'id': 28929695, 'id_str': '28929695', 'name': 'Jess', 'screen_name': 'nynxy', 'location': 'SA, Australia', 'description': 'She/Her, Queer, Disney Villain, Parent of Demon Spawn :P', 'url': 'https://t.co/Nor4H604ir', 'entities': {'url': {'urls': [{'url': 'https://t.co/Nor4H604ir', 'expanded_url': 'http://www.facebook.com/paradoxnynxy', 'display_url': 'facebook.com/paradoxnynxy', 'indices': [0, 23]}]}, 'description': {'urls': []}}, 'protected': False, 'followers_count': 252, 'friends_count': 273, 'listed_count': 29, 'created_at': 'Sun Apr 05 03:12:49 +0000 2009', 'favourites_count': 6960, 'utc_offset': None, 'time_zone': None, 'geo_enabled': False, 'verified': False, 'statuses_count': 9689, 'lang': None, 'contributors_enabled': False, 'is_translator': False, 'is_translation_enabled': False, 'profile_background_color': '022330', 'profile_background_image_url': 'http://abs.twimg.com/images/themes/theme15/bg.png', 'profile_background_image_url_https': 'https://abs.twimg.com/images/themes/theme15/bg.png', 'profile_background_tile': False, 'profile_image_url': 'http://pbs.twimg.com/profile_images/1194569297235853312/ixAdYDME_normal.jpg', 'profile_image_url_https': 'https://pbs.twimg.com/profile_images/1194569297235853312/ixAdYDME_normal.jpg', 'profile_banner_url': 'https://pbs.twimg.com/profile_banners/28929695/1573642489', 'profile_link_color': '0084B4', 'profile_sidebar_border_color': 'A8C7F7', 'profile_sidebar_fill_color': 'C0DFEC', 'profile_text_color': '333333', 'profile_use_background_image': True, 'has_extended_profile': True, 'default_profile': False, 'default_profile_image': False, 'following': False, 'follow_request_sent': False, 'notifications': False, 'translator_type': 'none'}, id=28929695, id_str='28929695', name='Jess', screen_name='nynxy', location='SA, Australia', description='She/Her, Queer, Disney Villain, Parent of Demon Spawn :P', url='https://t.co/Nor4H604ir', entities={'url': {'urls': [{'url': 'https://t.co/Nor4H604ir', 'expanded_url': 'http://www.facebook.com/paradoxnynxy', 'display_url': 'facebook.com/paradoxnynxy', 'indices': [0, 23]}]}, 'description': {'urls': []}}, protected=False, followers_count=252, friends_count=273, listed_count=29, created_at=datetime.datetime(2009, 4, 5, 3, 12, 49), favourites_count=6960, utc_offset=None, time_zone=None, geo_enabled=False, verified=False, statuses_count=9689, lang=None, contributors_enabled=False, is_translator=False, is_translation_enabled=False, profile_background_color='022330', profile_background_image_url='http://abs.twimg.com/images/themes/theme15/bg.png', profile_background_image_url_https='https://abs.twimg.com/images/themes/theme15/bg.png', profile_background_tile=False, profile_image_url='http://pbs.twimg.com/profile_images/1194569297235853312/ixAdYDME_normal.jpg', profile_image_url_https='https://pbs.twimg.com/profile_images/1194569297235853312/ixAdYDME_normal.jpg', profile_banner_url='https://pbs.twimg.com/profile_banners/28929695/1573642489', profile_link_color='0084B4', profile_sidebar_border_color='A8C7F7', profile_sidebar_fill_color='C0DFEC', profile_text_color='333333', profile_use_background_image=True, has_extended_profile=True, default_profile=False, default_profile_image=False, following=False, follow_request_sent=False, notifications=False, translator_type='none'), geo=None, coordinates=None, place=None, contributors=None, is_quote_status=False, retweet_count=0, favorite_count=0, favorited=False, retweeted=False, possibly_sensitive=False, lang='en'), Status(_api=<tweepy.api.API object at 0x0000020D2CA58B88>, _json={'created_at': 'Tue Jan 21 09:25:12 +0000 2020', 'id': 1219551510226333696, 'id_str': '1219551510226333696', 'full_text': '@dkeene2016 @ABC I thought about that to with everything going on in the world', 'truncated': False, 'display_text_range': [17, 78], 'entities': {'hashtags': [], 'symbols': [], 'user_mentions': [{'screen_name': 'dkeene2016', 'name': 'Dennis Keene', 'id': 4861899450, 'id_str': '4861899450', 'indices': [0, 11]}, {'screen_name': 'ABC', 'name': 'ABC News', 'id': 28785486, 'id_str': '28785486', 'indices': [12, 16]}], 'urls': []}, 'metadata': {'iso_language_code': 'en', 'result_type': 'recent'}, 'source': '<a href=\"https://mobile.twitter.com\" rel=\"nofollow\">Twitter Web App</a>', 'in_reply_to_status_id': 1219538015552405504, 'in_reply_to_status_id_str': '1219538015552405504', 'in_reply_to_user_id': 4861899450, 'in_reply_to_user_id_str': '4861899450', 'in_reply_to_screen_name': 'dkeene2016', 'user': {'id': 364690316, 'id_str': '364690316', 'name': 'Keri cudd', 'screen_name': 'cudd_keri', 'location': 'Dewey,Az', 'description': \"my name is Keri I'm 36 years old have a great job have my daughter and my doggie piper\", 'url': None, 'entities': {'description': {'urls': []}}, 'protected': False, 'followers_count': 148, 'friends_count': 1340, 'listed_count': 1, 'created_at': 'Tue Aug 30 05:00:28 +0000 2011', 'favourites_count': 5275, 'utc_offset': None, 'time_zone': None, 'geo_enabled': True, 'verified': False, 'statuses_count': 14519, 'lang': None, 'contributors_enabled': False, 'is_translator': False, 'is_translation_enabled': False, 'profile_background_color': '1A1B1F', 'profile_background_image_url': 'http://abs.twimg.com/images/themes/theme9/bg.gif', 'profile_background_image_url_https': 'https://abs.twimg.com/images/themes/theme9/bg.gif', 'profile_background_tile': False, 'profile_image_url': 'http://pbs.twimg.com/profile_images/619320211750060032/inpWpjuO_normal.jpg', 'profile_image_url_https': 'https://pbs.twimg.com/profile_images/619320211750060032/inpWpjuO_normal.jpg', 'profile_banner_url': 'https://pbs.twimg.com/profile_banners/364690316/1419103472', 'profile_link_color': 'E81C4F', 'profile_sidebar_border_color': '181A1E', 'profile_sidebar_fill_color': '252429', 'profile_text_color': '666666', 'profile_use_background_image': True, 'has_extended_profile': True, 'default_profile': False, 'default_profile_image': False, 'following': False, 'follow_request_sent': False, 'notifications': False, 'translator_type': 'none'}, 'geo': None, 'coordinates': None, 'place': None, 'contributors': None, 'is_quote_status': False, 'retweet_count': 0, 'favorite_count': 0, 'favorited': False, 'retweeted': False, 'lang': 'en'}, created_at=datetime.datetime(2020, 1, 21, 9, 25, 12), id=1219551510226333696, id_str='1219551510226333696', full_text='@dkeene2016 @ABC I thought about that to with everything going on in the world', truncated=False, display_text_range=[17, 78], entities={'hashtags': [], 'symbols': [], 'user_mentions': [{'screen_name': 'dkeene2016', 'name': 'Dennis Keene', 'id': 4861899450, 'id_str': '4861899450', 'indices': [0, 11]}, {'screen_name': 'ABC', 'name': 'ABC News', 'id': 28785486, 'id_str': '28785486', 'indices': [12, 16]}], 'urls': []}, metadata={'iso_language_code': 'en', 'result_type': 'recent'}, source='Twitter Web App', source_url='https://mobile.twitter.com', in_reply_to_status_id=1219538015552405504, in_reply_to_status_id_str='1219538015552405504', in_reply_to_user_id=4861899450, in_reply_to_user_id_str='4861899450', in_reply_to_screen_name='dkeene2016', author=User(_api=<tweepy.api.API object at 0x0000020D2CA58B88>, _json={'id': 364690316, 'id_str': '364690316', 'name': 'Keri cudd', 'screen_name': 'cudd_keri', 'location': 'Dewey,Az', 'description': \"my name is Keri I'm 36 years old have a great job have my daughter and my doggie piper\", 'url': None, 'entities': {'description': {'urls': []}}, 'protected': False, 'followers_count': 148, 'friends_count': 1340, 'listed_count': 1, 'created_at': 'Tue Aug 30 05:00:28 +0000 2011', 'favourites_count': 5275, 'utc_offset': None, 'time_zone': None, 'geo_enabled': True, 'verified': False, 'statuses_count': 14519, 'lang': None, 'contributors_enabled': False, 'is_translator': False, 'is_translation_enabled': False, 'profile_background_color': '1A1B1F', 'profile_background_image_url': 'http://abs.twimg.com/images/themes/theme9/bg.gif', 'profile_background_image_url_https': 'https://abs.twimg.com/images/themes/theme9/bg.gif', 'profile_background_tile': False, 'profile_image_url': 'http://pbs.twimg.com/profile_images/619320211750060032/inpWpjuO_normal.jpg', 'profile_image_url_https': 'https://pbs.twimg.com/profile_images/619320211750060032/inpWpjuO_normal.jpg', 'profile_banner_url': 'https://pbs.twimg.com/profile_banners/364690316/1419103472', 'profile_link_color': 'E81C4F', 'profile_sidebar_border_color': '181A1E', 'profile_sidebar_fill_color': '252429', 'profile_text_color': '666666', 'profile_use_background_image': True, 'has_extended_profile': True, 'default_profile': False, 'default_profile_image': False, 'following': False, 'follow_request_sent': False, 'notifications': False, 'translator_type': 'none'}, id=364690316, id_str='364690316', name='Keri cudd', screen_name='cudd_keri', location='Dewey,Az', description=\"my name is Keri I'm 36 years old have a great job have my daughter and my doggie piper\", url=None, entities={'description': {'urls': []}}, protected=False, followers_count=148, friends_count=1340, listed_count=1, created_at=datetime.datetime(2011, 8, 30, 5, 0, 28), favourites_count=5275, utc_offset=None, time_zone=None, geo_enabled=True, verified=False, statuses_count=14519, lang=None, contributors_enabled=False, is_translator=False, is_translation_enabled=False, profile_background_color='1A1B1F', profile_background_image_url='http://abs.twimg.com/images/themes/theme9/bg.gif', profile_background_image_url_https='https://abs.twimg.com/images/themes/theme9/bg.gif', profile_background_tile=False, profile_image_url='http://pbs.twimg.com/profile_images/619320211750060032/inpWpjuO_normal.jpg', profile_image_url_https='https://pbs.twimg.com/profile_images/619320211750060032/inpWpjuO_normal.jpg', profile_banner_url='https://pbs.twimg.com/profile_banners/364690316/1419103472', profile_link_color='E81C4F', profile_sidebar_border_color='181A1E', profile_sidebar_fill_color='252429', profile_text_color='666666', profile_use_background_image=True, has_extended_profile=True, default_profile=False, default_profile_image=False, following=False, follow_request_sent=False, notifications=False, translator_type='none'), user=User(_api=<tweepy.api.API object at 0x0000020D2CA58B88>, _json={'id': 364690316, 'id_str': '364690316', 'name': 'Keri cudd', 'screen_name': 'cudd_keri', 'location': 'Dewey,Az', 'description': \"my name is Keri I'm 36 years old have a great job have my daughter and my doggie piper\", 'url': None, 'entities': {'description': {'urls': []}}, 'protected': False, 'followers_count': 148, 'friends_count': 1340, 'listed_count': 1, 'created_at': 'Tue Aug 30 05:00:28 +0000 2011', 'favourites_count': 5275, 'utc_offset': None, 'time_zone': None, 'geo_enabled': True, 'verified': False, 'statuses_count': 14519, 'lang': None, 'contributors_enabled': False, 'is_translator': False, 'is_translation_enabled': False, 'profile_background_color': '1A1B1F', 'profile_background_image_url': 'http://abs.twimg.com/images/themes/theme9/bg.gif', 'profile_background_image_url_https': 'https://abs.twimg.com/images/themes/theme9/bg.gif', 'profile_background_tile': False, 'profile_image_url': 'http://pbs.twimg.com/profile_images/619320211750060032/inpWpjuO_normal.jpg', 'profile_image_url_https': 'https://pbs.twimg.com/profile_images/619320211750060032/inpWpjuO_normal.jpg', 'profile_banner_url': 'https://pbs.twimg.com/profile_banners/364690316/1419103472', 'profile_link_color': 'E81C4F', 'profile_sidebar_border_color': '181A1E', 'profile_sidebar_fill_color': '252429', 'profile_text_color': '666666', 'profile_use_background_image': True, 'has_extended_profile': True, 'default_profile': False, 'default_profile_image': False, 'following': False, 'follow_request_sent': False, 'notifications': False, 'translator_type': 'none'}, id=364690316, id_str='364690316', name='Keri cudd', screen_name='cudd_keri', location='Dewey,Az', description=\"my name is Keri I'm 36 years old have a great job have my daughter and my doggie piper\", url=None, entities={'description': {'urls': []}}, protected=False, followers_count=148, friends_count=1340, listed_count=1, created_at=datetime.datetime(2011, 8, 30, 5, 0, 28), favourites_count=5275, utc_offset=None, time_zone=None, geo_enabled=True, verified=False, statuses_count=14519, lang=None, contributors_enabled=False, is_translator=False, is_translation_enabled=False, profile_background_color='1A1B1F', profile_background_image_url='http://abs.twimg.com/images/themes/theme9/bg.gif', profile_background_image_url_https='https://abs.twimg.com/images/themes/theme9/bg.gif', profile_background_tile=False, profile_image_url='http://pbs.twimg.com/profile_images/619320211750060032/inpWpjuO_normal.jpg', profile_image_url_https='https://pbs.twimg.com/profile_images/619320211750060032/inpWpjuO_normal.jpg', profile_banner_url='https://pbs.twimg.com/profile_banners/364690316/1419103472', profile_link_color='E81C4F', profile_sidebar_border_color='181A1E', profile_sidebar_fill_color='252429', profile_text_color='666666', profile_use_background_image=True, has_extended_profile=True, default_profile=False, default_profile_image=False, following=False, follow_request_sent=False, notifications=False, translator_type='none'), geo=None, coordinates=None, place=None, contributors=None, is_quote_status=False, retweet_count=0, favorite_count=0, favorited=False, retweeted=False, lang='en')]\n"
     ]
    }
   ],
   "source": [
    "# Install tweepy\n",
    "!pip install tweepy\n",
    "\n",
    "# Import the libraries\n",
    "import numpy as np\n",
    "import tweepy\n",
    "import json\n",
    "import pandas as pd\n",
    "from tweepy import OAuthHandler\n",
    "\n",
    "# credentials\n",
    "\n",
    "consumer_key = \"KbIvFrh7jy8p0OgpstpbXiP0D\"\n",
    "consumer_secret = \"lz3JLdo2wgsFmnXC61mlIcfkWJ9dhYO8wxaloYcAhjkyWQ2pQC\"\n",
    "access_token = \"724373804911333379-IjQ6B2A5JJiLrEn4rbiNzE7n4C4r74E\"\n",
    "access_token_secret = \"b4gZ32NZkoey7bPB7hX7XJMP1sJz2rAMOrZChf2e75OtP\"\n",
    "\n",
    "# calling API\n",
    "auth = tweepy.OAuthHandler(consumer_key, consumer_secret)\n",
    "auth.set_access_token(access_token, access_token_secret)\n",
    "api = tweepy.API(auth)\n",
    "\n",
    "# Provide the query you want to pull the data. For example, \n",
    "# pulling data for the mobile phone ABC\n",
    "query =\"ABC\"\n",
    "\n",
    "# Fetching tweets\n",
    "Tweets = api.search(query, count = 10, lang='en', exclude='retweets', tweet_mode='extended')\n",
    "print(Tweets)\n",
    "# The query above will pull the top 10 tweets when the product ABC is searched. \n",
    "# The API will pull English tweets since the language given is ‘en’ and it will exclude retweets."
   ]
  },
  {
   "cell_type": "markdown",
   "metadata": {},
   "source": [
    "## Recipe 1-2. Collecting Data from PDFs\n",
    "- Most of the time your data will be stored as PDF files. \n",
    "- We need to extract text from these files and store it for further analysis."
   ]
  },
  {
   "cell_type": "markdown",
   "metadata": {},
   "source": [
    "### Step 2-1 Install and import all the necessary libraries"
   ]
  },
  {
   "cell_type": "code",
   "execution_count": 100,
   "metadata": {},
   "outputs": [
    {
     "name": "stdout",
     "output_type": "stream",
     "text": [
      "Requirement already satisfied: PyPDF2 in c:\\users\\data team\\anaconda3\\lib\\site-packages (1.26.0)\n"
     ]
    }
   ],
   "source": [
    "# Here are the first lines of code:\n",
    "!pip install PyPDF2\n",
    "\n",
    "import PyPDF2\n",
    "from PyPDF2 import PdfFileReader"
   ]
  },
  {
   "cell_type": "markdown",
   "metadata": {},
   "source": [
    "### Step 2-2 Extracting text from PDF file"
   ]
  },
  {
   "cell_type": "code",
   "execution_count": 102,
   "metadata": {},
   "outputs": [
    {
     "name": "stdout",
     "output_type": "stream",
     "text": [
      "11\n",
      "Ahmed Yasir Khan\n",
      "  Page \n",
      "1 of \n",
      "11  Data \n",
      "Mining Process\n",
      ", Techniques, Tools & \n",
      "Examples\n",
      " What is Data Mining?\n",
      " Data mining is looking for hidden, valid, and potentially useful patterns in huge \n",
      "data sets. Data Mining is all about discovering unsuspected/ previously unknown \n",
      "relationships amongst the data.\n",
      " It is a multi\n",
      "-disciplinary skill that uses machine learning, s\n",
      "tatistics, AI and database \n",
      "technology.\n",
      " The insights derived via Data Mining can be used for marketing, fraud detection, \n",
      "and scientific discovery, etc.\n",
      " Data mining is also called as Knowledge discovery, Knowledge extraction, \n",
      "data/pattern analysis, informati\n",
      "on harvesting, etc.\n",
      " Types of Data\n",
      " Data mining can be performed on following types of data\n",
      "  Relational databases\n",
      "  Data warehouses\n",
      "  Advanced DB and information repositories\n",
      "  Object\n",
      "-oriented and object\n",
      "-relational databases\n",
      "  Transactional and Spatial databases\n",
      "  Het\n",
      "erogeneous and legacy databases\n",
      "  Multimedia and streaming database\n",
      "  Text databases\n",
      "  Text mining and Web mining\n",
      "    \n"
     ]
    }
   ],
   "source": [
    "#Creating a pdf file object\n",
    "pdf = open(\"Data Mining.pdf\",\"rb\")\n",
    "\n",
    "#creating pdf reader object\n",
    "pdf_reader = PyPDF2.PdfFileReader(pdf)\n",
    "\n",
    "#checking number of pages in a pdf file\n",
    "print(pdf_reader.numPages)\n",
    "\n",
    "#creating a page object\n",
    "page = pdf_reader.getPage(0)\n",
    "\n",
    "# Please note that the function above doesn’t work for scanned PDFs.\n",
    "\n",
    "#finally extracting text from the page\n",
    "print(page.extractText())\n",
    "\n",
    "#closing the pdf file\n",
    "pdf.close()"
   ]
  },
  {
   "cell_type": "markdown",
   "metadata": {},
   "source": [
    "## Recipe 1-3. Collecting Data from Word Files"
   ]
  },
  {
   "cell_type": "markdown",
   "metadata": {},
   "source": [
    "### Step 3-1 Install and import all the necessary libraries"
   ]
  },
  {
   "cell_type": "code",
   "execution_count": 9,
   "metadata": {},
   "outputs": [],
   "source": [
    "#Install docx\n",
    "# !pip install docx\n",
    "# !pip install python-docx \n",
    "\n",
    "#Import library\n",
    "from docx import Document"
   ]
  },
  {
   "cell_type": "markdown",
   "metadata": {},
   "source": [
    "### Step 3-2 Extracting text from word file"
   ]
  },
  {
   "cell_type": "code",
   "execution_count": 104,
   "metadata": {
    "scrolled": true
   },
   "outputs": [
    {
     "name": "stdout",
     "output_type": "stream",
     "text": [
      "['Demonstration of DOCX support in calibre', 'This document demonstrates the ability of the calibre DOCX Input plugin to convert the various typographic features in a Microsoft Word (2007 and newer) document. Convert this document to a modern ebook format, such as AZW3 for Kindles or EPUB for other ebook readers, to see it in action.', 'There is support for images, tables, lists, footnotes, endnotes, links, dropcaps and various types of text and paragraph level formatting.', 'To see the DOCX conversion in action, simply add this file to calibre using the “Add Books” button and then click “Convert”.  Set the output format in the top right corner of the conversion dialog to EPUB or AZW3 and click “OK”.', '', 'Text Formatting', 'Inline formatting', 'Here, we demonstrate various types of inline text formatting and the use of embedded fonts.', 'Here is some bold, italic, bold-italic, underlined and struck out  text. Then, we have a superscript and a subscript. Now we see some red, green and blue text. Some text with a yellow highlight. Some text in a box. Some text in inverse video.', 'A paragraph with styled text: subtle emphasis  followed by strong text and intense emphasis. This paragraph uses document wide styles for styling rather than inline text properties as demonstrated in the previous paragraph — calibre can handle both with equal ease.', 'Fun with fonts', 'This document has embedded the Ubuntu font family. The body text is in the Ubuntu typeface, here is some text in the Ubuntu Mono typeface, notice how every letter has the same width, even i and m. Every embedded font will automatically be embedded in the output ebook during conversion. ', 'Paragraph level formatting', 'You can do crazy things with paragraphs, if the urge strikes you. For instance this paragraph is right aligned and has a right border. It has also been given a light gray background.', 'For the lovers of poetry amongst you, paragraphs with hanging indents, like this often come in handy. You can use hanging indents to ensure that a line of poetry retains its individual identity as a line even when the screen is  too narrow to display it as a single line. Not only does this paragraph have a hanging indent, it is also has an extra top margin, setting it apart from the preceding paragraph.', 'Tables', 'Tables in Word can vary from the extremely simple to the extremely complex. calibre tries to do its best when converting tables. While you may run into trouble with the occasional table, the vast majority of common cases should be converted very well, as demonstrated in this section. Note that for optimum results, when creating tables in Word, you should set their widths using percentages, rather than absolute units.  To the left of this paragraph is a floating two column table with a nice green border and header row.', 'Now let’s look at a fancier table—one with alternating row colors and partial borders. This table is stretched out to take 100% of the available width.', '', 'Next, we see a table with special formatting in various locations. Notice how the formatting for the header row and sub header rows is preserved.', 'Source: Fictitious data, for illustration purposes only', 'Next, we have something a little more complex, a nested table, i.e. a table inside another table. Additionally, the inner table has some of its cells merged. The table is displayed horizontally centered.', '', 'We end with a fancy calendar, note how much of the original formatting is preserved. Note that this table will only display correctly on relatively wide screens. In general, very wide tables or tables whose cells have fixed width requirements don’t fare well in ebooks.', 'Structural Elements', 'Miscellaneous structural elements you can add to your document, like footnotes, endnotes, dropcaps and the like. ', 'Footnotes & Endnotes', 'Footnotes and endnotes are automatically recognized and both are converted to endnotes, with backlinks for maximum ease of use in ebook devices.', 'Dropcaps', 'D', 'rop caps are used to emphasize the leading paragraph at the start of a section. In Word it is possible to specify how many lines of text a drop-cap should use. Because of limitations in ebook technology, this is not possible when converting.  Instead, the converted drop cap will use font size and line height to simulate the effect as well as possible. While not as good as the original, the result is usually tolerable. This paragraph has a “D” dropcap set to occupy three lines of text with a font size of 58.5 pts. Depending on the screen width and capabilities of the device you view the book on, this dropcap can look anything from perfect to ugly.', 'Links', 'Two kinds of links are possible, those that refer to an external website and those that refer to locations inside the document itself. Both are supported by calibre. For example, here is a link pointing to the . Then we have a link that points back to the section on  in this document.', 'Table of Contents', 'There are two approaches that calibre takes when generating a Table of Contents. The first is if the Word document has a Table of Contents itself. Provided that the Table of Contents uses hyperlinks, calibre will automatically use it. The levels of the Table of Contents are identified by their left indent, so if you want the ebook to have a multi-level Table of Contents, make sure you create a properly indented Table of Contents in Word.', 'If no Table of Contents is found in the document, then a table of contents is automatically generated from the headings in the document. A heading is identified as something that has the Heading 1 or Heading 2, etc. style applied to it. These headings are turned into a Table of Contents with Heading 1 being the topmost level, Heading 2 the second level and so on.', ' You can see the Table of Contents created by calibre by clicking the Table of Contents button in whatever viewer you are using to view the converted ebook. ', '', '', '', '', '', '', '', '', '', '', '', '', '', '', '', '', '', '', '', 'Images', 'Images can be of three main types. Inline images are images that are part of the normal text flow, like this image of a green dot . Inline images do not cause breaks in the text and are usually small in size. The next category of image is a floating image, one that “floats “ on the page and is surrounded by text. Word supports more types of floating images than are possible with current ebook technology, so the conversion maps floating images to simple left and right floats, as you can see with the left and right arrow images on the sides of this paragraph.', 'The final type of image is a “block” image, one that becomes a paragraph on its own and has no text on either side. Below is a centered green dot.', 'Centered images like this are useful for large pictures that should be a focus of attention. ', 'Generally, it is not possible to translate the exact positioning of images from a Word document to an ebook. That is because in Word, image positioning is specified in absolute units from the page boundaries.  There is no analogous technology in ebooks, so the conversion will usually end up placing the image either centered or floating close to the point in the text where it was inserted, not necessarily where it appears on the page in Word.', 'Lists', 'All types of lists are supported by the conversion, with the exception of lists that use fancy bullets, these get converted to regular bullets.', 'Bulleted List', 'One', 'Two', 'Numbered List', 'One, with a very long line to demonstrate that the hanging indent for the list is working correctly', 'Two', 'Multi-level Lists', 'One', 'Two', 'Three', 'Four with a very long line to demonstrate that the hanging indent for the list is working correctly.', 'Five', 'Six', 'A Multi-level list with bullets:', 'One', 'Two', 'This bullet uses an image as the bullet item', 'Four', 'Five', 'Continued Lists', 'One', 'Two', 'An interruption in our regularly scheduled listing, for this essential and very relevant public service announcement.', 'We now resume our normal programming', 'Four', '', '']\n"
     ]
    }
   ],
   "source": [
    "#Creating a word file object\n",
    "doc = open(\"demo.docx\",\"rb\")\n",
    "\n",
    "#creating word reader object\n",
    "document = Document(doc)\n",
    "\n",
    "# create an empty string and call this document. \n",
    "# This concatenated_paragraphs list stores each paragraph in the Word document.\n",
    "# We then create a for loop that goes through each paragraph in the Word \n",
    "# document and appends the paragraph.\n",
    "\n",
    "concatenated_paragraphs = []\n",
    "for paragraph in document.paragraphs:\n",
    "    concatenated_paragraphs.append(paragraph.text)\n",
    "\n",
    "# remove duplicated paragraphs\n",
    "# concatenated_paragraphs = list(set(concatenated_paragraphs))\n",
    "\n",
    "# remove empty paragraph\n",
    "# concatenated_paragraphs.remove('')\n",
    "\n",
    "#to see the output call docu\n",
    "print(concatenated_paragraphs)"
   ]
  },
  {
   "cell_type": "markdown",
   "metadata": {},
   "source": [
    "## Recipe 1-4. Collecting Data from JSON\n",
    "Reading a JSON file/object."
   ]
  },
  {
   "cell_type": "markdown",
   "metadata": {},
   "source": [
    "### Step 4-1 Install and import all the necessary libraries\n",
    "Here is the code for importing the libraries."
   ]
  },
  {
   "cell_type": "code",
   "execution_count": 19,
   "metadata": {},
   "outputs": [],
   "source": [
    "import requests\n",
    "import json"
   ]
  },
  {
   "cell_type": "markdown",
   "metadata": {},
   "source": [
    "### Step 4-2 Extracting text from JSON file"
   ]
  },
  {
   "cell_type": "code",
   "execution_count": 108,
   "metadata": {},
   "outputs": [
    {
     "name": "stdout",
     "output_type": "stream",
     "text": [
      "{\n",
      "    \"success\": {\n",
      "        \"total\": 1\n",
      "    },\n",
      "    \"contents\": {\n",
      "        \"quotes\": [\n",
      "            {\n",
      "                \"quote\": \"It wasn't raining when Noah built the ark....\",\n",
      "                \"length\": \"45\",\n",
      "                \"author\": \"Howard Ruff\",\n",
      "                \"tags\": [\n",
      "                    \"being-prepared\",\n",
      "                    \"inspire\",\n",
      "                    \"tod\"\n",
      "                ],\n",
      "                \"category\": \"inspire\",\n",
      "                \"date\": \"2020-01-21\",\n",
      "                \"permalink\": \"https://theysaidso.com/quote/howard-ruff-it-wasnt-raining-when-noah-built-the-ark\",\n",
      "                \"title\": \"Inspiring Quote of the day\",\n",
      "                \"background\": \"https://theysaidso.com/img/bgs/man_on_the_mountain.jpg\",\n",
      "                \"id\": \"bcYwS_RS1KCvfQ_ymsXk0AeF\"\n",
      "            }\n",
      "        ],\n",
      "        \"copyright\": \"2017-19 theysaidso.com\"\n",
      "    }\n",
      "}\n"
     ]
    }
   ],
   "source": [
    "# Now we extract the text.\n",
    "# json from \"https://quotes.rest/qod.json\"\n",
    "response = requests.get(\"https://quotes.rest/qod.json\")\n",
    "response = response.json()\n",
    "\n",
    "print(json.dumps(response, indent = 4))"
   ]
  },
  {
   "cell_type": "code",
   "execution_count": 22,
   "metadata": {},
   "outputs": [
    {
     "data": {
      "text/plain": [
       "{'quote': \"Be not afraid of greatness. Some are born great, some achieve greatness, and some have greatness thrust upon 'em....\",\n",
       " 'length': '116',\n",
       " 'author': 'William Shakespeare',\n",
       " 'tags': ['inspire', 'tod'],\n",
       " 'category': 'inspire',\n",
       " 'date': '2020-01-20',\n",
       " 'permalink': 'https://theysaidso.com/quote/768266-william-shakespeare-be-not-afraid-of-greatness-some-are-born-great-some-achieve',\n",
       " 'title': 'Inspiring Quote of the day',\n",
       " 'background': 'https://theysaidso.com/img/bgs/man_on_the_mountain.jpg',\n",
       " 'id': 'FG7_PlYnhPFaWL79P5076QeF'}"
      ]
     },
     "execution_count": 22,
     "metadata": {},
     "output_type": "execute_result"
    }
   ],
   "source": [
    "# extract contents\n",
    "quote = response['contents']['quotes'][0]\n",
    "quote"
   ]
  },
  {
   "cell_type": "code",
   "execution_count": 26,
   "metadata": {},
   "outputs": [
    {
     "name": "stdout",
     "output_type": "stream",
     "text": [
      "Quote:  Be not afraid of greatness. Some are born great, some achieve greatness, and some have greatness thrust upon 'em.... \n",
      "\n",
      "Author:  William Shakespeare\n"
     ]
    }
   ],
   "source": [
    "# extract only quote\n",
    "print('Quote: ', quote['quote'], '\\n\\nAuthor: ', quote['author'])"
   ]
  },
  {
   "cell_type": "code",
   "execution_count": 112,
   "metadata": {},
   "outputs": [
    {
     "data": {
      "text/plain": [
       "'word\"\"'"
      ]
     },
     "execution_count": 112,
     "metadata": {},
     "output_type": "execute_result"
    }
   ],
   "source": [
    "text =  \"word\\\"\\\"\"\n",
    "text"
   ]
  },
  {
   "cell_type": "markdown",
   "metadata": {},
   "source": [
    "## Recipe 1-5. Collecting Data from web pages using (requests or urllib2) "
   ]
  },
  {
   "cell_type": "markdown",
   "metadata": {},
   "source": [
    "### Step 5-1 Install and import all the necessary libraries"
   ]
  },
  {
   "cell_type": "code",
   "execution_count": 35,
   "metadata": {},
   "outputs": [
    {
     "name": "stdout",
     "output_type": "stream",
     "text": [
      "Requirement already satisfied: bs4 in c:\\users\\data team\\anaconda3\\lib\\site-packages (0.0.1)\n",
      "Requirement already satisfied: beautifulsoup4 in c:\\users\\data team\\anaconda3\\lib\\site-packages (from bs4) (4.8.0)\n",
      "Requirement already satisfied: soupsieve>=1.2 in c:\\users\\data team\\anaconda3\\lib\\site-packages (from beautifulsoup4->bs4) (1.9.3)\n"
     ]
    }
   ],
   "source": [
    "!pip install bs4\n",
    "import requests\n",
    "import urllib.request as urllib2\n",
    "from bs4 import BeautifulSoup"
   ]
  },
  {
   "cell_type": "markdown",
   "metadata": {},
   "source": [
    "### Step 5-2 Fetch the HTML file\n",
    "- Pick any website from the web that you want to extract. \n",
    "- Let’s pick Wikipedia for this example."
   ]
  },
  {
   "cell_type": "code",
   "execution_count": 115,
   "metadata": {
    "scrolled": true
   },
   "outputs": [
    {
     "name": "stdout",
     "output_type": "stream",
     "text": [
      "200\n"
     ]
    },
    {
     "data": {
      "text/plain": [
       "'<!DOCTYPE html>\\n<html class=\"client-nojs\" lang=\"en\" dir=\"ltr\">\\n<head>\\n<meta charset=\"UTF-8\"/>\\n<title>Natural language processing - Wikipedia</title>\\n<script>document.documentElement.className=\"client-js\";RLCONF={\"wgBreakFrames\":!1,\"wgSeparatorTransformTable\":[\"\",\"\"],\"wgDigitTransformTable\":[\"\",\"\"],\"wgDefaultDateFormat\":\"dmy\",\"wgMonthNames\":[\"\",\"January\",\"February\",\"March\",\"April\",\"May\",\"June\",\"July\",\"August\",\"September\",\"October\",\"November\",\"December\"],\"wgMonthNamesShort\":[\"\",\"Jan\",\"Feb\",\"Mar\",\"Apr\",\"May\",\"Jun\",\"Jul\",\"Aug\",\"Sep\",\"Oct\",\"Nov\",\"Dec\"],\"wgRequestId\":\"XiVQkwpAMFoAALpTKXUAAAAG\",\"wgCSPNonce\":!1,\"wgCanonicalNamespace\":\"\",\"wgCanonicalSpecialPageName\":!1,\"wgNamespaceNumber\":0,\"wgPageName\":\"Natural_language_processing\",\"wgTitle\":\"Natural language processing\",\"wgCurRevisionId\":934178090,\"wgRevisionId\":934178090,\"wgArticleId\":21652,\"wgIsArticle\":!0,\"wgIsRedirect\":!1,\"wgAction\":\"view\",\"wgUserName\":null,\"wgUserGroups\":[\"*\"],\"wgCategories\":[\"Webarchive template wayback links\",\"Wikipedia articles needing clarification from October 2019\",\"All accuracy disputes\",\"Articles with disputed statements from June 2018\",\\n\"Wikipedia articles with LCCN identifiers\",\"Wikipedia articles with NDL identifiers\",\"Natural language processing\",\"Computational linguistics\",\"Speech recognition\",\"Computational fields of study\",\"Artificial intelligence\"],\"wgPageContentLanguage\":\"en\",\"wgPageContentModel\":\"wikitext\",\"wgRelevantPageName\":\"Natural_language_processing\",\"wgRelevantArticleId\":21652,\"wgIsProbablyEditable\":!0,\"wgRelevantPageIsProbablyEditable\":!0,\"wgRestrictionEdit\":[],\"wgRestrictionMove\":[],\"wgMediaViewerOnClick\":!0,\"wgMediaViewerEnabledByDefault\":!0,\"wgPopupsReferencePreviews\":!1,\"wgPopupsConflictsWithNavPopupGadget\":!1,\"wgVisualEditor\":{\"pageLanguageCode\":\"en\",\"pageLanguageDir\":\"ltr\",\"pageVariantFallbacks\":\"en\"},\"wgMFDisplayWikibaseDescriptions\":{\"search\":!0,\"nearby\":!0,\"watchlist\":!0,\"tagline\":!1},\"wgWMESchemaEditAttemptStepOversample\":!1,\"wgULSCurrentAutonym\":\"English\",\"wgNoticeProject\":\"wikipedia\",\"wgWikibaseItemId\":\"Q30642\",\"wgCentralAuthMobileDomain\":!1,\\n\"wgEditSubmitButtonLabelPublish\":!0};RLSTATE={\"ext.globalCssJs.user.styles\":\"ready\",\"site.styles\":\"ready\",\"noscript\":\"ready\",\"user.styles\":\"ready\",\"ext.globalCssJs.user\":\"ready\",\"user\":\"ready\",\"user.options\":\"ready\",\"user.tokens\":\"loading\",\"ext.cite.styles\":\"ready\",\"mediawiki.legacy.shared\":\"ready\",\"mediawiki.legacy.commonPrint\":\"ready\",\"jquery.makeCollapsible.styles\":\"ready\",\"mediawiki.toc.styles\":\"ready\",\"mediawiki.skinning.interface\":\"ready\",\"skins.vector.styles\":\"ready\",\"wikibase.client.init\":\"ready\",\"ext.visualEditor.desktopArticleTarget.noscript\":\"ready\",\"ext.uls.interlanguage\":\"ready\",\"ext.wikimediaBadges\":\"ready\"};RLPAGEMODULES=[\"ext.cite.ux-enhancements\",\"site\",\"mediawiki.page.startup\",\"skins.vector.js\",\"mediawiki.page.ready\",\"jquery.makeCollapsible\",\"mediawiki.toc\",\"ext.gadget.ReferenceTooltips\",\"ext.gadget.watchlist-notice\",\"ext.gadget.DRN-wizard\",\"ext.gadget.charinsert\",\"ext.gadget.refToolbar\",\"ext.gadget.extra-toolbar-buttons\",\"ext.gadget.switcher\",\\n\"ext.centralauth.centralautologin\",\"mmv.head\",\"mmv.bootstrap.autostart\",\"ext.popups\",\"ext.visualEditor.desktopArticleTarget.init\",\"ext.visualEditor.targetLoader\",\"ext.eventLogging\",\"ext.wikimediaEvents\",\"ext.navigationTiming\",\"ext.uls.compactlinks\",\"ext.uls.interface\",\"ext.cx.eventlogging.campaigns\",\"ext.quicksurveys.init\",\"ext.centralNotice.geoIP\",\"ext.centralNotice.startUp\"];</script>\\n<script>(RLQ=window.RLQ||[]).push(function(){mw.loader.implement(\"user.tokens@tffin\",function($,jQuery,require,module){/*@nomin*/mw.user.tokens.set({\"patrolToken\":\"+\\\\\\\\\",\"watchToken\":\"+\\\\\\\\\",\"csrfToken\":\"+\\\\\\\\\"});\\n});});</script>\\n<link rel=\"stylesheet\" href=\"/w/load.php?lang=en&amp;modules=ext.cite.styles%7Cext.uls.interlanguage%7Cext.visualEditor.desktopArticleTarget.noscript%7Cext.wikimediaBadges%7Cjquery.makeCollapsible.styles%7Cmediawiki.legacy.commonPrint%2Cshared%7Cmediawiki.skinning.interface%7Cmediawiki.toc.styles%7Cskins.vector.styles%7Cwikibase.client.init&amp;only=styles&amp;skin=vector\"/>\\n<script async=\"\" src=\"/w/load.php?lang=en&amp;modules=startup&amp;only=scripts&amp;raw=1&amp;skin=vector\"></script>\\n<meta name=\"ResourceLoaderDynamicStyles\" content=\"\"/>\\n<link rel=\"stylesheet\" href=\"/w/load.php?lang=en&amp;modules=site.styles&amp;only=styles&amp;skin=vector\"/>\\n<meta name=\"generator\" content=\"MediaWiki 1.35.0-wmf.15\"/>\\n<meta name=\"referrer\" content=\"origin\"/>\\n<meta name=\"referrer\" content=\"origin-when-crossorigin\"/>\\n<meta name=\"referrer\" content=\"origin-when-cross-origin\"/>\\n<meta property=\"og:image\" content=\"https://upload.wikimedia.org/wikipedia/commons/8/8b/Automated_online_assistant.png\"/>\\n<link rel=\"alternate\" href=\"android-app://org.wikipedia/http/en.m.wikipedia.org/wiki/Natural_language_processing\"/>\\n<link rel=\"alternate\" type=\"application/x-wiki\" title=\"Edit this page\" href=\"/w/index.php?title=Natural_language_processing&amp;action=edit\"/>\\n<link rel=\"edit\" title=\"Edit this page\" href=\"/w/index.php?title=Natural_language_processing&amp;action=edit\"/>\\n<link rel=\"apple-touch-icon\" href=\"/static/apple-touch/wikipedia.png\"/>\\n<link rel=\"shortcut icon\" href=\"/static/favicon/wikipedia.ico\"/>\\n<link rel=\"search\" type=\"application/opensearchdescription+xml\" href=\"/w/opensearch_desc.php\" title=\"Wikipedia (en)\"/>\\n<link rel=\"EditURI\" type=\"application/rsd+xml\" href=\"//en.wikipedia.org/w/api.php?action=rsd\"/>\\n<link rel=\"license\" href=\"//creativecommons.org/licenses/by-sa/3.0/\"/>\\n<link rel=\"canonical\" href=\"https://en.wikipedia.org/wiki/Natural_language_processing\"/>\\n<link rel=\"dns-prefetch\" href=\"//login.wikimedia.org\"/>\\n<link rel=\"dns-prefetch\" href=\"//meta.wikimedia.org\" />\\n<!--[if lt IE 9]><script src=\"/w/resources/lib/html5shiv/html5shiv.js\"></script><![endif]-->\\n</head>\\n<body class=\"mediawiki ltr sitedir-ltr mw-hide-empty-elt ns-0 ns-subject mw-editable page-Natural_language_processing rootpage-Natural_language_processing skin-vector action-view\">\\n<div id=\"mw-page-base\" class=\"noprint\"></div>\\n<div id=\"mw-head-base\" class=\"noprint\"></div>\\n<div id=\"content\" class=\"mw-body\" role=\"main\">\\n\\t<a id=\"top\"></a>\\n\\t<div id=\"siteNotice\" class=\"mw-body-content\"><!-- CentralNotice --></div>\\n\\t<div class=\"mw-indicators mw-body-content\">\\n</div>\\n\\n\\t<h1 id=\"firstHeading\" class=\"firstHeading\" lang=\"en\">Natural language processing</h1>\\n\\t\\n\\t<div id=\"bodyContent\" class=\"mw-body-content\">\\n\\t\\t<div id=\"siteSub\" class=\"noprint\">From Wikipedia, the free encyclopedia</div>\\n\\t\\t<div id=\"contentSub\"></div>\\n\\t\\t\\n\\t\\t\\n\\t\\t\\n\\t\\t<div id=\"jump-to-nav\"></div>\\n\\t\\t<a class=\"mw-jump-link\" href=\"#mw-head\">Jump to navigation</a>\\n\\t\\t<a class=\"mw-jump-link\" href=\"#p-search\">Jump to search</a>\\n\\t\\t<div id=\"mw-content-text\" lang=\"en\" dir=\"ltr\" class=\"mw-content-ltr\"><div class=\"mw-parser-output\"><div role=\"note\" class=\"hatnote navigation-not-searchable\">Not to be confused with <a href=\"/wiki/Nonlinear_programming\" title=\"Nonlinear programming\">Nonlinear programming</a>.</div><div class=\"thumb tright\"><div class=\"thumbinner\" style=\"width:202px;\"><a href=\"/wiki/File:Automated_online_assistant.png\" class=\"image\"><img alt=\"\" src=\"//upload.wikimedia.org/wikipedia/commons/thumb/8/8b/Automated_online_assistant.png/200px-Automated_online_assistant.png\" decoding=\"async\" width=\"200\" height=\"251\" class=\"thumbimage\" srcset=\"//upload.wikimedia.org/wikipedia/commons/thumb/8/8b/Automated_online_assistant.png/300px-Automated_online_assistant.png 1.5x, //upload.wikimedia.org/wikipedia/commons/8/8b/Automated_online_assistant.png 2x\" data-file-width=\"400\" data-file-height=\"501\" /></a>  <div class=\"thumbcaption\"><div class=\"magnify\"><a href=\"/wiki/File:Automated_online_assistant.png\" class=\"internal\" title=\"Enlarge\"></a></div>An <a href=\"/wiki/Automated_online_assistant\" class=\"mw-redirect\" title=\"Automated online assistant\">automated online assistant</a> providing <a href=\"/wiki/Customer_service\" title=\"Customer service\">customer service</a> on a web page, an example of an application where natural language processing is a major component.<sup id=\"cite_ref-Kongthon_1-0\" class=\"reference\"><a href=\"#cite_note-Kongthon-1\">&#91;1&#93;</a></sup></div></div></div>\\n<p><b>Natural language processing</b> (<b>NLP</b>) is a subfield of <a href=\"/wiki/Linguistics\" title=\"Linguistics\">linguistics</a>, <a href=\"/wiki/Computer_science\" title=\"Computer science\">computer science</a>, <a href=\"/wiki/Information_engineering_(field)\" title=\"Information engineering (field)\">information engineering</a>, and <a href=\"/wiki/Artificial_intelligence\" title=\"Artificial intelligence\">artificial intelligence</a> concerned with the interactions between computers and human (natural) languages, in particular how to program computers to process and analyze large amounts of <a href=\"/wiki/Natural_language\" title=\"Natural language\">natural language</a> data.\\n</p><p>Challenges in natural language processing frequently involve <a href=\"/wiki/Speech_recognition\" title=\"Speech recognition\">speech recognition</a>, <a href=\"/wiki/Natural_language_understanding\" class=\"mw-redirect\" title=\"Natural language understanding\">natural language understanding</a>, and <a href=\"/wiki/Natural_language_generation\" class=\"mw-redirect\" title=\"Natural language generation\">natural language generation</a>.\\n</p>\\n<div id=\"toc\" class=\"toc\"><input type=\"checkbox\" role=\"button\" id=\"toctogglecheckbox\" class=\"toctogglecheckbox\" style=\"display:none\" /><div class=\"toctitle\" lang=\"en\" dir=\"ltr\"><h2>Contents</h2><span class=\"toctogglespan\"><label class=\"toctogglelabel\" for=\"toctogglecheckbox\"></label></span></div>\\n<ul>\\n<li class=\"toclevel-1 tocsection-1\"><a href=\"#History\"><span class=\"tocnumber\">1</span> <span class=\"toctext\">History</span></a></li>\\n<li class=\"toclevel-1 tocsection-2\"><a href=\"#Rule-based_vs._statistical_NLP\"><span class=\"tocnumber\">2</span> <span class=\"toctext\">Rule-based vs. statistical NLP</span></a></li>\\n<li class=\"toclevel-1 tocsection-3\"><a href=\"#Major_evaluations_and_tasks\"><span class=\"tocnumber\">3</span> <span class=\"toctext\">Major evaluations and tasks</span></a>\\n<ul>\\n<li class=\"toclevel-2 tocsection-4\"><a href=\"#Syntax\"><span class=\"tocnumber\">3.1</span> <span class=\"toctext\">Syntax</span></a></li>\\n<li class=\"toclevel-2 tocsection-5\"><a href=\"#Semantics\"><span class=\"tocnumber\">3.2</span> <span class=\"toctext\">Semantics</span></a></li>\\n<li class=\"toclevel-2 tocsection-6\"><a href=\"#Discourse\"><span class=\"tocnumber\">3.3</span> <span class=\"toctext\">Discourse</span></a></li>\\n<li class=\"toclevel-2 tocsection-7\"><a href=\"#Speech\"><span class=\"tocnumber\">3.4</span> <span class=\"toctext\">Speech</span></a></li>\\n<li class=\"toclevel-2 tocsection-8\"><a href=\"#Dialogue\"><span class=\"tocnumber\">3.5</span> <span class=\"toctext\">Dialogue</span></a></li>\\n</ul>\\n</li>\\n<li class=\"toclevel-1 tocsection-9\"><a href=\"#See_also\"><span class=\"tocnumber\">4</span> <span class=\"toctext\">See also</span></a></li>\\n<li class=\"toclevel-1 tocsection-10\"><a href=\"#References\"><span class=\"tocnumber\">5</span> <span class=\"toctext\">References</span></a></li>\\n<li class=\"toclevel-1 tocsection-11\"><a href=\"#Further_reading\"><span class=\"tocnumber\">6</span> <span class=\"toctext\">Further reading</span></a></li>\\n</ul>\\n</div>\\n\\n<h2><span class=\"mw-headline\" id=\"History\">History</span><span class=\"mw-editsection\"><span class=\"mw-editsection-bracket\">[</span><a href=\"/w/index.php?title=Natural_language_processing&amp;action=edit&amp;section=1\" title=\"Edit section: History\">edit</a><span class=\"mw-editsection-bracket\">]</span></span></h2>\\n<p>The <a href=\"/wiki/History_of_natural_language_processing\" title=\"History of natural language processing\">history of natural language processing</a> (NLP) generally started in the 1950s, although work can be found from earlier periods.\\nIn 1950, <a href=\"/wiki/Alan_Turing\" title=\"Alan Turing\">Alan Turing</a> published an article titled \"<a href=\"/wiki/Computing_Machinery_and_Intelligence\" title=\"Computing Machinery and Intelligence\">Computing Machinery and Intelligence</a>\" which proposed what is now called the <a href=\"/wiki/Turing_test\" title=\"Turing test\">Turing test</a> as a criterion of intelligence<sup class=\"noprint Inline-Template\" style=\"margin-left:0.1em; white-space:nowrap;\">&#91;<i><a href=\"/wiki/Wikipedia:Please_clarify\" title=\"Wikipedia:Please clarify\"><span title=\"What is the relationship between the Turing test and NLP? (October 2019)\">clarification needed</span></a></i>&#93;</sup>.\\n</p><p>The <a href=\"/wiki/Georgetown-IBM_experiment\" class=\"mw-redirect\" title=\"Georgetown-IBM experiment\">Georgetown experiment</a> in 1954 involved fully <a href=\"/wiki/Automatic_translation\" class=\"mw-redirect\" title=\"Automatic translation\">automatic translation</a> of more than sixty Russian sentences into English. The authors claimed that within three or five years, machine translation would be a solved problem.<sup id=\"cite_ref-2\" class=\"reference\"><a href=\"#cite_note-2\">&#91;2&#93;</a></sup>  However, real progress was much slower, and after the <a href=\"/wiki/ALPAC\" title=\"ALPAC\">ALPAC report</a> in 1966, which found that ten-year-long research had failed to fulfill the expectations, funding for machine translation was dramatically reduced.  Little further research in machine translation was conducted until the late 1980s when the first <a href=\"/wiki/Statistical_machine_translation\" title=\"Statistical machine translation\">statistical machine translation</a> systems were developed.\\n</p><p>Some notably successful natural language processing systems developed in the 1960s were <a href=\"/wiki/SHRDLU\" title=\"SHRDLU\">SHRDLU</a>, a natural language system working in restricted \"<a href=\"/wiki/Blocks_world\" title=\"Blocks world\">blocks worlds</a>\" with restricted vocabularies, and <a href=\"/wiki/ELIZA\" title=\"ELIZA\">ELIZA</a>, a simulation of a <a href=\"/wiki/Rogerian_psychotherapy\" class=\"mw-redirect\" title=\"Rogerian psychotherapy\">Rogerian psychotherapist</a>, written by <a href=\"/wiki/Joseph_Weizenbaum\" title=\"Joseph Weizenbaum\">Joseph Weizenbaum</a> between 1964 and 1966.  Using almost no information about human thought or emotion, ELIZA sometimes provided a startlingly human-like interaction. When the \"patient\" exceeded the very small knowledge base, ELIZA might provide a generic response, for example, responding to \"My head hurts\" with \"Why do you say your head hurts?\".\\n</p><p>During the 1970s, many programmers began to write \"conceptual <a href=\"/wiki/Ontology_(information_science)\" title=\"Ontology (information science)\">ontologies</a>\", which structured real-world information into computer-understandable data.  Examples are MARGIE (Schank, 1975), SAM (Cullingford, 1978), PAM (Wilensky, 1978), TaleSpin (Meehan, 1976), QUALM (Lehnert, 1977), Politics (Carbonell, 1979), and Plot Units (Lehnert 1981).  During this time, many <a href=\"/wiki/Chatterbots\" class=\"mw-redirect\" title=\"Chatterbots\">chatterbots</a> were written including <a href=\"/wiki/PARRY\" title=\"PARRY\">PARRY</a>, <a href=\"/wiki/Racter\" title=\"Racter\">Racter</a>, and <a href=\"/wiki/Jabberwacky\" title=\"Jabberwacky\">Jabberwacky</a>.\\n</p><p>Up to the 1980s, most natural language processing systems were based on complex sets of hand-written rules.  Starting in the late 1980s, however, there was a revolution in natural language processing with the introduction of <a href=\"/wiki/Machine_learning\" title=\"Machine learning\">machine learning</a> algorithms for language processing.  This was due to both the steady increase in computational power (see <a href=\"/wiki/Moore%27s_law\" title=\"Moore&#39;s law\">Moore\\'s law</a>) and the gradual lessening of the dominance of <a href=\"/wiki/Noam_Chomsky\" title=\"Noam Chomsky\">Chomskyan</a> theories of linguistics (e.g. <a href=\"/wiki/Transformational_grammar\" title=\"Transformational grammar\">transformational grammar</a>), whose theoretical underpinnings discouraged the sort of <a href=\"/wiki/Corpus_linguistics\" title=\"Corpus linguistics\">corpus linguistics</a> that underlies the machine-learning approach to language processing.<sup id=\"cite_ref-3\" class=\"reference\"><a href=\"#cite_note-3\">&#91;3&#93;</a></sup> Some of the earliest-used machine learning algorithms, such as <a href=\"/wiki/Decision_tree\" title=\"Decision tree\">decision trees</a>, produced systems of hard if-then rules similar to existing hand-written rules.  However, <a href=\"/wiki/Part_of_speech_tagging\" class=\"mw-redirect\" title=\"Part of speech tagging\">part-of-speech tagging</a> introduced the use of <a href=\"/wiki/Hidden_Markov_models\" class=\"mw-redirect\" title=\"Hidden Markov models\">hidden Markov models</a> to natural language processing, and increasingly, research has focused on <a href=\"/wiki/Statistical_models\" class=\"mw-redirect\" title=\"Statistical models\">statistical models</a>, which make soft, <a href=\"/wiki/Probabilistic\" class=\"mw-redirect\" title=\"Probabilistic\">probabilistic</a> decisions based on attaching <a href=\"/wiki/Real-valued\" class=\"mw-redirect\" title=\"Real-valued\">real-valued</a> weights to the features making up the input data. The <a href=\"/wiki/Cache_language_model\" title=\"Cache language model\">cache language models</a> upon which many <a href=\"/wiki/Speech_recognition\" title=\"Speech recognition\">speech recognition</a> systems now rely are examples of such statistical models.  Such models are generally more robust when given unfamiliar input, especially input that contains errors (as is very common for real-world data), and produce more reliable results when integrated into a larger system comprising multiple subtasks.\\n</p><p>Many of the notable early successes occurred in the field of <a href=\"/wiki/Machine_translation\" title=\"Machine translation\">machine translation</a>, due especially to work at IBM Research, where successively more complicated statistical models were developed.  These systems were able to take advantage of existing multilingual <a href=\"/wiki/Text_corpus\" title=\"Text corpus\">textual corpora</a> that had been produced by the <a href=\"/wiki/Parliament_of_Canada\" title=\"Parliament of Canada\">Parliament of Canada</a> and the <a href=\"/wiki/European_Union\" title=\"European Union\">European Union</a> as a result of laws calling for the translation of all governmental proceedings into all official languages of the corresponding systems of government.  However, most other systems depended on corpora specifically developed for the tasks implemented by these systems, which was (and often continues to be) a major limitation in the success of these systems. As a result, a great deal of research has gone into methods of more effectively learning from limited amounts of data.\\n</p><p>Recent research has increasingly focused on <a href=\"/wiki/Unsupervised_learning\" title=\"Unsupervised learning\">unsupervised</a> and <a href=\"/wiki/Semi-supervised_learning\" title=\"Semi-supervised learning\">semi-supervised learning</a> algorithms.  Such algorithms can learn from data that has not been hand-annotated with the desired answers or using a combination of annotated and non-annotated data.  Generally, this task is much more difficult than <a href=\"/wiki/Supervised_learning\" title=\"Supervised learning\">supervised learning</a>, and typically produces less accurate results for a given amount of input data.  However, there is an enormous amount of non-annotated data available (including, among other things, the entire content of the <a href=\"/wiki/World_Wide_Web\" title=\"World Wide Web\">World Wide Web</a>), which can often make up for the inferior results if the algorithm used has a low enough <a href=\"/wiki/Time_complexity\" title=\"Time complexity\">time complexity</a> to be practical.\\n</p><p>In the 2010s, <a href=\"/wiki/Representation_learning\" class=\"mw-redirect\" title=\"Representation learning\">representation learning</a> and <a href=\"/wiki/Deep_learning\" title=\"Deep learning\">deep neural network</a>-style machine learning methods became widespread in natural language processing, due in part to a flurry of results showing that such techniques<sup id=\"cite_ref-goldberg:nnlp17_4-0\" class=\"reference\"><a href=\"#cite_note-goldberg:nnlp17-4\">&#91;4&#93;</a></sup><sup id=\"cite_ref-goodfellow:book16_5-0\" class=\"reference\"><a href=\"#cite_note-goodfellow:book16-5\">&#91;5&#93;</a></sup> can achieve state-of-the-art results in many natural language tasks, for example in language modeling,<sup id=\"cite_ref-jozefowicz:lm16_6-0\" class=\"reference\"><a href=\"#cite_note-jozefowicz:lm16-6\">&#91;6&#93;</a></sup>\\nparsing,<sup id=\"cite_ref-choe:emnlp16_7-0\" class=\"reference\"><a href=\"#cite_note-choe:emnlp16-7\">&#91;7&#93;</a></sup><sup id=\"cite_ref-vinyals:nips15_8-0\" class=\"reference\"><a href=\"#cite_note-vinyals:nips15-8\">&#91;8&#93;</a></sup> and many others. Popular techniques include the use of <a href=\"/wiki/Word_embedding\" title=\"Word embedding\">word embeddings</a> to capture semantic properties of words, and an increase in end-to-end learning of a higher-level task (e.g., question answering) instead of relying on a pipeline of separate intermediate tasks (e.g., part-of-speech tagging and dependency parsing). In some areas, this shift has entailed substantial changes in how NLP systems are designed, such that deep neural network-based approaches may be viewed as a new paradigm distinct from statistical natural language processing. For instance, the term <i><a href=\"/wiki/Neural_machine_translation\" title=\"Neural machine translation\">neural machine translation</a></i> (NMT) emphasizes the fact that deep learning-based approaches to machine translation directly learn sequence-to-sequence transformations, obviating the need for intermediate steps such as word alignment and language modeling that was used in <a href=\"/wiki/Statistical_machine_translation\" title=\"Statistical machine translation\">statistical machine translation</a> (SMT).\\n</p>\\n<h2><span class=\"mw-headline\" id=\"Rule-based_vs._statistical_NLP\">Rule-based vs. statistical NLP<span id=\"Statistical_natural_language_processing_(SNLP)\"></span></span><span class=\"mw-editsection\"><span class=\"mw-editsection-bracket\">[</span><a href=\"/w/index.php?title=Natural_language_processing&amp;action=edit&amp;section=2\" title=\"Edit section: Rule-based vs. statistical NLP\">edit</a><span class=\"mw-editsection-bracket\">]</span></span></h2>\\n<p>In the early days, many language-processing systems were designed by hand-coding a set of rules:<sup id=\"cite_ref-winograd:shrdlu71_9-0\" class=\"reference\"><a href=\"#cite_note-winograd:shrdlu71-9\">&#91;9&#93;</a></sup><sup id=\"cite_ref-schank77_10-0\" class=\"reference\"><a href=\"#cite_note-schank77-10\">&#91;10&#93;</a></sup> such as by writing grammars or devising heuristic rules for <a href=\"/wiki/Stemming\" title=\"Stemming\">stemming</a>. \\n</p><p>Since the so-called \"statistical revolution\"<sup id=\"cite_ref-johnson:eacl:ilcl09_11-0\" class=\"reference\"><a href=\"#cite_note-johnson:eacl:ilcl09-11\">&#91;11&#93;</a></sup><sup id=\"cite_ref-resnik:langlog11_12-0\" class=\"reference\"><a href=\"#cite_note-resnik:langlog11-12\">&#91;12&#93;</a></sup> in the late 1980s and mid-1990s, much natural language processing research has relied heavily on <a href=\"/wiki/Machine_learning\" title=\"Machine learning\">machine learning</a>. The machine-learning paradigm calls instead for using <a href=\"/wiki/Statistical_inference\" title=\"Statistical inference\">statistical inference</a> to automatically learn such rules through the analysis of large <i><a href=\"/wiki/Text_corpus\" title=\"Text corpus\">corpora</a></i> (the plural form of <i>corpus</i>, is a set of documents, possibly with human or computer annotations) of typical real-world examples.\\n</p><p>Many different classes of machine-learning algorithms have been applied to natural-language-processing tasks. These algorithms take as input a large set of \"features\" that are generated from the input data. Some of the earliest-used algorithms, such as <a href=\"/wiki/Decision_tree\" title=\"Decision tree\">decision trees</a>, produced systems of hard if-then rules similar to the systems of handwritten rules that were then common. Increasingly, however, research has focused on <a href=\"/wiki/Statistical_models\" class=\"mw-redirect\" title=\"Statistical models\">statistical models</a>, which make soft, <a href=\"/wiki/Probabilistic\" class=\"mw-redirect\" title=\"Probabilistic\">probabilistic</a> decisions based on attaching <a href=\"/wiki/Real-valued\" class=\"mw-redirect\" title=\"Real-valued\">real-valued</a> weights to each input feature. Such models have the advantage that they can express the relative certainty of many different possible answers rather than only one, producing more reliable results when such a model is included as a component of a larger system.\\n</p><p>Systems based on machine-learning algorithms have many advantages over hand-produced rules:\\n</p>\\n<ul><li>The learning procedures used during machine learning automatically focus on the most common cases, whereas when writing rules by hand it is often not at all obvious where the effort should be directed.</li>\\n<li>Automatic learning procedures can make use of statistical inference algorithms to produce models that are robust to unfamiliar input (e.g. containing words or structures that have not been seen before) and to erroneous input (e.g. with misspelled words or words accidentally omitted). Generally, handling such input gracefully with handwritten rules, or, more generally, creating systems of handwritten rules that make soft decisions, is extremely difficult, error-prone and time-consuming.</li>\\n<li>Systems based on automatically learning the rules can be made more accurate simply by supplying more input data. However, systems based on handwritten rules can only be made more accurate by increasing the complexity of the rules, which is a much more difficult task. In particular, there is a limit to the complexity of systems based on handcrafted rules, beyond which the systems become more and more unmanageable. However, creating more data to input to machine-learning systems simply requires a corresponding increase in the number of man-hours worked, generally without significant increases in the complexity of the annotation process.</li></ul>\\n<h2><span class=\"mw-headline\" id=\"Major_evaluations_and_tasks\">Major evaluations and tasks</span><span class=\"mw-editsection\"><span class=\"mw-editsection-bracket\">[</span><a href=\"/w/index.php?title=Natural_language_processing&amp;action=edit&amp;section=3\" title=\"Edit section: Major evaluations and tasks\">edit</a><span class=\"mw-editsection-bracket\">]</span></span></h2>\\n<p>The following is a list of some of the most commonly researched tasks in natural language processing. Some of these tasks have direct real-world applications, while others more commonly serve as subtasks that are used to aid in solving larger tasks.\\n</p><p>Though natural language processing tasks are closely intertwined, they are frequently subdivided into categories for convenience. A coarse division is given below.\\n</p>\\n<h3><span class=\"mw-headline\" id=\"Syntax\">Syntax</span><span class=\"mw-editsection\"><span class=\"mw-editsection-bracket\">[</span><a href=\"/w/index.php?title=Natural_language_processing&amp;action=edit&amp;section=4\" title=\"Edit section: Syntax\">edit</a><span class=\"mw-editsection-bracket\">]</span></span></h3>\\n<dl><dt><a href=\"/wiki/Grammar_induction\" title=\"Grammar induction\">Grammar induction</a><sup id=\"cite_ref-13\" class=\"reference\"><a href=\"#cite_note-13\">&#91;13&#93;</a></sup></dt>\\n<dd>Generate a <a href=\"/wiki/Formal_grammar\" title=\"Formal grammar\">formal grammar</a> that describes a language\\'s syntax.</dd>\\n<dt><a href=\"/wiki/Lemmatisation\" title=\"Lemmatisation\">Lemmatization</a></dt>\\n<dd>The task of removing inflectional endings only and to return the base dictionary form of a word which is also known as a lemma.</dd>\\n<dt><a href=\"/wiki/Morphology_(linguistics)\" title=\"Morphology (linguistics)\">Morphological segmentation</a></dt>\\n<dd>Separate words into individual <a href=\"/wiki/Morpheme\" title=\"Morpheme\">morphemes</a> and identify the class of the morphemes.  The difficulty of this task depends greatly on the complexity of the <a href=\"/wiki/Morphology_(linguistics)\" title=\"Morphology (linguistics)\">morphology</a> (i.e. the structure of words) of the language being considered. <a href=\"/wiki/English_language\" title=\"English language\">English</a> has fairly simple morphology, especially <a href=\"/wiki/Inflectional_morphology\" class=\"mw-redirect\" title=\"Inflectional morphology\">inflectional morphology</a>, and thus it is often possible to ignore this task entirely and simply model all possible forms of a word (e.g. \"open, opens, opened, opening\") as separate words.  In languages such as <a href=\"/wiki/Turkish_language\" title=\"Turkish language\">Turkish</a> or <a href=\"/wiki/Meitei_language\" title=\"Meitei language\">Meitei</a>,<sup id=\"cite_ref-14\" class=\"reference\"><a href=\"#cite_note-14\">&#91;14&#93;</a></sup> a highly <a href=\"/wiki/Agglutination\" title=\"Agglutination\">agglutinated</a> Indian language, however, such an approach is not possible, as each dictionary entry has thousands of possible word forms.</dd>\\n<dt><a href=\"/wiki/Part-of-speech_tagging\" title=\"Part-of-speech tagging\">Part-of-speech tagging</a></dt>\\n<dd>Given a sentence, determine the <a href=\"/wiki/Part_of_speech\" title=\"Part of speech\">part of speech</a> (<b>POS</b>) for each word.  Many words, especially common ones, can serve as multiple <a href=\"/wiki/Parts_of_speech\" class=\"mw-redirect\" title=\"Parts of speech\">parts of speech</a>.  For example, \"book\" can be a <a href=\"/wiki/Noun\" title=\"Noun\">noun</a> (\"the book on the table\") or <a href=\"/wiki/Verb\" title=\"Verb\">verb</a> (\"to book a flight\"); \"set\" can be a <a href=\"/wiki/Noun\" title=\"Noun\">noun</a>, <a href=\"/wiki/Verb\" title=\"Verb\">verb</a> or <a href=\"/wiki/Adjective\" title=\"Adjective\">adjective</a>; and \"out\" can be any of at least five different parts of speech.  Some languages have more such ambiguity than others.<sup class=\"noprint Inline-Template\" style=\"white-space:nowrap;\">&#91;<i><a href=\"/wiki/Wikipedia:Accuracy_dispute#Disputed_statement\" title=\"Wikipedia:Accuracy dispute\"><span title=\"The material near this tag is possibly inaccurate or nonfactual. (June 2018)\">dubious</span></a>&#32;<span class=\"metadata\"> &#8211; <a href=\"/wiki/Talk:Natural_language_processing#Dubious\" title=\"Talk:Natural language processing\">discuss</a></span></i>&#93;</sup>  Languages with little <a href=\"/wiki/Inflectional_morphology\" class=\"mw-redirect\" title=\"Inflectional morphology\">inflectional morphology</a>, such as <a href=\"/wiki/English_language\" title=\"English language\">English</a>, are particularly prone to such ambiguity. <a href=\"/wiki/Chinese_language\" title=\"Chinese language\">Chinese</a> is prone to such ambiguity because it is a <a href=\"/wiki/Tonal_language\" class=\"mw-redirect\" title=\"Tonal language\">tonal language</a> during verbalization. Such inflection is not readily conveyed via the entities employed within the orthography to convey the intended meaning.</dd>\\n<dt><a href=\"/wiki/Parsing\" title=\"Parsing\">Parsing</a></dt>\\n<dd>Determine the <a href=\"/wiki/Parse_tree\" title=\"Parse tree\">parse tree</a> (grammatical analysis) of a given sentence.  The <a href=\"/wiki/Grammar\" title=\"Grammar\">grammar</a> for <a href=\"/wiki/Natural_language\" title=\"Natural language\">natural languages</a> is <a href=\"/wiki/Ambiguous\" class=\"mw-redirect\" title=\"Ambiguous\">ambiguous</a> and typical sentences have multiple possible analyses.  Perhaps surprisingly, for a typical sentence, there may be thousands of potential parses (most of which will seem completely nonsensical to a human). There are two primary types of parsing, Dependency Parsing, and Constituency Parsing. Dependency Parsing focuses on the relationships between words in a sentence (marking things like Primary Objects and predicates), whereas Constituency Parsing focuses on building out the Parse Tree using a <a href=\"/wiki/Probabilistic_context-free_grammar\" title=\"Probabilistic context-free grammar\">Probabilistic Context-Free Grammar</a> (PCFG). See also: <a href=\"/wiki/Stochastic_grammar\" title=\"Stochastic grammar\">Stochastic grammar</a>.</dd>\\n<dt><a href=\"/wiki/Sentence_breaking\" class=\"mw-redirect\" title=\"Sentence breaking\">Sentence breaking</a> (also known as <a href=\"/wiki/Sentence_boundary_disambiguation\" title=\"Sentence boundary disambiguation\">sentence boundary disambiguation</a>)</dt>\\n<dd>Given a chunk of text, find the sentence boundaries.  Sentence boundaries are often marked by <a href=\"/wiki/Full_stop\" title=\"Full stop\">periods</a> or other <a href=\"/wiki/Punctuation_mark\" class=\"mw-redirect\" title=\"Punctuation mark\">punctuation marks</a>, but these same characters can serve other purposes (e.g. marking <a href=\"/wiki/Abbreviation\" title=\"Abbreviation\">abbreviations</a>).</dd>\\n<dt><a href=\"/wiki/Stemming\" title=\"Stemming\">Stemming</a></dt>\\n<dd>The process of reducing inflected (or sometimes derived) words to their root form. (e.g. \"close\" will be the root for \"closed\", \"closing\", \"close\", \"closer\" etc.).</dd>\\n<dt><a href=\"/wiki/Word_segmentation\" class=\"mw-redirect\" title=\"Word segmentation\">Word segmentation</a></dt>\\n<dd>Separate a chunk of continuous text into separate words.  For a language like <a href=\"/wiki/English_language\" title=\"English language\">English</a>, this is fairly trivial, since words are usually separated by spaces.  However, some written languages like <a href=\"/wiki/Chinese_language\" title=\"Chinese language\">Chinese</a>, <a href=\"/wiki/Japanese_language\" title=\"Japanese language\">Japanese</a> and <a href=\"/wiki/Thai_language\" title=\"Thai language\">Thai</a> do not mark word boundaries in such a fashion, and in those languages text segmentation is a significant task requiring knowledge of the <a href=\"/wiki/Vocabulary\" title=\"Vocabulary\">vocabulary</a> and <a href=\"/wiki/Morphology_(linguistics)\" title=\"Morphology (linguistics)\">morphology</a> of words in the language. Sometimes this process is also used in cases like Bag of Words (BOW) creation in data mining.</dd>\\n<dt><a href=\"/wiki/Terminology_extraction\" title=\"Terminology extraction\">Terminology extraction</a></dt>\\n<dd>The goal of terminology extraction is to automatically extract relevant terms from a given corpus.</dd></dl>\\n<h3><span class=\"mw-headline\" id=\"Semantics\">Semantics</span><span class=\"mw-editsection\"><span class=\"mw-editsection-bracket\">[</span><a href=\"/w/index.php?title=Natural_language_processing&amp;action=edit&amp;section=5\" title=\"Edit section: Semantics\">edit</a><span class=\"mw-editsection-bracket\">]</span></span></h3>\\n<dl><dt><a href=\"/wiki/Lexical_semantics\" title=\"Lexical semantics\">Lexical semantics</a></dt>\\n<dd>What is the computational meaning of individual words in context?</dd>\\n<dt><a href=\"/wiki/Distributional_semantics\" title=\"Distributional semantics\">Distributional semantics</a></dt>\\n<dd>How can we learn semantic representations from data?</dd>\\n<dt><a href=\"/wiki/Machine_translation\" title=\"Machine translation\">Machine translation</a></dt>\\n<dd>Automatically translate text from one human language to another.  This is one of the most difficult problems, and is a member of a class of problems colloquially termed \"<a href=\"/wiki/AI-complete\" title=\"AI-complete\">AI-complete</a>\", i.e. requiring all of the different types of knowledge that humans possess (grammar, semantics, facts about the real world, etc.) to solve properly.</dd>\\n<dt><a href=\"/wiki/Named_entity_recognition\" class=\"mw-redirect\" title=\"Named entity recognition\">Named entity recognition</a> (NER)</dt>\\n<dd>Given a stream of text, determine which items in the text map to proper names, such as people or places, and what the type of each such name is (e.g. person, location, organization). Although <a href=\"/wiki/Capitalization\" title=\"Capitalization\">capitalization</a> can aid in recognizing named entities in languages such as English, this information cannot aid in determining the type of named entity, and in any case, is often inaccurate or insufficient.  For example, the first letter of a sentence is also capitalized, and named entities often span several words, only some of which are capitalized.  Furthermore, many other languages in non-Western scripts (e.g. <a href=\"/wiki/Chinese_language\" title=\"Chinese language\">Chinese</a> or <a href=\"/wiki/Arabic_language\" class=\"mw-redirect\" title=\"Arabic language\">Arabic</a>) do not have any capitalization at all, and even languages with capitalization may not consistently use it to distinguish names. For example, <a href=\"/wiki/German_language\" title=\"German language\">German</a> capitalizes all <a href=\"/wiki/Noun\" title=\"Noun\">nouns</a>, regardless of whether they are names, and <a href=\"/wiki/French_language\" title=\"French language\">French</a> and <a href=\"/wiki/Spanish_language\" title=\"Spanish language\">Spanish</a> do not capitalize names that serve as <a href=\"/wiki/Adjective\" title=\"Adjective\">adjectives</a>.</dd>\\n<dt><a href=\"/wiki/Natural_language_generation\" class=\"mw-redirect\" title=\"Natural language generation\">Natural language generation</a></dt>\\n<dd>Convert information from computer databases or semantic intents into readable human language.</dd>\\n<dt><a href=\"/wiki/Natural_language_understanding\" class=\"mw-redirect\" title=\"Natural language understanding\">Natural language understanding</a></dt>\\n<dd>Convert chunks of text into more formal representations such as <a href=\"/wiki/First-order_logic\" title=\"First-order logic\">first-order logic</a> structures that are easier for <a href=\"/wiki/Computer\" title=\"Computer\">computer</a> programs to manipulate. Natural language understanding involves the identification of the intended semantic from the multiple possible semantics which can be derived from a natural language expression which usually takes the form of organized notations of natural language concepts. Introduction and creation of language metamodel and ontology are efficient however empirical solutions. An explicit formalization of natural language semantics without confusions with implicit assumptions such as <a href=\"/wiki/Closed-world_assumption\" title=\"Closed-world assumption\">closed-world assumption</a> (CWA) vs. <a href=\"/wiki/Open-world_assumption\" title=\"Open-world assumption\">open-world assumption</a>, or subjective Yes/No vs. objective True/False is expected for the construction of a basis of semantics formalization.<sup id=\"cite_ref-15\" class=\"reference\"><a href=\"#cite_note-15\">&#91;15&#93;</a></sup></dd>\\n<dt><a href=\"/wiki/Optical_character_recognition\" title=\"Optical character recognition\">Optical character recognition</a> (OCR)</dt>\\n<dd>Given an image representing printed text, determine the corresponding text.</dd>\\n<dt><a href=\"/wiki/Question_answering\" title=\"Question answering\">Question answering</a></dt>\\n<dd>Given a human-language question, determine its answer.  Typical questions have a specific right answer (such as \"What is the capital of Canada?\"), but sometimes open-ended questions are also considered (such as \"What is the meaning of life?\"). Recent works have looked at even more complex questions.<sup id=\"cite_ref-16\" class=\"reference\"><a href=\"#cite_note-16\">&#91;16&#93;</a></sup></dd>\\n<dt><a href=\"/wiki/Textual_entailment\" title=\"Textual entailment\">Recognizing Textual entailment</a></dt>\\n<dd>Given two text fragments, determine if one being true entails the other, entails the other\\'s negation, or allows the other to be either true or false.<sup id=\"cite_ref-rte:11_17-0\" class=\"reference\"><a href=\"#cite_note-rte:11-17\">&#91;17&#93;</a></sup></dd>\\n<dt><a href=\"/wiki/Relationship_extraction\" title=\"Relationship extraction\">Relationship extraction</a></dt>\\n<dd>Given a chunk of text, identify the relationships among named entities (e.g. who is married to whom).</dd>\\n<dt><a href=\"/wiki/Sentiment_analysis\" title=\"Sentiment analysis\">Sentiment analysis</a> (see also <a href=\"/wiki/Multimodal_sentiment_analysis\" title=\"Multimodal sentiment analysis\">multimodal sentiment analysis</a>)</dt>\\n<dd>Extract subjective information usually from a set of documents, often using online reviews to determine \"polarity\" about specific objects. It is especially useful for identifying trends of public opinion in social media, for marketing.</dd>\\n<dt><a href=\"/wiki/Topic_segmentation\" class=\"mw-redirect\" title=\"Topic segmentation\">Topic segmentation</a> and recognition</dt>\\n<dd>Given a chunk of text, separate it into segments each of which is devoted to a topic, and identify the topic of the segment.</dd>\\n<dt><a href=\"/wiki/Word_sense_disambiguation\" class=\"mw-redirect\" title=\"Word sense disambiguation\">Word sense disambiguation</a></dt>\\n<dd>Many words have more than one <a href=\"/wiki/Meaning_(linguistics)\" title=\"Meaning (linguistics)\">meaning</a>; we have to select the meaning which makes the most sense in context.  For this problem, we are typically given a list of words and associated word senses, e.g. from a dictionary or an online resource such as <a href=\"/wiki/WordNet\" title=\"WordNet\">WordNet</a>.</dd></dl>\\n<h3><span class=\"mw-headline\" id=\"Discourse\">Discourse</span><span class=\"mw-editsection\"><span class=\"mw-editsection-bracket\">[</span><a href=\"/w/index.php?title=Natural_language_processing&amp;action=edit&amp;section=6\" title=\"Edit section: Discourse\">edit</a><span class=\"mw-editsection-bracket\">]</span></span></h3>\\n<dl><dt><a href=\"/wiki/Automatic_summarization\" title=\"Automatic summarization\">Automatic summarization</a></dt>\\n<dd>Produce a readable summary of a chunk of text.  Often used to provide summaries of the text of a known type, such as research papers, articles in the financial section of a newspaper.</dd>\\n<dt><a href=\"/wiki/Coreference\" title=\"Coreference\">Coreference resolution</a></dt>\\n<dd>Given a sentence or larger chunk of text, determine which words (\"mentions\") refer to the same objects (\"entities\"). <a href=\"/wiki/Anaphora_resolution\" class=\"mw-redirect\" title=\"Anaphora resolution\">Anaphora resolution</a> is a specific example of this task, and is specifically concerned with matching up <a href=\"/wiki/Pronoun\" title=\"Pronoun\">pronouns</a> with the nouns or names to which they refer. The more general task of coreference resolution also includes identifying so-called \"bridging relationships\" involving <a href=\"/wiki/Referring_expression\" title=\"Referring expression\">referring expressions</a>. For example, in a sentence such as \"He entered John\\'s house through the front door\", \"the front door\" is a referring expression and the bridging relationship to be identified is the fact that the door being referred to is the front door of John\\'s house (rather than of some other structure that might also be referred to).</dd>\\n<dt><a href=\"/wiki/Discourse_analysis\" title=\"Discourse analysis\">Discourse analysis</a></dt>\\n<dd>This rubric includes several related tasks.  One task is identifying the <a href=\"/wiki/Discourse\" title=\"Discourse\">discourse</a> structure of a connected text, i.e. the nature of the discourse relationships between sentences (e.g. elaboration, explanation, contrast).  Another possible task is recognizing and classifying the <a href=\"/wiki/Speech_act\" title=\"Speech act\">speech acts</a> in a chunk of text (e.g. yes-no question, content question, statement, assertion, etc.).</dd></dl>\\n<h3><span class=\"mw-headline\" id=\"Speech\">Speech</span><span class=\"mw-editsection\"><span class=\"mw-editsection-bracket\">[</span><a href=\"/w/index.php?title=Natural_language_processing&amp;action=edit&amp;section=7\" title=\"Edit section: Speech\">edit</a><span class=\"mw-editsection-bracket\">]</span></span></h3>\\n<dl><dt><a href=\"/wiki/Speech_recognition\" title=\"Speech recognition\">Speech recognition</a></dt>\\n<dd>Given a sound clip of a person or people speaking, determine the textual representation of the speech.  This is the opposite of <a href=\"/wiki/Text_to_speech\" class=\"mw-redirect\" title=\"Text to speech\">text to speech</a> and is one of the extremely difficult problems colloquially termed \"<a href=\"/wiki/AI-complete\" title=\"AI-complete\">AI-complete</a>\" (see above).  In <a href=\"/wiki/Natural_speech\" class=\"mw-redirect\" title=\"Natural speech\">natural speech</a> there are hardly any pauses between successive words, and thus <a href=\"/wiki/Speech_segmentation\" title=\"Speech segmentation\">speech segmentation</a> is a necessary subtask of speech recognition (see below). In most spoken languages, the sounds representing successive letters blend into each other in a process termed <a href=\"/wiki/Coarticulation\" title=\"Coarticulation\">coarticulation</a>, so the conversion of the <a href=\"/wiki/Analog_signal\" title=\"Analog signal\">analog signal</a> to discrete characters can be a very difficult process. Also, given that words in the same language are spoken by people with different accents, the speech recognition software must be able to recognize the wide variety of input as being identical to each other in terms of its textual equivalent.</dd>\\n<dt><a href=\"/wiki/Speech_segmentation\" title=\"Speech segmentation\">Speech segmentation</a></dt>\\n<dd>Given a sound clip of a person or people speaking, separate it into words.  A subtask of <a href=\"/wiki/Speech_recognition\" title=\"Speech recognition\">speech recognition</a> and typically grouped with it.</dd>\\n<dt><a href=\"/wiki/Text-to-speech\" class=\"mw-redirect\" title=\"Text-to-speech\">Text-to-speech</a></dt>\\n<dd>Given a text, transform those units and produce a spoken representation. Text-to-speech can be used to aid the visually impaired.<sup id=\"cite_ref-18\" class=\"reference\"><a href=\"#cite_note-18\">&#91;18&#93;</a></sup></dd></dl>\\n<h3><span class=\"mw-headline\" id=\"Dialogue\"><a href=\"/wiki/Dialogue\" title=\"Dialogue\">Dialogue</a></span><span class=\"mw-editsection\"><span class=\"mw-editsection-bracket\">[</span><a href=\"/w/index.php?title=Natural_language_processing&amp;action=edit&amp;section=8\" title=\"Edit section: Dialogue\">edit</a><span class=\"mw-editsection-bracket\">]</span></span></h3>\\n<p>The first published work by an artificial intelligence was published in 2018, <i><a href=\"/wiki/1_the_Road\" title=\"1 the Road\">1 the Road</a></i>, marketed as a novel, contains sixty million words.\\n</p>\\n<h2><span class=\"mw-headline\" id=\"See_also\">See also</span><span class=\"mw-editsection\"><span class=\"mw-editsection-bracket\">[</span><a href=\"/w/index.php?title=Natural_language_processing&amp;action=edit&amp;section=9\" title=\"Edit section: See also\">edit</a><span class=\"mw-editsection-bracket\">]</span></span></h2>\\n<div class=\"div-col columns column-width\" style=\"-moz-column-width: 22em; -webkit-column-width: 22em; column-width: 22em;\">\\n<ul><li><i><a href=\"/wiki/1_the_Road\" title=\"1 the Road\">1 the Road</a></i></li>\\n<li><a href=\"/wiki/Automated_essay_scoring\" title=\"Automated essay scoring\">Automated essay scoring</a></li>\\n<li><a href=\"/wiki/Biomedical_text_mining\" title=\"Biomedical text mining\">Biomedical text mining</a></li>\\n<li><a href=\"/wiki/Compound_term_processing\" class=\"mw-redirect\" title=\"Compound term processing\">Compound term processing</a></li>\\n<li><a href=\"/wiki/Computational_linguistics\" title=\"Computational linguistics\">Computational linguistics</a></li>\\n<li><a href=\"/wiki/Computer-assisted_reviewing\" title=\"Computer-assisted reviewing\">Computer-assisted reviewing</a></li>\\n<li><a href=\"/wiki/Controlled_natural_language\" title=\"Controlled natural language\">Controlled natural language</a></li>\\n<li><a href=\"/wiki/Deep_learning\" title=\"Deep learning\">Deep learning</a></li>\\n<li><a href=\"/wiki/Deep_linguistic_processing\" title=\"Deep linguistic processing\">Deep linguistic processing</a></li>\\n<li><a href=\"/wiki/Distributional_semantics\" title=\"Distributional semantics\">Distributional semantics</a></li>\\n<li><a href=\"/wiki/Foreign_language_reading_aid\" class=\"mw-redirect\" title=\"Foreign language reading aid\">Foreign language reading aid</a></li>\\n<li><a href=\"/wiki/Foreign_language_writing_aid\" title=\"Foreign language writing aid\">Foreign language writing aid</a></li>\\n<li><a href=\"/wiki/Information_extraction\" title=\"Information extraction\">Information extraction</a></li>\\n<li><a href=\"/wiki/Information_retrieval\" title=\"Information retrieval\">Information retrieval</a></li>\\n<li><a href=\"/wiki/Language_and_Communication_Technologies\" title=\"Language and Communication Technologies\">Language and Communication Technologies</a></li>\\n<li><a href=\"/wiki/Language_technology\" title=\"Language technology\">Language technology</a></li>\\n<li><a href=\"/wiki/Latent_semantic_indexing\" class=\"mw-redirect\" title=\"Latent semantic indexing\">Latent semantic indexing</a></li>\\n<li><a href=\"/wiki/Native-language_identification\" title=\"Native-language identification\">Native-language identification</a></li>\\n<li><a href=\"/wiki/Natural_language_programming\" class=\"mw-redirect\" title=\"Natural language programming\">Natural language programming</a></li>\\n<li><a href=\"/wiki/Natural_language_user_interface\" class=\"mw-redirect\" title=\"Natural language user interface\">Natural language search</a></li>\\n<li><a href=\"/wiki/Query_expansion\" title=\"Query expansion\">Query expansion</a></li>\\n<li><a href=\"/wiki/Reification_(linguistics)\" title=\"Reification (linguistics)\">Reification (linguistics)</a></li>\\n<li><a href=\"/wiki/Speech_processing\" title=\"Speech processing\">Speech processing</a></li>\\n<li><a href=\"/wiki/Spoken_dialogue_system\" class=\"mw-redirect\" title=\"Spoken dialogue system\">Spoken dialogue system</a></li>\\n<li><a href=\"/wiki/Text-proofing\" class=\"mw-redirect\" title=\"Text-proofing\">Text-proofing</a></li>\\n<li><a href=\"/wiki/Text_simplification\" title=\"Text simplification\">Text simplification</a></li>\\n<li><a href=\"/wiki/Transformer_(machine_learning_model)\" title=\"Transformer (machine learning model)\">Transformer (machine learning model)</a></li>\\n<li><a href=\"/wiki/Truecasing\" title=\"Truecasing\">Truecasing</a></li>\\n<li><a href=\"/wiki/Question_answering\" title=\"Question answering\">Question answering</a></li>\\n<li><a href=\"/wiki/Word2vec\" title=\"Word2vec\">Word2vec</a></li></ul>\\n</div>\\n<h2><span class=\"mw-headline\" id=\"References\">References</span><span class=\"mw-editsection\"><span class=\"mw-editsection-bracket\">[</span><a href=\"/w/index.php?title=Natural_language_processing&amp;action=edit&amp;section=10\" title=\"Edit section: References\">edit</a><span class=\"mw-editsection-bracket\">]</span></span></h2>\\n<div class=\"reflist columns references-column-width\" style=\"-moz-column-width: 30em; -webkit-column-width: 30em; column-width: 30em; list-style-type: decimal;\">\\n<ol class=\"references\">\\n<li id=\"cite_note-Kongthon-1\"><span class=\"mw-cite-backlink\"><b><a href=\"#cite_ref-Kongthon_1-0\">^</a></b></span> <span class=\"reference-text\"><cite class=\"citation conference\">Kongthon, Alisa; Sangkeettrakarn, Chatchawal; Kongyoung, Sarawoot; Haruechaiyasak, Choochart (October 27–30, 2009). <i>Implementing an online help desk system based on conversational agent</i>. MEDES \\'09: The International Conference on Management of Emergent Digital EcoSystems. France: ACM. <a href=\"/wiki/Digital_object_identifier\" title=\"Digital object identifier\">doi</a>:<a rel=\"nofollow\" class=\"external text\" href=\"https://doi.org/10.1145%2F1643823.1643908\">10.1145/1643823.1643908</a>.</cite><span title=\"ctx_ver=Z39.88-2004&amp;rft_val_fmt=info%3Aofi%2Ffmt%3Akev%3Amtx%3Abook&amp;rft.genre=conference&amp;rft.btitle=Implementing+an+online+help+desk+system+based+on+conversational+agent&amp;rft.place=France&amp;rft.pub=ACM&amp;rft.date=2009-10-27%2F2009-10-30&amp;rft_id=info%3Adoi%2F10.1145%2F1643823.1643908&amp;rft.aulast=Kongthon&amp;rft.aufirst=Alisa&amp;rft.au=Sangkeettrakarn%2C+Chatchawal&amp;rft.au=Kongyoung%2C+Sarawoot&amp;rft.au=Haruechaiyasak%2C+Choochart&amp;rfr_id=info%3Asid%2Fen.wikipedia.org%3ANatural+language+processing\" class=\"Z3988\"></span><style data-mw-deduplicate=\"TemplateStyles:r935243608\">.mw-parser-output cite.citation{font-style:inherit}.mw-parser-output .citation q{quotes:\"\\\\\"\"\"\\\\\"\"\"\\'\"\"\\'\"}.mw-parser-output .id-lock-free a,.mw-parser-output .citation .cs1-lock-free a{background:url(\"//upload.wikimedia.org/wikipedia/commons/thumb/6/65/Lock-green.svg/9px-Lock-green.svg.png\")no-repeat;background-position:right .1em center}.mw-parser-output .id-lock-limited a,.mw-parser-output .id-lock-registration a,.mw-parser-output .citation .cs1-lock-limited a,.mw-parser-output .citation .cs1-lock-registration a{background:url(\"//upload.wikimedia.org/wikipedia/commons/thumb/d/d6/Lock-gray-alt-2.svg/9px-Lock-gray-alt-2.svg.png\")no-repeat;background-position:right .1em center}.mw-parser-output .id-lock-subscription a,.mw-parser-output .citation .cs1-lock-subscription a{background:url(\"//upload.wikimedia.org/wikipedia/commons/thumb/a/aa/Lock-red-alt-2.svg/9px-Lock-red-alt-2.svg.png\")no-repeat;background-position:right .1em center}.mw-parser-output .cs1-subscription,.mw-parser-output .cs1-registration{color:#555}.mw-parser-output .cs1-subscription span,.mw-parser-output .cs1-registration span{border-bottom:1px dotted;cursor:help}.mw-parser-output .cs1-ws-icon a{background:url(\"//upload.wikimedia.org/wikipedia/commons/thumb/4/4c/Wikisource-logo.svg/12px-Wikisource-logo.svg.png\")no-repeat;background-position:right .1em center}.mw-parser-output code.cs1-code{color:inherit;background:inherit;border:inherit;padding:inherit}.mw-parser-output .cs1-hidden-error{display:none;font-size:100%}.mw-parser-output .cs1-visible-error{font-size:100%}.mw-parser-output .cs1-maint{display:none;color:#33aa33;margin-left:0.3em}.mw-parser-output .cs1-subscription,.mw-parser-output .cs1-registration,.mw-parser-output .cs1-format{font-size:95%}.mw-parser-output .cs1-kern-left,.mw-parser-output .cs1-kern-wl-left{padding-left:0.2em}.mw-parser-output .cs1-kern-right,.mw-parser-output .cs1-kern-wl-right{padding-right:0.2em}</style></span>\\n</li>\\n<li id=\"cite_note-2\"><span class=\"mw-cite-backlink\"><b><a href=\"#cite_ref-2\">^</a></b></span> <span class=\"reference-text\"><cite class=\"citation web\">Hutchins, J. (2005). <a rel=\"nofollow\" class=\"external text\" href=\"http://www.hutchinsweb.me.uk/Nutshell-2005.pdf\">\"The history of machine translation in a nutshell\"</a> <span class=\"cs1-format\">(PDF)</span>.</cite><span title=\"ctx_ver=Z39.88-2004&amp;rft_val_fmt=info%3Aofi%2Ffmt%3Akev%3Amtx%3Abook&amp;rft.genre=unknown&amp;rft.btitle=The+history+of+machine+translation+in+a+nutshell&amp;rft.date=2005&amp;rft.au=Hutchins%2C+J.&amp;rft_id=http%3A%2F%2Fwww.hutchinsweb.me.uk%2FNutshell-2005.pdf&amp;rfr_id=info%3Asid%2Fen.wikipedia.org%3ANatural+language+processing\" class=\"Z3988\"></span><link rel=\"mw-deduplicated-inline-style\" href=\"mw-data:TemplateStyles:r935243608\"/><sup class=\"noprint Inline-Template\" style=\"white-space:nowrap;\">&#91;<i><a href=\"/wiki/Wikipedia:Verifiability#Self-published_sources\" title=\"Wikipedia:Verifiability\"><span title=\"This reference citation appears to be to a self-published source. (December 2013)\">self-published source</span></a></i>&#93;</sup></span>\\n</li>\\n<li id=\"cite_note-3\"><span class=\"mw-cite-backlink\"><b><a href=\"#cite_ref-3\">^</a></b></span> <span class=\"reference-text\">Chomskyan linguistics encourages the investigation of \"<a href=\"/wiki/Corner_case\" title=\"Corner case\">corner cases</a>\" that stress the limits of its theoretical models (comparable to <a href=\"/wiki/Pathological_(mathematics)\" title=\"Pathological (mathematics)\">pathological</a> phenomena in mathematics), typically created using <a href=\"/wiki/Thought_experiment\" title=\"Thought experiment\">thought experiments</a>, rather than the systematic investigation of typical phenomena that occur in real-world data, as is the case in <a href=\"/wiki/Corpus_linguistics\" title=\"Corpus linguistics\">corpus linguistics</a>.  The creation and use of such <a href=\"/wiki/Text_corpus\" title=\"Text corpus\">corpora</a> of real-world data is a fundamental part of machine-learning algorithms for natural language processing.  In addition, theoretical underpinnings of Chomskyan linguistics such as the so-called \"<a href=\"/wiki/Poverty_of_the_stimulus\" title=\"Poverty of the stimulus\">poverty of the stimulus</a>\" argument entail that general learning algorithms, as are typically used in machine learning, cannot be successful in language processing.  As a result, the Chomskyan paradigm discouraged the application of such models to language processing.</span>\\n</li>\\n<li id=\"cite_note-goldberg:nnlp17-4\"><span class=\"mw-cite-backlink\"><b><a href=\"#cite_ref-goldberg:nnlp17_4-0\">^</a></b></span> <span class=\"reference-text\">Goldberg, Yoav (2016). <a rel=\"nofollow\" class=\"external text\" href=\"https://arxiv.org/abs/1807.10854\">A Primer on Neural Network Models for Natural Language Processing</a>. Journal of Artificial Intelligence Research 57 (2016) 345–420</span>\\n</li>\\n<li id=\"cite_note-goodfellow:book16-5\"><span class=\"mw-cite-backlink\"><b><a href=\"#cite_ref-goodfellow:book16_5-0\">^</a></b></span> <span class=\"reference-text\">Ian Goodfellow, Yoshua Bengio and Aaron Courville. <a rel=\"nofollow\" class=\"external text\" href=\"http://www.deeplearningbook.org/\">Deep Learning</a>.  MIT Press.</span>\\n</li>\\n<li id=\"cite_note-jozefowicz:lm16-6\"><span class=\"mw-cite-backlink\"><b><a href=\"#cite_ref-jozefowicz:lm16_6-0\">^</a></b></span> <span class=\"reference-text\">Rafal Jozefowicz, Oriol Vinyals, Mike Schuster, Noam Shazeer, and Yonghui Wu (2016). <a rel=\"nofollow\" class=\"external free\" href=\"https://arxiv.org/abs/1602.02410\">https://arxiv.org/abs/1602.02410</a> Exploring the Limits of Language Modeling</span>\\n</li>\\n<li id=\"cite_note-choe:emnlp16-7\"><span class=\"mw-cite-backlink\"><b><a href=\"#cite_ref-choe:emnlp16_7-0\">^</a></b></span> <span class=\"reference-text\">Do Kook Choe and Eugene Charniak (EMNLP 2016). <a rel=\"nofollow\" class=\"external free\" href=\"https://aclanthology.coli.uni-saarland.de/papers/D16-1257/d16-1257\">https://aclanthology.coli.uni-saarland.de/papers/D16-1257/d16-1257</a> Parsing as Language Modeling</span>\\n</li>\\n<li id=\"cite_note-vinyals:nips15-8\"><span class=\"mw-cite-backlink\"><b><a href=\"#cite_ref-vinyals:nips15_8-0\">^</a></b></span> <span class=\"reference-text\">Vinyals, Oriol, et al. (NIPS2015). <a rel=\"nofollow\" class=\"external free\" href=\"https://papers.nips.cc/paper/5635-grammar-as-a-foreign-language.pdf\">https://papers.nips.cc/paper/5635-grammar-as-a-foreign-language.pdf</a></span>\\n</li>\\n<li id=\"cite_note-winograd:shrdlu71-9\"><span class=\"mw-cite-backlink\"><b><a href=\"#cite_ref-winograd:shrdlu71_9-0\">^</a></b></span> <span class=\"reference-text\">Winograd, Terry (1971). Procedures as a Representation for Data in a Computer Program for Understanding Natural Language. <a rel=\"nofollow\" class=\"external free\" href=\"http://hci.stanford.edu/winograd/shrdlu/\">http://hci.stanford.edu/winograd/shrdlu/</a></span>\\n</li>\\n<li id=\"cite_note-schank77-10\"><span class=\"mw-cite-backlink\"><b><a href=\"#cite_ref-schank77_10-0\">^</a></b></span> <span class=\"reference-text\">Roger C. Schank and Robert P. Abelson (1977). Scripts, plans, goals, and understanding: An inquiry into human knowledge structures</span>\\n</li>\\n<li id=\"cite_note-johnson:eacl:ilcl09-11\"><span class=\"mw-cite-backlink\"><b><a href=\"#cite_ref-johnson:eacl:ilcl09_11-0\">^</a></b></span> <span class=\"reference-text\"><a rel=\"nofollow\" class=\"external text\" href=\"http://www.aclweb.org/anthology/W09-0103\">Mark Johnson. How the statistical revolution changes (computational) linguistics.</a> Proceedings of the EACL 2009 Workshop on the Interaction between Linguistics and Computational Linguistics.</span>\\n</li>\\n<li id=\"cite_note-resnik:langlog11-12\"><span class=\"mw-cite-backlink\"><b><a href=\"#cite_ref-resnik:langlog11_12-0\">^</a></b></span> <span class=\"reference-text\"><a rel=\"nofollow\" class=\"external text\" href=\"http://languagelog.ldc.upenn.edu/nll/?p=2946\">Philip Resnik. Four revolutions.</a> Language Log, February 5, 2011.</span>\\n</li>\\n<li id=\"cite_note-13\"><span class=\"mw-cite-backlink\"><b><a href=\"#cite_ref-13\">^</a></b></span> <span class=\"reference-text\">Klein, Dan, and Christopher D. Manning. \"<a rel=\"nofollow\" class=\"external text\" href=\"http://papers.nips.cc/paper/1945-natural-language-grammar-induction-using-a-constituent-context-model.pdf\">Natural language grammar induction using a constituent-context model</a>.\" Advances in neural information processing systems. 2002.</span>\\n</li>\\n<li id=\"cite_note-14\"><span class=\"mw-cite-backlink\"><b><a href=\"#cite_ref-14\">^</a></b></span> <span class=\"reference-text\">Kishorjit, N., Vidya Raj RK., Nirmal Y., and Sivaji B. (2012) \"<a rel=\"nofollow\" class=\"external text\" href=\"http://aclweb.org/anthology//W/W12/W12-5008.pdf\">Manipuri Morpheme Identification</a>\", Proceedings of the 3rd Workshop on South and Southeast Asian Natural Language Processing (SANLP), pages 95–108, COLING 2012, Mumbai, December 2012</span>\\n</li>\\n<li id=\"cite_note-15\"><span class=\"mw-cite-backlink\"><b><a href=\"#cite_ref-15\">^</a></b></span> <span class=\"reference-text\">Yucong Duan, Christophe Cruz (2011), <i><a rel=\"nofollow\" class=\"external text\" href=\"http://www.ijimt.org/abstract/100-E00187.htm\">Formalizing Semantic of Natural Language through Conceptualization from Existence</a></i>. <a rel=\"nofollow\" class=\"external text\" href=\"https://web.archive.org/web/20111009135952/http://www.ijimt.org/abstract/100-E00187.htm\">Archived</a> 2011-10-09 at the <a href=\"/wiki/Wayback_Machine\" title=\"Wayback Machine\">Wayback Machine</a> International Journal of Innovation, Management and Technology(2011) 2 (1), pp. 37-42.</span>\\n</li>\\n<li id=\"cite_note-16\"><span class=\"mw-cite-backlink\"><b><a href=\"#cite_ref-16\">^</a></b></span> <span class=\"reference-text\">\"<a rel=\"nofollow\" class=\"external text\" href=\"https://www.academia.edu/2475776/Versatile_question_answering_systems_seeing_in_synthesis\">Versatile question answering systems: seeing in synthesis</a>\", Mittal et al., IJIIDS, 5(2), 119-142, 2011.</span>\\n</li>\\n<li id=\"cite_note-rte:11-17\"><span class=\"mw-cite-backlink\"><b><a href=\"#cite_ref-rte:11_17-0\">^</a></b></span> <span class=\"reference-text\">PASCAL Recognizing Textual Entailment Challenge (RTE-7) <a rel=\"nofollow\" class=\"external free\" href=\"https://tac.nist.gov//2011/RTE/\">https://tac.nist.gov//2011/RTE/</a></span>\\n</li>\\n<li id=\"cite_note-18\"><span class=\"mw-cite-backlink\"><b><a href=\"#cite_ref-18\">^</a></b></span> <span class=\"reference-text\"><cite id=\"CITEREFYiTian2012\" class=\"citation\">Yi, Chucai; Tian, Yingli (2012), \"Assistive Text Reading from Complex Background for Blind Persons\", <i>Camera-Based Document Analysis and Recognition</i>, Springer Berlin Heidelberg, pp.&#160;15–28, <a href=\"/wiki/CiteSeerX\" title=\"CiteSeerX\">CiteSeerX</a>&#160;<span class=\"cs1-lock-free\" title=\"Freely accessible\"><a rel=\"nofollow\" class=\"external text\" href=\"//citeseerx.ist.psu.edu/viewdoc/summary?doi=10.1.1.668.869\">10.1.1.668.869</a></span>, <a href=\"/wiki/Digital_object_identifier\" title=\"Digital object identifier\">doi</a>:<a rel=\"nofollow\" class=\"external text\" href=\"https://doi.org/10.1007%2F978-3-642-29364-1_2\">10.1007/978-3-642-29364-1_2</a>, <a href=\"/wiki/International_Standard_Book_Number\" title=\"International Standard Book Number\">ISBN</a>&#160;<a href=\"/wiki/Special:BookSources/9783642293634\" title=\"Special:BookSources/9783642293634\"><bdi>9783642293634</bdi></a></cite><span title=\"ctx_ver=Z39.88-2004&amp;rft_val_fmt=info%3Aofi%2Ffmt%3Akev%3Amtx%3Ajournal&amp;rft.genre=article&amp;rft.jtitle=Camera-Based+Document+Analysis+and+Recognition&amp;rft.atitle=Assistive+Text+Reading+from+Complex+Background+for+Blind+Persons&amp;rft.pages=15-28&amp;rft.date=2012&amp;rft_id=%2F%2Fciteseerx.ist.psu.edu%2Fviewdoc%2Fsummary%3Fdoi%3D10.1.1.668.869&amp;rft_id=info%3Adoi%2F10.1007%2F978-3-642-29364-1_2&amp;rft.isbn=9783642293634&amp;rft.aulast=Yi&amp;rft.aufirst=Chucai&amp;rft.au=Tian%2C+Yingli&amp;rfr_id=info%3Asid%2Fen.wikipedia.org%3ANatural+language+processing\" class=\"Z3988\"></span><link rel=\"mw-deduplicated-inline-style\" href=\"mw-data:TemplateStyles:r935243608\"/></span>\\n</li>\\n</ol></div>\\n<h2><span class=\"mw-headline\" id=\"Further_reading\">Further reading</span><span class=\"mw-editsection\"><span class=\"mw-editsection-bracket\">[</span><a href=\"/w/index.php?title=Natural_language_processing&amp;action=edit&amp;section=11\" title=\"Edit section: Further reading\">edit</a><span class=\"mw-editsection-bracket\">]</span></span></h2>\\n<style data-mw-deduplicate=\"TemplateStyles:r886047268\">.mw-parser-output .refbegin{font-size:90%;margin-bottom:0.5em}.mw-parser-output .refbegin-hanging-indents>ul{list-style-type:none;margin-left:0}.mw-parser-output .refbegin-hanging-indents>ul>li,.mw-parser-output .refbegin-hanging-indents>dl>dd{margin-left:0;padding-left:3.2em;text-indent:-3.2em;list-style:none}.mw-parser-output .refbegin-100{font-size:100%}</style><div class=\"refbegin reflist\" style=\"\">\\n<ul><li><cite class=\"citation journal\">Bates, M (1995). <a rel=\"nofollow\" class=\"external text\" href=\"//www.ncbi.nlm.nih.gov/pmc/articles/PMC40721\">\"Models of natural language understanding\"</a>. <i>Proceedings of the National Academy of Sciences of the United States of America</i>. <b>92</b> (22): 9977–9982. <a href=\"/wiki/Digital_object_identifier\" title=\"Digital object identifier\">doi</a>:<a rel=\"nofollow\" class=\"external text\" href=\"https://doi.org/10.1073%2Fpnas.92.22.9977\">10.1073/pnas.92.22.9977</a>. <a href=\"/wiki/PubMed_Central\" title=\"PubMed Central\">PMC</a>&#160;<span class=\"cs1-lock-free\" title=\"Freely accessible\"><a rel=\"nofollow\" class=\"external text\" href=\"//www.ncbi.nlm.nih.gov/pmc/articles/PMC40721\">40721</a></span>. <a href=\"/wiki/PubMed_Identifier\" class=\"mw-redirect\" title=\"PubMed Identifier\">PMID</a>&#160;<a rel=\"nofollow\" class=\"external text\" href=\"//pubmed.ncbi.nlm.nih.gov/7479812\">7479812</a>.</cite><span title=\"ctx_ver=Z39.88-2004&amp;rft_val_fmt=info%3Aofi%2Ffmt%3Akev%3Amtx%3Ajournal&amp;rft.genre=article&amp;rft.jtitle=Proceedings+of+the+National+Academy+of+Sciences+of+the+United+States+of+America&amp;rft.atitle=Models+of+natural+language+understanding&amp;rft.volume=92&amp;rft.issue=22&amp;rft.pages=9977-9982&amp;rft.date=1995&amp;rft_id=%2F%2Fwww.ncbi.nlm.nih.gov%2Fpmc%2Farticles%2FPMC40721&amp;rft_id=info%3Apmid%2F7479812&amp;rft_id=info%3Adoi%2F10.1073%2Fpnas.92.22.9977&amp;rft.aulast=Bates&amp;rft.aufirst=M&amp;rft_id=%2F%2Fwww.ncbi.nlm.nih.gov%2Fpmc%2Farticles%2FPMC40721&amp;rfr_id=info%3Asid%2Fen.wikipedia.org%3ANatural+language+processing\" class=\"Z3988\"></span><link rel=\"mw-deduplicated-inline-style\" href=\"mw-data:TemplateStyles:r935243608\"/></li>\\n<li>Steven Bird, Ewan Klein, and Edward Loper (2009). <i>Natural Language Processing with Python</i>. O\\'Reilly Media. <link rel=\"mw-deduplicated-inline-style\" href=\"mw-data:TemplateStyles:r935243608\"/><a href=\"/wiki/International_Standard_Book_Number\" title=\"International Standard Book Number\">ISBN</a>&#160;<a href=\"/wiki/Special:BookSources/978-0-596-51649-9\" title=\"Special:BookSources/978-0-596-51649-9\">978-0-596-51649-9</a>.</li>\\n<li>Daniel Jurafsky and James H. Martin (2008). <i>Speech and Language Processing</i>, 2nd edition. Pearson Prentice Hall. <link rel=\"mw-deduplicated-inline-style\" href=\"mw-data:TemplateStyles:r935243608\"/><a href=\"/wiki/International_Standard_Book_Number\" title=\"International Standard Book Number\">ISBN</a>&#160;<a href=\"/wiki/Special:BookSources/978-0-13-187321-6\" title=\"Special:BookSources/978-0-13-187321-6\">978-0-13-187321-6</a>.</li>\\n<li>Mohamed Zakaria Kurdi (2016). <i>Natural Language Processing and Computational Linguistics: speech, morphology, and syntax</i>, Volume 1. ISTE-Wiley. <link rel=\"mw-deduplicated-inline-style\" href=\"mw-data:TemplateStyles:r935243608\"/><a href=\"/wiki/International_Standard_Book_Number\" title=\"International Standard Book Number\">ISBN</a>&#160;<a href=\"/wiki/Special:BookSources/978-1848218482\" title=\"Special:BookSources/978-1848218482\">978-1848218482</a>.</li>\\n<li>Mohamed Zakaria Kurdi (2017). <i>Natural Language Processing and Computational Linguistics: semantics, discourse, and applications</i>, Volume 2. ISTE-Wiley. <link rel=\"mw-deduplicated-inline-style\" href=\"mw-data:TemplateStyles:r935243608\"/><a href=\"/wiki/International_Standard_Book_Number\" title=\"International Standard Book Number\">ISBN</a>&#160;<a href=\"/wiki/Special:BookSources/978-1848219212\" title=\"Special:BookSources/978-1848219212\">978-1848219212</a>.</li>\\n<li>Christopher D. Manning, Prabhakar Raghavan, and Hinrich Schütze (2008). <i>Introduction to Information Retrieval</i>. Cambridge University Press. <link rel=\"mw-deduplicated-inline-style\" href=\"mw-data:TemplateStyles:r935243608\"/><a href=\"/wiki/International_Standard_Book_Number\" title=\"International Standard Book Number\">ISBN</a>&#160;<a href=\"/wiki/Special:BookSources/978-0-521-86571-5\" title=\"Special:BookSources/978-0-521-86571-5\">978-0-521-86571-5</a>. <a rel=\"nofollow\" class=\"external text\" href=\"http://nlp.stanford.edu/IR-book/\">Official html and pdf versions available without charge.</a></li>\\n<li>Christopher D. Manning and Hinrich Schütze (1999). <i>Foundations of Statistical Natural Language Processing</i>. The MIT Press. <link rel=\"mw-deduplicated-inline-style\" href=\"mw-data:TemplateStyles:r935243608\"/><a href=\"/wiki/International_Standard_Book_Number\" title=\"International Standard Book Number\">ISBN</a>&#160;<a href=\"/wiki/Special:BookSources/978-0-262-13360-9\" title=\"Special:BookSources/978-0-262-13360-9\">978-0-262-13360-9</a>.</li>\\n<li>David M. W. Powers and Christopher C. R. Turk (1989). <i>Machine Learning of Natural Language</i>. Springer-Verlag. <link rel=\"mw-deduplicated-inline-style\" href=\"mw-data:TemplateStyles:r935243608\"/><a href=\"/wiki/International_Standard_Book_Number\" title=\"International Standard Book Number\">ISBN</a>&#160;<a href=\"/wiki/Special:BookSources/978-0-387-19557-5\" title=\"Special:BookSources/978-0-387-19557-5\">978-0-387-19557-5</a>.</li></ul>\\n</div>\\n<table role=\"presentation\" class=\"mbox-small plainlinks sistersitebox\" style=\"background-color:#f9f9f9;border:1px solid #aaa;color:#000\">\\n<tbody><tr>\\n<td class=\"mbox-image\"><img alt=\"\" src=\"//upload.wikimedia.org/wikipedia/en/thumb/4/4a/Commons-logo.svg/30px-Commons-logo.svg.png\" decoding=\"async\" width=\"30\" height=\"40\" class=\"noviewer\" srcset=\"//upload.wikimedia.org/wikipedia/en/thumb/4/4a/Commons-logo.svg/45px-Commons-logo.svg.png 1.5x, //upload.wikimedia.org/wikipedia/en/thumb/4/4a/Commons-logo.svg/59px-Commons-logo.svg.png 2x\" data-file-width=\"1024\" data-file-height=\"1376\" /></td>\\n<td class=\"mbox-text plainlist\">Wikimedia Commons has media related to <i><b><a href=\"https://commons.wikimedia.org/wiki/Special:Search/Natural_language_processing\" class=\"extiw\" title=\"commons:Special:Search/Natural language processing\">Natural language processing</a></b></i>.</td></tr>\\n</tbody></table>\\n<div role=\"navigation\" class=\"navbox\" aria-labelledby=\"Natural_language_processing\" style=\"padding:3px\"><table class=\"nowraplinks hlist mw-collapsible mw-collapsed navbox-inner\" style=\"border-spacing:0;background:transparent;color:inherit\"><tbody><tr><th scope=\"col\" class=\"navbox-title\" colspan=\"2\"><div class=\"plainlinks hlist navbar mini\"><ul><li class=\"nv-view\"><a href=\"/wiki/Template:Natural_Language_Processing\" title=\"Template:Natural Language Processing\"><abbr title=\"View this template\" style=\";;background:none transparent;border:none;-moz-box-shadow:none;-webkit-box-shadow:none;box-shadow:none; padding:0;\">v</abbr></a></li><li class=\"nv-talk\"><a href=\"/wiki/Template_talk:Natural_Language_Processing\" title=\"Template talk:Natural Language Processing\"><abbr title=\"Discuss this template\" style=\";;background:none transparent;border:none;-moz-box-shadow:none;-webkit-box-shadow:none;box-shadow:none; padding:0;\">t</abbr></a></li><li class=\"nv-edit\"><a class=\"external text\" href=\"https://en.wikipedia.org/w/index.php?title=Template:Natural_Language_Processing&amp;action=edit\"><abbr title=\"Edit this template\" style=\";;background:none transparent;border:none;-moz-box-shadow:none;-webkit-box-shadow:none;box-shadow:none; padding:0;\">e</abbr></a></li></ul></div><div id=\"Natural_language_processing\" style=\"font-size:114%;margin:0 4em\"><a class=\"mw-selflink selflink\">Natural language processing</a></div></th></tr><tr><th scope=\"row\" class=\"navbox-group\" style=\"width:1%\">General terms</th><td class=\"navbox-list navbox-odd\" style=\"text-align:left;border-left-width:2px;border-left-style:solid;width:100%;padding:0px\"><div style=\"padding:0em 0.25em\">\\n<ul><li><a href=\"/wiki/Natural_language_understanding\" class=\"mw-redirect\" title=\"Natural language understanding\">Natural language understanding</a></li>\\n<li><a href=\"/wiki/Text_corpus\" title=\"Text corpus\">Text corpus</a></li>\\n<li><a href=\"/wiki/Speech_corpus\" title=\"Speech corpus\">Speech corpus</a></li>\\n<li><a href=\"/wiki/Stop_words\" title=\"Stop words\">Stopwords</a></li>\\n<li><a href=\"/wiki/Bag-of-words_model\" title=\"Bag-of-words model\">Bag-of-words</a></li>\\n<li><a href=\"/wiki/AI-complete\" title=\"AI-complete\">AI-complete</a></li>\\n<li><a href=\"/wiki/N-gram\" title=\"N-gram\">n-gram</a> (<a href=\"/wiki/Bigram\" title=\"Bigram\">Bigram</a>, <a href=\"/wiki/Trigram\" title=\"Trigram\">Trigram</a>)</li></ul>\\n</div></td></tr><tr><th scope=\"row\" class=\"navbox-group\" style=\"width:1%\"><a href=\"/wiki/Text_mining\" title=\"Text mining\">Text analysis</a></th><td class=\"navbox-list navbox-even\" style=\"text-align:left;border-left-width:2px;border-left-style:solid;width:100%;padding:0px\"><div style=\"padding:0em 0.25em\">\\n<ul><li><a href=\"/wiki/Text_segmentation\" title=\"Text segmentation\">Text segmentation</a></li>\\n<li><a href=\"/wiki/Part-of-speech_tagging\" title=\"Part-of-speech tagging\">Part-of-speech tagging</a></li>\\n<li><a href=\"/wiki/Shallow_parsing\" title=\"Shallow parsing\">Text chunking</a></li>\\n<li><a href=\"/wiki/Compound_term_processing\" class=\"mw-redirect\" title=\"Compound term processing\">Compound term processing</a></li>\\n<li><a href=\"/wiki/Collocation_extraction\" title=\"Collocation extraction\">Collocation extraction</a></li>\\n<li><a href=\"/wiki/Stemming\" title=\"Stemming\">Stemming</a></li>\\n<li><a href=\"/wiki/Lemmatisation\" title=\"Lemmatisation\">Lemmatisation</a></li>\\n<li><a href=\"/wiki/Named-entity_recognition\" title=\"Named-entity recognition\">Named-entity recognition</a></li>\\n<li><a href=\"/wiki/Coreference#Coreference_resolution\" title=\"Coreference\">Coreference resolution</a></li>\\n<li><a href=\"/wiki/Sentiment_analysis\" title=\"Sentiment analysis\">Sentiment analysis</a></li>\\n<li><a href=\"/wiki/Concept_mining\" title=\"Concept mining\">Concept mining</a></li>\\n<li><a href=\"/wiki/Parsing\" title=\"Parsing\">Parsing</a></li>\\n<li><a href=\"/wiki/Word-sense_disambiguation\" title=\"Word-sense disambiguation\">Word-sense disambiguation</a></li>\\n<li><a href=\"/wiki/Ontology_learning\" title=\"Ontology learning\">Ontology learning</a></li>\\n<li><a href=\"/wiki/Terminology_extraction\" title=\"Terminology extraction\">Terminology extraction</a></li>\\n<li><a href=\"/wiki/Textual_entailment\" title=\"Textual entailment\">Textual entailment</a></li>\\n<li><a href=\"/wiki/Truecasing\" title=\"Truecasing\">Truecasing</a></li></ul>\\n</div></td></tr><tr><th scope=\"row\" class=\"navbox-group\" style=\"width:1%\"><a href=\"/wiki/Automatic_summarization\" title=\"Automatic summarization\">Automatic summarization</a></th><td class=\"navbox-list navbox-odd\" style=\"text-align:left;border-left-width:2px;border-left-style:solid;width:100%;padding:0px\"><div style=\"padding:0em 0.25em\">\\n<ul><li><a href=\"/wiki/Multi-document_summarization\" title=\"Multi-document summarization\">Multi-document summarization</a></li>\\n<li><a href=\"/wiki/Sentence_extraction\" title=\"Sentence extraction\">Sentence extraction</a></li>\\n<li><a href=\"/wiki/Text_simplification\" title=\"Text simplification\">Text simplification</a></li></ul>\\n</div></td></tr><tr><th scope=\"row\" class=\"navbox-group\" style=\"width:1%\"><a href=\"/wiki/Machine_translation\" title=\"Machine translation\">Machine translation</a></th><td class=\"navbox-list navbox-even\" style=\"text-align:left;border-left-width:2px;border-left-style:solid;width:100%;padding:0px\"><div style=\"padding:0em 0.25em\">\\n<ul><li><a href=\"/wiki/Computer-assisted_translation\" title=\"Computer-assisted translation\">Computer-assisted</a></li>\\n<li><a href=\"/wiki/Example-based_machine_translation\" title=\"Example-based machine translation\">Example-based</a></li>\\n<li><a href=\"/wiki/Rule-based_machine_translation\" title=\"Rule-based machine translation\">Rule-based</a></li>\\n<li><a href=\"/wiki/Neural_machine_translation\" title=\"Neural machine translation\">Neural</a></li></ul>\\n</div></td></tr><tr><th scope=\"row\" class=\"navbox-group\" style=\"width:1%\"><a href=\"/wiki/Automatic_identification_and_data_capture\" title=\"Automatic identification and data capture\">Automatic identification<br />and data capture</a></th><td class=\"navbox-list navbox-odd\" style=\"text-align:left;border-left-width:2px;border-left-style:solid;width:100%;padding:0px\"><div style=\"padding:0em 0.25em\">\\n<ul><li><a href=\"/wiki/Speech_recognition\" title=\"Speech recognition\">Speech recognition</a></li>\\n<li><a href=\"/wiki/Speech_synthesis\" title=\"Speech synthesis\">Speech synthesis</a></li>\\n<li><a href=\"/wiki/Optical_character_recognition\" title=\"Optical character recognition\">Optical character recognition</a></li>\\n<li><a href=\"/wiki/Natural_language_generation\" class=\"mw-redirect\" title=\"Natural language generation\">Natural language generation</a></li></ul>\\n</div></td></tr><tr><th scope=\"row\" class=\"navbox-group\" style=\"width:1%\"><a href=\"/wiki/Topic_model\" title=\"Topic model\">Topic model</a></th><td class=\"navbox-list navbox-even\" style=\"text-align:left;border-left-width:2px;border-left-style:solid;width:100%;padding:0px\"><div style=\"padding:0em 0.25em\">\\n<ul><li><a href=\"/wiki/Pachinko_allocation\" title=\"Pachinko allocation\">Pachinko allocation</a></li>\\n<li><a href=\"/wiki/Latent_Dirichlet_allocation\" title=\"Latent Dirichlet allocation\">Latent Dirichlet allocation</a></li>\\n<li><a href=\"/wiki/Latent_semantic_analysis\" title=\"Latent semantic analysis\">Latent semantic analysis</a></li></ul>\\n</div></td></tr><tr><th scope=\"row\" class=\"navbox-group\" style=\"width:1%\"><a href=\"/wiki/Computer-assisted_reviewing\" title=\"Computer-assisted reviewing\">Computer-assisted<br />reviewing</a></th><td class=\"navbox-list navbox-odd\" style=\"text-align:left;border-left-width:2px;border-left-style:solid;width:100%;padding:0px\"><div style=\"padding:0em 0.25em\">\\n<ul><li><a href=\"/wiki/Automated_essay_scoring\" title=\"Automated essay scoring\">Automated essay scoring</a></li>\\n<li><a href=\"/wiki/Concordancer\" title=\"Concordancer\">Concordancer</a></li>\\n<li><a href=\"/wiki/Grammar_checker\" title=\"Grammar checker\">Grammar checker</a></li>\\n<li><a href=\"/wiki/Predictive_text\" title=\"Predictive text\">Predictive text</a></li>\\n<li><a href=\"/wiki/Spell_checker\" title=\"Spell checker\">Spell checker</a></li>\\n<li><a href=\"/wiki/Syntax_guessing\" title=\"Syntax guessing\">Syntax guessing</a></li></ul>\\n</div></td></tr><tr><th scope=\"row\" class=\"navbox-group\" style=\"width:1%\"><a href=\"/wiki/Natural_language_user_interface\" class=\"mw-redirect\" title=\"Natural language user interface\">Natural language<br />user interface</a></th><td class=\"navbox-list navbox-even\" style=\"text-align:left;border-left-width:2px;border-left-style:solid;width:100%;padding:0px\"><div style=\"padding:0em 0.25em\">\\n<ul><li><a href=\"/wiki/Automated_online_assistant\" class=\"mw-redirect\" title=\"Automated online assistant\">Automated online assistant</a></li>\\n<li><a href=\"/wiki/Chatbot\" title=\"Chatbot\">Chatbot</a></li>\\n<li><a href=\"/wiki/Interactive_fiction\" title=\"Interactive fiction\">Interactive fiction</a></li>\\n<li><a href=\"/wiki/Question_answering\" title=\"Question answering\">Question answering</a></li>\\n<li><a href=\"/wiki/Voice_user_interface\" title=\"Voice user interface\">Voice user interface</a></li></ul>\\n</div></td></tr></tbody></table></div>\\n<div role=\"navigation\" class=\"navbox authority-control\" aria-labelledby=\"Authority_control_frameless_&amp;#124;text-top_&amp;#124;10px_&amp;#124;alt=Edit_this_at_Wikidata_&amp;#124;link=https&amp;#58;//www.wikidata.org/wiki/Q30642&amp;#124;Edit_this_at_Wikidata\" style=\"padding:3px\"><table class=\"nowraplinks hlist navbox-inner\" style=\"border-spacing:0;background:transparent;color:inherit\"><tbody><tr><th id=\"Authority_control_frameless_&amp;#124;text-top_&amp;#124;10px_&amp;#124;alt=Edit_this_at_Wikidata_&amp;#124;link=https&amp;#58;//www.wikidata.org/wiki/Q30642&amp;#124;Edit_this_at_Wikidata\" scope=\"row\" class=\"navbox-group\" style=\"width:1%\"><a href=\"/wiki/Help:Authority_control\" title=\"Help:Authority control\">Authority control</a> <a href=\"https://www.wikidata.org/wiki/Q30642\" title=\"Edit this at Wikidata\"><img alt=\"Edit this at Wikidata\" src=\"//upload.wikimedia.org/wikipedia/en/thumb/8/8a/OOjs_UI_icon_edit-ltr-progressive.svg/10px-OOjs_UI_icon_edit-ltr-progressive.svg.png\" decoding=\"async\" width=\"10\" height=\"10\" style=\"vertical-align: text-top\" srcset=\"//upload.wikimedia.org/wikipedia/en/thumb/8/8a/OOjs_UI_icon_edit-ltr-progressive.svg/15px-OOjs_UI_icon_edit-ltr-progressive.svg.png 1.5x, //upload.wikimedia.org/wikipedia/en/thumb/8/8a/OOjs_UI_icon_edit-ltr-progressive.svg/20px-OOjs_UI_icon_edit-ltr-progressive.svg.png 2x\" data-file-width=\"20\" data-file-height=\"20\" /></a></th><td class=\"navbox-list navbox-odd\" style=\"text-align:left;border-left-width:2px;border-left-style:solid;width:100%;padding:0px\"><div style=\"padding:0em 0.25em\">\\n<ul><li><span class=\"nowrap\"><a href=\"/wiki/Library_of_Congress_Control_Number\" title=\"Library of Congress Control Number\">LCCN</a>: <span class=\"uid\"><a rel=\"nofollow\" class=\"external text\" href=\"https://id.loc.gov/authorities/subjects/sh88002425\">sh88002425</a></span></span></li>\\n<li><span class=\"nowrap\"><a href=\"/wiki/National_Diet_Library\" title=\"National Diet Library\">NDL</a>: <span class=\"uid\"><a rel=\"nofollow\" class=\"external text\" href=\"https://id.ndl.go.jp/auth/ndlna/00562347\">00562347</a></span></span></li></ul>\\n</div></td></tr></tbody></table></div>\\n<div class=\"noprint metadata navbox\" role=\"navigation\" aria-label=\"Portals\" style=\"font-weight:bold;padding:0.4em 2em\"><ul style=\"margin:0.1em 0 0\"><li style=\"display:inline\"><span style=\"display:inline-block;white-space:nowrap\"><span style=\"margin:0 0.5em\"><a href=\"/wiki/File:Globe_of_letters.svg\" class=\"image\"><img alt=\"Globe of letters.svg\" src=\"//upload.wikimedia.org/wikipedia/commons/thumb/d/de/Globe_of_letters.svg/21px-Globe_of_letters.svg.png\" decoding=\"async\" width=\"21\" height=\"21\" srcset=\"//upload.wikimedia.org/wikipedia/commons/thumb/d/de/Globe_of_letters.svg/32px-Globe_of_letters.svg.png 1.5x, //upload.wikimedia.org/wikipedia/commons/thumb/d/de/Globe_of_letters.svg/42px-Globe_of_letters.svg.png 2x\" data-file-width=\"512\" data-file-height=\"512\" /></a></span><a href=\"/wiki/Portal:Language\" title=\"Portal:Language\">Language portal</a></span></li></ul></div>\\n<!-- \\nNewPP limit report\\nParsed by mw1333\\nCached time: 20200120022809\\nCache expiry: 2592000\\nDynamic content: false\\nComplications: [vary‐revision‐sha1]\\nCPU time usage: 0.508 seconds\\nReal time usage: 0.727 seconds\\nPreprocessor visited node count: 2540/1000000\\nPreprocessor generated node count: 0/1500000\\nPost‐expand include size: 44202/2097152 bytes\\nTemplate argument size: 4909/2097152 bytes\\nHighest expansion depth: 14/40\\nExpensive parser function count: 8/500\\nUnstrip recursion depth: 1/20\\nUnstrip post‐expand size: 35109/5000000 bytes\\nNumber of Wikibase entities loaded: 4/400\\nLua time usage: 0.248/10.000 seconds\\nLua memory usage: 5.37 MB/50 MB\\n-->\\n<!--\\nTransclusion expansion time report (%,ms,calls,template)\\n100.00%  637.638      1 -total\\n 31.49%  200.774      1 Template:Reflist\\n 18.20%  116.063      1 Template:Cite_conference\\n 12.99%   82.810      7 Template:ISBN\\n 12.12%   77.301      1 Template:Authority_control\\n 11.90%   75.886      1 Template:Clarify\\n 10.90%   69.525      1 Template:Fix-span\\n  7.43%   47.355      4 Template:Category_handler\\n  5.44%   34.718      1 Template:Citation\\n  5.15%   32.862      1 Template:Distinguish\\n-->\\n\\n<!-- Saved in parser cache with key enwiki:pcache:idhash:21652-0!canonical and timestamp 20200120022808 and revision id 934178090\\n -->\\n</div><noscript><img src=\"//en.wikipedia.org/wiki/Special:CentralAutoLogin/start?type=1x1\" alt=\"\" title=\"\" width=\"1\" height=\"1\" style=\"border: none; position: absolute;\" /></noscript></div>\\n\\t\\t\\n\\t\\t<div class=\"printfooter\">Retrieved from \"<a dir=\"ltr\" href=\"https://en.wikipedia.org/w/index.php?title=Natural_language_processing&amp;oldid=934178090\">https://en.wikipedia.org/w/index.php?title=Natural_language_processing&amp;oldid=934178090</a>\"</div>\\n\\t\\t\\n\\t\\t<div id=\"catlinks\" class=\"catlinks\" data-mw=\"interface\"><div id=\"mw-normal-catlinks\" class=\"mw-normal-catlinks\"><a href=\"/wiki/Help:Category\" title=\"Help:Category\">Categories</a>: <ul><li><a href=\"/wiki/Category:Natural_language_processing\" title=\"Category:Natural language processing\">Natural language processing</a></li><li><a href=\"/wiki/Category:Computational_linguistics\" title=\"Category:Computational linguistics\">Computational linguistics</a></li><li><a href=\"/wiki/Category:Speech_recognition\" title=\"Category:Speech recognition\">Speech recognition</a></li><li><a href=\"/wiki/Category:Computational_fields_of_study\" title=\"Category:Computational fields of study\">Computational fields of study</a></li><li><a href=\"/wiki/Category:Artificial_intelligence\" title=\"Category:Artificial intelligence\">Artificial intelligence</a></li></ul></div><div id=\"mw-hidden-catlinks\" class=\"mw-hidden-catlinks mw-hidden-cats-hidden\">Hidden categories: <ul><li><a href=\"/wiki/Category:Webarchive_template_wayback_links\" title=\"Category:Webarchive template wayback links\">Webarchive template wayback links</a></li><li><a href=\"/wiki/Category:Wikipedia_articles_needing_clarification_from_October_2019\" title=\"Category:Wikipedia articles needing clarification from October 2019\">Wikipedia articles needing clarification from October 2019</a></li><li><a href=\"/wiki/Category:All_accuracy_disputes\" title=\"Category:All accuracy disputes\">All accuracy disputes</a></li><li><a href=\"/wiki/Category:Articles_with_disputed_statements_from_June_2018\" title=\"Category:Articles with disputed statements from June 2018\">Articles with disputed statements from June 2018</a></li><li><a href=\"/wiki/Category:Wikipedia_articles_with_LCCN_identifiers\" title=\"Category:Wikipedia articles with LCCN identifiers\">Wikipedia articles with LCCN identifiers</a></li><li><a href=\"/wiki/Category:Wikipedia_articles_with_NDL_identifiers\" title=\"Category:Wikipedia articles with NDL identifiers\">Wikipedia articles with NDL identifiers</a></li></ul></div></div>\\n\\t\\t<div class=\"visualClear\"></div>\\n\\t\\t\\n\\t</div>\\n</div>\\n<div id=\\'mw-data-after-content\\'>\\n\\t<div class=\"read-more-container\"></div>\\n</div>\\n\\n\\n\\t\\t<div id=\"mw-navigation\">\\n\\t\\t\\t<h2>Navigation menu</h2>\\n\\t\\t\\t<div id=\"mw-head\">\\n\\t\\t\\t\\t\\n\\n<div id=\"p-personal\" role=\"navigation\" class=\"\" aria-labelledby=\"p-personal-label\">\\n\\t<h3 id=\"p-personal-label\">Personal tools</h3>\\n\\t<ul >\\n\\t\\t\\n\\t\\t<li id=\"pt-anonuserpage\">Not logged in</li>\\n\\t\\t<li id=\"pt-anontalk\"><a href=\"/wiki/Special:MyTalk\" title=\"Discussion about edits from this IP address [n]\" accesskey=\"n\">Talk</a></li><li id=\"pt-anoncontribs\"><a href=\"/wiki/Special:MyContributions\" title=\"A list of edits made from this IP address [y]\" accesskey=\"y\">Contributions</a></li><li id=\"pt-createaccount\"><a href=\"/w/index.php?title=Special:CreateAccount&amp;returnto=Natural+language+processing\" title=\"You are encouraged to create an account and log in; however, it is not mandatory\">Create account</a></li><li id=\"pt-login\"><a href=\"/w/index.php?title=Special:UserLogin&amp;returnto=Natural+language+processing\" title=\"You&#039;re encouraged to log in; however, it&#039;s not mandatory. [o]\" accesskey=\"o\">Log in</a></li>\\n\\t</ul>\\n</div>\\n\\t\\t\\t\\t<div id=\"left-navigation\">\\n\\t\\t\\t\\t\\t\\n<div id=\"p-namespaces\" role=\"navigation\" class=\"vectorTabs \" aria-labelledby=\"p-namespaces-label\">\\n\\t<h3 id=\"p-namespaces-label\">Namespaces</h3>\\n\\t<ul >\\n\\t\\t<li id=\"ca-nstab-main\" class=\"selected\"><a href=\"/wiki/Natural_language_processing\" title=\"View the content page [c]\" accesskey=\"c\">Article</a></li><li id=\"ca-talk\"><a href=\"/wiki/Talk:Natural_language_processing\" rel=\"discussion\" title=\"Discussion about the content page [t]\" accesskey=\"t\">Talk</a></li>\\n\\t</ul>\\n</div>\\n\\t\\t<div id=\"p-variants\" role=\"navigation\" class=\"vectorMenu emptyPortlet\" aria-labelledby=\"p-variants-label\">\\n\\t\\t\\t\\t\\t\\t<input type=\"checkbox\" class=\"vectorMenuCheckbox\" aria-labelledby=\"p-variants-label\" />\\n\\t\\t\\t<h3 id=\"p-variants-label\">\\n\\t\\t\\t\\t<span>Variants</span>\\n\\t\\t\\t</h3>\\n\\t\\t\\t<ul class=\"menu\">\\n\\t\\t\\t\\t\\t\\t\\t</ul>\\n\\t\\t</div>\\n\\t\\t\\t\\t\\t\\t</div>\\n\\t\\t\\t\\t<div id=\"right-navigation\">\\n\\t\\t\\t\\t\\t\\n<div id=\"p-views\" role=\"navigation\" class=\"vectorTabs \" aria-labelledby=\"p-views-label\">\\n\\t<h3 id=\"p-views-label\">Views</h3>\\n\\t<ul >\\n\\t\\t<li id=\"ca-view\" class=\"collapsible selected\"><a href=\"/wiki/Natural_language_processing\">Read</a></li><li id=\"ca-edit\" class=\"collapsible\"><a href=\"/w/index.php?title=Natural_language_processing&amp;action=edit\" title=\"Edit this page [e]\" accesskey=\"e\">Edit</a></li><li id=\"ca-history\" class=\"collapsible\"><a href=\"/w/index.php?title=Natural_language_processing&amp;action=history\" title=\"Past revisions of this page [h]\" accesskey=\"h\">View history</a></li>\\n\\t</ul>\\n</div>\\n\\t\\t<div id=\"p-cactions\" role=\"navigation\" class=\"vectorMenu emptyPortlet\" aria-labelledby=\"p-cactions-label\">\\n\\t\\t\\t<input type=\"checkbox\" class=\"vectorMenuCheckbox\" aria-labelledby=\"p-cactions-label\" />\\n\\t\\t\\t<h3 id=\"p-cactions-label\"><span>More</span></h3>\\n\\t\\t\\t<ul class=\"menu\">\\n\\t\\t\\t\\t\\t\\t\\t</ul>\\n\\t\\t</div>\\n\\t\\t\\n<div id=\"p-search\" role=\"search\">\\n\\t<h3 >\\n\\t\\t<label for=\"searchInput\">Search</label>\\n\\t</h3>\\n\\t<form action=\"/w/index.php\" id=\"searchform\">\\n\\t\\t<div id=\"simpleSearch\">\\n\\t\\t\\t<input type=\"search\" name=\"search\" placeholder=\"Search Wikipedia\" title=\"Search Wikipedia [f]\" accesskey=\"f\" id=\"searchInput\"/>\\n\\t\\t\\t<input type=\"hidden\" value=\"Special:Search\" name=\"title\"/>\\n\\t\\t\\t\\n\\t\\t\\t<input type=\"submit\" name=\"fulltext\" value=\"Search\" title=\"Search Wikipedia for this text\" id=\"mw-searchButton\" class=\"searchButton mw-fallbackSearchButton\"/>\\n\\t\\t\\t<input type=\"submit\" name=\"go\" value=\"Go\" title=\"Go to a page with this exact name if it exists\" id=\"searchButton\" class=\"searchButton\"/>\\n\\t\\t</div>\\n\\t</form>\\n</div>\\n\\t\\t\\t\\t</div>\\n\\t\\t\\t</div>\\n\\t\\t\\t<div id=\"mw-panel\">\\n\\t\\t\\t\\t<div id=\"p-logo\" role=\"banner\"><a class=\"mw-wiki-logo\" href=\"/wiki/Main_Page\" title=\"Visit the main page\"></a></div>\\n\\t\\t\\t\\t\\t\\t<div class=\"portal\" role=\"navigation\" id=\"p-navigation\" aria-labelledby=\"p-navigation-label\">\\n\\t\\t\\t<h3 id=\"p-navigation-label\">Navigation</h3>\\n\\t\\t\\t<div class=\"body\">\\n\\t\\t\\t\\t\\t\\t\\t\\t<ul>\\n\\t\\t\\t\\t\\t<li id=\"n-mainpage-description\"><a href=\"/wiki/Main_Page\" title=\"Visit the main page [z]\" accesskey=\"z\">Main page</a></li><li id=\"n-contents\"><a href=\"/wiki/Wikipedia:Contents\" title=\"Guides to browsing Wikipedia\">Contents</a></li><li id=\"n-featuredcontent\"><a href=\"/wiki/Wikipedia:Featured_content\" title=\"Featured content – the best of Wikipedia\">Featured content</a></li><li id=\"n-currentevents\"><a href=\"/wiki/Portal:Current_events\" title=\"Find background information on current events\">Current events</a></li><li id=\"n-randompage\"><a href=\"/wiki/Special:Random\" title=\"Load a random article [x]\" accesskey=\"x\">Random article</a></li><li id=\"n-sitesupport\"><a href=\"https://donate.wikimedia.org/wiki/Special:FundraiserRedirector?utm_source=donate&amp;utm_medium=sidebar&amp;utm_campaign=C13_en.wikipedia.org&amp;uselang=en\" title=\"Support us\">Donate to Wikipedia</a></li><li id=\"n-shoplink\"><a href=\"//shop.wikimedia.org\" title=\"Visit the Wikipedia store\">Wikipedia store</a></li>\\t\\t\\t\\t</ul>\\n\\t\\t\\t\\t\\t\\t\\t</div>\\n\\t\\t</div>\\n\\t\\t\\t<div class=\"portal\" role=\"navigation\" id=\"p-interaction\" aria-labelledby=\"p-interaction-label\">\\n\\t\\t\\t<h3 id=\"p-interaction-label\">Interaction</h3>\\n\\t\\t\\t<div class=\"body\">\\n\\t\\t\\t\\t\\t\\t\\t\\t<ul>\\n\\t\\t\\t\\t\\t<li id=\"n-help\"><a href=\"/wiki/Help:Contents\" title=\"Guidance on how to use and edit Wikipedia\">Help</a></li><li id=\"n-aboutsite\"><a href=\"/wiki/Wikipedia:About\" title=\"Find out about Wikipedia\">About Wikipedia</a></li><li id=\"n-portal\"><a href=\"/wiki/Wikipedia:Community_portal\" title=\"About the project, what you can do, where to find things\">Community portal</a></li><li id=\"n-recentchanges\"><a href=\"/wiki/Special:RecentChanges\" title=\"A list of recent changes in the wiki [r]\" accesskey=\"r\">Recent changes</a></li><li id=\"n-contactpage\"><a href=\"//en.wikipedia.org/wiki/Wikipedia:Contact_us\" title=\"How to contact Wikipedia\">Contact page</a></li>\\t\\t\\t\\t</ul>\\n\\t\\t\\t\\t\\t\\t\\t</div>\\n\\t\\t</div>\\n\\t\\t\\t<div class=\"portal\" role=\"navigation\" id=\"p-tb\" aria-labelledby=\"p-tb-label\">\\n\\t\\t\\t<h3 id=\"p-tb-label\">Tools</h3>\\n\\t\\t\\t<div class=\"body\">\\n\\t\\t\\t\\t\\t\\t\\t\\t<ul>\\n\\t\\t\\t\\t\\t<li id=\"t-whatlinkshere\"><a href=\"/wiki/Special:WhatLinksHere/Natural_language_processing\" title=\"List of all English Wikipedia pages containing links to this page [j]\" accesskey=\"j\">What links here</a></li><li id=\"t-recentchangeslinked\"><a href=\"/wiki/Special:RecentChangesLinked/Natural_language_processing\" rel=\"nofollow\" title=\"Recent changes in pages linked from this page [k]\" accesskey=\"k\">Related changes</a></li><li id=\"t-upload\"><a href=\"/wiki/Wikipedia:File_Upload_Wizard\" title=\"Upload files [u]\" accesskey=\"u\">Upload file</a></li><li id=\"t-specialpages\"><a href=\"/wiki/Special:SpecialPages\" title=\"A list of all special pages [q]\" accesskey=\"q\">Special pages</a></li><li id=\"t-permalink\"><a href=\"/w/index.php?title=Natural_language_processing&amp;oldid=934178090\" title=\"Permanent link to this revision of the page\">Permanent link</a></li><li id=\"t-info\"><a href=\"/w/index.php?title=Natural_language_processing&amp;action=info\" title=\"More information about this page\">Page information</a></li><li id=\"t-wikibase\"><a href=\"https://www.wikidata.org/wiki/Special:EntityPage/Q30642\" title=\"Link to connected data repository item [g]\" accesskey=\"g\">Wikidata item</a></li><li id=\"t-cite\"><a href=\"/w/index.php?title=Special:CiteThisPage&amp;page=Natural_language_processing&amp;id=934178090\" title=\"Information on how to cite this page\">Cite this page</a></li>\\t\\t\\t\\t</ul>\\n\\t\\t\\t\\t\\t\\t\\t</div>\\n\\t\\t</div>\\n\\t\\t\\t<div class=\"portal\" role=\"navigation\" id=\"p-wikibase-otherprojects\" aria-labelledby=\"p-wikibase-otherprojects-label\">\\n\\t\\t\\t<h3 id=\"p-wikibase-otherprojects-label\">In other projects</h3>\\n\\t\\t\\t<div class=\"body\">\\n\\t\\t\\t\\t\\t\\t\\t\\t<ul>\\n\\t\\t\\t\\t\\t<li class=\"wb-otherproject-link wb-otherproject-commons\"><a href=\"https://commons.wikimedia.org/wiki/Category:Natural_language_processing\" hreflang=\"en\">Wikimedia Commons</a></li>\\t\\t\\t\\t</ul>\\n\\t\\t\\t\\t\\t\\t\\t</div>\\n\\t\\t</div>\\n\\t\\t\\t<div class=\"portal\" role=\"navigation\" id=\"p-coll-print_export\" aria-labelledby=\"p-coll-print_export-label\">\\n\\t\\t\\t<h3 id=\"p-coll-print_export-label\">Print/export</h3>\\n\\t\\t\\t<div class=\"body\">\\n\\t\\t\\t\\t\\t\\t\\t\\t<ul>\\n\\t\\t\\t\\t\\t<li id=\"coll-create_a_book\"><a href=\"/w/index.php?title=Special:Book&amp;bookcmd=book_creator&amp;referer=Natural+language+processing\">Create a book</a></li><li id=\"coll-download-as-rl\"><a href=\"/w/index.php?title=Special:ElectronPdf&amp;page=Natural+language+processing&amp;action=show-download-screen\">Download as PDF</a></li><li id=\"t-print\"><a href=\"/w/index.php?title=Natural_language_processing&amp;printable=yes\" title=\"Printable version of this page [p]\" accesskey=\"p\">Printable version</a></li>\\t\\t\\t\\t</ul>\\n\\t\\t\\t\\t\\t\\t\\t</div>\\n\\t\\t</div>\\n\\t\\t\\t<div class=\"portal\" role=\"navigation\" id=\"p-lang\" aria-labelledby=\"p-lang-label\">\\n\\t\\t\\t<h3 id=\"p-lang-label\">Languages</h3>\\n\\t\\t\\t<div class=\"body\">\\n\\t\\t\\t\\t\\t\\t\\t\\t<ul>\\n\\t\\t\\t\\t\\t<li class=\"interlanguage-link interwiki-af\"><a href=\"https://af.wikipedia.org/wiki/Natuurliketaalverwerking\" title=\"Natuurliketaalverwerking – Afrikaans\" lang=\"af\" hreflang=\"af\" class=\"interlanguage-link-target\">Afrikaans</a></li><li class=\"interlanguage-link interwiki-ar\"><a href=\"https://ar.wikipedia.org/wiki/%D9%85%D8%B9%D8%A7%D9%84%D8%AC%D8%A9_%D8%A7%D9%84%D9%84%D8%BA%D8%A7%D8%AA_%D8%A7%D9%84%D8%B7%D8%A8%D9%8A%D8%B9%D9%8A%D8%A9\" title=\"معالجة اللغات الطبيعية – Arabic\" lang=\"ar\" hreflang=\"ar\" class=\"interlanguage-link-target\">العربية</a></li><li class=\"interlanguage-link interwiki-az\"><a href=\"https://az.wikipedia.org/wiki/T%C9%99bii_dilin_emal%C4%B1\" title=\"Təbii dilin emalı – Azerbaijani\" lang=\"az\" hreflang=\"az\" class=\"interlanguage-link-target\">Azərbaycanca</a></li><li class=\"interlanguage-link interwiki-bn\"><a href=\"https://bn.wikipedia.org/wiki/%E0%A6%AA%E0%A7%8D%E0%A6%B0%E0%A6%BE%E0%A6%95%E0%A7%83%E0%A6%A4%E0%A6%BF%E0%A6%95_%E0%A6%AD%E0%A6%BE%E0%A6%B7%E0%A6%BE_%E0%A6%AA%E0%A7%8D%E0%A6%B0%E0%A6%95%E0%A7%8D%E0%A6%B0%E0%A6%BF%E0%A6%AF%E0%A6%BC%E0%A6%BE%E0%A6%95%E0%A6%B0%E0%A6%A3\" title=\"প্রাকৃতিক ভাষা প্রক্রিয়াকরণ – Bangla\" lang=\"bn\" hreflang=\"bn\" class=\"interlanguage-link-target\">বাংলা</a></li><li class=\"interlanguage-link interwiki-zh-min-nan\"><a href=\"https://zh-min-nan.wikipedia.org/wiki/Ch%C5%AB-ji%C3%A2n_gi%C3%A2n-g%C3%BA_chh%C3%BA-l%C3%AD\" title=\"Chū-jiân giân-gú chhú-lí – Chinese (Min Nan)\" lang=\"nan\" hreflang=\"nan\" class=\"interlanguage-link-target\">Bân-lâm-gú</a></li><li class=\"interlanguage-link interwiki-be\"><a href=\"https://be.wikipedia.org/wiki/%D0%90%D0%BF%D1%80%D0%B0%D1%86%D0%BE%D1%9E%D0%BA%D0%B0_%D0%BD%D0%B0%D1%82%D1%83%D1%80%D0%B0%D0%BB%D1%8C%D0%BD%D0%B0%D0%B9_%D0%BC%D0%BE%D0%B2%D1%8B\" title=\"Апрацоўка натуральнай мовы – Belarusian\" lang=\"be\" hreflang=\"be\" class=\"interlanguage-link-target\">Беларуская</a></li><li class=\"interlanguage-link interwiki-be-x-old\"><a href=\"https://be-x-old.wikipedia.org/wiki/%D0%90%D0%BF%D1%80%D0%B0%D1%86%D0%BE%D1%9E%D0%BA%D0%B0_%D0%BD%D0%B0%D1%82%D1%83%D1%80%D0%B0%D0%BB%D1%8C%D0%BD%D0%B0%D0%B9_%D0%BC%D0%BE%D0%B2%D1%8B\" title=\"Апрацоўка натуральнай мовы – Belarusian (Taraškievica orthography)\" lang=\"be-tarask\" hreflang=\"be-tarask\" class=\"interlanguage-link-target\">Беларуская (тарашкевіца)\\u200e</a></li><li class=\"interlanguage-link interwiki-bg\"><a href=\"https://bg.wikipedia.org/wiki/%D0%9E%D0%B1%D1%80%D0%B0%D0%B1%D0%BE%D1%82%D0%BA%D0%B0_%D0%BD%D0%B0_%D0%B5%D1%81%D1%82%D0%B5%D1%81%D1%82%D0%B2%D0%B5%D0%BD_%D0%B5%D0%B7%D0%B8%D0%BA\" title=\"Обработка на естествен език – Bulgarian\" lang=\"bg\" hreflang=\"bg\" class=\"interlanguage-link-target\">Български</a></li><li class=\"interlanguage-link interwiki-ca\"><a href=\"https://ca.wikipedia.org/wiki/Processament_de_llenguatge_natural\" title=\"Processament de llenguatge natural – Catalan\" lang=\"ca\" hreflang=\"ca\" class=\"interlanguage-link-target\">Català</a></li><li class=\"interlanguage-link interwiki-cs\"><a href=\"https://cs.wikipedia.org/wiki/Zpracov%C3%A1n%C3%AD_p%C5%99irozen%C3%A9ho_jazyka\" title=\"Zpracování přirozeného jazyka – Czech\" lang=\"cs\" hreflang=\"cs\" class=\"interlanguage-link-target\">Čeština</a></li><li class=\"interlanguage-link interwiki-da\"><a href=\"https://da.wikipedia.org/wiki/Sprogteknologi\" title=\"Sprogteknologi – Danish\" lang=\"da\" hreflang=\"da\" class=\"interlanguage-link-target\">Dansk</a></li><li class=\"interlanguage-link interwiki-de\"><a href=\"https://de.wikipedia.org/wiki/Verarbeitung_nat%C3%BCrlicher_Sprache\" title=\"Verarbeitung natürlicher Sprache – German\" lang=\"de\" hreflang=\"de\" class=\"interlanguage-link-target\">Deutsch</a></li><li class=\"interlanguage-link interwiki-et\"><a href=\"https://et.wikipedia.org/wiki/Loomuliku_keele_t%C3%B6%C3%B6tlus\" title=\"Loomuliku keele töötlus – Estonian\" lang=\"et\" hreflang=\"et\" class=\"interlanguage-link-target\">Eesti</a></li><li class=\"interlanguage-link interwiki-el\"><a href=\"https://el.wikipedia.org/wiki/%CE%95%CF%80%CE%B5%CE%BE%CE%B5%CF%81%CE%B3%CE%B1%CF%83%CE%AF%CE%B1_%CF%86%CF%85%CF%83%CE%B9%CE%BA%CE%AE%CF%82_%CE%B3%CE%BB%CF%8E%CF%83%CF%83%CE%B1%CF%82\" title=\"Επεξεργασία φυσικής γλώσσας – Greek\" lang=\"el\" hreflang=\"el\" class=\"interlanguage-link-target\">Ελληνικά</a></li><li class=\"interlanguage-link interwiki-es\"><a href=\"https://es.wikipedia.org/wiki/Procesamiento_de_lenguajes_naturales\" title=\"Procesamiento de lenguajes naturales – Spanish\" lang=\"es\" hreflang=\"es\" class=\"interlanguage-link-target\">Español</a></li><li class=\"interlanguage-link interwiki-eu\"><a href=\"https://eu.wikipedia.org/wiki/Hizkuntzaren_prozesamendu\" title=\"Hizkuntzaren prozesamendu – Basque\" lang=\"eu\" hreflang=\"eu\" class=\"interlanguage-link-target\">Euskara</a></li><li class=\"interlanguage-link interwiki-fa\"><a href=\"https://fa.wikipedia.org/wiki/%D9%BE%D8%B1%D8%AF%D8%A7%D8%B2%D8%B4_%D8%B2%D8%A8%D8%A7%D9%86%E2%80%8C%D9%87%D8%A7%DB%8C_%D8%B7%D8%A8%DB%8C%D8%B9%DB%8C\" title=\"پردازش زبان\\u200cهای طبیعی – Persian\" lang=\"fa\" hreflang=\"fa\" class=\"interlanguage-link-target\">فارسی</a></li><li class=\"interlanguage-link interwiki-fr\"><a href=\"https://fr.wikipedia.org/wiki/Traitement_automatique_du_langage_naturel\" title=\"Traitement automatique du langage naturel – French\" lang=\"fr\" hreflang=\"fr\" class=\"interlanguage-link-target\">Français</a></li><li class=\"interlanguage-link interwiki-gl\"><a href=\"https://gl.wikipedia.org/wiki/Procesamento_da_linguaxe_natural\" title=\"Procesamento da linguaxe natural – Galician\" lang=\"gl\" hreflang=\"gl\" class=\"interlanguage-link-target\">Galego</a></li><li class=\"interlanguage-link interwiki-ko\"><a href=\"https://ko.wikipedia.org/wiki/%EC%9E%90%EC%97%B0%EC%96%B4_%EC%B2%98%EB%A6%AC\" title=\"자연어 처리 – Korean\" lang=\"ko\" hreflang=\"ko\" class=\"interlanguage-link-target\">한국어</a></li><li class=\"interlanguage-link interwiki-hy\"><a href=\"https://hy.wikipedia.org/wiki/%D4%B2%D5%B6%D5%A1%D5%AF%D5%A1%D5%B6_%D5%AC%D5%A5%D5%A6%D5%BE%D5%AB_%D5%B4%D5%B7%D5%A1%D5%AF%D5%B8%D6%82%D5%B4\" title=\"Բնական լեզվի մշակում – Armenian\" lang=\"hy\" hreflang=\"hy\" class=\"interlanguage-link-target\">Հայերեն</a></li><li class=\"interlanguage-link interwiki-hi\"><a href=\"https://hi.wikipedia.org/wiki/%E0%A4%AA%E0%A5%8D%E0%A4%B0%E0%A4%BE%E0%A4%95%E0%A5%83%E0%A4%A4%E0%A4%BF%E0%A4%95_%E0%A4%AD%E0%A4%BE%E0%A4%B7%E0%A4%BE_%E0%A4%B8%E0%A4%82%E0%A4%B8%E0%A4%BE%E0%A4%A7%E0%A4%A8\" title=\"प्राकृतिक भाषा संसाधन – Hindi\" lang=\"hi\" hreflang=\"hi\" class=\"interlanguage-link-target\">हिन्दी</a></li><li class=\"interlanguage-link interwiki-hr\"><a href=\"https://hr.wikipedia.org/wiki/Obrada_prirodnog_jezika\" title=\"Obrada prirodnog jezika – Croatian\" lang=\"hr\" hreflang=\"hr\" class=\"interlanguage-link-target\">Hrvatski</a></li><li class=\"interlanguage-link interwiki-id\"><a href=\"https://id.wikipedia.org/wiki/Pemrosesan_bahasa_alami\" title=\"Pemrosesan bahasa alami – Indonesian\" lang=\"id\" hreflang=\"id\" class=\"interlanguage-link-target\">Bahasa Indonesia</a></li><li class=\"interlanguage-link interwiki-is\"><a href=\"https://is.wikipedia.org/wiki/M%C3%A1lgreining\" title=\"Málgreining – Icelandic\" lang=\"is\" hreflang=\"is\" class=\"interlanguage-link-target\">Íslenska</a></li><li class=\"interlanguage-link interwiki-it\"><a href=\"https://it.wikipedia.org/wiki/Elaborazione_del_linguaggio_naturale\" title=\"Elaborazione del linguaggio naturale – Italian\" lang=\"it\" hreflang=\"it\" class=\"interlanguage-link-target\">Italiano</a></li><li class=\"interlanguage-link interwiki-he\"><a href=\"https://he.wikipedia.org/wiki/%D7%A2%D7%99%D7%91%D7%95%D7%93_%D7%A9%D7%A4%D7%94_%D7%98%D7%91%D7%A2%D7%99%D7%AA\" title=\"עיבוד שפה טבעית – Hebrew\" lang=\"he\" hreflang=\"he\" class=\"interlanguage-link-target\">עברית</a></li><li class=\"interlanguage-link interwiki-kn\"><a href=\"https://kn.wikipedia.org/wiki/%E0%B2%AA%E0%B3%8D%E0%B2%B0%E0%B2%BE%E0%B2%95%E0%B3%83%E0%B2%A4%E0%B2%BF%E0%B2%95_%E0%B2%AD%E0%B2%BE%E0%B2%B7%E0%B3%86%E0%B2%AF_%E0%B2%AA%E0%B2%B0%E0%B2%BF%E0%B2%B7%E0%B3%8D%E0%B2%95%E0%B2%B0%E0%B2%A3%E0%B3%86\" title=\"ಪ್ರಾಕೃತಿಕ ಭಾಷೆಯ ಪರಿಷ್ಕರಣೆ – Kannada\" lang=\"kn\" hreflang=\"kn\" class=\"interlanguage-link-target\">ಕನ್ನಡ</a></li><li class=\"interlanguage-link interwiki-ka\"><a href=\"https://ka.wikipedia.org/wiki/%E1%83%91%E1%83%A3%E1%83%9C%E1%83%94%E1%83%91%E1%83%A0%E1%83%98%E1%83%95%E1%83%98_%E1%83%94%E1%83%9C%E1%83%98%E1%83%A1_%E1%83%93%E1%83%90%E1%83%9B%E1%83%A3%E1%83%A8%E1%83%90%E1%83%95%E1%83%94%E1%83%91%E1%83%90\" title=\"ბუნებრივი ენის დამუშავება – Georgian\" lang=\"ka\" hreflang=\"ka\" class=\"interlanguage-link-target\">ქართული</a></li><li class=\"interlanguage-link interwiki-lt\"><a href=\"https://lt.wikipedia.org/wiki/Nat%C5%ABralios_kalbos_apdorojimas\" title=\"Natūralios kalbos apdorojimas – Lithuanian\" lang=\"lt\" hreflang=\"lt\" class=\"interlanguage-link-target\">Lietuvių</a></li><li class=\"interlanguage-link interwiki-mk\"><a href=\"https://mk.wikipedia.org/wiki/%D0%9E%D0%B1%D1%80%D0%B0%D0%B1%D0%BE%D1%82%D0%BA%D0%B0_%D0%BD%D0%B0_%D0%BF%D1%80%D0%B8%D1%80%D0%BE%D0%B4%D0%BD%D0%B8_%D1%98%D0%B0%D0%B7%D0%B8%D1%86%D0%B8\" title=\"Обработка на природни јазици – Macedonian\" lang=\"mk\" hreflang=\"mk\" class=\"interlanguage-link-target\">Македонски</a></li><li class=\"interlanguage-link interwiki-mr\"><a href=\"https://mr.wikipedia.org/wiki/%E0%A4%A8%E0%A5%88%E0%A4%B8%E0%A4%B0%E0%A5%8D%E0%A4%97%E0%A4%BF%E0%A4%95_%E0%A4%AD%E0%A4%BE%E0%A4%B7%E0%A4%BE_%E0%A4%AA%E0%A5%8D%E0%A4%B0%E0%A4%95%E0%A5%8D%E0%A4%B0%E0%A4%BF%E0%A4%AF%E0%A4%BE\" title=\"नैसर्गिक भाषा प्रक्रिया – Marathi\" lang=\"mr\" hreflang=\"mr\" class=\"interlanguage-link-target\">मराठी</a></li><li class=\"interlanguage-link interwiki-mn\"><a href=\"https://mn.wikipedia.org/wiki/%D0%A5%D1%8D%D0%BB_%D1%8F%D1%80%D0%B8%D0%B0%D0%BD%D1%8B_%D1%85%D0%B8%D0%B9%D0%BC%D1%8D%D0%BB_%D0%BE%D1%8E%D1%83%D0%BD\" title=\"Хэл ярианы хиймэл оюун – Mongolian\" lang=\"mn\" hreflang=\"mn\" class=\"interlanguage-link-target\">Монгол</a></li><li class=\"interlanguage-link interwiki-my\"><a href=\"https://my.wikipedia.org/wiki/%E1%80%99%E1%80%AD%E1%80%81%E1%80%84%E1%80%BA%E1%80%98%E1%80%AC%E1%80%9E%E1%80%AC%E1%80%85%E1%80%80%E1%80%AC%E1%80%B8%E1%80%9E%E1%80%AF%E1%80%B6%E1%80%B8_%E1%80%80%E1%80%BD%E1%80%94%E1%80%BA%E1%80%95%E1%80%BB%E1%80%B0%E1%80%90%E1%80%AC%E1%80%85%E1%80%94%E1%80%85%E1%80%BA\" title=\"မိခင်ဘာသာစကားသုံး ကွန်ပျူတာစနစ် – Burmese\" lang=\"my\" hreflang=\"my\" class=\"interlanguage-link-target\">မြန်မာဘာသာ</a></li><li class=\"interlanguage-link interwiki-ja\"><a href=\"https://ja.wikipedia.org/wiki/%E8%87%AA%E7%84%B6%E8%A8%80%E8%AA%9E%E5%87%A6%E7%90%86\" title=\"自然言語処理 – Japanese\" lang=\"ja\" hreflang=\"ja\" class=\"interlanguage-link-target\">日本語</a></li><li class=\"interlanguage-link interwiki-or\"><a href=\"https://or.wikipedia.org/wiki/%E0%AC%A8%E0%AD%8D%E0%AD%9F%E0%AC%BE%E0%AC%9A%E0%AD%81%E0%AC%B0%E0%AC%BE%E0%AC%B2_%E0%AC%B2%E0%AC%BE%E0%AC%99%E0%AD%8D%E0%AC%97%E0%AD%81%E0%AC%8F%E0%AC%9C_%E0%AC%AA%E0%AD%8D%E0%AC%B0%E0%AD%8B%E0%AC%B8%E0%AD%87%E0%AC%B8%E0%AC%BF%E0%AC%82\" title=\"ନ୍ୟାଚୁରାଲ ଲାଙ୍ଗୁଏଜ ପ୍ରୋସେସିଂ – Odia\" lang=\"or\" hreflang=\"or\" class=\"interlanguage-link-target\">ଓଡ଼ିଆ</a></li><li class=\"interlanguage-link interwiki-pms\"><a href=\"https://pms.wikipedia.org/wiki/NLP\" title=\"NLP – Piedmontese\" lang=\"pms\" hreflang=\"pms\" class=\"interlanguage-link-target\">Piemontèis</a></li><li class=\"interlanguage-link interwiki-pl\"><a href=\"https://pl.wikipedia.org/wiki/Przetwarzanie_j%C4%99zyka_naturalnego\" title=\"Przetwarzanie języka naturalnego – Polish\" lang=\"pl\" hreflang=\"pl\" class=\"interlanguage-link-target\">Polski</a></li><li class=\"interlanguage-link interwiki-pt\"><a href=\"https://pt.wikipedia.org/wiki/Processamento_de_linguagem_natural\" title=\"Processamento de linguagem natural – Portuguese\" lang=\"pt\" hreflang=\"pt\" class=\"interlanguage-link-target\">Português</a></li><li class=\"interlanguage-link interwiki-ro\"><a href=\"https://ro.wikipedia.org/wiki/Prelucrarea_limbajului_natural\" title=\"Prelucrarea limbajului natural – Romanian\" lang=\"ro\" hreflang=\"ro\" class=\"interlanguage-link-target\">Română</a></li><li class=\"interlanguage-link interwiki-ru\"><a href=\"https://ru.wikipedia.org/wiki/%D0%9E%D0%B1%D1%80%D0%B0%D0%B1%D0%BE%D1%82%D0%BA%D0%B0_%D0%B5%D1%81%D1%82%D0%B5%D1%81%D1%82%D0%B2%D0%B5%D0%BD%D0%BD%D0%BE%D0%B3%D0%BE_%D1%8F%D0%B7%D1%8B%D0%BA%D0%B0\" title=\"Обработка естественного языка – Russian\" lang=\"ru\" hreflang=\"ru\" class=\"interlanguage-link-target\">Русский</a></li><li class=\"interlanguage-link interwiki-simple\"><a href=\"https://simple.wikipedia.org/wiki/Natural_language_processing\" title=\"Natural language processing – Simple English\" lang=\"en-simple\" hreflang=\"en-simple\" class=\"interlanguage-link-target\">Simple English</a></li><li class=\"interlanguage-link interwiki-ckb\"><a href=\"https://ckb.wikipedia.org/wiki/%D9%BE%DB%8E%D9%88%D8%A7%DA%98%DB%86%DA%A9%D8%B1%D8%AF%D9%86%DB%8C_%D8%B2%D9%85%D8%A7%D9%86%DB%8C_%D8%B3%D8%B1%D9%88%D8%B4%D8%AA%DB%8C\" title=\"پێواژۆکردنی زمانی سروشتی – Central Kurdish\" lang=\"ckb\" hreflang=\"ckb\" class=\"interlanguage-link-target\">کوردی</a></li><li class=\"interlanguage-link interwiki-sr\"><a href=\"https://sr.wikipedia.org/wiki/Obrada_prirodnih_jezika\" title=\"Obrada prirodnih jezika – Serbian\" lang=\"sr\" hreflang=\"sr\" class=\"interlanguage-link-target\">Српски / srpski</a></li><li class=\"interlanguage-link interwiki-sh\"><a href=\"https://sh.wikipedia.org/wiki/Obrada_prirodnih_jezika\" title=\"Obrada prirodnih jezika – Serbo-Croatian\" lang=\"sh\" hreflang=\"sh\" class=\"interlanguage-link-target\">Srpskohrvatski / српскохрватски</a></li><li class=\"interlanguage-link interwiki-ta\"><a href=\"https://ta.wikipedia.org/wiki/%E0%AE%87%E0%AE%AF%E0%AE%B1%E0%AF%8D%E0%AE%95%E0%AF%88_%E0%AE%AE%E0%AF%8A%E0%AE%B4%E0%AE%BF_%E0%AE%AE%E0%AF%81%E0%AE%B1%E0%AF%88%E0%AE%AF%E0%AE%BE%E0%AE%95%E0%AF%8D%E0%AE%95%E0%AE%AE%E0%AF%8D\" title=\"இயற்கை மொழி முறையாக்கம் – Tamil\" lang=\"ta\" hreflang=\"ta\" class=\"interlanguage-link-target\">தமிழ்</a></li><li class=\"interlanguage-link interwiki-th\"><a href=\"https://th.wikipedia.org/wiki/%E0%B8%81%E0%B8%B2%E0%B8%A3%E0%B8%9B%E0%B8%A3%E0%B8%B0%E0%B8%A1%E0%B8%A7%E0%B8%A5%E0%B8%A0%E0%B8%B2%E0%B8%A9%E0%B8%B2%E0%B8%98%E0%B8%A3%E0%B8%A3%E0%B8%A1%E0%B8%8A%E0%B8%B2%E0%B8%95%E0%B8%B4\" title=\"การประมวลภาษาธรรมชาติ – Thai\" lang=\"th\" hreflang=\"th\" class=\"interlanguage-link-target\">ไทย</a></li><li class=\"interlanguage-link interwiki-tr\"><a href=\"https://tr.wikipedia.org/wiki/Do%C4%9Fal_dil_i%C5%9Fleme\" title=\"Doğal dil işleme – Turkish\" lang=\"tr\" hreflang=\"tr\" class=\"interlanguage-link-target\">Türkçe</a></li><li class=\"interlanguage-link interwiki-uk\"><a href=\"https://uk.wikipedia.org/wiki/%D0%9E%D0%B1%D1%80%D0%BE%D0%B1%D0%BA%D0%B0_%D0%BF%D1%80%D0%B8%D1%80%D0%BE%D0%B4%D0%BD%D0%BE%D1%97_%D0%BC%D0%BE%D0%B2%D0%B8\" title=\"Обробка природної мови – Ukrainian\" lang=\"uk\" hreflang=\"uk\" class=\"interlanguage-link-target\">Українська</a></li><li class=\"interlanguage-link interwiki-vi\"><a href=\"https://vi.wikipedia.org/wiki/X%E1%BB%AD_l%C3%BD_ng%C3%B4n_ng%E1%BB%AF_t%E1%BB%B1_nhi%C3%AAn\" title=\"Xử lý ngôn ngữ tự nhiên – Vietnamese\" lang=\"vi\" hreflang=\"vi\" class=\"interlanguage-link-target\">Tiếng Việt</a></li><li class=\"interlanguage-link interwiki-zh-yue\"><a href=\"https://zh-yue.wikipedia.org/wiki/%E8%87%AA%E7%84%B6%E8%AA%9E%E8%A8%80%E8%99%95%E7%90%86\" title=\"自然語言處理 – Cantonese\" lang=\"yue\" hreflang=\"yue\" class=\"interlanguage-link-target\">粵語</a></li><li class=\"interlanguage-link interwiki-zh\"><a href=\"https://zh.wikipedia.org/wiki/%E8%87%AA%E7%84%B6%E8%AF%AD%E8%A8%80%E5%A4%84%E7%90%86\" title=\"自然语言处理 – Chinese\" lang=\"zh\" hreflang=\"zh\" class=\"interlanguage-link-target\">中文</a></li>\\t\\t\\t\\t</ul>\\n\\t\\t\\t\\t<div class=\"after-portlet after-portlet-lang\"><span class=\"wb-langlinks-edit wb-langlinks-link\"><a href=\"https://www.wikidata.org/wiki/Special:EntityPage/Q30642#sitelinks-wikipedia\" title=\"Edit interlanguage links\" class=\"wbc-editpage\">Edit links</a></span></div>\\t\\t\\t</div>\\n\\t\\t</div>\\n\\t\\t\\t\\t</div>\\n\\t\\t</div>\\n\\t\\t\\t\\t<div id=\"footer\" role=\"contentinfo\">\\n\\t\\t\\t\\t\\t\\t<ul id=\"footer-info\">\\n\\t\\t\\t\\t\\t\\t\\t\\t<li id=\"footer-info-lastmod\"> This page was last edited on 5 January 2020, at 04:01<span class=\"anonymous-show\">&#160;(UTC)</span>.</li>\\n\\t\\t\\t\\t\\t\\t\\t\\t<li id=\"footer-info-copyright\">Text is available under the <a rel=\"license\" href=\"//en.wikipedia.org/wiki/Wikipedia:Text_of_Creative_Commons_Attribution-ShareAlike_3.0_Unported_License\">Creative Commons Attribution-ShareAlike License</a><a rel=\"license\" href=\"//creativecommons.org/licenses/by-sa/3.0/\" style=\"display:none;\"></a>;\\nadditional terms may apply.  By using this site, you agree to the <a href=\"//foundation.wikimedia.org/wiki/Terms_of_Use\">Terms of Use</a> and <a href=\"//foundation.wikimedia.org/wiki/Privacy_policy\">Privacy Policy</a>. Wikipedia® is a registered trademark of the <a href=\"//www.wikimediafoundation.org/\">Wikimedia Foundation, Inc.</a>, a non-profit organization.</li>\\n\\t\\t\\t\\t\\t\\t\\t</ul>\\n\\t\\t\\t\\t\\t\\t<ul id=\"footer-places\">\\n\\t\\t\\t\\t\\t\\t\\t\\t<li id=\"footer-places-privacy\"><a href=\"https://foundation.wikimedia.org/wiki/Privacy_policy\" class=\"extiw\" title=\"wmf:Privacy policy\">Privacy policy</a></li>\\n\\t\\t\\t\\t\\t\\t\\t\\t<li id=\"footer-places-about\"><a href=\"/wiki/Wikipedia:About\" title=\"Wikipedia:About\">About Wikipedia</a></li>\\n\\t\\t\\t\\t\\t\\t\\t\\t<li id=\"footer-places-disclaimer\"><a href=\"/wiki/Wikipedia:General_disclaimer\" title=\"Wikipedia:General disclaimer\">Disclaimers</a></li>\\n\\t\\t\\t\\t\\t\\t\\t\\t<li id=\"footer-places-contact\"><a href=\"//en.wikipedia.org/wiki/Wikipedia:Contact_us\">Contact Wikipedia</a></li>\\n\\t\\t\\t\\t\\t\\t\\t\\t<li id=\"footer-places-developers\"><a href=\"https://www.mediawiki.org/wiki/Special:MyLanguage/How_to_contribute\">Developers</a></li>\\n\\t\\t\\t\\t\\t\\t\\t\\t<li id=\"footer-places-statslink\"><a href=\"https://stats.wikimedia.org/v2/#/en.wikipedia.org\">Statistics</a></li>\\n\\t\\t\\t\\t\\t\\t\\t\\t<li id=\"footer-places-cookiestatement\"><a href=\"https://foundation.wikimedia.org/wiki/Cookie_statement\">Cookie statement</a></li>\\n\\t\\t\\t\\t\\t\\t\\t\\t<li id=\"footer-places-mobileview\"><a href=\"//en.m.wikipedia.org/w/index.php?title=Natural_language_processing&amp;mobileaction=toggle_view_mobile\" class=\"noprint stopMobileRedirectToggle\">Mobile view</a></li>\\n\\t\\t\\t\\t\\t\\t\\t</ul>\\n\\t\\t\\t\\t\\t\\t\\t\\t\\t\\t<ul id=\"footer-icons\" class=\"noprint\">\\n\\t\\t\\t\\t\\t\\t\\t\\t\\t\\t<li id=\"footer-copyrightico\">\\n\\t\\t\\t\\t\\t\\t<a href=\"https://wikimediafoundation.org/\"><img src=\"/static/images/wikimedia-button.png\" srcset=\"/static/images/wikimedia-button-1.5x.png 1.5x, /static/images/wikimedia-button-2x.png 2x\" width=\"88\" height=\"31\" alt=\"Wikimedia Foundation\"/></a>\\t\\t\\t\\t\\t</li>\\n\\t\\t\\t\\t\\t\\t\\t\\t\\t\\t<li id=\"footer-poweredbyico\">\\n\\t\\t\\t\\t\\t\\t<a href=\"https://www.mediawiki.org/\"><img src=\"/static/images/poweredby_mediawiki_88x31.png\" alt=\"Powered by MediaWiki\" srcset=\"/static/images/poweredby_mediawiki_132x47.png 1.5x, /static/images/poweredby_mediawiki_176x62.png 2x\" width=\"88\" height=\"31\"/></a>\\t\\t\\t\\t\\t</li>\\n\\t\\t\\t\\t\\t\\t\\t\\t\\t</ul>\\n\\t\\t\\t\\t\\t\\t<div style=\"clear: both;\"></div>\\n\\t\\t</div>\\n\\t\\t\\n\\n<script>(RLQ=window.RLQ||[]).push(function(){mw.config.set({\"wgPageParseReport\":{\"limitreport\":{\"cputime\":\"0.508\",\"walltime\":\"0.727\",\"ppvisitednodes\":{\"value\":2540,\"limit\":1000000},\"ppgeneratednodes\":{\"value\":0,\"limit\":1500000},\"postexpandincludesize\":{\"value\":44202,\"limit\":2097152},\"templateargumentsize\":{\"value\":4909,\"limit\":2097152},\"expansiondepth\":{\"value\":14,\"limit\":40},\"expensivefunctioncount\":{\"value\":8,\"limit\":500},\"unstrip-depth\":{\"value\":1,\"limit\":20},\"unstrip-size\":{\"value\":35109,\"limit\":5000000},\"entityaccesscount\":{\"value\":4,\"limit\":400},\"timingprofile\":[\"100.00%  637.638      1 -total\",\" 31.49%  200.774      1 Template:Reflist\",\" 18.20%  116.063      1 Template:Cite_conference\",\" 12.99%   82.810      7 Template:ISBN\",\" 12.12%   77.301      1 Template:Authority_control\",\" 11.90%   75.886      1 Template:Clarify\",\" 10.90%   69.525      1 Template:Fix-span\",\"  7.43%   47.355      4 Template:Category_handler\",\"  5.44%   34.718      1 Template:Citation\",\"  5.15%   32.862      1 Template:Distinguish\"]},\"scribunto\":{\"limitreport-timeusage\":{\"value\":\"0.248\",\"limit\":\"10.000\"},\"limitreport-memusage\":{\"value\":5633794,\"limit\":52428800}},\"cachereport\":{\"origin\":\"mw1333\",\"timestamp\":\"20200120022809\",\"ttl\":2592000,\"transientcontent\":false}}});});</script>\\n<script type=\"application/ld+json\">{\"@context\":\"https:\\\\/\\\\/schema.org\",\"@type\":\"Article\",\"name\":\"Natural language processing\",\"url\":\"https:\\\\/\\\\/en.wikipedia.org\\\\/wiki\\\\/Natural_language_processing\",\"sameAs\":\"http:\\\\/\\\\/www.wikidata.org\\\\/entity\\\\/Q30642\",\"mainEntity\":\"http:\\\\/\\\\/www.wikidata.org\\\\/entity\\\\/Q30642\",\"author\":{\"@type\":\"Organization\",\"name\":\"Contributors to Wikimedia projects\"},\"publisher\":{\"@type\":\"Organization\",\"name\":\"Wikimedia Foundation, Inc.\",\"logo\":{\"@type\":\"ImageObject\",\"url\":\"https:\\\\/\\\\/www.wikimedia.org\\\\/static\\\\/images\\\\/wmf-hor-googpub.png\"}},\"datePublished\":\"2001-09-22T05:47:41Z\",\"dateModified\":\"2020-01-05T04:01:05Z\",\"image\":\"https:\\\\/\\\\/upload.wikimedia.org\\\\/wikipedia\\\\/commons\\\\/8\\\\/8b\\\\/Automated_online_assistant.png\",\"headline\":\"field of computer science and linguistics\"}</script>\\n<script>(RLQ=window.RLQ||[]).push(function(){mw.config.set({\"wgBackendResponseTime\":123,\"wgHostname\":\"mw1255\"});});</script>\\n</body>\\n</html>\\n'"
      ]
     },
     "execution_count": 115,
     "metadata": {},
     "output_type": "execute_result"
    }
   ],
   "source": [
    "# request the content using requests\n",
    "\n",
    "response = requests.get('https://en.wikipedia.org/wiki/Natural_language_processing')\n",
    "# print(response)\n",
    "print(response.status_code)\n",
    "\n",
    "html_doc = response.text\n",
    "html_doc"
   ]
  },
  {
   "cell_type": "code",
   "execution_count": 117,
   "metadata": {
    "scrolled": true
   },
   "outputs": [
    {
     "data": {
      "text/plain": [
       "b'<!DOCTYPE html>\\n<html class=\"client-nojs\" lang=\"en\" dir=\"ltr\">\\n<head>\\n<meta charset=\"UTF-8\"/>\\n<title>Natural language processing - Wikipedia</title>\\n<script>document.documentElement.className=\"client-js\";RLCONF={\"wgBreakFrames\":!1,\"wgSeparatorTransformTable\":[\"\",\"\"],\"wgDigitTransformTable\":[\"\",\"\"],\"wgDefaultDateFormat\":\"dmy\",\"wgMonthNames\":[\"\",\"January\",\"February\",\"March\",\"April\",\"May\",\"June\",\"July\",\"August\",\"September\",\"October\",\"November\",\"December\"],\"wgMonthNamesShort\":[\"\",\"Jan\",\"Feb\",\"Mar\",\"Apr\",\"May\",\"Jun\",\"Jul\",\"Aug\",\"Sep\",\"Oct\",\"Nov\",\"Dec\"],\"wgRequestId\":\"XiUXdApAMFEAACU8fw0AAAAD\",\"wgCSPNonce\":!1,\"wgCanonicalNamespace\":\"\",\"wgCanonicalSpecialPageName\":!1,\"wgNamespaceNumber\":0,\"wgPageName\":\"Natural_language_processing\",\"wgTitle\":\"Natural language processing\",\"wgCurRevisionId\":934178090,\"wgRevisionId\":934178090,\"wgArticleId\":21652,\"wgIsArticle\":!0,\"wgIsRedirect\":!1,\"wgAction\":\"view\",\"wgUserName\":null,\"wgUserGroups\":[\"*\"],\"wgCategories\":[\"Webarchive template wayback links\",\"Wikipedia articles needing clarification from October 2019\",\"All accuracy disputes\",\"Articles with disputed statements from June 2018\",\\n\"Wikipedia articles with LCCN identifiers\",\"Wikipedia articles with NDL identifiers\",\"Natural language processing\",\"Computational linguistics\",\"Speech recognition\",\"Computational fields of study\",\"Artificial intelligence\"],\"wgPageContentLanguage\":\"en\",\"wgPageContentModel\":\"wikitext\",\"wgRelevantPageName\":\"Natural_language_processing\",\"wgRelevantArticleId\":21652,\"wgIsProbablyEditable\":!0,\"wgRelevantPageIsProbablyEditable\":!0,\"wgRestrictionEdit\":[],\"wgRestrictionMove\":[],\"wgMediaViewerOnClick\":!0,\"wgMediaViewerEnabledByDefault\":!0,\"wgPopupsReferencePreviews\":!1,\"wgPopupsConflictsWithNavPopupGadget\":!1,\"wgVisualEditor\":{\"pageLanguageCode\":\"en\",\"pageLanguageDir\":\"ltr\",\"pageVariantFallbacks\":\"en\"},\"wgMFDisplayWikibaseDescriptions\":{\"search\":!0,\"nearby\":!0,\"watchlist\":!0,\"tagline\":!1},\"wgWMESchemaEditAttemptStepOversample\":!1,\"wgULSCurrentAutonym\":\"English\",\"wgNoticeProject\":\"wikipedia\",\"wgWikibaseItemId\":\"Q30642\",\"wgCentralAuthMobileDomain\":!1,\\n\"wgEditSubmitButtonLabelPublish\":!0};RLSTATE={\"ext.globalCssJs.user.styles\":\"ready\",\"site.styles\":\"ready\",\"noscript\":\"ready\",\"user.styles\":\"ready\",\"ext.globalCssJs.user\":\"ready\",\"user\":\"ready\",\"user.options\":\"ready\",\"user.tokens\":\"loading\",\"ext.cite.styles\":\"ready\",\"mediawiki.legacy.shared\":\"ready\",\"mediawiki.legacy.commonPrint\":\"ready\",\"jquery.makeCollapsible.styles\":\"ready\",\"mediawiki.toc.styles\":\"ready\",\"mediawiki.skinning.interface\":\"ready\",\"skins.vector.styles\":\"ready\",\"wikibase.client.init\":\"ready\",\"ext.visualEditor.desktopArticleTarget.noscript\":\"ready\",\"ext.uls.interlanguage\":\"ready\",\"ext.wikimediaBadges\":\"ready\"};RLPAGEMODULES=[\"ext.cite.ux-enhancements\",\"site\",\"mediawiki.page.startup\",\"skins.vector.js\",\"mediawiki.page.ready\",\"jquery.makeCollapsible\",\"mediawiki.toc\",\"ext.gadget.ReferenceTooltips\",\"ext.gadget.watchlist-notice\",\"ext.gadget.DRN-wizard\",\"ext.gadget.charinsert\",\"ext.gadget.refToolbar\",\"ext.gadget.extra-toolbar-buttons\",\"ext.gadget.switcher\",\\n\"ext.centralauth.centralautologin\",\"mmv.head\",\"mmv.bootstrap.autostart\",\"ext.popups\",\"ext.visualEditor.desktopArticleTarget.init\",\"ext.visualEditor.targetLoader\",\"ext.eventLogging\",\"ext.wikimediaEvents\",\"ext.navigationTiming\",\"ext.uls.compactlinks\",\"ext.uls.interface\",\"ext.cx.eventlogging.campaigns\",\"ext.quicksurveys.init\",\"ext.centralNotice.geoIP\",\"ext.centralNotice.startUp\"];</script>\\n<script>(RLQ=window.RLQ||[]).push(function(){mw.loader.implement(\"user.tokens@tffin\",function($,jQuery,require,module){/*@nomin*/mw.user.tokens.set({\"patrolToken\":\"+\\\\\\\\\",\"watchToken\":\"+\\\\\\\\\",\"csrfToken\":\"+\\\\\\\\\"});\\n});});</script>\\n<link rel=\"stylesheet\" href=\"/w/load.php?lang=en&amp;modules=ext.cite.styles%7Cext.uls.interlanguage%7Cext.visualEditor.desktopArticleTarget.noscript%7Cext.wikimediaBadges%7Cjquery.makeCollapsible.styles%7Cmediawiki.legacy.commonPrint%2Cshared%7Cmediawiki.skinning.interface%7Cmediawiki.toc.styles%7Cskins.vector.styles%7Cwikibase.client.init&amp;only=styles&amp;skin=vector\"/>\\n<script async=\"\" src=\"/w/load.php?lang=en&amp;modules=startup&amp;only=scripts&amp;raw=1&amp;skin=vector\"></script>\\n<meta name=\"ResourceLoaderDynamicStyles\" content=\"\"/>\\n<link rel=\"stylesheet\" href=\"/w/load.php?lang=en&amp;modules=site.styles&amp;only=styles&amp;skin=vector\"/>\\n<meta name=\"generator\" content=\"MediaWiki 1.35.0-wmf.15\"/>\\n<meta name=\"referrer\" content=\"origin\"/>\\n<meta name=\"referrer\" content=\"origin-when-crossorigin\"/>\\n<meta name=\"referrer\" content=\"origin-when-cross-origin\"/>\\n<meta property=\"og:image\" content=\"https://upload.wikimedia.org/wikipedia/commons/8/8b/Automated_online_assistant.png\"/>\\n<link rel=\"alternate\" href=\"android-app://org.wikipedia/http/en.m.wikipedia.org/wiki/Natural_language_processing\"/>\\n<link rel=\"alternate\" type=\"application/x-wiki\" title=\"Edit this page\" href=\"/w/index.php?title=Natural_language_processing&amp;action=edit\"/>\\n<link rel=\"edit\" title=\"Edit this page\" href=\"/w/index.php?title=Natural_language_processing&amp;action=edit\"/>\\n<link rel=\"apple-touch-icon\" href=\"/static/apple-touch/wikipedia.png\"/>\\n<link rel=\"shortcut icon\" href=\"/static/favicon/wikipedia.ico\"/>\\n<link rel=\"search\" type=\"application/opensearchdescription+xml\" href=\"/w/opensearch_desc.php\" title=\"Wikipedia (en)\"/>\\n<link rel=\"EditURI\" type=\"application/rsd+xml\" href=\"//en.wikipedia.org/w/api.php?action=rsd\"/>\\n<link rel=\"license\" href=\"//creativecommons.org/licenses/by-sa/3.0/\"/>\\n<link rel=\"canonical\" href=\"https://en.wikipedia.org/wiki/Natural_language_processing\"/>\\n<link rel=\"dns-prefetch\" href=\"//login.wikimedia.org\"/>\\n<link rel=\"dns-prefetch\" href=\"//meta.wikimedia.org\" />\\n<!--[if lt IE 9]><script src=\"/w/resources/lib/html5shiv/html5shiv.js\"></script><![endif]-->\\n</head>\\n<body class=\"mediawiki ltr sitedir-ltr mw-hide-empty-elt ns-0 ns-subject mw-editable page-Natural_language_processing rootpage-Natural_language_processing skin-vector action-view\">\\n<div id=\"mw-page-base\" class=\"noprint\"></div>\\n<div id=\"mw-head-base\" class=\"noprint\"></div>\\n<div id=\"content\" class=\"mw-body\" role=\"main\">\\n\\t<a id=\"top\"></a>\\n\\t<div id=\"siteNotice\" class=\"mw-body-content\"><!-- CentralNotice --></div>\\n\\t<div class=\"mw-indicators mw-body-content\">\\n</div>\\n\\n\\t<h1 id=\"firstHeading\" class=\"firstHeading\" lang=\"en\">Natural language processing</h1>\\n\\t\\n\\t<div id=\"bodyContent\" class=\"mw-body-content\">\\n\\t\\t<div id=\"siteSub\" class=\"noprint\">From Wikipedia, the free encyclopedia</div>\\n\\t\\t<div id=\"contentSub\"></div>\\n\\t\\t\\n\\t\\t\\n\\t\\t\\n\\t\\t<div id=\"jump-to-nav\"></div>\\n\\t\\t<a class=\"mw-jump-link\" href=\"#mw-head\">Jump to navigation</a>\\n\\t\\t<a class=\"mw-jump-link\" href=\"#p-search\">Jump to search</a>\\n\\t\\t<div id=\"mw-content-text\" lang=\"en\" dir=\"ltr\" class=\"mw-content-ltr\"><div class=\"mw-parser-output\"><div role=\"note\" class=\"hatnote navigation-not-searchable\">Not to be confused with <a href=\"/wiki/Nonlinear_programming\" title=\"Nonlinear programming\">Nonlinear programming</a>.</div><div class=\"thumb tright\"><div class=\"thumbinner\" style=\"width:202px;\"><a href=\"/wiki/File:Automated_online_assistant.png\" class=\"image\"><img alt=\"\" src=\"//upload.wikimedia.org/wikipedia/commons/thumb/8/8b/Automated_online_assistant.png/200px-Automated_online_assistant.png\" decoding=\"async\" width=\"200\" height=\"251\" class=\"thumbimage\" srcset=\"//upload.wikimedia.org/wikipedia/commons/thumb/8/8b/Automated_online_assistant.png/300px-Automated_online_assistant.png 1.5x, //upload.wikimedia.org/wikipedia/commons/8/8b/Automated_online_assistant.png 2x\" data-file-width=\"400\" data-file-height=\"501\" /></a>  <div class=\"thumbcaption\"><div class=\"magnify\"><a href=\"/wiki/File:Automated_online_assistant.png\" class=\"internal\" title=\"Enlarge\"></a></div>An <a href=\"/wiki/Automated_online_assistant\" class=\"mw-redirect\" title=\"Automated online assistant\">automated online assistant</a> providing <a href=\"/wiki/Customer_service\" title=\"Customer service\">customer service</a> on a web page, an example of an application where natural language processing is a major component.<sup id=\"cite_ref-Kongthon_1-0\" class=\"reference\"><a href=\"#cite_note-Kongthon-1\">&#91;1&#93;</a></sup></div></div></div>\\n<p><b>Natural language processing</b> (<b>NLP</b>) is a subfield of <a href=\"/wiki/Linguistics\" title=\"Linguistics\">linguistics</a>, <a href=\"/wiki/Computer_science\" title=\"Computer science\">computer science</a>, <a href=\"/wiki/Information_engineering_(field)\" title=\"Information engineering (field)\">information engineering</a>, and <a href=\"/wiki/Artificial_intelligence\" title=\"Artificial intelligence\">artificial intelligence</a> concerned with the interactions between computers and human (natural) languages, in particular how to program computers to process and analyze large amounts of <a href=\"/wiki/Natural_language\" title=\"Natural language\">natural language</a> data.\\n</p><p>Challenges in natural language processing frequently involve <a href=\"/wiki/Speech_recognition\" title=\"Speech recognition\">speech recognition</a>, <a href=\"/wiki/Natural_language_understanding\" class=\"mw-redirect\" title=\"Natural language understanding\">natural language understanding</a>, and <a href=\"/wiki/Natural_language_generation\" class=\"mw-redirect\" title=\"Natural language generation\">natural language generation</a>.\\n</p>\\n<div id=\"toc\" class=\"toc\"><input type=\"checkbox\" role=\"button\" id=\"toctogglecheckbox\" class=\"toctogglecheckbox\" style=\"display:none\" /><div class=\"toctitle\" lang=\"en\" dir=\"ltr\"><h2>Contents</h2><span class=\"toctogglespan\"><label class=\"toctogglelabel\" for=\"toctogglecheckbox\"></label></span></div>\\n<ul>\\n<li class=\"toclevel-1 tocsection-1\"><a href=\"#History\"><span class=\"tocnumber\">1</span> <span class=\"toctext\">History</span></a></li>\\n<li class=\"toclevel-1 tocsection-2\"><a href=\"#Rule-based_vs._statistical_NLP\"><span class=\"tocnumber\">2</span> <span class=\"toctext\">Rule-based vs. statistical NLP</span></a></li>\\n<li class=\"toclevel-1 tocsection-3\"><a href=\"#Major_evaluations_and_tasks\"><span class=\"tocnumber\">3</span> <span class=\"toctext\">Major evaluations and tasks</span></a>\\n<ul>\\n<li class=\"toclevel-2 tocsection-4\"><a href=\"#Syntax\"><span class=\"tocnumber\">3.1</span> <span class=\"toctext\">Syntax</span></a></li>\\n<li class=\"toclevel-2 tocsection-5\"><a href=\"#Semantics\"><span class=\"tocnumber\">3.2</span> <span class=\"toctext\">Semantics</span></a></li>\\n<li class=\"toclevel-2 tocsection-6\"><a href=\"#Discourse\"><span class=\"tocnumber\">3.3</span> <span class=\"toctext\">Discourse</span></a></li>\\n<li class=\"toclevel-2 tocsection-7\"><a href=\"#Speech\"><span class=\"tocnumber\">3.4</span> <span class=\"toctext\">Speech</span></a></li>\\n<li class=\"toclevel-2 tocsection-8\"><a href=\"#Dialogue\"><span class=\"tocnumber\">3.5</span> <span class=\"toctext\">Dialogue</span></a></li>\\n</ul>\\n</li>\\n<li class=\"toclevel-1 tocsection-9\"><a href=\"#See_also\"><span class=\"tocnumber\">4</span> <span class=\"toctext\">See also</span></a></li>\\n<li class=\"toclevel-1 tocsection-10\"><a href=\"#References\"><span class=\"tocnumber\">5</span> <span class=\"toctext\">References</span></a></li>\\n<li class=\"toclevel-1 tocsection-11\"><a href=\"#Further_reading\"><span class=\"tocnumber\">6</span> <span class=\"toctext\">Further reading</span></a></li>\\n</ul>\\n</div>\\n\\n<h2><span class=\"mw-headline\" id=\"History\">History</span><span class=\"mw-editsection\"><span class=\"mw-editsection-bracket\">[</span><a href=\"/w/index.php?title=Natural_language_processing&amp;action=edit&amp;section=1\" title=\"Edit section: History\">edit</a><span class=\"mw-editsection-bracket\">]</span></span></h2>\\n<p>The <a href=\"/wiki/History_of_natural_language_processing\" title=\"History of natural language processing\">history of natural language processing</a> (NLP) generally started in the 1950s, although work can be found from earlier periods.\\nIn 1950, <a href=\"/wiki/Alan_Turing\" title=\"Alan Turing\">Alan Turing</a> published an article titled \"<a href=\"/wiki/Computing_Machinery_and_Intelligence\" title=\"Computing Machinery and Intelligence\">Computing Machinery and Intelligence</a>\" which proposed what is now called the <a href=\"/wiki/Turing_test\" title=\"Turing test\">Turing test</a> as a criterion of intelligence<sup class=\"noprint Inline-Template\" style=\"margin-left:0.1em; white-space:nowrap;\">&#91;<i><a href=\"/wiki/Wikipedia:Please_clarify\" title=\"Wikipedia:Please clarify\"><span title=\"What is the relationship between the Turing test and NLP? (October 2019)\">clarification needed</span></a></i>&#93;</sup>.\\n</p><p>The <a href=\"/wiki/Georgetown-IBM_experiment\" class=\"mw-redirect\" title=\"Georgetown-IBM experiment\">Georgetown experiment</a> in 1954 involved fully <a href=\"/wiki/Automatic_translation\" class=\"mw-redirect\" title=\"Automatic translation\">automatic translation</a> of more than sixty Russian sentences into English. The authors claimed that within three or five years, machine translation would be a solved problem.<sup id=\"cite_ref-2\" class=\"reference\"><a href=\"#cite_note-2\">&#91;2&#93;</a></sup>  However, real progress was much slower, and after the <a href=\"/wiki/ALPAC\" title=\"ALPAC\">ALPAC report</a> in 1966, which found that ten-year-long research had failed to fulfill the expectations, funding for machine translation was dramatically reduced.  Little further research in machine translation was conducted until the late 1980s when the first <a href=\"/wiki/Statistical_machine_translation\" title=\"Statistical machine translation\">statistical machine translation</a> systems were developed.\\n</p><p>Some notably successful natural language processing systems developed in the 1960s were <a href=\"/wiki/SHRDLU\" title=\"SHRDLU\">SHRDLU</a>, a natural language system working in restricted \"<a href=\"/wiki/Blocks_world\" title=\"Blocks world\">blocks worlds</a>\" with restricted vocabularies, and <a href=\"/wiki/ELIZA\" title=\"ELIZA\">ELIZA</a>, a simulation of a <a href=\"/wiki/Rogerian_psychotherapy\" class=\"mw-redirect\" title=\"Rogerian psychotherapy\">Rogerian psychotherapist</a>, written by <a href=\"/wiki/Joseph_Weizenbaum\" title=\"Joseph Weizenbaum\">Joseph Weizenbaum</a> between 1964 and 1966.  Using almost no information about human thought or emotion, ELIZA sometimes provided a startlingly human-like interaction. When the \"patient\" exceeded the very small knowledge base, ELIZA might provide a generic response, for example, responding to \"My head hurts\" with \"Why do you say your head hurts?\".\\n</p><p>During the 1970s, many programmers began to write \"conceptual <a href=\"/wiki/Ontology_(information_science)\" title=\"Ontology (information science)\">ontologies</a>\", which structured real-world information into computer-understandable data.  Examples are MARGIE (Schank, 1975), SAM (Cullingford, 1978), PAM (Wilensky, 1978), TaleSpin (Meehan, 1976), QUALM (Lehnert, 1977), Politics (Carbonell, 1979), and Plot Units (Lehnert 1981).  During this time, many <a href=\"/wiki/Chatterbots\" class=\"mw-redirect\" title=\"Chatterbots\">chatterbots</a> were written including <a href=\"/wiki/PARRY\" title=\"PARRY\">PARRY</a>, <a href=\"/wiki/Racter\" title=\"Racter\">Racter</a>, and <a href=\"/wiki/Jabberwacky\" title=\"Jabberwacky\">Jabberwacky</a>.\\n</p><p>Up to the 1980s, most natural language processing systems were based on complex sets of hand-written rules.  Starting in the late 1980s, however, there was a revolution in natural language processing with the introduction of <a href=\"/wiki/Machine_learning\" title=\"Machine learning\">machine learning</a> algorithms for language processing.  This was due to both the steady increase in computational power (see <a href=\"/wiki/Moore%27s_law\" title=\"Moore&#39;s law\">Moore\\'s law</a>) and the gradual lessening of the dominance of <a href=\"/wiki/Noam_Chomsky\" title=\"Noam Chomsky\">Chomskyan</a> theories of linguistics (e.g. <a href=\"/wiki/Transformational_grammar\" title=\"Transformational grammar\">transformational grammar</a>), whose theoretical underpinnings discouraged the sort of <a href=\"/wiki/Corpus_linguistics\" title=\"Corpus linguistics\">corpus linguistics</a> that underlies the machine-learning approach to language processing.<sup id=\"cite_ref-3\" class=\"reference\"><a href=\"#cite_note-3\">&#91;3&#93;</a></sup> Some of the earliest-used machine learning algorithms, such as <a href=\"/wiki/Decision_tree\" title=\"Decision tree\">decision trees</a>, produced systems of hard if-then rules similar to existing hand-written rules.  However, <a href=\"/wiki/Part_of_speech_tagging\" class=\"mw-redirect\" title=\"Part of speech tagging\">part-of-speech tagging</a> introduced the use of <a href=\"/wiki/Hidden_Markov_models\" class=\"mw-redirect\" title=\"Hidden Markov models\">hidden Markov models</a> to natural language processing, and increasingly, research has focused on <a href=\"/wiki/Statistical_models\" class=\"mw-redirect\" title=\"Statistical models\">statistical models</a>, which make soft, <a href=\"/wiki/Probabilistic\" class=\"mw-redirect\" title=\"Probabilistic\">probabilistic</a> decisions based on attaching <a href=\"/wiki/Real-valued\" class=\"mw-redirect\" title=\"Real-valued\">real-valued</a> weights to the features making up the input data. The <a href=\"/wiki/Cache_language_model\" title=\"Cache language model\">cache language models</a> upon which many <a href=\"/wiki/Speech_recognition\" title=\"Speech recognition\">speech recognition</a> systems now rely are examples of such statistical models.  Such models are generally more robust when given unfamiliar input, especially input that contains errors (as is very common for real-world data), and produce more reliable results when integrated into a larger system comprising multiple subtasks.\\n</p><p>Many of the notable early successes occurred in the field of <a href=\"/wiki/Machine_translation\" title=\"Machine translation\">machine translation</a>, due especially to work at IBM Research, where successively more complicated statistical models were developed.  These systems were able to take advantage of existing multilingual <a href=\"/wiki/Text_corpus\" title=\"Text corpus\">textual corpora</a> that had been produced by the <a href=\"/wiki/Parliament_of_Canada\" title=\"Parliament of Canada\">Parliament of Canada</a> and the <a href=\"/wiki/European_Union\" title=\"European Union\">European Union</a> as a result of laws calling for the translation of all governmental proceedings into all official languages of the corresponding systems of government.  However, most other systems depended on corpora specifically developed for the tasks implemented by these systems, which was (and often continues to be) a major limitation in the success of these systems. As a result, a great deal of research has gone into methods of more effectively learning from limited amounts of data.\\n</p><p>Recent research has increasingly focused on <a href=\"/wiki/Unsupervised_learning\" title=\"Unsupervised learning\">unsupervised</a> and <a href=\"/wiki/Semi-supervised_learning\" title=\"Semi-supervised learning\">semi-supervised learning</a> algorithms.  Such algorithms can learn from data that has not been hand-annotated with the desired answers or using a combination of annotated and non-annotated data.  Generally, this task is much more difficult than <a href=\"/wiki/Supervised_learning\" title=\"Supervised learning\">supervised learning</a>, and typically produces less accurate results for a given amount of input data.  However, there is an enormous amount of non-annotated data available (including, among other things, the entire content of the <a href=\"/wiki/World_Wide_Web\" title=\"World Wide Web\">World Wide Web</a>), which can often make up for the inferior results if the algorithm used has a low enough <a href=\"/wiki/Time_complexity\" title=\"Time complexity\">time complexity</a> to be practical.\\n</p><p>In the 2010s, <a href=\"/wiki/Representation_learning\" class=\"mw-redirect\" title=\"Representation learning\">representation learning</a> and <a href=\"/wiki/Deep_learning\" title=\"Deep learning\">deep neural network</a>-style machine learning methods became widespread in natural language processing, due in part to a flurry of results showing that such techniques<sup id=\"cite_ref-goldberg:nnlp17_4-0\" class=\"reference\"><a href=\"#cite_note-goldberg:nnlp17-4\">&#91;4&#93;</a></sup><sup id=\"cite_ref-goodfellow:book16_5-0\" class=\"reference\"><a href=\"#cite_note-goodfellow:book16-5\">&#91;5&#93;</a></sup> can achieve state-of-the-art results in many natural language tasks, for example in language modeling,<sup id=\"cite_ref-jozefowicz:lm16_6-0\" class=\"reference\"><a href=\"#cite_note-jozefowicz:lm16-6\">&#91;6&#93;</a></sup>\\nparsing,<sup id=\"cite_ref-choe:emnlp16_7-0\" class=\"reference\"><a href=\"#cite_note-choe:emnlp16-7\">&#91;7&#93;</a></sup><sup id=\"cite_ref-vinyals:nips15_8-0\" class=\"reference\"><a href=\"#cite_note-vinyals:nips15-8\">&#91;8&#93;</a></sup> and many others. Popular techniques include the use of <a href=\"/wiki/Word_embedding\" title=\"Word embedding\">word embeddings</a> to capture semantic properties of words, and an increase in end-to-end learning of a higher-level task (e.g., question answering) instead of relying on a pipeline of separate intermediate tasks (e.g., part-of-speech tagging and dependency parsing). In some areas, this shift has entailed substantial changes in how NLP systems are designed, such that deep neural network-based approaches may be viewed as a new paradigm distinct from statistical natural language processing. For instance, the term <i><a href=\"/wiki/Neural_machine_translation\" title=\"Neural machine translation\">neural machine translation</a></i> (NMT) emphasizes the fact that deep learning-based approaches to machine translation directly learn sequence-to-sequence transformations, obviating the need for intermediate steps such as word alignment and language modeling that was used in <a href=\"/wiki/Statistical_machine_translation\" title=\"Statistical machine translation\">statistical machine translation</a> (SMT).\\n</p>\\n<h2><span class=\"mw-headline\" id=\"Rule-based_vs._statistical_NLP\">Rule-based vs. statistical NLP<span id=\"Statistical_natural_language_processing_(SNLP)\"></span></span><span class=\"mw-editsection\"><span class=\"mw-editsection-bracket\">[</span><a href=\"/w/index.php?title=Natural_language_processing&amp;action=edit&amp;section=2\" title=\"Edit section: Rule-based vs. statistical NLP\">edit</a><span class=\"mw-editsection-bracket\">]</span></span></h2>\\n<p>In the early days, many language-processing systems were designed by hand-coding a set of rules:<sup id=\"cite_ref-winograd:shrdlu71_9-0\" class=\"reference\"><a href=\"#cite_note-winograd:shrdlu71-9\">&#91;9&#93;</a></sup><sup id=\"cite_ref-schank77_10-0\" class=\"reference\"><a href=\"#cite_note-schank77-10\">&#91;10&#93;</a></sup> such as by writing grammars or devising heuristic rules for <a href=\"/wiki/Stemming\" title=\"Stemming\">stemming</a>. \\n</p><p>Since the so-called \"statistical revolution\"<sup id=\"cite_ref-johnson:eacl:ilcl09_11-0\" class=\"reference\"><a href=\"#cite_note-johnson:eacl:ilcl09-11\">&#91;11&#93;</a></sup><sup id=\"cite_ref-resnik:langlog11_12-0\" class=\"reference\"><a href=\"#cite_note-resnik:langlog11-12\">&#91;12&#93;</a></sup> in the late 1980s and mid-1990s, much natural language processing research has relied heavily on <a href=\"/wiki/Machine_learning\" title=\"Machine learning\">machine learning</a>. The machine-learning paradigm calls instead for using <a href=\"/wiki/Statistical_inference\" title=\"Statistical inference\">statistical inference</a> to automatically learn such rules through the analysis of large <i><a href=\"/wiki/Text_corpus\" title=\"Text corpus\">corpora</a></i> (the plural form of <i>corpus</i>, is a set of documents, possibly with human or computer annotations) of typical real-world examples.\\n</p><p>Many different classes of machine-learning algorithms have been applied to natural-language-processing tasks. These algorithms take as input a large set of \"features\" that are generated from the input data. Some of the earliest-used algorithms, such as <a href=\"/wiki/Decision_tree\" title=\"Decision tree\">decision trees</a>, produced systems of hard if-then rules similar to the systems of handwritten rules that were then common. Increasingly, however, research has focused on <a href=\"/wiki/Statistical_models\" class=\"mw-redirect\" title=\"Statistical models\">statistical models</a>, which make soft, <a href=\"/wiki/Probabilistic\" class=\"mw-redirect\" title=\"Probabilistic\">probabilistic</a> decisions based on attaching <a href=\"/wiki/Real-valued\" class=\"mw-redirect\" title=\"Real-valued\">real-valued</a> weights to each input feature. Such models have the advantage that they can express the relative certainty of many different possible answers rather than only one, producing more reliable results when such a model is included as a component of a larger system.\\n</p><p>Systems based on machine-learning algorithms have many advantages over hand-produced rules:\\n</p>\\n<ul><li>The learning procedures used during machine learning automatically focus on the most common cases, whereas when writing rules by hand it is often not at all obvious where the effort should be directed.</li>\\n<li>Automatic learning procedures can make use of statistical inference algorithms to produce models that are robust to unfamiliar input (e.g. containing words or structures that have not been seen before) and to erroneous input (e.g. with misspelled words or words accidentally omitted). Generally, handling such input gracefully with handwritten rules, or, more generally, creating systems of handwritten rules that make soft decisions, is extremely difficult, error-prone and time-consuming.</li>\\n<li>Systems based on automatically learning the rules can be made more accurate simply by supplying more input data. However, systems based on handwritten rules can only be made more accurate by increasing the complexity of the rules, which is a much more difficult task. In particular, there is a limit to the complexity of systems based on handcrafted rules, beyond which the systems become more and more unmanageable. However, creating more data to input to machine-learning systems simply requires a corresponding increase in the number of man-hours worked, generally without significant increases in the complexity of the annotation process.</li></ul>\\n<h2><span class=\"mw-headline\" id=\"Major_evaluations_and_tasks\">Major evaluations and tasks</span><span class=\"mw-editsection\"><span class=\"mw-editsection-bracket\">[</span><a href=\"/w/index.php?title=Natural_language_processing&amp;action=edit&amp;section=3\" title=\"Edit section: Major evaluations and tasks\">edit</a><span class=\"mw-editsection-bracket\">]</span></span></h2>\\n<p>The following is a list of some of the most commonly researched tasks in natural language processing. Some of these tasks have direct real-world applications, while others more commonly serve as subtasks that are used to aid in solving larger tasks.\\n</p><p>Though natural language processing tasks are closely intertwined, they are frequently subdivided into categories for convenience. A coarse division is given below.\\n</p>\\n<h3><span class=\"mw-headline\" id=\"Syntax\">Syntax</span><span class=\"mw-editsection\"><span class=\"mw-editsection-bracket\">[</span><a href=\"/w/index.php?title=Natural_language_processing&amp;action=edit&amp;section=4\" title=\"Edit section: Syntax\">edit</a><span class=\"mw-editsection-bracket\">]</span></span></h3>\\n<dl><dt><a href=\"/wiki/Grammar_induction\" title=\"Grammar induction\">Grammar induction</a><sup id=\"cite_ref-13\" class=\"reference\"><a href=\"#cite_note-13\">&#91;13&#93;</a></sup></dt>\\n<dd>Generate a <a href=\"/wiki/Formal_grammar\" title=\"Formal grammar\">formal grammar</a> that describes a language\\'s syntax.</dd>\\n<dt><a href=\"/wiki/Lemmatisation\" title=\"Lemmatisation\">Lemmatization</a></dt>\\n<dd>The task of removing inflectional endings only and to return the base dictionary form of a word which is also known as a lemma.</dd>\\n<dt><a href=\"/wiki/Morphology_(linguistics)\" title=\"Morphology (linguistics)\">Morphological segmentation</a></dt>\\n<dd>Separate words into individual <a href=\"/wiki/Morpheme\" title=\"Morpheme\">morphemes</a> and identify the class of the morphemes.  The difficulty of this task depends greatly on the complexity of the <a href=\"/wiki/Morphology_(linguistics)\" title=\"Morphology (linguistics)\">morphology</a> (i.e. the structure of words) of the language being considered. <a href=\"/wiki/English_language\" title=\"English language\">English</a> has fairly simple morphology, especially <a href=\"/wiki/Inflectional_morphology\" class=\"mw-redirect\" title=\"Inflectional morphology\">inflectional morphology</a>, and thus it is often possible to ignore this task entirely and simply model all possible forms of a word (e.g. \"open, opens, opened, opening\") as separate words.  In languages such as <a href=\"/wiki/Turkish_language\" title=\"Turkish language\">Turkish</a> or <a href=\"/wiki/Meitei_language\" title=\"Meitei language\">Meitei</a>,<sup id=\"cite_ref-14\" class=\"reference\"><a href=\"#cite_note-14\">&#91;14&#93;</a></sup> a highly <a href=\"/wiki/Agglutination\" title=\"Agglutination\">agglutinated</a> Indian language, however, such an approach is not possible, as each dictionary entry has thousands of possible word forms.</dd>\\n<dt><a href=\"/wiki/Part-of-speech_tagging\" title=\"Part-of-speech tagging\">Part-of-speech tagging</a></dt>\\n<dd>Given a sentence, determine the <a href=\"/wiki/Part_of_speech\" title=\"Part of speech\">part of speech</a> (<b>POS</b>) for each word.  Many words, especially common ones, can serve as multiple <a href=\"/wiki/Parts_of_speech\" class=\"mw-redirect\" title=\"Parts of speech\">parts of speech</a>.  For example, \"book\" can be a <a href=\"/wiki/Noun\" title=\"Noun\">noun</a> (\"the book on the table\") or <a href=\"/wiki/Verb\" title=\"Verb\">verb</a> (\"to book a flight\"); \"set\" can be a <a href=\"/wiki/Noun\" title=\"Noun\">noun</a>, <a href=\"/wiki/Verb\" title=\"Verb\">verb</a> or <a href=\"/wiki/Adjective\" title=\"Adjective\">adjective</a>; and \"out\" can be any of at least five different parts of speech.  Some languages have more such ambiguity than others.<sup class=\"noprint Inline-Template\" style=\"white-space:nowrap;\">&#91;<i><a href=\"/wiki/Wikipedia:Accuracy_dispute#Disputed_statement\" title=\"Wikipedia:Accuracy dispute\"><span title=\"The material near this tag is possibly inaccurate or nonfactual. (June 2018)\">dubious</span></a>&#32;<span class=\"metadata\"> &#8211; <a href=\"/wiki/Talk:Natural_language_processing#Dubious\" title=\"Talk:Natural language processing\">discuss</a></span></i>&#93;</sup>  Languages with little <a href=\"/wiki/Inflectional_morphology\" class=\"mw-redirect\" title=\"Inflectional morphology\">inflectional morphology</a>, such as <a href=\"/wiki/English_language\" title=\"English language\">English</a>, are particularly prone to such ambiguity. <a href=\"/wiki/Chinese_language\" title=\"Chinese language\">Chinese</a> is prone to such ambiguity because it is a <a href=\"/wiki/Tonal_language\" class=\"mw-redirect\" title=\"Tonal language\">tonal language</a> during verbalization. Such inflection is not readily conveyed via the entities employed within the orthography to convey the intended meaning.</dd>\\n<dt><a href=\"/wiki/Parsing\" title=\"Parsing\">Parsing</a></dt>\\n<dd>Determine the <a href=\"/wiki/Parse_tree\" title=\"Parse tree\">parse tree</a> (grammatical analysis) of a given sentence.  The <a href=\"/wiki/Grammar\" title=\"Grammar\">grammar</a> for <a href=\"/wiki/Natural_language\" title=\"Natural language\">natural languages</a> is <a href=\"/wiki/Ambiguous\" class=\"mw-redirect\" title=\"Ambiguous\">ambiguous</a> and typical sentences have multiple possible analyses.  Perhaps surprisingly, for a typical sentence, there may be thousands of potential parses (most of which will seem completely nonsensical to a human). There are two primary types of parsing, Dependency Parsing, and Constituency Parsing. Dependency Parsing focuses on the relationships between words in a sentence (marking things like Primary Objects and predicates), whereas Constituency Parsing focuses on building out the Parse Tree using a <a href=\"/wiki/Probabilistic_context-free_grammar\" title=\"Probabilistic context-free grammar\">Probabilistic Context-Free Grammar</a> (PCFG). See also: <a href=\"/wiki/Stochastic_grammar\" title=\"Stochastic grammar\">Stochastic grammar</a>.</dd>\\n<dt><a href=\"/wiki/Sentence_breaking\" class=\"mw-redirect\" title=\"Sentence breaking\">Sentence breaking</a> (also known as <a href=\"/wiki/Sentence_boundary_disambiguation\" title=\"Sentence boundary disambiguation\">sentence boundary disambiguation</a>)</dt>\\n<dd>Given a chunk of text, find the sentence boundaries.  Sentence boundaries are often marked by <a href=\"/wiki/Full_stop\" title=\"Full stop\">periods</a> or other <a href=\"/wiki/Punctuation_mark\" class=\"mw-redirect\" title=\"Punctuation mark\">punctuation marks</a>, but these same characters can serve other purposes (e.g. marking <a href=\"/wiki/Abbreviation\" title=\"Abbreviation\">abbreviations</a>).</dd>\\n<dt><a href=\"/wiki/Stemming\" title=\"Stemming\">Stemming</a></dt>\\n<dd>The process of reducing inflected (or sometimes derived) words to their root form. (e.g. \"close\" will be the root for \"closed\", \"closing\", \"close\", \"closer\" etc.).</dd>\\n<dt><a href=\"/wiki/Word_segmentation\" class=\"mw-redirect\" title=\"Word segmentation\">Word segmentation</a></dt>\\n<dd>Separate a chunk of continuous text into separate words.  For a language like <a href=\"/wiki/English_language\" title=\"English language\">English</a>, this is fairly trivial, since words are usually separated by spaces.  However, some written languages like <a href=\"/wiki/Chinese_language\" title=\"Chinese language\">Chinese</a>, <a href=\"/wiki/Japanese_language\" title=\"Japanese language\">Japanese</a> and <a href=\"/wiki/Thai_language\" title=\"Thai language\">Thai</a> do not mark word boundaries in such a fashion, and in those languages text segmentation is a significant task requiring knowledge of the <a href=\"/wiki/Vocabulary\" title=\"Vocabulary\">vocabulary</a> and <a href=\"/wiki/Morphology_(linguistics)\" title=\"Morphology (linguistics)\">morphology</a> of words in the language. Sometimes this process is also used in cases like Bag of Words (BOW) creation in data mining.</dd>\\n<dt><a href=\"/wiki/Terminology_extraction\" title=\"Terminology extraction\">Terminology extraction</a></dt>\\n<dd>The goal of terminology extraction is to automatically extract relevant terms from a given corpus.</dd></dl>\\n<h3><span class=\"mw-headline\" id=\"Semantics\">Semantics</span><span class=\"mw-editsection\"><span class=\"mw-editsection-bracket\">[</span><a href=\"/w/index.php?title=Natural_language_processing&amp;action=edit&amp;section=5\" title=\"Edit section: Semantics\">edit</a><span class=\"mw-editsection-bracket\">]</span></span></h3>\\n<dl><dt><a href=\"/wiki/Lexical_semantics\" title=\"Lexical semantics\">Lexical semantics</a></dt>\\n<dd>What is the computational meaning of individual words in context?</dd>\\n<dt><a href=\"/wiki/Distributional_semantics\" title=\"Distributional semantics\">Distributional semantics</a></dt>\\n<dd>How can we learn semantic representations from data?</dd>\\n<dt><a href=\"/wiki/Machine_translation\" title=\"Machine translation\">Machine translation</a></dt>\\n<dd>Automatically translate text from one human language to another.  This is one of the most difficult problems, and is a member of a class of problems colloquially termed \"<a href=\"/wiki/AI-complete\" title=\"AI-complete\">AI-complete</a>\", i.e. requiring all of the different types of knowledge that humans possess (grammar, semantics, facts about the real world, etc.) to solve properly.</dd>\\n<dt><a href=\"/wiki/Named_entity_recognition\" class=\"mw-redirect\" title=\"Named entity recognition\">Named entity recognition</a> (NER)</dt>\\n<dd>Given a stream of text, determine which items in the text map to proper names, such as people or places, and what the type of each such name is (e.g. person, location, organization). Although <a href=\"/wiki/Capitalization\" title=\"Capitalization\">capitalization</a> can aid in recognizing named entities in languages such as English, this information cannot aid in determining the type of named entity, and in any case, is often inaccurate or insufficient.  For example, the first letter of a sentence is also capitalized, and named entities often span several words, only some of which are capitalized.  Furthermore, many other languages in non-Western scripts (e.g. <a href=\"/wiki/Chinese_language\" title=\"Chinese language\">Chinese</a> or <a href=\"/wiki/Arabic_language\" class=\"mw-redirect\" title=\"Arabic language\">Arabic</a>) do not have any capitalization at all, and even languages with capitalization may not consistently use it to distinguish names. For example, <a href=\"/wiki/German_language\" title=\"German language\">German</a> capitalizes all <a href=\"/wiki/Noun\" title=\"Noun\">nouns</a>, regardless of whether they are names, and <a href=\"/wiki/French_language\" title=\"French language\">French</a> and <a href=\"/wiki/Spanish_language\" title=\"Spanish language\">Spanish</a> do not capitalize names that serve as <a href=\"/wiki/Adjective\" title=\"Adjective\">adjectives</a>.</dd>\\n<dt><a href=\"/wiki/Natural_language_generation\" class=\"mw-redirect\" title=\"Natural language generation\">Natural language generation</a></dt>\\n<dd>Convert information from computer databases or semantic intents into readable human language.</dd>\\n<dt><a href=\"/wiki/Natural_language_understanding\" class=\"mw-redirect\" title=\"Natural language understanding\">Natural language understanding</a></dt>\\n<dd>Convert chunks of text into more formal representations such as <a href=\"/wiki/First-order_logic\" title=\"First-order logic\">first-order logic</a> structures that are easier for <a href=\"/wiki/Computer\" title=\"Computer\">computer</a> programs to manipulate. Natural language understanding involves the identification of the intended semantic from the multiple possible semantics which can be derived from a natural language expression which usually takes the form of organized notations of natural language concepts. Introduction and creation of language metamodel and ontology are efficient however empirical solutions. An explicit formalization of natural language semantics without confusions with implicit assumptions such as <a href=\"/wiki/Closed-world_assumption\" title=\"Closed-world assumption\">closed-world assumption</a> (CWA) vs. <a href=\"/wiki/Open-world_assumption\" title=\"Open-world assumption\">open-world assumption</a>, or subjective Yes/No vs. objective True/False is expected for the construction of a basis of semantics formalization.<sup id=\"cite_ref-15\" class=\"reference\"><a href=\"#cite_note-15\">&#91;15&#93;</a></sup></dd>\\n<dt><a href=\"/wiki/Optical_character_recognition\" title=\"Optical character recognition\">Optical character recognition</a> (OCR)</dt>\\n<dd>Given an image representing printed text, determine the corresponding text.</dd>\\n<dt><a href=\"/wiki/Question_answering\" title=\"Question answering\">Question answering</a></dt>\\n<dd>Given a human-language question, determine its answer.  Typical questions have a specific right answer (such as \"What is the capital of Canada?\"), but sometimes open-ended questions are also considered (such as \"What is the meaning of life?\"). Recent works have looked at even more complex questions.<sup id=\"cite_ref-16\" class=\"reference\"><a href=\"#cite_note-16\">&#91;16&#93;</a></sup></dd>\\n<dt><a href=\"/wiki/Textual_entailment\" title=\"Textual entailment\">Recognizing Textual entailment</a></dt>\\n<dd>Given two text fragments, determine if one being true entails the other, entails the other\\'s negation, or allows the other to be either true or false.<sup id=\"cite_ref-rte:11_17-0\" class=\"reference\"><a href=\"#cite_note-rte:11-17\">&#91;17&#93;</a></sup></dd>\\n<dt><a href=\"/wiki/Relationship_extraction\" title=\"Relationship extraction\">Relationship extraction</a></dt>\\n<dd>Given a chunk of text, identify the relationships among named entities (e.g. who is married to whom).</dd>\\n<dt><a href=\"/wiki/Sentiment_analysis\" title=\"Sentiment analysis\">Sentiment analysis</a> (see also <a href=\"/wiki/Multimodal_sentiment_analysis\" title=\"Multimodal sentiment analysis\">multimodal sentiment analysis</a>)</dt>\\n<dd>Extract subjective information usually from a set of documents, often using online reviews to determine \"polarity\" about specific objects. It is especially useful for identifying trends of public opinion in social media, for marketing.</dd>\\n<dt><a href=\"/wiki/Topic_segmentation\" class=\"mw-redirect\" title=\"Topic segmentation\">Topic segmentation</a> and recognition</dt>\\n<dd>Given a chunk of text, separate it into segments each of which is devoted to a topic, and identify the topic of the segment.</dd>\\n<dt><a href=\"/wiki/Word_sense_disambiguation\" class=\"mw-redirect\" title=\"Word sense disambiguation\">Word sense disambiguation</a></dt>\\n<dd>Many words have more than one <a href=\"/wiki/Meaning_(linguistics)\" title=\"Meaning (linguistics)\">meaning</a>; we have to select the meaning which makes the most sense in context.  For this problem, we are typically given a list of words and associated word senses, e.g. from a dictionary or an online resource such as <a href=\"/wiki/WordNet\" title=\"WordNet\">WordNet</a>.</dd></dl>\\n<h3><span class=\"mw-headline\" id=\"Discourse\">Discourse</span><span class=\"mw-editsection\"><span class=\"mw-editsection-bracket\">[</span><a href=\"/w/index.php?title=Natural_language_processing&amp;action=edit&amp;section=6\" title=\"Edit section: Discourse\">edit</a><span class=\"mw-editsection-bracket\">]</span></span></h3>\\n<dl><dt><a href=\"/wiki/Automatic_summarization\" title=\"Automatic summarization\">Automatic summarization</a></dt>\\n<dd>Produce a readable summary of a chunk of text.  Often used to provide summaries of the text of a known type, such as research papers, articles in the financial section of a newspaper.</dd>\\n<dt><a href=\"/wiki/Coreference\" title=\"Coreference\">Coreference resolution</a></dt>\\n<dd>Given a sentence or larger chunk of text, determine which words (\"mentions\") refer to the same objects (\"entities\"). <a href=\"/wiki/Anaphora_resolution\" class=\"mw-redirect\" title=\"Anaphora resolution\">Anaphora resolution</a> is a specific example of this task, and is specifically concerned with matching up <a href=\"/wiki/Pronoun\" title=\"Pronoun\">pronouns</a> with the nouns or names to which they refer. The more general task of coreference resolution also includes identifying so-called \"bridging relationships\" involving <a href=\"/wiki/Referring_expression\" title=\"Referring expression\">referring expressions</a>. For example, in a sentence such as \"He entered John\\'s house through the front door\", \"the front door\" is a referring expression and the bridging relationship to be identified is the fact that the door being referred to is the front door of John\\'s house (rather than of some other structure that might also be referred to).</dd>\\n<dt><a href=\"/wiki/Discourse_analysis\" title=\"Discourse analysis\">Discourse analysis</a></dt>\\n<dd>This rubric includes several related tasks.  One task is identifying the <a href=\"/wiki/Discourse\" title=\"Discourse\">discourse</a> structure of a connected text, i.e. the nature of the discourse relationships between sentences (e.g. elaboration, explanation, contrast).  Another possible task is recognizing and classifying the <a href=\"/wiki/Speech_act\" title=\"Speech act\">speech acts</a> in a chunk of text (e.g. yes-no question, content question, statement, assertion, etc.).</dd></dl>\\n<h3><span class=\"mw-headline\" id=\"Speech\">Speech</span><span class=\"mw-editsection\"><span class=\"mw-editsection-bracket\">[</span><a href=\"/w/index.php?title=Natural_language_processing&amp;action=edit&amp;section=7\" title=\"Edit section: Speech\">edit</a><span class=\"mw-editsection-bracket\">]</span></span></h3>\\n<dl><dt><a href=\"/wiki/Speech_recognition\" title=\"Speech recognition\">Speech recognition</a></dt>\\n<dd>Given a sound clip of a person or people speaking, determine the textual representation of the speech.  This is the opposite of <a href=\"/wiki/Text_to_speech\" class=\"mw-redirect\" title=\"Text to speech\">text to speech</a> and is one of the extremely difficult problems colloquially termed \"<a href=\"/wiki/AI-complete\" title=\"AI-complete\">AI-complete</a>\" (see above).  In <a href=\"/wiki/Natural_speech\" class=\"mw-redirect\" title=\"Natural speech\">natural speech</a> there are hardly any pauses between successive words, and thus <a href=\"/wiki/Speech_segmentation\" title=\"Speech segmentation\">speech segmentation</a> is a necessary subtask of speech recognition (see below). In most spoken languages, the sounds representing successive letters blend into each other in a process termed <a href=\"/wiki/Coarticulation\" title=\"Coarticulation\">coarticulation</a>, so the conversion of the <a href=\"/wiki/Analog_signal\" title=\"Analog signal\">analog signal</a> to discrete characters can be a very difficult process. Also, given that words in the same language are spoken by people with different accents, the speech recognition software must be able to recognize the wide variety of input as being identical to each other in terms of its textual equivalent.</dd>\\n<dt><a href=\"/wiki/Speech_segmentation\" title=\"Speech segmentation\">Speech segmentation</a></dt>\\n<dd>Given a sound clip of a person or people speaking, separate it into words.  A subtask of <a href=\"/wiki/Speech_recognition\" title=\"Speech recognition\">speech recognition</a> and typically grouped with it.</dd>\\n<dt><a href=\"/wiki/Text-to-speech\" class=\"mw-redirect\" title=\"Text-to-speech\">Text-to-speech</a></dt>\\n<dd>Given a text, transform those units and produce a spoken representation. Text-to-speech can be used to aid the visually impaired.<sup id=\"cite_ref-18\" class=\"reference\"><a href=\"#cite_note-18\">&#91;18&#93;</a></sup></dd></dl>\\n<h3><span class=\"mw-headline\" id=\"Dialogue\"><a href=\"/wiki/Dialogue\" title=\"Dialogue\">Dialogue</a></span><span class=\"mw-editsection\"><span class=\"mw-editsection-bracket\">[</span><a href=\"/w/index.php?title=Natural_language_processing&amp;action=edit&amp;section=8\" title=\"Edit section: Dialogue\">edit</a><span class=\"mw-editsection-bracket\">]</span></span></h3>\\n<p>The first published work by an artificial intelligence was published in 2018, <i><a href=\"/wiki/1_the_Road\" title=\"1 the Road\">1 the Road</a></i>, marketed as a novel, contains sixty million words.\\n</p>\\n<h2><span class=\"mw-headline\" id=\"See_also\">See also</span><span class=\"mw-editsection\"><span class=\"mw-editsection-bracket\">[</span><a href=\"/w/index.php?title=Natural_language_processing&amp;action=edit&amp;section=9\" title=\"Edit section: See also\">edit</a><span class=\"mw-editsection-bracket\">]</span></span></h2>\\n<div class=\"div-col columns column-width\" style=\"-moz-column-width: 22em; -webkit-column-width: 22em; column-width: 22em;\">\\n<ul><li><i><a href=\"/wiki/1_the_Road\" title=\"1 the Road\">1 the Road</a></i></li>\\n<li><a href=\"/wiki/Automated_essay_scoring\" title=\"Automated essay scoring\">Automated essay scoring</a></li>\\n<li><a href=\"/wiki/Biomedical_text_mining\" title=\"Biomedical text mining\">Biomedical text mining</a></li>\\n<li><a href=\"/wiki/Compound_term_processing\" class=\"mw-redirect\" title=\"Compound term processing\">Compound term processing</a></li>\\n<li><a href=\"/wiki/Computational_linguistics\" title=\"Computational linguistics\">Computational linguistics</a></li>\\n<li><a href=\"/wiki/Computer-assisted_reviewing\" title=\"Computer-assisted reviewing\">Computer-assisted reviewing</a></li>\\n<li><a href=\"/wiki/Controlled_natural_language\" title=\"Controlled natural language\">Controlled natural language</a></li>\\n<li><a href=\"/wiki/Deep_learning\" title=\"Deep learning\">Deep learning</a></li>\\n<li><a href=\"/wiki/Deep_linguistic_processing\" title=\"Deep linguistic processing\">Deep linguistic processing</a></li>\\n<li><a href=\"/wiki/Distributional_semantics\" title=\"Distributional semantics\">Distributional semantics</a></li>\\n<li><a href=\"/wiki/Foreign_language_reading_aid\" class=\"mw-redirect\" title=\"Foreign language reading aid\">Foreign language reading aid</a></li>\\n<li><a href=\"/wiki/Foreign_language_writing_aid\" title=\"Foreign language writing aid\">Foreign language writing aid</a></li>\\n<li><a href=\"/wiki/Information_extraction\" title=\"Information extraction\">Information extraction</a></li>\\n<li><a href=\"/wiki/Information_retrieval\" title=\"Information retrieval\">Information retrieval</a></li>\\n<li><a href=\"/wiki/Language_and_Communication_Technologies\" title=\"Language and Communication Technologies\">Language and Communication Technologies</a></li>\\n<li><a href=\"/wiki/Language_technology\" title=\"Language technology\">Language technology</a></li>\\n<li><a href=\"/wiki/Latent_semantic_indexing\" class=\"mw-redirect\" title=\"Latent semantic indexing\">Latent semantic indexing</a></li>\\n<li><a href=\"/wiki/Native-language_identification\" title=\"Native-language identification\">Native-language identification</a></li>\\n<li><a href=\"/wiki/Natural_language_programming\" class=\"mw-redirect\" title=\"Natural language programming\">Natural language programming</a></li>\\n<li><a href=\"/wiki/Natural_language_user_interface\" class=\"mw-redirect\" title=\"Natural language user interface\">Natural language search</a></li>\\n<li><a href=\"/wiki/Query_expansion\" title=\"Query expansion\">Query expansion</a></li>\\n<li><a href=\"/wiki/Reification_(linguistics)\" title=\"Reification (linguistics)\">Reification (linguistics)</a></li>\\n<li><a href=\"/wiki/Speech_processing\" title=\"Speech processing\">Speech processing</a></li>\\n<li><a href=\"/wiki/Spoken_dialogue_system\" class=\"mw-redirect\" title=\"Spoken dialogue system\">Spoken dialogue system</a></li>\\n<li><a href=\"/wiki/Text-proofing\" class=\"mw-redirect\" title=\"Text-proofing\">Text-proofing</a></li>\\n<li><a href=\"/wiki/Text_simplification\" title=\"Text simplification\">Text simplification</a></li>\\n<li><a href=\"/wiki/Transformer_(machine_learning_model)\" title=\"Transformer (machine learning model)\">Transformer (machine learning model)</a></li>\\n<li><a href=\"/wiki/Truecasing\" title=\"Truecasing\">Truecasing</a></li>\\n<li><a href=\"/wiki/Question_answering\" title=\"Question answering\">Question answering</a></li>\\n<li><a href=\"/wiki/Word2vec\" title=\"Word2vec\">Word2vec</a></li></ul>\\n</div>\\n<h2><span class=\"mw-headline\" id=\"References\">References</span><span class=\"mw-editsection\"><span class=\"mw-editsection-bracket\">[</span><a href=\"/w/index.php?title=Natural_language_processing&amp;action=edit&amp;section=10\" title=\"Edit section: References\">edit</a><span class=\"mw-editsection-bracket\">]</span></span></h2>\\n<div class=\"reflist columns references-column-width\" style=\"-moz-column-width: 30em; -webkit-column-width: 30em; column-width: 30em; list-style-type: decimal;\">\\n<ol class=\"references\">\\n<li id=\"cite_note-Kongthon-1\"><span class=\"mw-cite-backlink\"><b><a href=\"#cite_ref-Kongthon_1-0\">^</a></b></span> <span class=\"reference-text\"><cite class=\"citation conference\">Kongthon, Alisa; Sangkeettrakarn, Chatchawal; Kongyoung, Sarawoot; Haruechaiyasak, Choochart (October 27\\xe2\\x80\\x9330, 2009). <i>Implementing an online help desk system based on conversational agent</i>. MEDES \\'09: The International Conference on Management of Emergent Digital EcoSystems. France: ACM. <a href=\"/wiki/Digital_object_identifier\" title=\"Digital object identifier\">doi</a>:<a rel=\"nofollow\" class=\"external text\" href=\"https://doi.org/10.1145%2F1643823.1643908\">10.1145/1643823.1643908</a>.</cite><span title=\"ctx_ver=Z39.88-2004&amp;rft_val_fmt=info%3Aofi%2Ffmt%3Akev%3Amtx%3Abook&amp;rft.genre=conference&amp;rft.btitle=Implementing+an+online+help+desk+system+based+on+conversational+agent&amp;rft.place=France&amp;rft.pub=ACM&amp;rft.date=2009-10-27%2F2009-10-30&amp;rft_id=info%3Adoi%2F10.1145%2F1643823.1643908&amp;rft.aulast=Kongthon&amp;rft.aufirst=Alisa&amp;rft.au=Sangkeettrakarn%2C+Chatchawal&amp;rft.au=Kongyoung%2C+Sarawoot&amp;rft.au=Haruechaiyasak%2C+Choochart&amp;rfr_id=info%3Asid%2Fen.wikipedia.org%3ANatural+language+processing\" class=\"Z3988\"></span><style data-mw-deduplicate=\"TemplateStyles:r935243608\">.mw-parser-output cite.citation{font-style:inherit}.mw-parser-output .citation q{quotes:\"\\\\\"\"\"\\\\\"\"\"\\'\"\"\\'\"}.mw-parser-output .id-lock-free a,.mw-parser-output .citation .cs1-lock-free a{background:url(\"//upload.wikimedia.org/wikipedia/commons/thumb/6/65/Lock-green.svg/9px-Lock-green.svg.png\")no-repeat;background-position:right .1em center}.mw-parser-output .id-lock-limited a,.mw-parser-output .id-lock-registration a,.mw-parser-output .citation .cs1-lock-limited a,.mw-parser-output .citation .cs1-lock-registration a{background:url(\"//upload.wikimedia.org/wikipedia/commons/thumb/d/d6/Lock-gray-alt-2.svg/9px-Lock-gray-alt-2.svg.png\")no-repeat;background-position:right .1em center}.mw-parser-output .id-lock-subscription a,.mw-parser-output .citation .cs1-lock-subscription a{background:url(\"//upload.wikimedia.org/wikipedia/commons/thumb/a/aa/Lock-red-alt-2.svg/9px-Lock-red-alt-2.svg.png\")no-repeat;background-position:right .1em center}.mw-parser-output .cs1-subscription,.mw-parser-output .cs1-registration{color:#555}.mw-parser-output .cs1-subscription span,.mw-parser-output .cs1-registration span{border-bottom:1px dotted;cursor:help}.mw-parser-output .cs1-ws-icon a{background:url(\"//upload.wikimedia.org/wikipedia/commons/thumb/4/4c/Wikisource-logo.svg/12px-Wikisource-logo.svg.png\")no-repeat;background-position:right .1em center}.mw-parser-output code.cs1-code{color:inherit;background:inherit;border:inherit;padding:inherit}.mw-parser-output .cs1-hidden-error{display:none;font-size:100%}.mw-parser-output .cs1-visible-error{font-size:100%}.mw-parser-output .cs1-maint{display:none;color:#33aa33;margin-left:0.3em}.mw-parser-output .cs1-subscription,.mw-parser-output .cs1-registration,.mw-parser-output .cs1-format{font-size:95%}.mw-parser-output .cs1-kern-left,.mw-parser-output .cs1-kern-wl-left{padding-left:0.2em}.mw-parser-output .cs1-kern-right,.mw-parser-output .cs1-kern-wl-right{padding-right:0.2em}</style></span>\\n</li>\\n<li id=\"cite_note-2\"><span class=\"mw-cite-backlink\"><b><a href=\"#cite_ref-2\">^</a></b></span> <span class=\"reference-text\"><cite class=\"citation web\">Hutchins, J. (2005). <a rel=\"nofollow\" class=\"external text\" href=\"http://www.hutchinsweb.me.uk/Nutshell-2005.pdf\">\"The history of machine translation in a nutshell\"</a> <span class=\"cs1-format\">(PDF)</span>.</cite><span title=\"ctx_ver=Z39.88-2004&amp;rft_val_fmt=info%3Aofi%2Ffmt%3Akev%3Amtx%3Abook&amp;rft.genre=unknown&amp;rft.btitle=The+history+of+machine+translation+in+a+nutshell&amp;rft.date=2005&amp;rft.au=Hutchins%2C+J.&amp;rft_id=http%3A%2F%2Fwww.hutchinsweb.me.uk%2FNutshell-2005.pdf&amp;rfr_id=info%3Asid%2Fen.wikipedia.org%3ANatural+language+processing\" class=\"Z3988\"></span><link rel=\"mw-deduplicated-inline-style\" href=\"mw-data:TemplateStyles:r935243608\"/><sup class=\"noprint Inline-Template\" style=\"white-space:nowrap;\">&#91;<i><a href=\"/wiki/Wikipedia:Verifiability#Self-published_sources\" title=\"Wikipedia:Verifiability\"><span title=\"This reference citation appears to be to a self-published source. (December 2013)\">self-published source</span></a></i>&#93;</sup></span>\\n</li>\\n<li id=\"cite_note-3\"><span class=\"mw-cite-backlink\"><b><a href=\"#cite_ref-3\">^</a></b></span> <span class=\"reference-text\">Chomskyan linguistics encourages the investigation of \"<a href=\"/wiki/Corner_case\" title=\"Corner case\">corner cases</a>\" that stress the limits of its theoretical models (comparable to <a href=\"/wiki/Pathological_(mathematics)\" title=\"Pathological (mathematics)\">pathological</a> phenomena in mathematics), typically created using <a href=\"/wiki/Thought_experiment\" title=\"Thought experiment\">thought experiments</a>, rather than the systematic investigation of typical phenomena that occur in real-world data, as is the case in <a href=\"/wiki/Corpus_linguistics\" title=\"Corpus linguistics\">corpus linguistics</a>.  The creation and use of such <a href=\"/wiki/Text_corpus\" title=\"Text corpus\">corpora</a> of real-world data is a fundamental part of machine-learning algorithms for natural language processing.  In addition, theoretical underpinnings of Chomskyan linguistics such as the so-called \"<a href=\"/wiki/Poverty_of_the_stimulus\" title=\"Poverty of the stimulus\">poverty of the stimulus</a>\" argument entail that general learning algorithms, as are typically used in machine learning, cannot be successful in language processing.  As a result, the Chomskyan paradigm discouraged the application of such models to language processing.</span>\\n</li>\\n<li id=\"cite_note-goldberg:nnlp17-4\"><span class=\"mw-cite-backlink\"><b><a href=\"#cite_ref-goldberg:nnlp17_4-0\">^</a></b></span> <span class=\"reference-text\">Goldberg, Yoav (2016). <a rel=\"nofollow\" class=\"external text\" href=\"https://arxiv.org/abs/1807.10854\">A Primer on Neural Network Models for Natural Language Processing</a>. Journal of Artificial Intelligence Research 57 (2016) 345\\xe2\\x80\\x93420</span>\\n</li>\\n<li id=\"cite_note-goodfellow:book16-5\"><span class=\"mw-cite-backlink\"><b><a href=\"#cite_ref-goodfellow:book16_5-0\">^</a></b></span> <span class=\"reference-text\">Ian Goodfellow, Yoshua Bengio and Aaron Courville. <a rel=\"nofollow\" class=\"external text\" href=\"http://www.deeplearningbook.org/\">Deep Learning</a>.  MIT Press.</span>\\n</li>\\n<li id=\"cite_note-jozefowicz:lm16-6\"><span class=\"mw-cite-backlink\"><b><a href=\"#cite_ref-jozefowicz:lm16_6-0\">^</a></b></span> <span class=\"reference-text\">Rafal Jozefowicz, Oriol Vinyals, Mike Schuster, Noam Shazeer, and Yonghui Wu (2016). <a rel=\"nofollow\" class=\"external free\" href=\"https://arxiv.org/abs/1602.02410\">https://arxiv.org/abs/1602.02410</a> Exploring the Limits of Language Modeling</span>\\n</li>\\n<li id=\"cite_note-choe:emnlp16-7\"><span class=\"mw-cite-backlink\"><b><a href=\"#cite_ref-choe:emnlp16_7-0\">^</a></b></span> <span class=\"reference-text\">Do Kook Choe and Eugene Charniak (EMNLP 2016). <a rel=\"nofollow\" class=\"external free\" href=\"https://aclanthology.coli.uni-saarland.de/papers/D16-1257/d16-1257\">https://aclanthology.coli.uni-saarland.de/papers/D16-1257/d16-1257</a> Parsing as Language Modeling</span>\\n</li>\\n<li id=\"cite_note-vinyals:nips15-8\"><span class=\"mw-cite-backlink\"><b><a href=\"#cite_ref-vinyals:nips15_8-0\">^</a></b></span> <span class=\"reference-text\">Vinyals, Oriol, et al. (NIPS2015). <a rel=\"nofollow\" class=\"external free\" href=\"https://papers.nips.cc/paper/5635-grammar-as-a-foreign-language.pdf\">https://papers.nips.cc/paper/5635-grammar-as-a-foreign-language.pdf</a></span>\\n</li>\\n<li id=\"cite_note-winograd:shrdlu71-9\"><span class=\"mw-cite-backlink\"><b><a href=\"#cite_ref-winograd:shrdlu71_9-0\">^</a></b></span> <span class=\"reference-text\">Winograd, Terry (1971). Procedures as a Representation for Data in a Computer Program for Understanding Natural Language. <a rel=\"nofollow\" class=\"external free\" href=\"http://hci.stanford.edu/winograd/shrdlu/\">http://hci.stanford.edu/winograd/shrdlu/</a></span>\\n</li>\\n<li id=\"cite_note-schank77-10\"><span class=\"mw-cite-backlink\"><b><a href=\"#cite_ref-schank77_10-0\">^</a></b></span> <span class=\"reference-text\">Roger C. Schank and Robert P. Abelson (1977). Scripts, plans, goals, and understanding: An inquiry into human knowledge structures</span>\\n</li>\\n<li id=\"cite_note-johnson:eacl:ilcl09-11\"><span class=\"mw-cite-backlink\"><b><a href=\"#cite_ref-johnson:eacl:ilcl09_11-0\">^</a></b></span> <span class=\"reference-text\"><a rel=\"nofollow\" class=\"external text\" href=\"http://www.aclweb.org/anthology/W09-0103\">Mark Johnson. How the statistical revolution changes (computational) linguistics.</a> Proceedings of the EACL 2009 Workshop on the Interaction between Linguistics and Computational Linguistics.</span>\\n</li>\\n<li id=\"cite_note-resnik:langlog11-12\"><span class=\"mw-cite-backlink\"><b><a href=\"#cite_ref-resnik:langlog11_12-0\">^</a></b></span> <span class=\"reference-text\"><a rel=\"nofollow\" class=\"external text\" href=\"http://languagelog.ldc.upenn.edu/nll/?p=2946\">Philip Resnik. Four revolutions.</a> Language Log, February 5, 2011.</span>\\n</li>\\n<li id=\"cite_note-13\"><span class=\"mw-cite-backlink\"><b><a href=\"#cite_ref-13\">^</a></b></span> <span class=\"reference-text\">Klein, Dan, and Christopher D. Manning. \"<a rel=\"nofollow\" class=\"external text\" href=\"http://papers.nips.cc/paper/1945-natural-language-grammar-induction-using-a-constituent-context-model.pdf\">Natural language grammar induction using a constituent-context model</a>.\" Advances in neural information processing systems. 2002.</span>\\n</li>\\n<li id=\"cite_note-14\"><span class=\"mw-cite-backlink\"><b><a href=\"#cite_ref-14\">^</a></b></span> <span class=\"reference-text\">Kishorjit, N., Vidya Raj RK., Nirmal Y., and Sivaji B. (2012) \"<a rel=\"nofollow\" class=\"external text\" href=\"http://aclweb.org/anthology//W/W12/W12-5008.pdf\">Manipuri Morpheme Identification</a>\", Proceedings of the 3rd Workshop on South and Southeast Asian Natural Language Processing (SANLP), pages 95\\xe2\\x80\\x93108, COLING 2012, Mumbai, December 2012</span>\\n</li>\\n<li id=\"cite_note-15\"><span class=\"mw-cite-backlink\"><b><a href=\"#cite_ref-15\">^</a></b></span> <span class=\"reference-text\">Yucong Duan, Christophe Cruz (2011), <i><a rel=\"nofollow\" class=\"external text\" href=\"http://www.ijimt.org/abstract/100-E00187.htm\">Formalizing Semantic of Natural Language through Conceptualization from Existence</a></i>. <a rel=\"nofollow\" class=\"external text\" href=\"https://web.archive.org/web/20111009135952/http://www.ijimt.org/abstract/100-E00187.htm\">Archived</a> 2011-10-09 at the <a href=\"/wiki/Wayback_Machine\" title=\"Wayback Machine\">Wayback Machine</a> International Journal of Innovation, Management and Technology(2011) 2 (1), pp. 37-42.</span>\\n</li>\\n<li id=\"cite_note-16\"><span class=\"mw-cite-backlink\"><b><a href=\"#cite_ref-16\">^</a></b></span> <span class=\"reference-text\">\"<a rel=\"nofollow\" class=\"external text\" href=\"https://www.academia.edu/2475776/Versatile_question_answering_systems_seeing_in_synthesis\">Versatile question answering systems: seeing in synthesis</a>\", Mittal et al., IJIIDS, 5(2), 119-142, 2011.</span>\\n</li>\\n<li id=\"cite_note-rte:11-17\"><span class=\"mw-cite-backlink\"><b><a href=\"#cite_ref-rte:11_17-0\">^</a></b></span> <span class=\"reference-text\">PASCAL Recognizing Textual Entailment Challenge (RTE-7) <a rel=\"nofollow\" class=\"external free\" href=\"https://tac.nist.gov//2011/RTE/\">https://tac.nist.gov//2011/RTE/</a></span>\\n</li>\\n<li id=\"cite_note-18\"><span class=\"mw-cite-backlink\"><b><a href=\"#cite_ref-18\">^</a></b></span> <span class=\"reference-text\"><cite id=\"CITEREFYiTian2012\" class=\"citation\">Yi, Chucai; Tian, Yingli (2012), \"Assistive Text Reading from Complex Background for Blind Persons\", <i>Camera-Based Document Analysis and Recognition</i>, Springer Berlin Heidelberg, pp.&#160;15\\xe2\\x80\\x9328, <a href=\"/wiki/CiteSeerX\" title=\"CiteSeerX\">CiteSeerX</a>&#160;<span class=\"cs1-lock-free\" title=\"Freely accessible\"><a rel=\"nofollow\" class=\"external text\" href=\"//citeseerx.ist.psu.edu/viewdoc/summary?doi=10.1.1.668.869\">10.1.1.668.869</a></span>, <a href=\"/wiki/Digital_object_identifier\" title=\"Digital object identifier\">doi</a>:<a rel=\"nofollow\" class=\"external text\" href=\"https://doi.org/10.1007%2F978-3-642-29364-1_2\">10.1007/978-3-642-29364-1_2</a>, <a href=\"/wiki/International_Standard_Book_Number\" title=\"International Standard Book Number\">ISBN</a>&#160;<a href=\"/wiki/Special:BookSources/9783642293634\" title=\"Special:BookSources/9783642293634\"><bdi>9783642293634</bdi></a></cite><span title=\"ctx_ver=Z39.88-2004&amp;rft_val_fmt=info%3Aofi%2Ffmt%3Akev%3Amtx%3Ajournal&amp;rft.genre=article&amp;rft.jtitle=Camera-Based+Document+Analysis+and+Recognition&amp;rft.atitle=Assistive+Text+Reading+from+Complex+Background+for+Blind+Persons&amp;rft.pages=15-28&amp;rft.date=2012&amp;rft_id=%2F%2Fciteseerx.ist.psu.edu%2Fviewdoc%2Fsummary%3Fdoi%3D10.1.1.668.869&amp;rft_id=info%3Adoi%2F10.1007%2F978-3-642-29364-1_2&amp;rft.isbn=9783642293634&amp;rft.aulast=Yi&amp;rft.aufirst=Chucai&amp;rft.au=Tian%2C+Yingli&amp;rfr_id=info%3Asid%2Fen.wikipedia.org%3ANatural+language+processing\" class=\"Z3988\"></span><link rel=\"mw-deduplicated-inline-style\" href=\"mw-data:TemplateStyles:r935243608\"/></span>\\n</li>\\n</ol></div>\\n<h2><span class=\"mw-headline\" id=\"Further_reading\">Further reading</span><span class=\"mw-editsection\"><span class=\"mw-editsection-bracket\">[</span><a href=\"/w/index.php?title=Natural_language_processing&amp;action=edit&amp;section=11\" title=\"Edit section: Further reading\">edit</a><span class=\"mw-editsection-bracket\">]</span></span></h2>\\n<style data-mw-deduplicate=\"TemplateStyles:r886047268\">.mw-parser-output .refbegin{font-size:90%;margin-bottom:0.5em}.mw-parser-output .refbegin-hanging-indents>ul{list-style-type:none;margin-left:0}.mw-parser-output .refbegin-hanging-indents>ul>li,.mw-parser-output .refbegin-hanging-indents>dl>dd{margin-left:0;padding-left:3.2em;text-indent:-3.2em;list-style:none}.mw-parser-output .refbegin-100{font-size:100%}</style><div class=\"refbegin reflist\" style=\"\">\\n<ul><li><cite class=\"citation journal\">Bates, M (1995). <a rel=\"nofollow\" class=\"external text\" href=\"//www.ncbi.nlm.nih.gov/pmc/articles/PMC40721\">\"Models of natural language understanding\"</a>. <i>Proceedings of the National Academy of Sciences of the United States of America</i>. <b>92</b> (22): 9977\\xe2\\x80\\x939982. <a href=\"/wiki/Digital_object_identifier\" title=\"Digital object identifier\">doi</a>:<a rel=\"nofollow\" class=\"external text\" href=\"https://doi.org/10.1073%2Fpnas.92.22.9977\">10.1073/pnas.92.22.9977</a>. <a href=\"/wiki/PubMed_Central\" title=\"PubMed Central\">PMC</a>&#160;<span class=\"cs1-lock-free\" title=\"Freely accessible\"><a rel=\"nofollow\" class=\"external text\" href=\"//www.ncbi.nlm.nih.gov/pmc/articles/PMC40721\">40721</a></span>. <a href=\"/wiki/PubMed_Identifier\" class=\"mw-redirect\" title=\"PubMed Identifier\">PMID</a>&#160;<a rel=\"nofollow\" class=\"external text\" href=\"//pubmed.ncbi.nlm.nih.gov/7479812\">7479812</a>.</cite><span title=\"ctx_ver=Z39.88-2004&amp;rft_val_fmt=info%3Aofi%2Ffmt%3Akev%3Amtx%3Ajournal&amp;rft.genre=article&amp;rft.jtitle=Proceedings+of+the+National+Academy+of+Sciences+of+the+United+States+of+America&amp;rft.atitle=Models+of+natural+language+understanding&amp;rft.volume=92&amp;rft.issue=22&amp;rft.pages=9977-9982&amp;rft.date=1995&amp;rft_id=%2F%2Fwww.ncbi.nlm.nih.gov%2Fpmc%2Farticles%2FPMC40721&amp;rft_id=info%3Apmid%2F7479812&amp;rft_id=info%3Adoi%2F10.1073%2Fpnas.92.22.9977&amp;rft.aulast=Bates&amp;rft.aufirst=M&amp;rft_id=%2F%2Fwww.ncbi.nlm.nih.gov%2Fpmc%2Farticles%2FPMC40721&amp;rfr_id=info%3Asid%2Fen.wikipedia.org%3ANatural+language+processing\" class=\"Z3988\"></span><link rel=\"mw-deduplicated-inline-style\" href=\"mw-data:TemplateStyles:r935243608\"/></li>\\n<li>Steven Bird, Ewan Klein, and Edward Loper (2009). <i>Natural Language Processing with Python</i>. O\\'Reilly Media. <link rel=\"mw-deduplicated-inline-style\" href=\"mw-data:TemplateStyles:r935243608\"/><a href=\"/wiki/International_Standard_Book_Number\" title=\"International Standard Book Number\">ISBN</a>&#160;<a href=\"/wiki/Special:BookSources/978-0-596-51649-9\" title=\"Special:BookSources/978-0-596-51649-9\">978-0-596-51649-9</a>.</li>\\n<li>Daniel Jurafsky and James H. Martin (2008). <i>Speech and Language Processing</i>, 2nd edition. Pearson Prentice Hall. <link rel=\"mw-deduplicated-inline-style\" href=\"mw-data:TemplateStyles:r935243608\"/><a href=\"/wiki/International_Standard_Book_Number\" title=\"International Standard Book Number\">ISBN</a>&#160;<a href=\"/wiki/Special:BookSources/978-0-13-187321-6\" title=\"Special:BookSources/978-0-13-187321-6\">978-0-13-187321-6</a>.</li>\\n<li>Mohamed Zakaria Kurdi (2016). <i>Natural Language Processing and Computational Linguistics: speech, morphology, and syntax</i>, Volume 1. ISTE-Wiley. <link rel=\"mw-deduplicated-inline-style\" href=\"mw-data:TemplateStyles:r935243608\"/><a href=\"/wiki/International_Standard_Book_Number\" title=\"International Standard Book Number\">ISBN</a>&#160;<a href=\"/wiki/Special:BookSources/978-1848218482\" title=\"Special:BookSources/978-1848218482\">978-1848218482</a>.</li>\\n<li>Mohamed Zakaria Kurdi (2017). <i>Natural Language Processing and Computational Linguistics: semantics, discourse, and applications</i>, Volume 2. ISTE-Wiley. <link rel=\"mw-deduplicated-inline-style\" href=\"mw-data:TemplateStyles:r935243608\"/><a href=\"/wiki/International_Standard_Book_Number\" title=\"International Standard Book Number\">ISBN</a>&#160;<a href=\"/wiki/Special:BookSources/978-1848219212\" title=\"Special:BookSources/978-1848219212\">978-1848219212</a>.</li>\\n<li>Christopher D. Manning, Prabhakar Raghavan, and Hinrich Sch\\xc3\\xbctze (2008). <i>Introduction to Information Retrieval</i>. Cambridge University Press. <link rel=\"mw-deduplicated-inline-style\" href=\"mw-data:TemplateStyles:r935243608\"/><a href=\"/wiki/International_Standard_Book_Number\" title=\"International Standard Book Number\">ISBN</a>&#160;<a href=\"/wiki/Special:BookSources/978-0-521-86571-5\" title=\"Special:BookSources/978-0-521-86571-5\">978-0-521-86571-5</a>. <a rel=\"nofollow\" class=\"external text\" href=\"http://nlp.stanford.edu/IR-book/\">Official html and pdf versions available without charge.</a></li>\\n<li>Christopher D. Manning and Hinrich Sch\\xc3\\xbctze (1999). <i>Foundations of Statistical Natural Language Processing</i>. The MIT Press. <link rel=\"mw-deduplicated-inline-style\" href=\"mw-data:TemplateStyles:r935243608\"/><a href=\"/wiki/International_Standard_Book_Number\" title=\"International Standard Book Number\">ISBN</a>&#160;<a href=\"/wiki/Special:BookSources/978-0-262-13360-9\" title=\"Special:BookSources/978-0-262-13360-9\">978-0-262-13360-9</a>.</li>\\n<li>David M. W. Powers and Christopher C. R. Turk (1989). <i>Machine Learning of Natural Language</i>. Springer-Verlag. <link rel=\"mw-deduplicated-inline-style\" href=\"mw-data:TemplateStyles:r935243608\"/><a href=\"/wiki/International_Standard_Book_Number\" title=\"International Standard Book Number\">ISBN</a>&#160;<a href=\"/wiki/Special:BookSources/978-0-387-19557-5\" title=\"Special:BookSources/978-0-387-19557-5\">978-0-387-19557-5</a>.</li></ul>\\n</div>\\n<table role=\"presentation\" class=\"mbox-small plainlinks sistersitebox\" style=\"background-color:#f9f9f9;border:1px solid #aaa;color:#000\">\\n<tbody><tr>\\n<td class=\"mbox-image\"><img alt=\"\" src=\"//upload.wikimedia.org/wikipedia/en/thumb/4/4a/Commons-logo.svg/30px-Commons-logo.svg.png\" decoding=\"async\" width=\"30\" height=\"40\" class=\"noviewer\" srcset=\"//upload.wikimedia.org/wikipedia/en/thumb/4/4a/Commons-logo.svg/45px-Commons-logo.svg.png 1.5x, //upload.wikimedia.org/wikipedia/en/thumb/4/4a/Commons-logo.svg/59px-Commons-logo.svg.png 2x\" data-file-width=\"1024\" data-file-height=\"1376\" /></td>\\n<td class=\"mbox-text plainlist\">Wikimedia Commons has media related to <i><b><a href=\"https://commons.wikimedia.org/wiki/Special:Search/Natural_language_processing\" class=\"extiw\" title=\"commons:Special:Search/Natural language processing\">Natural language processing</a></b></i>.</td></tr>\\n</tbody></table>\\n<div role=\"navigation\" class=\"navbox\" aria-labelledby=\"Natural_language_processing\" style=\"padding:3px\"><table class=\"nowraplinks hlist mw-collapsible mw-collapsed navbox-inner\" style=\"border-spacing:0;background:transparent;color:inherit\"><tbody><tr><th scope=\"col\" class=\"navbox-title\" colspan=\"2\"><div class=\"plainlinks hlist navbar mini\"><ul><li class=\"nv-view\"><a href=\"/wiki/Template:Natural_Language_Processing\" title=\"Template:Natural Language Processing\"><abbr title=\"View this template\" style=\";;background:none transparent;border:none;-moz-box-shadow:none;-webkit-box-shadow:none;box-shadow:none; padding:0;\">v</abbr></a></li><li class=\"nv-talk\"><a href=\"/wiki/Template_talk:Natural_Language_Processing\" title=\"Template talk:Natural Language Processing\"><abbr title=\"Discuss this template\" style=\";;background:none transparent;border:none;-moz-box-shadow:none;-webkit-box-shadow:none;box-shadow:none; padding:0;\">t</abbr></a></li><li class=\"nv-edit\"><a class=\"external text\" href=\"https://en.wikipedia.org/w/index.php?title=Template:Natural_Language_Processing&amp;action=edit\"><abbr title=\"Edit this template\" style=\";;background:none transparent;border:none;-moz-box-shadow:none;-webkit-box-shadow:none;box-shadow:none; padding:0;\">e</abbr></a></li></ul></div><div id=\"Natural_language_processing\" style=\"font-size:114%;margin:0 4em\"><a class=\"mw-selflink selflink\">Natural language processing</a></div></th></tr><tr><th scope=\"row\" class=\"navbox-group\" style=\"width:1%\">General terms</th><td class=\"navbox-list navbox-odd\" style=\"text-align:left;border-left-width:2px;border-left-style:solid;width:100%;padding:0px\"><div style=\"padding:0em 0.25em\">\\n<ul><li><a href=\"/wiki/Natural_language_understanding\" class=\"mw-redirect\" title=\"Natural language understanding\">Natural language understanding</a></li>\\n<li><a href=\"/wiki/Text_corpus\" title=\"Text corpus\">Text corpus</a></li>\\n<li><a href=\"/wiki/Speech_corpus\" title=\"Speech corpus\">Speech corpus</a></li>\\n<li><a href=\"/wiki/Stop_words\" title=\"Stop words\">Stopwords</a></li>\\n<li><a href=\"/wiki/Bag-of-words_model\" title=\"Bag-of-words model\">Bag-of-words</a></li>\\n<li><a href=\"/wiki/AI-complete\" title=\"AI-complete\">AI-complete</a></li>\\n<li><a href=\"/wiki/N-gram\" title=\"N-gram\">n-gram</a> (<a href=\"/wiki/Bigram\" title=\"Bigram\">Bigram</a>, <a href=\"/wiki/Trigram\" title=\"Trigram\">Trigram</a>)</li></ul>\\n</div></td></tr><tr><th scope=\"row\" class=\"navbox-group\" style=\"width:1%\"><a href=\"/wiki/Text_mining\" title=\"Text mining\">Text analysis</a></th><td class=\"navbox-list navbox-even\" style=\"text-align:left;border-left-width:2px;border-left-style:solid;width:100%;padding:0px\"><div style=\"padding:0em 0.25em\">\\n<ul><li><a href=\"/wiki/Text_segmentation\" title=\"Text segmentation\">Text segmentation</a></li>\\n<li><a href=\"/wiki/Part-of-speech_tagging\" title=\"Part-of-speech tagging\">Part-of-speech tagging</a></li>\\n<li><a href=\"/wiki/Shallow_parsing\" title=\"Shallow parsing\">Text chunking</a></li>\\n<li><a href=\"/wiki/Compound_term_processing\" class=\"mw-redirect\" title=\"Compound term processing\">Compound term processing</a></li>\\n<li><a href=\"/wiki/Collocation_extraction\" title=\"Collocation extraction\">Collocation extraction</a></li>\\n<li><a href=\"/wiki/Stemming\" title=\"Stemming\">Stemming</a></li>\\n<li><a href=\"/wiki/Lemmatisation\" title=\"Lemmatisation\">Lemmatisation</a></li>\\n<li><a href=\"/wiki/Named-entity_recognition\" title=\"Named-entity recognition\">Named-entity recognition</a></li>\\n<li><a href=\"/wiki/Coreference#Coreference_resolution\" title=\"Coreference\">Coreference resolution</a></li>\\n<li><a href=\"/wiki/Sentiment_analysis\" title=\"Sentiment analysis\">Sentiment analysis</a></li>\\n<li><a href=\"/wiki/Concept_mining\" title=\"Concept mining\">Concept mining</a></li>\\n<li><a href=\"/wiki/Parsing\" title=\"Parsing\">Parsing</a></li>\\n<li><a href=\"/wiki/Word-sense_disambiguation\" title=\"Word-sense disambiguation\">Word-sense disambiguation</a></li>\\n<li><a href=\"/wiki/Ontology_learning\" title=\"Ontology learning\">Ontology learning</a></li>\\n<li><a href=\"/wiki/Terminology_extraction\" title=\"Terminology extraction\">Terminology extraction</a></li>\\n<li><a href=\"/wiki/Textual_entailment\" title=\"Textual entailment\">Textual entailment</a></li>\\n<li><a href=\"/wiki/Truecasing\" title=\"Truecasing\">Truecasing</a></li></ul>\\n</div></td></tr><tr><th scope=\"row\" class=\"navbox-group\" style=\"width:1%\"><a href=\"/wiki/Automatic_summarization\" title=\"Automatic summarization\">Automatic summarization</a></th><td class=\"navbox-list navbox-odd\" style=\"text-align:left;border-left-width:2px;border-left-style:solid;width:100%;padding:0px\"><div style=\"padding:0em 0.25em\">\\n<ul><li><a href=\"/wiki/Multi-document_summarization\" title=\"Multi-document summarization\">Multi-document summarization</a></li>\\n<li><a href=\"/wiki/Sentence_extraction\" title=\"Sentence extraction\">Sentence extraction</a></li>\\n<li><a href=\"/wiki/Text_simplification\" title=\"Text simplification\">Text simplification</a></li></ul>\\n</div></td></tr><tr><th scope=\"row\" class=\"navbox-group\" style=\"width:1%\"><a href=\"/wiki/Machine_translation\" title=\"Machine translation\">Machine translation</a></th><td class=\"navbox-list navbox-even\" style=\"text-align:left;border-left-width:2px;border-left-style:solid;width:100%;padding:0px\"><div style=\"padding:0em 0.25em\">\\n<ul><li><a href=\"/wiki/Computer-assisted_translation\" title=\"Computer-assisted translation\">Computer-assisted</a></li>\\n<li><a href=\"/wiki/Example-based_machine_translation\" title=\"Example-based machine translation\">Example-based</a></li>\\n<li><a href=\"/wiki/Rule-based_machine_translation\" title=\"Rule-based machine translation\">Rule-based</a></li>\\n<li><a href=\"/wiki/Neural_machine_translation\" title=\"Neural machine translation\">Neural</a></li></ul>\\n</div></td></tr><tr><th scope=\"row\" class=\"navbox-group\" style=\"width:1%\"><a href=\"/wiki/Automatic_identification_and_data_capture\" title=\"Automatic identification and data capture\">Automatic identification<br />and data capture</a></th><td class=\"navbox-list navbox-odd\" style=\"text-align:left;border-left-width:2px;border-left-style:solid;width:100%;padding:0px\"><div style=\"padding:0em 0.25em\">\\n<ul><li><a href=\"/wiki/Speech_recognition\" title=\"Speech recognition\">Speech recognition</a></li>\\n<li><a href=\"/wiki/Speech_synthesis\" title=\"Speech synthesis\">Speech synthesis</a></li>\\n<li><a href=\"/wiki/Optical_character_recognition\" title=\"Optical character recognition\">Optical character recognition</a></li>\\n<li><a href=\"/wiki/Natural_language_generation\" class=\"mw-redirect\" title=\"Natural language generation\">Natural language generation</a></li></ul>\\n</div></td></tr><tr><th scope=\"row\" class=\"navbox-group\" style=\"width:1%\"><a href=\"/wiki/Topic_model\" title=\"Topic model\">Topic model</a></th><td class=\"navbox-list navbox-even\" style=\"text-align:left;border-left-width:2px;border-left-style:solid;width:100%;padding:0px\"><div style=\"padding:0em 0.25em\">\\n<ul><li><a href=\"/wiki/Pachinko_allocation\" title=\"Pachinko allocation\">Pachinko allocation</a></li>\\n<li><a href=\"/wiki/Latent_Dirichlet_allocation\" title=\"Latent Dirichlet allocation\">Latent Dirichlet allocation</a></li>\\n<li><a href=\"/wiki/Latent_semantic_analysis\" title=\"Latent semantic analysis\">Latent semantic analysis</a></li></ul>\\n</div></td></tr><tr><th scope=\"row\" class=\"navbox-group\" style=\"width:1%\"><a href=\"/wiki/Computer-assisted_reviewing\" title=\"Computer-assisted reviewing\">Computer-assisted<br />reviewing</a></th><td class=\"navbox-list navbox-odd\" style=\"text-align:left;border-left-width:2px;border-left-style:solid;width:100%;padding:0px\"><div style=\"padding:0em 0.25em\">\\n<ul><li><a href=\"/wiki/Automated_essay_scoring\" title=\"Automated essay scoring\">Automated essay scoring</a></li>\\n<li><a href=\"/wiki/Concordancer\" title=\"Concordancer\">Concordancer</a></li>\\n<li><a href=\"/wiki/Grammar_checker\" title=\"Grammar checker\">Grammar checker</a></li>\\n<li><a href=\"/wiki/Predictive_text\" title=\"Predictive text\">Predictive text</a></li>\\n<li><a href=\"/wiki/Spell_checker\" title=\"Spell checker\">Spell checker</a></li>\\n<li><a href=\"/wiki/Syntax_guessing\" title=\"Syntax guessing\">Syntax guessing</a></li></ul>\\n</div></td></tr><tr><th scope=\"row\" class=\"navbox-group\" style=\"width:1%\"><a href=\"/wiki/Natural_language_user_interface\" class=\"mw-redirect\" title=\"Natural language user interface\">Natural language<br />user interface</a></th><td class=\"navbox-list navbox-even\" style=\"text-align:left;border-left-width:2px;border-left-style:solid;width:100%;padding:0px\"><div style=\"padding:0em 0.25em\">\\n<ul><li><a href=\"/wiki/Automated_online_assistant\" class=\"mw-redirect\" title=\"Automated online assistant\">Automated online assistant</a></li>\\n<li><a href=\"/wiki/Chatbot\" title=\"Chatbot\">Chatbot</a></li>\\n<li><a href=\"/wiki/Interactive_fiction\" title=\"Interactive fiction\">Interactive fiction</a></li>\\n<li><a href=\"/wiki/Question_answering\" title=\"Question answering\">Question answering</a></li>\\n<li><a href=\"/wiki/Voice_user_interface\" title=\"Voice user interface\">Voice user interface</a></li></ul>\\n</div></td></tr></tbody></table></div>\\n<div role=\"navigation\" class=\"navbox authority-control\" aria-labelledby=\"Authority_control_frameless_&amp;#124;text-top_&amp;#124;10px_&amp;#124;alt=Edit_this_at_Wikidata_&amp;#124;link=https&amp;#58;//www.wikidata.org/wiki/Q30642&amp;#124;Edit_this_at_Wikidata\" style=\"padding:3px\"><table class=\"nowraplinks hlist navbox-inner\" style=\"border-spacing:0;background:transparent;color:inherit\"><tbody><tr><th id=\"Authority_control_frameless_&amp;#124;text-top_&amp;#124;10px_&amp;#124;alt=Edit_this_at_Wikidata_&amp;#124;link=https&amp;#58;//www.wikidata.org/wiki/Q30642&amp;#124;Edit_this_at_Wikidata\" scope=\"row\" class=\"navbox-group\" style=\"width:1%\"><a href=\"/wiki/Help:Authority_control\" title=\"Help:Authority control\">Authority control</a> <a href=\"https://www.wikidata.org/wiki/Q30642\" title=\"Edit this at Wikidata\"><img alt=\"Edit this at Wikidata\" src=\"//upload.wikimedia.org/wikipedia/en/thumb/8/8a/OOjs_UI_icon_edit-ltr-progressive.svg/10px-OOjs_UI_icon_edit-ltr-progressive.svg.png\" decoding=\"async\" width=\"10\" height=\"10\" style=\"vertical-align: text-top\" srcset=\"//upload.wikimedia.org/wikipedia/en/thumb/8/8a/OOjs_UI_icon_edit-ltr-progressive.svg/15px-OOjs_UI_icon_edit-ltr-progressive.svg.png 1.5x, //upload.wikimedia.org/wikipedia/en/thumb/8/8a/OOjs_UI_icon_edit-ltr-progressive.svg/20px-OOjs_UI_icon_edit-ltr-progressive.svg.png 2x\" data-file-width=\"20\" data-file-height=\"20\" /></a></th><td class=\"navbox-list navbox-odd\" style=\"text-align:left;border-left-width:2px;border-left-style:solid;width:100%;padding:0px\"><div style=\"padding:0em 0.25em\">\\n<ul><li><span class=\"nowrap\"><a href=\"/wiki/Library_of_Congress_Control_Number\" title=\"Library of Congress Control Number\">LCCN</a>: <span class=\"uid\"><a rel=\"nofollow\" class=\"external text\" href=\"https://id.loc.gov/authorities/subjects/sh88002425\">sh88002425</a></span></span></li>\\n<li><span class=\"nowrap\"><a href=\"/wiki/National_Diet_Library\" title=\"National Diet Library\">NDL</a>: <span class=\"uid\"><a rel=\"nofollow\" class=\"external text\" href=\"https://id.ndl.go.jp/auth/ndlna/00562347\">00562347</a></span></span></li></ul>\\n</div></td></tr></tbody></table></div>\\n<div class=\"noprint metadata navbox\" role=\"navigation\" aria-label=\"Portals\" style=\"font-weight:bold;padding:0.4em 2em\"><ul style=\"margin:0.1em 0 0\"><li style=\"display:inline\"><span style=\"display:inline-block;white-space:nowrap\"><span style=\"margin:0 0.5em\"><a href=\"/wiki/File:Globe_of_letters.svg\" class=\"image\"><img alt=\"Globe of letters.svg\" src=\"//upload.wikimedia.org/wikipedia/commons/thumb/d/de/Globe_of_letters.svg/21px-Globe_of_letters.svg.png\" decoding=\"async\" width=\"21\" height=\"21\" srcset=\"//upload.wikimedia.org/wikipedia/commons/thumb/d/de/Globe_of_letters.svg/32px-Globe_of_letters.svg.png 1.5x, //upload.wikimedia.org/wikipedia/commons/thumb/d/de/Globe_of_letters.svg/42px-Globe_of_letters.svg.png 2x\" data-file-width=\"512\" data-file-height=\"512\" /></a></span><a href=\"/wiki/Portal:Language\" title=\"Portal:Language\">Language portal</a></span></li></ul></div>\\n<!-- \\nNewPP limit report\\nParsed by mw1333\\nCached time: 20200120022809\\nCache expiry: 2592000\\nDynamic content: false\\nComplications: [vary\\xe2\\x80\\x90revision\\xe2\\x80\\x90sha1]\\nCPU time usage: 0.508 seconds\\nReal time usage: 0.727 seconds\\nPreprocessor visited node count: 2540/1000000\\nPreprocessor generated node count: 0/1500000\\nPost\\xe2\\x80\\x90expand include size: 44202/2097152 bytes\\nTemplate argument size: 4909/2097152 bytes\\nHighest expansion depth: 14/40\\nExpensive parser function count: 8/500\\nUnstrip recursion depth: 1/20\\nUnstrip post\\xe2\\x80\\x90expand size: 35109/5000000 bytes\\nNumber of Wikibase entities loaded: 4/400\\nLua time usage: 0.248/10.000 seconds\\nLua memory usage: 5.37 MB/50 MB\\n-->\\n<!--\\nTransclusion expansion time report (%,ms,calls,template)\\n100.00%  637.638      1 -total\\n 31.49%  200.774      1 Template:Reflist\\n 18.20%  116.063      1 Template:Cite_conference\\n 12.99%   82.810      7 Template:ISBN\\n 12.12%   77.301      1 Template:Authority_control\\n 11.90%   75.886      1 Template:Clarify\\n 10.90%   69.525      1 Template:Fix-span\\n  7.43%   47.355      4 Template:Category_handler\\n  5.44%   34.718      1 Template:Citation\\n  5.15%   32.862      1 Template:Distinguish\\n-->\\n\\n<!-- Saved in parser cache with key enwiki:pcache:idhash:21652-0!canonical and timestamp 20200120022808 and revision id 934178090\\n -->\\n</div><noscript><img src=\"//en.wikipedia.org/wiki/Special:CentralAutoLogin/start?type=1x1\" alt=\"\" title=\"\" width=\"1\" height=\"1\" style=\"border: none; position: absolute;\" /></noscript></div>\\n\\t\\t\\n\\t\\t<div class=\"printfooter\">Retrieved from \"<a dir=\"ltr\" href=\"https://en.wikipedia.org/w/index.php?title=Natural_language_processing&amp;oldid=934178090\">https://en.wikipedia.org/w/index.php?title=Natural_language_processing&amp;oldid=934178090</a>\"</div>\\n\\t\\t\\n\\t\\t<div id=\"catlinks\" class=\"catlinks\" data-mw=\"interface\"><div id=\"mw-normal-catlinks\" class=\"mw-normal-catlinks\"><a href=\"/wiki/Help:Category\" title=\"Help:Category\">Categories</a>: <ul><li><a href=\"/wiki/Category:Natural_language_processing\" title=\"Category:Natural language processing\">Natural language processing</a></li><li><a href=\"/wiki/Category:Computational_linguistics\" title=\"Category:Computational linguistics\">Computational linguistics</a></li><li><a href=\"/wiki/Category:Speech_recognition\" title=\"Category:Speech recognition\">Speech recognition</a></li><li><a href=\"/wiki/Category:Computational_fields_of_study\" title=\"Category:Computational fields of study\">Computational fields of study</a></li><li><a href=\"/wiki/Category:Artificial_intelligence\" title=\"Category:Artificial intelligence\">Artificial intelligence</a></li></ul></div><div id=\"mw-hidden-catlinks\" class=\"mw-hidden-catlinks mw-hidden-cats-hidden\">Hidden categories: <ul><li><a href=\"/wiki/Category:Webarchive_template_wayback_links\" title=\"Category:Webarchive template wayback links\">Webarchive template wayback links</a></li><li><a href=\"/wiki/Category:Wikipedia_articles_needing_clarification_from_October_2019\" title=\"Category:Wikipedia articles needing clarification from October 2019\">Wikipedia articles needing clarification from October 2019</a></li><li><a href=\"/wiki/Category:All_accuracy_disputes\" title=\"Category:All accuracy disputes\">All accuracy disputes</a></li><li><a href=\"/wiki/Category:Articles_with_disputed_statements_from_June_2018\" title=\"Category:Articles with disputed statements from June 2018\">Articles with disputed statements from June 2018</a></li><li><a href=\"/wiki/Category:Wikipedia_articles_with_LCCN_identifiers\" title=\"Category:Wikipedia articles with LCCN identifiers\">Wikipedia articles with LCCN identifiers</a></li><li><a href=\"/wiki/Category:Wikipedia_articles_with_NDL_identifiers\" title=\"Category:Wikipedia articles with NDL identifiers\">Wikipedia articles with NDL identifiers</a></li></ul></div></div>\\n\\t\\t<div class=\"visualClear\"></div>\\n\\t\\t\\n\\t</div>\\n</div>\\n<div id=\\'mw-data-after-content\\'>\\n\\t<div class=\"read-more-container\"></div>\\n</div>\\n\\n\\n\\t\\t<div id=\"mw-navigation\">\\n\\t\\t\\t<h2>Navigation menu</h2>\\n\\t\\t\\t<div id=\"mw-head\">\\n\\t\\t\\t\\t\\n\\n<div id=\"p-personal\" role=\"navigation\" class=\"\" aria-labelledby=\"p-personal-label\">\\n\\t<h3 id=\"p-personal-label\">Personal tools</h3>\\n\\t<ul >\\n\\t\\t\\n\\t\\t<li id=\"pt-anonuserpage\">Not logged in</li>\\n\\t\\t<li id=\"pt-anontalk\"><a href=\"/wiki/Special:MyTalk\" title=\"Discussion about edits from this IP address [n]\" accesskey=\"n\">Talk</a></li><li id=\"pt-anoncontribs\"><a href=\"/wiki/Special:MyContributions\" title=\"A list of edits made from this IP address [y]\" accesskey=\"y\">Contributions</a></li><li id=\"pt-createaccount\"><a href=\"/w/index.php?title=Special:CreateAccount&amp;returnto=Natural+language+processing\" title=\"You are encouraged to create an account and log in; however, it is not mandatory\">Create account</a></li><li id=\"pt-login\"><a href=\"/w/index.php?title=Special:UserLogin&amp;returnto=Natural+language+processing\" title=\"You&#039;re encouraged to log in; however, it&#039;s not mandatory. [o]\" accesskey=\"o\">Log in</a></li>\\n\\t</ul>\\n</div>\\n\\t\\t\\t\\t<div id=\"left-navigation\">\\n\\t\\t\\t\\t\\t\\n<div id=\"p-namespaces\" role=\"navigation\" class=\"vectorTabs \" aria-labelledby=\"p-namespaces-label\">\\n\\t<h3 id=\"p-namespaces-label\">Namespaces</h3>\\n\\t<ul >\\n\\t\\t<li id=\"ca-nstab-main\" class=\"selected\"><a href=\"/wiki/Natural_language_processing\" title=\"View the content page [c]\" accesskey=\"c\">Article</a></li><li id=\"ca-talk\"><a href=\"/wiki/Talk:Natural_language_processing\" rel=\"discussion\" title=\"Discussion about the content page [t]\" accesskey=\"t\">Talk</a></li>\\n\\t</ul>\\n</div>\\n\\t\\t<div id=\"p-variants\" role=\"navigation\" class=\"vectorMenu emptyPortlet\" aria-labelledby=\"p-variants-label\">\\n\\t\\t\\t\\t\\t\\t<input type=\"checkbox\" class=\"vectorMenuCheckbox\" aria-labelledby=\"p-variants-label\" />\\n\\t\\t\\t<h3 id=\"p-variants-label\">\\n\\t\\t\\t\\t<span>Variants</span>\\n\\t\\t\\t</h3>\\n\\t\\t\\t<ul class=\"menu\">\\n\\t\\t\\t\\t\\t\\t\\t</ul>\\n\\t\\t</div>\\n\\t\\t\\t\\t\\t\\t</div>\\n\\t\\t\\t\\t<div id=\"right-navigation\">\\n\\t\\t\\t\\t\\t\\n<div id=\"p-views\" role=\"navigation\" class=\"vectorTabs \" aria-labelledby=\"p-views-label\">\\n\\t<h3 id=\"p-views-label\">Views</h3>\\n\\t<ul >\\n\\t\\t<li id=\"ca-view\" class=\"collapsible selected\"><a href=\"/wiki/Natural_language_processing\">Read</a></li><li id=\"ca-edit\" class=\"collapsible\"><a href=\"/w/index.php?title=Natural_language_processing&amp;action=edit\" title=\"Edit this page [e]\" accesskey=\"e\">Edit</a></li><li id=\"ca-history\" class=\"collapsible\"><a href=\"/w/index.php?title=Natural_language_processing&amp;action=history\" title=\"Past revisions of this page [h]\" accesskey=\"h\">View history</a></li>\\n\\t</ul>\\n</div>\\n\\t\\t<div id=\"p-cactions\" role=\"navigation\" class=\"vectorMenu emptyPortlet\" aria-labelledby=\"p-cactions-label\">\\n\\t\\t\\t<input type=\"checkbox\" class=\"vectorMenuCheckbox\" aria-labelledby=\"p-cactions-label\" />\\n\\t\\t\\t<h3 id=\"p-cactions-label\"><span>More</span></h3>\\n\\t\\t\\t<ul class=\"menu\">\\n\\t\\t\\t\\t\\t\\t\\t</ul>\\n\\t\\t</div>\\n\\t\\t\\n<div id=\"p-search\" role=\"search\">\\n\\t<h3 >\\n\\t\\t<label for=\"searchInput\">Search</label>\\n\\t</h3>\\n\\t<form action=\"/w/index.php\" id=\"searchform\">\\n\\t\\t<div id=\"simpleSearch\">\\n\\t\\t\\t<input type=\"search\" name=\"search\" placeholder=\"Search Wikipedia\" title=\"Search Wikipedia [f]\" accesskey=\"f\" id=\"searchInput\"/>\\n\\t\\t\\t<input type=\"hidden\" value=\"Special:Search\" name=\"title\"/>\\n\\t\\t\\t\\n\\t\\t\\t<input type=\"submit\" name=\"fulltext\" value=\"Search\" title=\"Search Wikipedia for this text\" id=\"mw-searchButton\" class=\"searchButton mw-fallbackSearchButton\"/>\\n\\t\\t\\t<input type=\"submit\" name=\"go\" value=\"Go\" title=\"Go to a page with this exact name if it exists\" id=\"searchButton\" class=\"searchButton\"/>\\n\\t\\t</div>\\n\\t</form>\\n</div>\\n\\t\\t\\t\\t</div>\\n\\t\\t\\t</div>\\n\\t\\t\\t<div id=\"mw-panel\">\\n\\t\\t\\t\\t<div id=\"p-logo\" role=\"banner\"><a class=\"mw-wiki-logo\" href=\"/wiki/Main_Page\" title=\"Visit the main page\"></a></div>\\n\\t\\t\\t\\t\\t\\t<div class=\"portal\" role=\"navigation\" id=\"p-navigation\" aria-labelledby=\"p-navigation-label\">\\n\\t\\t\\t<h3 id=\"p-navigation-label\">Navigation</h3>\\n\\t\\t\\t<div class=\"body\">\\n\\t\\t\\t\\t\\t\\t\\t\\t<ul>\\n\\t\\t\\t\\t\\t<li id=\"n-mainpage-description\"><a href=\"/wiki/Main_Page\" title=\"Visit the main page [z]\" accesskey=\"z\">Main page</a></li><li id=\"n-contents\"><a href=\"/wiki/Wikipedia:Contents\" title=\"Guides to browsing Wikipedia\">Contents</a></li><li id=\"n-featuredcontent\"><a href=\"/wiki/Wikipedia:Featured_content\" title=\"Featured content \\xe2\\x80\\x93 the best of Wikipedia\">Featured content</a></li><li id=\"n-currentevents\"><a href=\"/wiki/Portal:Current_events\" title=\"Find background information on current events\">Current events</a></li><li id=\"n-randompage\"><a href=\"/wiki/Special:Random\" title=\"Load a random article [x]\" accesskey=\"x\">Random article</a></li><li id=\"n-sitesupport\"><a href=\"https://donate.wikimedia.org/wiki/Special:FundraiserRedirector?utm_source=donate&amp;utm_medium=sidebar&amp;utm_campaign=C13_en.wikipedia.org&amp;uselang=en\" title=\"Support us\">Donate to Wikipedia</a></li><li id=\"n-shoplink\"><a href=\"//shop.wikimedia.org\" title=\"Visit the Wikipedia store\">Wikipedia store</a></li>\\t\\t\\t\\t</ul>\\n\\t\\t\\t\\t\\t\\t\\t</div>\\n\\t\\t</div>\\n\\t\\t\\t<div class=\"portal\" role=\"navigation\" id=\"p-interaction\" aria-labelledby=\"p-interaction-label\">\\n\\t\\t\\t<h3 id=\"p-interaction-label\">Interaction</h3>\\n\\t\\t\\t<div class=\"body\">\\n\\t\\t\\t\\t\\t\\t\\t\\t<ul>\\n\\t\\t\\t\\t\\t<li id=\"n-help\"><a href=\"/wiki/Help:Contents\" title=\"Guidance on how to use and edit Wikipedia\">Help</a></li><li id=\"n-aboutsite\"><a href=\"/wiki/Wikipedia:About\" title=\"Find out about Wikipedia\">About Wikipedia</a></li><li id=\"n-portal\"><a href=\"/wiki/Wikipedia:Community_portal\" title=\"About the project, what you can do, where to find things\">Community portal</a></li><li id=\"n-recentchanges\"><a href=\"/wiki/Special:RecentChanges\" title=\"A list of recent changes in the wiki [r]\" accesskey=\"r\">Recent changes</a></li><li id=\"n-contactpage\"><a href=\"//en.wikipedia.org/wiki/Wikipedia:Contact_us\" title=\"How to contact Wikipedia\">Contact page</a></li>\\t\\t\\t\\t</ul>\\n\\t\\t\\t\\t\\t\\t\\t</div>\\n\\t\\t</div>\\n\\t\\t\\t<div class=\"portal\" role=\"navigation\" id=\"p-tb\" aria-labelledby=\"p-tb-label\">\\n\\t\\t\\t<h3 id=\"p-tb-label\">Tools</h3>\\n\\t\\t\\t<div class=\"body\">\\n\\t\\t\\t\\t\\t\\t\\t\\t<ul>\\n\\t\\t\\t\\t\\t<li id=\"t-whatlinkshere\"><a href=\"/wiki/Special:WhatLinksHere/Natural_language_processing\" title=\"List of all English Wikipedia pages containing links to this page [j]\" accesskey=\"j\">What links here</a></li><li id=\"t-recentchangeslinked\"><a href=\"/wiki/Special:RecentChangesLinked/Natural_language_processing\" rel=\"nofollow\" title=\"Recent changes in pages linked from this page [k]\" accesskey=\"k\">Related changes</a></li><li id=\"t-upload\"><a href=\"/wiki/Wikipedia:File_Upload_Wizard\" title=\"Upload files [u]\" accesskey=\"u\">Upload file</a></li><li id=\"t-specialpages\"><a href=\"/wiki/Special:SpecialPages\" title=\"A list of all special pages [q]\" accesskey=\"q\">Special pages</a></li><li id=\"t-permalink\"><a href=\"/w/index.php?title=Natural_language_processing&amp;oldid=934178090\" title=\"Permanent link to this revision of the page\">Permanent link</a></li><li id=\"t-info\"><a href=\"/w/index.php?title=Natural_language_processing&amp;action=info\" title=\"More information about this page\">Page information</a></li><li id=\"t-wikibase\"><a href=\"https://www.wikidata.org/wiki/Special:EntityPage/Q30642\" title=\"Link to connected data repository item [g]\" accesskey=\"g\">Wikidata item</a></li><li id=\"t-cite\"><a href=\"/w/index.php?title=Special:CiteThisPage&amp;page=Natural_language_processing&amp;id=934178090\" title=\"Information on how to cite this page\">Cite this page</a></li>\\t\\t\\t\\t</ul>\\n\\t\\t\\t\\t\\t\\t\\t</div>\\n\\t\\t</div>\\n\\t\\t\\t<div class=\"portal\" role=\"navigation\" id=\"p-wikibase-otherprojects\" aria-labelledby=\"p-wikibase-otherprojects-label\">\\n\\t\\t\\t<h3 id=\"p-wikibase-otherprojects-label\">In other projects</h3>\\n\\t\\t\\t<div class=\"body\">\\n\\t\\t\\t\\t\\t\\t\\t\\t<ul>\\n\\t\\t\\t\\t\\t<li class=\"wb-otherproject-link wb-otherproject-commons\"><a href=\"https://commons.wikimedia.org/wiki/Category:Natural_language_processing\" hreflang=\"en\">Wikimedia Commons</a></li>\\t\\t\\t\\t</ul>\\n\\t\\t\\t\\t\\t\\t\\t</div>\\n\\t\\t</div>\\n\\t\\t\\t<div class=\"portal\" role=\"navigation\" id=\"p-coll-print_export\" aria-labelledby=\"p-coll-print_export-label\">\\n\\t\\t\\t<h3 id=\"p-coll-print_export-label\">Print/export</h3>\\n\\t\\t\\t<div class=\"body\">\\n\\t\\t\\t\\t\\t\\t\\t\\t<ul>\\n\\t\\t\\t\\t\\t<li id=\"coll-create_a_book\"><a href=\"/w/index.php?title=Special:Book&amp;bookcmd=book_creator&amp;referer=Natural+language+processing\">Create a book</a></li><li id=\"coll-download-as-rl\"><a href=\"/w/index.php?title=Special:ElectronPdf&amp;page=Natural+language+processing&amp;action=show-download-screen\">Download as PDF</a></li><li id=\"t-print\"><a href=\"/w/index.php?title=Natural_language_processing&amp;printable=yes\" title=\"Printable version of this page [p]\" accesskey=\"p\">Printable version</a></li>\\t\\t\\t\\t</ul>\\n\\t\\t\\t\\t\\t\\t\\t</div>\\n\\t\\t</div>\\n\\t\\t\\t<div class=\"portal\" role=\"navigation\" id=\"p-lang\" aria-labelledby=\"p-lang-label\">\\n\\t\\t\\t<h3 id=\"p-lang-label\">Languages</h3>\\n\\t\\t\\t<div class=\"body\">\\n\\t\\t\\t\\t\\t\\t\\t\\t<ul>\\n\\t\\t\\t\\t\\t<li class=\"interlanguage-link interwiki-af\"><a href=\"https://af.wikipedia.org/wiki/Natuurliketaalverwerking\" title=\"Natuurliketaalverwerking \\xe2\\x80\\x93 Afrikaans\" lang=\"af\" hreflang=\"af\" class=\"interlanguage-link-target\">Afrikaans</a></li><li class=\"interlanguage-link interwiki-ar\"><a href=\"https://ar.wikipedia.org/wiki/%D9%85%D8%B9%D8%A7%D9%84%D8%AC%D8%A9_%D8%A7%D9%84%D9%84%D8%BA%D8%A7%D8%AA_%D8%A7%D9%84%D8%B7%D8%A8%D9%8A%D8%B9%D9%8A%D8%A9\" title=\"\\xd9\\x85\\xd8\\xb9\\xd8\\xa7\\xd9\\x84\\xd8\\xac\\xd8\\xa9 \\xd8\\xa7\\xd9\\x84\\xd9\\x84\\xd8\\xba\\xd8\\xa7\\xd8\\xaa \\xd8\\xa7\\xd9\\x84\\xd8\\xb7\\xd8\\xa8\\xd9\\x8a\\xd8\\xb9\\xd9\\x8a\\xd8\\xa9 \\xe2\\x80\\x93 Arabic\" lang=\"ar\" hreflang=\"ar\" class=\"interlanguage-link-target\">\\xd8\\xa7\\xd9\\x84\\xd8\\xb9\\xd8\\xb1\\xd8\\xa8\\xd9\\x8a\\xd8\\xa9</a></li><li class=\"interlanguage-link interwiki-az\"><a href=\"https://az.wikipedia.org/wiki/T%C9%99bii_dilin_emal%C4%B1\" title=\"T\\xc9\\x99bii dilin emal\\xc4\\xb1 \\xe2\\x80\\x93 Azerbaijani\" lang=\"az\" hreflang=\"az\" class=\"interlanguage-link-target\">Az\\xc9\\x99rbaycanca</a></li><li class=\"interlanguage-link interwiki-bn\"><a href=\"https://bn.wikipedia.org/wiki/%E0%A6%AA%E0%A7%8D%E0%A6%B0%E0%A6%BE%E0%A6%95%E0%A7%83%E0%A6%A4%E0%A6%BF%E0%A6%95_%E0%A6%AD%E0%A6%BE%E0%A6%B7%E0%A6%BE_%E0%A6%AA%E0%A7%8D%E0%A6%B0%E0%A6%95%E0%A7%8D%E0%A6%B0%E0%A6%BF%E0%A6%AF%E0%A6%BC%E0%A6%BE%E0%A6%95%E0%A6%B0%E0%A6%A3\" title=\"\\xe0\\xa6\\xaa\\xe0\\xa7\\x8d\\xe0\\xa6\\xb0\\xe0\\xa6\\xbe\\xe0\\xa6\\x95\\xe0\\xa7\\x83\\xe0\\xa6\\xa4\\xe0\\xa6\\xbf\\xe0\\xa6\\x95 \\xe0\\xa6\\xad\\xe0\\xa6\\xbe\\xe0\\xa6\\xb7\\xe0\\xa6\\xbe \\xe0\\xa6\\xaa\\xe0\\xa7\\x8d\\xe0\\xa6\\xb0\\xe0\\xa6\\x95\\xe0\\xa7\\x8d\\xe0\\xa6\\xb0\\xe0\\xa6\\xbf\\xe0\\xa6\\xaf\\xe0\\xa6\\xbc\\xe0\\xa6\\xbe\\xe0\\xa6\\x95\\xe0\\xa6\\xb0\\xe0\\xa6\\xa3 \\xe2\\x80\\x93 Bangla\" lang=\"bn\" hreflang=\"bn\" class=\"interlanguage-link-target\">\\xe0\\xa6\\xac\\xe0\\xa6\\xbe\\xe0\\xa6\\x82\\xe0\\xa6\\xb2\\xe0\\xa6\\xbe</a></li><li class=\"interlanguage-link interwiki-zh-min-nan\"><a href=\"https://zh-min-nan.wikipedia.org/wiki/Ch%C5%AB-ji%C3%A2n_gi%C3%A2n-g%C3%BA_chh%C3%BA-l%C3%AD\" title=\"Ch\\xc5\\xab-ji\\xc3\\xa2n gi\\xc3\\xa2n-g\\xc3\\xba chh\\xc3\\xba-l\\xc3\\xad \\xe2\\x80\\x93 Chinese (Min Nan)\" lang=\"nan\" hreflang=\"nan\" class=\"interlanguage-link-target\">B\\xc3\\xa2n-l\\xc3\\xa2m-g\\xc3\\xba</a></li><li class=\"interlanguage-link interwiki-be\"><a href=\"https://be.wikipedia.org/wiki/%D0%90%D0%BF%D1%80%D0%B0%D1%86%D0%BE%D1%9E%D0%BA%D0%B0_%D0%BD%D0%B0%D1%82%D1%83%D1%80%D0%B0%D0%BB%D1%8C%D0%BD%D0%B0%D0%B9_%D0%BC%D0%BE%D0%B2%D1%8B\" title=\"\\xd0\\x90\\xd0\\xbf\\xd1\\x80\\xd0\\xb0\\xd1\\x86\\xd0\\xbe\\xd1\\x9e\\xd0\\xba\\xd0\\xb0 \\xd0\\xbd\\xd0\\xb0\\xd1\\x82\\xd1\\x83\\xd1\\x80\\xd0\\xb0\\xd0\\xbb\\xd1\\x8c\\xd0\\xbd\\xd0\\xb0\\xd0\\xb9 \\xd0\\xbc\\xd0\\xbe\\xd0\\xb2\\xd1\\x8b \\xe2\\x80\\x93 Belarusian\" lang=\"be\" hreflang=\"be\" class=\"interlanguage-link-target\">\\xd0\\x91\\xd0\\xb5\\xd0\\xbb\\xd0\\xb0\\xd1\\x80\\xd1\\x83\\xd1\\x81\\xd0\\xba\\xd0\\xb0\\xd1\\x8f</a></li><li class=\"interlanguage-link interwiki-be-x-old\"><a href=\"https://be-x-old.wikipedia.org/wiki/%D0%90%D0%BF%D1%80%D0%B0%D1%86%D0%BE%D1%9E%D0%BA%D0%B0_%D0%BD%D0%B0%D1%82%D1%83%D1%80%D0%B0%D0%BB%D1%8C%D0%BD%D0%B0%D0%B9_%D0%BC%D0%BE%D0%B2%D1%8B\" title=\"\\xd0\\x90\\xd0\\xbf\\xd1\\x80\\xd0\\xb0\\xd1\\x86\\xd0\\xbe\\xd1\\x9e\\xd0\\xba\\xd0\\xb0 \\xd0\\xbd\\xd0\\xb0\\xd1\\x82\\xd1\\x83\\xd1\\x80\\xd0\\xb0\\xd0\\xbb\\xd1\\x8c\\xd0\\xbd\\xd0\\xb0\\xd0\\xb9 \\xd0\\xbc\\xd0\\xbe\\xd0\\xb2\\xd1\\x8b \\xe2\\x80\\x93 Belarusian (Tara\\xc5\\xa1kievica orthography)\" lang=\"be-tarask\" hreflang=\"be-tarask\" class=\"interlanguage-link-target\">\\xd0\\x91\\xd0\\xb5\\xd0\\xbb\\xd0\\xb0\\xd1\\x80\\xd1\\x83\\xd1\\x81\\xd0\\xba\\xd0\\xb0\\xd1\\x8f (\\xd1\\x82\\xd0\\xb0\\xd1\\x80\\xd0\\xb0\\xd1\\x88\\xd0\\xba\\xd0\\xb5\\xd0\\xb2\\xd1\\x96\\xd1\\x86\\xd0\\xb0)\\xe2\\x80\\x8e</a></li><li class=\"interlanguage-link interwiki-bg\"><a href=\"https://bg.wikipedia.org/wiki/%D0%9E%D0%B1%D1%80%D0%B0%D0%B1%D0%BE%D1%82%D0%BA%D0%B0_%D0%BD%D0%B0_%D0%B5%D1%81%D1%82%D0%B5%D1%81%D1%82%D0%B2%D0%B5%D0%BD_%D0%B5%D0%B7%D0%B8%D0%BA\" title=\"\\xd0\\x9e\\xd0\\xb1\\xd1\\x80\\xd0\\xb0\\xd0\\xb1\\xd0\\xbe\\xd1\\x82\\xd0\\xba\\xd0\\xb0 \\xd0\\xbd\\xd0\\xb0 \\xd0\\xb5\\xd1\\x81\\xd1\\x82\\xd0\\xb5\\xd1\\x81\\xd1\\x82\\xd0\\xb2\\xd0\\xb5\\xd0\\xbd \\xd0\\xb5\\xd0\\xb7\\xd0\\xb8\\xd0\\xba \\xe2\\x80\\x93 Bulgarian\" lang=\"bg\" hreflang=\"bg\" class=\"interlanguage-link-target\">\\xd0\\x91\\xd1\\x8a\\xd0\\xbb\\xd0\\xb3\\xd0\\xb0\\xd1\\x80\\xd1\\x81\\xd0\\xba\\xd0\\xb8</a></li><li class=\"interlanguage-link interwiki-ca\"><a href=\"https://ca.wikipedia.org/wiki/Processament_de_llenguatge_natural\" title=\"Processament de llenguatge natural \\xe2\\x80\\x93 Catalan\" lang=\"ca\" hreflang=\"ca\" class=\"interlanguage-link-target\">Catal\\xc3\\xa0</a></li><li class=\"interlanguage-link interwiki-cs\"><a href=\"https://cs.wikipedia.org/wiki/Zpracov%C3%A1n%C3%AD_p%C5%99irozen%C3%A9ho_jazyka\" title=\"Zpracov\\xc3\\xa1n\\xc3\\xad p\\xc5\\x99irozen\\xc3\\xa9ho jazyka \\xe2\\x80\\x93 Czech\" lang=\"cs\" hreflang=\"cs\" class=\"interlanguage-link-target\">\\xc4\\x8ce\\xc5\\xa1tina</a></li><li class=\"interlanguage-link interwiki-da\"><a href=\"https://da.wikipedia.org/wiki/Sprogteknologi\" title=\"Sprogteknologi \\xe2\\x80\\x93 Danish\" lang=\"da\" hreflang=\"da\" class=\"interlanguage-link-target\">Dansk</a></li><li class=\"interlanguage-link interwiki-de\"><a href=\"https://de.wikipedia.org/wiki/Verarbeitung_nat%C3%BCrlicher_Sprache\" title=\"Verarbeitung nat\\xc3\\xbcrlicher Sprache \\xe2\\x80\\x93 German\" lang=\"de\" hreflang=\"de\" class=\"interlanguage-link-target\">Deutsch</a></li><li class=\"interlanguage-link interwiki-et\"><a href=\"https://et.wikipedia.org/wiki/Loomuliku_keele_t%C3%B6%C3%B6tlus\" title=\"Loomuliku keele t\\xc3\\xb6\\xc3\\xb6tlus \\xe2\\x80\\x93 Estonian\" lang=\"et\" hreflang=\"et\" class=\"interlanguage-link-target\">Eesti</a></li><li class=\"interlanguage-link interwiki-el\"><a href=\"https://el.wikipedia.org/wiki/%CE%95%CF%80%CE%B5%CE%BE%CE%B5%CF%81%CE%B3%CE%B1%CF%83%CE%AF%CE%B1_%CF%86%CF%85%CF%83%CE%B9%CE%BA%CE%AE%CF%82_%CE%B3%CE%BB%CF%8E%CF%83%CF%83%CE%B1%CF%82\" title=\"\\xce\\x95\\xcf\\x80\\xce\\xb5\\xce\\xbe\\xce\\xb5\\xcf\\x81\\xce\\xb3\\xce\\xb1\\xcf\\x83\\xce\\xaf\\xce\\xb1 \\xcf\\x86\\xcf\\x85\\xcf\\x83\\xce\\xb9\\xce\\xba\\xce\\xae\\xcf\\x82 \\xce\\xb3\\xce\\xbb\\xcf\\x8e\\xcf\\x83\\xcf\\x83\\xce\\xb1\\xcf\\x82 \\xe2\\x80\\x93 Greek\" lang=\"el\" hreflang=\"el\" class=\"interlanguage-link-target\">\\xce\\x95\\xce\\xbb\\xce\\xbb\\xce\\xb7\\xce\\xbd\\xce\\xb9\\xce\\xba\\xce\\xac</a></li><li class=\"interlanguage-link interwiki-es\"><a href=\"https://es.wikipedia.org/wiki/Procesamiento_de_lenguajes_naturales\" title=\"Procesamiento de lenguajes naturales \\xe2\\x80\\x93 Spanish\" lang=\"es\" hreflang=\"es\" class=\"interlanguage-link-target\">Espa\\xc3\\xb1ol</a></li><li class=\"interlanguage-link interwiki-eu\"><a href=\"https://eu.wikipedia.org/wiki/Hizkuntzaren_prozesamendu\" title=\"Hizkuntzaren prozesamendu \\xe2\\x80\\x93 Basque\" lang=\"eu\" hreflang=\"eu\" class=\"interlanguage-link-target\">Euskara</a></li><li class=\"interlanguage-link interwiki-fa\"><a href=\"https://fa.wikipedia.org/wiki/%D9%BE%D8%B1%D8%AF%D8%A7%D8%B2%D8%B4_%D8%B2%D8%A8%D8%A7%D9%86%E2%80%8C%D9%87%D8%A7%DB%8C_%D8%B7%D8%A8%DB%8C%D8%B9%DB%8C\" title=\"\\xd9\\xbe\\xd8\\xb1\\xd8\\xaf\\xd8\\xa7\\xd8\\xb2\\xd8\\xb4 \\xd8\\xb2\\xd8\\xa8\\xd8\\xa7\\xd9\\x86\\xe2\\x80\\x8c\\xd9\\x87\\xd8\\xa7\\xdb\\x8c \\xd8\\xb7\\xd8\\xa8\\xdb\\x8c\\xd8\\xb9\\xdb\\x8c \\xe2\\x80\\x93 Persian\" lang=\"fa\" hreflang=\"fa\" class=\"interlanguage-link-target\">\\xd9\\x81\\xd8\\xa7\\xd8\\xb1\\xd8\\xb3\\xdb\\x8c</a></li><li class=\"interlanguage-link interwiki-fr\"><a href=\"https://fr.wikipedia.org/wiki/Traitement_automatique_du_langage_naturel\" title=\"Traitement automatique du langage naturel \\xe2\\x80\\x93 French\" lang=\"fr\" hreflang=\"fr\" class=\"interlanguage-link-target\">Fran\\xc3\\xa7ais</a></li><li class=\"interlanguage-link interwiki-gl\"><a href=\"https://gl.wikipedia.org/wiki/Procesamento_da_linguaxe_natural\" title=\"Procesamento da linguaxe natural \\xe2\\x80\\x93 Galician\" lang=\"gl\" hreflang=\"gl\" class=\"interlanguage-link-target\">Galego</a></li><li class=\"interlanguage-link interwiki-ko\"><a href=\"https://ko.wikipedia.org/wiki/%EC%9E%90%EC%97%B0%EC%96%B4_%EC%B2%98%EB%A6%AC\" title=\"\\xec\\x9e\\x90\\xec\\x97\\xb0\\xec\\x96\\xb4 \\xec\\xb2\\x98\\xeb\\xa6\\xac \\xe2\\x80\\x93 Korean\" lang=\"ko\" hreflang=\"ko\" class=\"interlanguage-link-target\">\\xed\\x95\\x9c\\xea\\xb5\\xad\\xec\\x96\\xb4</a></li><li class=\"interlanguage-link interwiki-hy\"><a href=\"https://hy.wikipedia.org/wiki/%D4%B2%D5%B6%D5%A1%D5%AF%D5%A1%D5%B6_%D5%AC%D5%A5%D5%A6%D5%BE%D5%AB_%D5%B4%D5%B7%D5%A1%D5%AF%D5%B8%D6%82%D5%B4\" title=\"\\xd4\\xb2\\xd5\\xb6\\xd5\\xa1\\xd5\\xaf\\xd5\\xa1\\xd5\\xb6 \\xd5\\xac\\xd5\\xa5\\xd5\\xa6\\xd5\\xbe\\xd5\\xab \\xd5\\xb4\\xd5\\xb7\\xd5\\xa1\\xd5\\xaf\\xd5\\xb8\\xd6\\x82\\xd5\\xb4 \\xe2\\x80\\x93 Armenian\" lang=\"hy\" hreflang=\"hy\" class=\"interlanguage-link-target\">\\xd5\\x80\\xd5\\xa1\\xd5\\xb5\\xd5\\xa5\\xd6\\x80\\xd5\\xa5\\xd5\\xb6</a></li><li class=\"interlanguage-link interwiki-hi\"><a href=\"https://hi.wikipedia.org/wiki/%E0%A4%AA%E0%A5%8D%E0%A4%B0%E0%A4%BE%E0%A4%95%E0%A5%83%E0%A4%A4%E0%A4%BF%E0%A4%95_%E0%A4%AD%E0%A4%BE%E0%A4%B7%E0%A4%BE_%E0%A4%B8%E0%A4%82%E0%A4%B8%E0%A4%BE%E0%A4%A7%E0%A4%A8\" title=\"\\xe0\\xa4\\xaa\\xe0\\xa5\\x8d\\xe0\\xa4\\xb0\\xe0\\xa4\\xbe\\xe0\\xa4\\x95\\xe0\\xa5\\x83\\xe0\\xa4\\xa4\\xe0\\xa4\\xbf\\xe0\\xa4\\x95 \\xe0\\xa4\\xad\\xe0\\xa4\\xbe\\xe0\\xa4\\xb7\\xe0\\xa4\\xbe \\xe0\\xa4\\xb8\\xe0\\xa4\\x82\\xe0\\xa4\\xb8\\xe0\\xa4\\xbe\\xe0\\xa4\\xa7\\xe0\\xa4\\xa8 \\xe2\\x80\\x93 Hindi\" lang=\"hi\" hreflang=\"hi\" class=\"interlanguage-link-target\">\\xe0\\xa4\\xb9\\xe0\\xa4\\xbf\\xe0\\xa4\\xa8\\xe0\\xa5\\x8d\\xe0\\xa4\\xa6\\xe0\\xa5\\x80</a></li><li class=\"interlanguage-link interwiki-hr\"><a href=\"https://hr.wikipedia.org/wiki/Obrada_prirodnog_jezika\" title=\"Obrada prirodnog jezika \\xe2\\x80\\x93 Croatian\" lang=\"hr\" hreflang=\"hr\" class=\"interlanguage-link-target\">Hrvatski</a></li><li class=\"interlanguage-link interwiki-id\"><a href=\"https://id.wikipedia.org/wiki/Pemrosesan_bahasa_alami\" title=\"Pemrosesan bahasa alami \\xe2\\x80\\x93 Indonesian\" lang=\"id\" hreflang=\"id\" class=\"interlanguage-link-target\">Bahasa Indonesia</a></li><li class=\"interlanguage-link interwiki-is\"><a href=\"https://is.wikipedia.org/wiki/M%C3%A1lgreining\" title=\"M\\xc3\\xa1lgreining \\xe2\\x80\\x93 Icelandic\" lang=\"is\" hreflang=\"is\" class=\"interlanguage-link-target\">\\xc3\\x8dslenska</a></li><li class=\"interlanguage-link interwiki-it\"><a href=\"https://it.wikipedia.org/wiki/Elaborazione_del_linguaggio_naturale\" title=\"Elaborazione del linguaggio naturale \\xe2\\x80\\x93 Italian\" lang=\"it\" hreflang=\"it\" class=\"interlanguage-link-target\">Italiano</a></li><li class=\"interlanguage-link interwiki-he\"><a href=\"https://he.wikipedia.org/wiki/%D7%A2%D7%99%D7%91%D7%95%D7%93_%D7%A9%D7%A4%D7%94_%D7%98%D7%91%D7%A2%D7%99%D7%AA\" title=\"\\xd7\\xa2\\xd7\\x99\\xd7\\x91\\xd7\\x95\\xd7\\x93 \\xd7\\xa9\\xd7\\xa4\\xd7\\x94 \\xd7\\x98\\xd7\\x91\\xd7\\xa2\\xd7\\x99\\xd7\\xaa \\xe2\\x80\\x93 Hebrew\" lang=\"he\" hreflang=\"he\" class=\"interlanguage-link-target\">\\xd7\\xa2\\xd7\\x91\\xd7\\xa8\\xd7\\x99\\xd7\\xaa</a></li><li class=\"interlanguage-link interwiki-kn\"><a href=\"https://kn.wikipedia.org/wiki/%E0%B2%AA%E0%B3%8D%E0%B2%B0%E0%B2%BE%E0%B2%95%E0%B3%83%E0%B2%A4%E0%B2%BF%E0%B2%95_%E0%B2%AD%E0%B2%BE%E0%B2%B7%E0%B3%86%E0%B2%AF_%E0%B2%AA%E0%B2%B0%E0%B2%BF%E0%B2%B7%E0%B3%8D%E0%B2%95%E0%B2%B0%E0%B2%A3%E0%B3%86\" title=\"\\xe0\\xb2\\xaa\\xe0\\xb3\\x8d\\xe0\\xb2\\xb0\\xe0\\xb2\\xbe\\xe0\\xb2\\x95\\xe0\\xb3\\x83\\xe0\\xb2\\xa4\\xe0\\xb2\\xbf\\xe0\\xb2\\x95 \\xe0\\xb2\\xad\\xe0\\xb2\\xbe\\xe0\\xb2\\xb7\\xe0\\xb3\\x86\\xe0\\xb2\\xaf \\xe0\\xb2\\xaa\\xe0\\xb2\\xb0\\xe0\\xb2\\xbf\\xe0\\xb2\\xb7\\xe0\\xb3\\x8d\\xe0\\xb2\\x95\\xe0\\xb2\\xb0\\xe0\\xb2\\xa3\\xe0\\xb3\\x86 \\xe2\\x80\\x93 Kannada\" lang=\"kn\" hreflang=\"kn\" class=\"interlanguage-link-target\">\\xe0\\xb2\\x95\\xe0\\xb2\\xa8\\xe0\\xb3\\x8d\\xe0\\xb2\\xa8\\xe0\\xb2\\xa1</a></li><li class=\"interlanguage-link interwiki-ka\"><a href=\"https://ka.wikipedia.org/wiki/%E1%83%91%E1%83%A3%E1%83%9C%E1%83%94%E1%83%91%E1%83%A0%E1%83%98%E1%83%95%E1%83%98_%E1%83%94%E1%83%9C%E1%83%98%E1%83%A1_%E1%83%93%E1%83%90%E1%83%9B%E1%83%A3%E1%83%A8%E1%83%90%E1%83%95%E1%83%94%E1%83%91%E1%83%90\" title=\"\\xe1\\x83\\x91\\xe1\\x83\\xa3\\xe1\\x83\\x9c\\xe1\\x83\\x94\\xe1\\x83\\x91\\xe1\\x83\\xa0\\xe1\\x83\\x98\\xe1\\x83\\x95\\xe1\\x83\\x98 \\xe1\\x83\\x94\\xe1\\x83\\x9c\\xe1\\x83\\x98\\xe1\\x83\\xa1 \\xe1\\x83\\x93\\xe1\\x83\\x90\\xe1\\x83\\x9b\\xe1\\x83\\xa3\\xe1\\x83\\xa8\\xe1\\x83\\x90\\xe1\\x83\\x95\\xe1\\x83\\x94\\xe1\\x83\\x91\\xe1\\x83\\x90 \\xe2\\x80\\x93 Georgian\" lang=\"ka\" hreflang=\"ka\" class=\"interlanguage-link-target\">\\xe1\\x83\\xa5\\xe1\\x83\\x90\\xe1\\x83\\xa0\\xe1\\x83\\x97\\xe1\\x83\\xa3\\xe1\\x83\\x9a\\xe1\\x83\\x98</a></li><li class=\"interlanguage-link interwiki-lt\"><a href=\"https://lt.wikipedia.org/wiki/Nat%C5%ABralios_kalbos_apdorojimas\" title=\"Nat\\xc5\\xabralios kalbos apdorojimas \\xe2\\x80\\x93 Lithuanian\" lang=\"lt\" hreflang=\"lt\" class=\"interlanguage-link-target\">Lietuvi\\xc5\\xb3</a></li><li class=\"interlanguage-link interwiki-mk\"><a href=\"https://mk.wikipedia.org/wiki/%D0%9E%D0%B1%D1%80%D0%B0%D0%B1%D0%BE%D1%82%D0%BA%D0%B0_%D0%BD%D0%B0_%D0%BF%D1%80%D0%B8%D1%80%D0%BE%D0%B4%D0%BD%D0%B8_%D1%98%D0%B0%D0%B7%D0%B8%D1%86%D0%B8\" title=\"\\xd0\\x9e\\xd0\\xb1\\xd1\\x80\\xd0\\xb0\\xd0\\xb1\\xd0\\xbe\\xd1\\x82\\xd0\\xba\\xd0\\xb0 \\xd0\\xbd\\xd0\\xb0 \\xd0\\xbf\\xd1\\x80\\xd0\\xb8\\xd1\\x80\\xd0\\xbe\\xd0\\xb4\\xd0\\xbd\\xd0\\xb8 \\xd1\\x98\\xd0\\xb0\\xd0\\xb7\\xd0\\xb8\\xd1\\x86\\xd0\\xb8 \\xe2\\x80\\x93 Macedonian\" lang=\"mk\" hreflang=\"mk\" class=\"interlanguage-link-target\">\\xd0\\x9c\\xd0\\xb0\\xd0\\xba\\xd0\\xb5\\xd0\\xb4\\xd0\\xbe\\xd0\\xbd\\xd1\\x81\\xd0\\xba\\xd0\\xb8</a></li><li class=\"interlanguage-link interwiki-mr\"><a href=\"https://mr.wikipedia.org/wiki/%E0%A4%A8%E0%A5%88%E0%A4%B8%E0%A4%B0%E0%A5%8D%E0%A4%97%E0%A4%BF%E0%A4%95_%E0%A4%AD%E0%A4%BE%E0%A4%B7%E0%A4%BE_%E0%A4%AA%E0%A5%8D%E0%A4%B0%E0%A4%95%E0%A5%8D%E0%A4%B0%E0%A4%BF%E0%A4%AF%E0%A4%BE\" title=\"\\xe0\\xa4\\xa8\\xe0\\xa5\\x88\\xe0\\xa4\\xb8\\xe0\\xa4\\xb0\\xe0\\xa5\\x8d\\xe0\\xa4\\x97\\xe0\\xa4\\xbf\\xe0\\xa4\\x95 \\xe0\\xa4\\xad\\xe0\\xa4\\xbe\\xe0\\xa4\\xb7\\xe0\\xa4\\xbe \\xe0\\xa4\\xaa\\xe0\\xa5\\x8d\\xe0\\xa4\\xb0\\xe0\\xa4\\x95\\xe0\\xa5\\x8d\\xe0\\xa4\\xb0\\xe0\\xa4\\xbf\\xe0\\xa4\\xaf\\xe0\\xa4\\xbe \\xe2\\x80\\x93 Marathi\" lang=\"mr\" hreflang=\"mr\" class=\"interlanguage-link-target\">\\xe0\\xa4\\xae\\xe0\\xa4\\xb0\\xe0\\xa4\\xbe\\xe0\\xa4\\xa0\\xe0\\xa5\\x80</a></li><li class=\"interlanguage-link interwiki-mn\"><a href=\"https://mn.wikipedia.org/wiki/%D0%A5%D1%8D%D0%BB_%D1%8F%D1%80%D0%B8%D0%B0%D0%BD%D1%8B_%D1%85%D0%B8%D0%B9%D0%BC%D1%8D%D0%BB_%D0%BE%D1%8E%D1%83%D0%BD\" title=\"\\xd0\\xa5\\xd1\\x8d\\xd0\\xbb \\xd1\\x8f\\xd1\\x80\\xd0\\xb8\\xd0\\xb0\\xd0\\xbd\\xd1\\x8b \\xd1\\x85\\xd0\\xb8\\xd0\\xb9\\xd0\\xbc\\xd1\\x8d\\xd0\\xbb \\xd0\\xbe\\xd1\\x8e\\xd1\\x83\\xd0\\xbd \\xe2\\x80\\x93 Mongolian\" lang=\"mn\" hreflang=\"mn\" class=\"interlanguage-link-target\">\\xd0\\x9c\\xd0\\xbe\\xd0\\xbd\\xd0\\xb3\\xd0\\xbe\\xd0\\xbb</a></li><li class=\"interlanguage-link interwiki-my\"><a href=\"https://my.wikipedia.org/wiki/%E1%80%99%E1%80%AD%E1%80%81%E1%80%84%E1%80%BA%E1%80%98%E1%80%AC%E1%80%9E%E1%80%AC%E1%80%85%E1%80%80%E1%80%AC%E1%80%B8%E1%80%9E%E1%80%AF%E1%80%B6%E1%80%B8_%E1%80%80%E1%80%BD%E1%80%94%E1%80%BA%E1%80%95%E1%80%BB%E1%80%B0%E1%80%90%E1%80%AC%E1%80%85%E1%80%94%E1%80%85%E1%80%BA\" title=\"\\xe1\\x80\\x99\\xe1\\x80\\xad\\xe1\\x80\\x81\\xe1\\x80\\x84\\xe1\\x80\\xba\\xe1\\x80\\x98\\xe1\\x80\\xac\\xe1\\x80\\x9e\\xe1\\x80\\xac\\xe1\\x80\\x85\\xe1\\x80\\x80\\xe1\\x80\\xac\\xe1\\x80\\xb8\\xe1\\x80\\x9e\\xe1\\x80\\xaf\\xe1\\x80\\xb6\\xe1\\x80\\xb8 \\xe1\\x80\\x80\\xe1\\x80\\xbd\\xe1\\x80\\x94\\xe1\\x80\\xba\\xe1\\x80\\x95\\xe1\\x80\\xbb\\xe1\\x80\\xb0\\xe1\\x80\\x90\\xe1\\x80\\xac\\xe1\\x80\\x85\\xe1\\x80\\x94\\xe1\\x80\\x85\\xe1\\x80\\xba \\xe2\\x80\\x93 Burmese\" lang=\"my\" hreflang=\"my\" class=\"interlanguage-link-target\">\\xe1\\x80\\x99\\xe1\\x80\\xbc\\xe1\\x80\\x94\\xe1\\x80\\xba\\xe1\\x80\\x99\\xe1\\x80\\xac\\xe1\\x80\\x98\\xe1\\x80\\xac\\xe1\\x80\\x9e\\xe1\\x80\\xac</a></li><li class=\"interlanguage-link interwiki-ja\"><a href=\"https://ja.wikipedia.org/wiki/%E8%87%AA%E7%84%B6%E8%A8%80%E8%AA%9E%E5%87%A6%E7%90%86\" title=\"\\xe8\\x87\\xaa\\xe7\\x84\\xb6\\xe8\\xa8\\x80\\xe8\\xaa\\x9e\\xe5\\x87\\xa6\\xe7\\x90\\x86 \\xe2\\x80\\x93 Japanese\" lang=\"ja\" hreflang=\"ja\" class=\"interlanguage-link-target\">\\xe6\\x97\\xa5\\xe6\\x9c\\xac\\xe8\\xaa\\x9e</a></li><li class=\"interlanguage-link interwiki-or\"><a href=\"https://or.wikipedia.org/wiki/%E0%AC%A8%E0%AD%8D%E0%AD%9F%E0%AC%BE%E0%AC%9A%E0%AD%81%E0%AC%B0%E0%AC%BE%E0%AC%B2_%E0%AC%B2%E0%AC%BE%E0%AC%99%E0%AD%8D%E0%AC%97%E0%AD%81%E0%AC%8F%E0%AC%9C_%E0%AC%AA%E0%AD%8D%E0%AC%B0%E0%AD%8B%E0%AC%B8%E0%AD%87%E0%AC%B8%E0%AC%BF%E0%AC%82\" title=\"\\xe0\\xac\\xa8\\xe0\\xad\\x8d\\xe0\\xad\\x9f\\xe0\\xac\\xbe\\xe0\\xac\\x9a\\xe0\\xad\\x81\\xe0\\xac\\xb0\\xe0\\xac\\xbe\\xe0\\xac\\xb2 \\xe0\\xac\\xb2\\xe0\\xac\\xbe\\xe0\\xac\\x99\\xe0\\xad\\x8d\\xe0\\xac\\x97\\xe0\\xad\\x81\\xe0\\xac\\x8f\\xe0\\xac\\x9c \\xe0\\xac\\xaa\\xe0\\xad\\x8d\\xe0\\xac\\xb0\\xe0\\xad\\x8b\\xe0\\xac\\xb8\\xe0\\xad\\x87\\xe0\\xac\\xb8\\xe0\\xac\\xbf\\xe0\\xac\\x82 \\xe2\\x80\\x93 Odia\" lang=\"or\" hreflang=\"or\" class=\"interlanguage-link-target\">\\xe0\\xac\\x93\\xe0\\xac\\xa1\\xe0\\xac\\xbc\\xe0\\xac\\xbf\\xe0\\xac\\x86</a></li><li class=\"interlanguage-link interwiki-pms\"><a href=\"https://pms.wikipedia.org/wiki/NLP\" title=\"NLP \\xe2\\x80\\x93 Piedmontese\" lang=\"pms\" hreflang=\"pms\" class=\"interlanguage-link-target\">Piemont\\xc3\\xa8is</a></li><li class=\"interlanguage-link interwiki-pl\"><a href=\"https://pl.wikipedia.org/wiki/Przetwarzanie_j%C4%99zyka_naturalnego\" title=\"Przetwarzanie j\\xc4\\x99zyka naturalnego \\xe2\\x80\\x93 Polish\" lang=\"pl\" hreflang=\"pl\" class=\"interlanguage-link-target\">Polski</a></li><li class=\"interlanguage-link interwiki-pt\"><a href=\"https://pt.wikipedia.org/wiki/Processamento_de_linguagem_natural\" title=\"Processamento de linguagem natural \\xe2\\x80\\x93 Portuguese\" lang=\"pt\" hreflang=\"pt\" class=\"interlanguage-link-target\">Portugu\\xc3\\xaas</a></li><li class=\"interlanguage-link interwiki-ro\"><a href=\"https://ro.wikipedia.org/wiki/Prelucrarea_limbajului_natural\" title=\"Prelucrarea limbajului natural \\xe2\\x80\\x93 Romanian\" lang=\"ro\" hreflang=\"ro\" class=\"interlanguage-link-target\">Rom\\xc3\\xa2n\\xc4\\x83</a></li><li class=\"interlanguage-link interwiki-ru\"><a href=\"https://ru.wikipedia.org/wiki/%D0%9E%D0%B1%D1%80%D0%B0%D0%B1%D0%BE%D1%82%D0%BA%D0%B0_%D0%B5%D1%81%D1%82%D0%B5%D1%81%D1%82%D0%B2%D0%B5%D0%BD%D0%BD%D0%BE%D0%B3%D0%BE_%D1%8F%D0%B7%D1%8B%D0%BA%D0%B0\" title=\"\\xd0\\x9e\\xd0\\xb1\\xd1\\x80\\xd0\\xb0\\xd0\\xb1\\xd0\\xbe\\xd1\\x82\\xd0\\xba\\xd0\\xb0 \\xd0\\xb5\\xd1\\x81\\xd1\\x82\\xd0\\xb5\\xd1\\x81\\xd1\\x82\\xd0\\xb2\\xd0\\xb5\\xd0\\xbd\\xd0\\xbd\\xd0\\xbe\\xd0\\xb3\\xd0\\xbe \\xd1\\x8f\\xd0\\xb7\\xd1\\x8b\\xd0\\xba\\xd0\\xb0 \\xe2\\x80\\x93 Russian\" lang=\"ru\" hreflang=\"ru\" class=\"interlanguage-link-target\">\\xd0\\xa0\\xd1\\x83\\xd1\\x81\\xd1\\x81\\xd0\\xba\\xd0\\xb8\\xd0\\xb9</a></li><li class=\"interlanguage-link interwiki-simple\"><a href=\"https://simple.wikipedia.org/wiki/Natural_language_processing\" title=\"Natural language processing \\xe2\\x80\\x93 Simple English\" lang=\"en-simple\" hreflang=\"en-simple\" class=\"interlanguage-link-target\">Simple English</a></li><li class=\"interlanguage-link interwiki-ckb\"><a href=\"https://ckb.wikipedia.org/wiki/%D9%BE%DB%8E%D9%88%D8%A7%DA%98%DB%86%DA%A9%D8%B1%D8%AF%D9%86%DB%8C_%D8%B2%D9%85%D8%A7%D9%86%DB%8C_%D8%B3%D8%B1%D9%88%D8%B4%D8%AA%DB%8C\" title=\"\\xd9\\xbe\\xdb\\x8e\\xd9\\x88\\xd8\\xa7\\xda\\x98\\xdb\\x86\\xda\\xa9\\xd8\\xb1\\xd8\\xaf\\xd9\\x86\\xdb\\x8c \\xd8\\xb2\\xd9\\x85\\xd8\\xa7\\xd9\\x86\\xdb\\x8c \\xd8\\xb3\\xd8\\xb1\\xd9\\x88\\xd8\\xb4\\xd8\\xaa\\xdb\\x8c \\xe2\\x80\\x93 Central Kurdish\" lang=\"ckb\" hreflang=\"ckb\" class=\"interlanguage-link-target\">\\xda\\xa9\\xd9\\x88\\xd8\\xb1\\xd8\\xaf\\xdb\\x8c</a></li><li class=\"interlanguage-link interwiki-sr\"><a href=\"https://sr.wikipedia.org/wiki/Obrada_prirodnih_jezika\" title=\"Obrada prirodnih jezika \\xe2\\x80\\x93 Serbian\" lang=\"sr\" hreflang=\"sr\" class=\"interlanguage-link-target\">\\xd0\\xa1\\xd1\\x80\\xd0\\xbf\\xd1\\x81\\xd0\\xba\\xd0\\xb8 / srpski</a></li><li class=\"interlanguage-link interwiki-sh\"><a href=\"https://sh.wikipedia.org/wiki/Obrada_prirodnih_jezika\" title=\"Obrada prirodnih jezika \\xe2\\x80\\x93 Serbo-Croatian\" lang=\"sh\" hreflang=\"sh\" class=\"interlanguage-link-target\">Srpskohrvatski / \\xd1\\x81\\xd1\\x80\\xd0\\xbf\\xd1\\x81\\xd0\\xba\\xd0\\xbe\\xd1\\x85\\xd1\\x80\\xd0\\xb2\\xd0\\xb0\\xd1\\x82\\xd1\\x81\\xd0\\xba\\xd0\\xb8</a></li><li class=\"interlanguage-link interwiki-ta\"><a href=\"https://ta.wikipedia.org/wiki/%E0%AE%87%E0%AE%AF%E0%AE%B1%E0%AF%8D%E0%AE%95%E0%AF%88_%E0%AE%AE%E0%AF%8A%E0%AE%B4%E0%AE%BF_%E0%AE%AE%E0%AF%81%E0%AE%B1%E0%AF%88%E0%AE%AF%E0%AE%BE%E0%AE%95%E0%AF%8D%E0%AE%95%E0%AE%AE%E0%AF%8D\" title=\"\\xe0\\xae\\x87\\xe0\\xae\\xaf\\xe0\\xae\\xb1\\xe0\\xaf\\x8d\\xe0\\xae\\x95\\xe0\\xaf\\x88 \\xe0\\xae\\xae\\xe0\\xaf\\x8a\\xe0\\xae\\xb4\\xe0\\xae\\xbf \\xe0\\xae\\xae\\xe0\\xaf\\x81\\xe0\\xae\\xb1\\xe0\\xaf\\x88\\xe0\\xae\\xaf\\xe0\\xae\\xbe\\xe0\\xae\\x95\\xe0\\xaf\\x8d\\xe0\\xae\\x95\\xe0\\xae\\xae\\xe0\\xaf\\x8d \\xe2\\x80\\x93 Tamil\" lang=\"ta\" hreflang=\"ta\" class=\"interlanguage-link-target\">\\xe0\\xae\\xa4\\xe0\\xae\\xae\\xe0\\xae\\xbf\\xe0\\xae\\xb4\\xe0\\xaf\\x8d</a></li><li class=\"interlanguage-link interwiki-th\"><a href=\"https://th.wikipedia.org/wiki/%E0%B8%81%E0%B8%B2%E0%B8%A3%E0%B8%9B%E0%B8%A3%E0%B8%B0%E0%B8%A1%E0%B8%A7%E0%B8%A5%E0%B8%A0%E0%B8%B2%E0%B8%A9%E0%B8%B2%E0%B8%98%E0%B8%A3%E0%B8%A3%E0%B8%A1%E0%B8%8A%E0%B8%B2%E0%B8%95%E0%B8%B4\" title=\"\\xe0\\xb8\\x81\\xe0\\xb8\\xb2\\xe0\\xb8\\xa3\\xe0\\xb8\\x9b\\xe0\\xb8\\xa3\\xe0\\xb8\\xb0\\xe0\\xb8\\xa1\\xe0\\xb8\\xa7\\xe0\\xb8\\xa5\\xe0\\xb8\\xa0\\xe0\\xb8\\xb2\\xe0\\xb8\\xa9\\xe0\\xb8\\xb2\\xe0\\xb8\\x98\\xe0\\xb8\\xa3\\xe0\\xb8\\xa3\\xe0\\xb8\\xa1\\xe0\\xb8\\x8a\\xe0\\xb8\\xb2\\xe0\\xb8\\x95\\xe0\\xb8\\xb4 \\xe2\\x80\\x93 Thai\" lang=\"th\" hreflang=\"th\" class=\"interlanguage-link-target\">\\xe0\\xb9\\x84\\xe0\\xb8\\x97\\xe0\\xb8\\xa2</a></li><li class=\"interlanguage-link interwiki-tr\"><a href=\"https://tr.wikipedia.org/wiki/Do%C4%9Fal_dil_i%C5%9Fleme\" title=\"Do\\xc4\\x9fal dil i\\xc5\\x9fleme \\xe2\\x80\\x93 Turkish\" lang=\"tr\" hreflang=\"tr\" class=\"interlanguage-link-target\">T\\xc3\\xbcrk\\xc3\\xa7e</a></li><li class=\"interlanguage-link interwiki-uk\"><a href=\"https://uk.wikipedia.org/wiki/%D0%9E%D0%B1%D1%80%D0%BE%D0%B1%D0%BA%D0%B0_%D0%BF%D1%80%D0%B8%D1%80%D0%BE%D0%B4%D0%BD%D0%BE%D1%97_%D0%BC%D0%BE%D0%B2%D0%B8\" title=\"\\xd0\\x9e\\xd0\\xb1\\xd1\\x80\\xd0\\xbe\\xd0\\xb1\\xd0\\xba\\xd0\\xb0 \\xd0\\xbf\\xd1\\x80\\xd0\\xb8\\xd1\\x80\\xd0\\xbe\\xd0\\xb4\\xd0\\xbd\\xd0\\xbe\\xd1\\x97 \\xd0\\xbc\\xd0\\xbe\\xd0\\xb2\\xd0\\xb8 \\xe2\\x80\\x93 Ukrainian\" lang=\"uk\" hreflang=\"uk\" class=\"interlanguage-link-target\">\\xd0\\xa3\\xd0\\xba\\xd1\\x80\\xd0\\xb0\\xd1\\x97\\xd0\\xbd\\xd1\\x81\\xd1\\x8c\\xd0\\xba\\xd0\\xb0</a></li><li class=\"interlanguage-link interwiki-vi\"><a href=\"https://vi.wikipedia.org/wiki/X%E1%BB%AD_l%C3%BD_ng%C3%B4n_ng%E1%BB%AF_t%E1%BB%B1_nhi%C3%AAn\" title=\"X\\xe1\\xbb\\xad l\\xc3\\xbd ng\\xc3\\xb4n ng\\xe1\\xbb\\xaf t\\xe1\\xbb\\xb1 nhi\\xc3\\xaan \\xe2\\x80\\x93 Vietnamese\" lang=\"vi\" hreflang=\"vi\" class=\"interlanguage-link-target\">Ti\\xe1\\xba\\xbfng Vi\\xe1\\xbb\\x87t</a></li><li class=\"interlanguage-link interwiki-zh-yue\"><a href=\"https://zh-yue.wikipedia.org/wiki/%E8%87%AA%E7%84%B6%E8%AA%9E%E8%A8%80%E8%99%95%E7%90%86\" title=\"\\xe8\\x87\\xaa\\xe7\\x84\\xb6\\xe8\\xaa\\x9e\\xe8\\xa8\\x80\\xe8\\x99\\x95\\xe7\\x90\\x86 \\xe2\\x80\\x93 Cantonese\" lang=\"yue\" hreflang=\"yue\" class=\"interlanguage-link-target\">\\xe7\\xb2\\xb5\\xe8\\xaa\\x9e</a></li><li class=\"interlanguage-link interwiki-zh\"><a href=\"https://zh.wikipedia.org/wiki/%E8%87%AA%E7%84%B6%E8%AF%AD%E8%A8%80%E5%A4%84%E7%90%86\" title=\"\\xe8\\x87\\xaa\\xe7\\x84\\xb6\\xe8\\xaf\\xad\\xe8\\xa8\\x80\\xe5\\xa4\\x84\\xe7\\x90\\x86 \\xe2\\x80\\x93 Chinese\" lang=\"zh\" hreflang=\"zh\" class=\"interlanguage-link-target\">\\xe4\\xb8\\xad\\xe6\\x96\\x87</a></li>\\t\\t\\t\\t</ul>\\n\\t\\t\\t\\t<div class=\"after-portlet after-portlet-lang\"><span class=\"wb-langlinks-edit wb-langlinks-link\"><a href=\"https://www.wikidata.org/wiki/Special:EntityPage/Q30642#sitelinks-wikipedia\" title=\"Edit interlanguage links\" class=\"wbc-editpage\">Edit links</a></span></div>\\t\\t\\t</div>\\n\\t\\t</div>\\n\\t\\t\\t\\t</div>\\n\\t\\t</div>\\n\\t\\t\\t\\t<div id=\"footer\" role=\"contentinfo\">\\n\\t\\t\\t\\t\\t\\t<ul id=\"footer-info\">\\n\\t\\t\\t\\t\\t\\t\\t\\t<li id=\"footer-info-lastmod\"> This page was last edited on 5 January 2020, at 04:01<span class=\"anonymous-show\">&#160;(UTC)</span>.</li>\\n\\t\\t\\t\\t\\t\\t\\t\\t<li id=\"footer-info-copyright\">Text is available under the <a rel=\"license\" href=\"//en.wikipedia.org/wiki/Wikipedia:Text_of_Creative_Commons_Attribution-ShareAlike_3.0_Unported_License\">Creative Commons Attribution-ShareAlike License</a><a rel=\"license\" href=\"//creativecommons.org/licenses/by-sa/3.0/\" style=\"display:none;\"></a>;\\nadditional terms may apply.  By using this site, you agree to the <a href=\"//foundation.wikimedia.org/wiki/Terms_of_Use\">Terms of Use</a> and <a href=\"//foundation.wikimedia.org/wiki/Privacy_policy\">Privacy Policy</a>. Wikipedia\\xc2\\xae is a registered trademark of the <a href=\"//www.wikimediafoundation.org/\">Wikimedia Foundation, Inc.</a>, a non-profit organization.</li>\\n\\t\\t\\t\\t\\t\\t\\t</ul>\\n\\t\\t\\t\\t\\t\\t<ul id=\"footer-places\">\\n\\t\\t\\t\\t\\t\\t\\t\\t<li id=\"footer-places-privacy\"><a href=\"https://foundation.wikimedia.org/wiki/Privacy_policy\" class=\"extiw\" title=\"wmf:Privacy policy\">Privacy policy</a></li>\\n\\t\\t\\t\\t\\t\\t\\t\\t<li id=\"footer-places-about\"><a href=\"/wiki/Wikipedia:About\" title=\"Wikipedia:About\">About Wikipedia</a></li>\\n\\t\\t\\t\\t\\t\\t\\t\\t<li id=\"footer-places-disclaimer\"><a href=\"/wiki/Wikipedia:General_disclaimer\" title=\"Wikipedia:General disclaimer\">Disclaimers</a></li>\\n\\t\\t\\t\\t\\t\\t\\t\\t<li id=\"footer-places-contact\"><a href=\"//en.wikipedia.org/wiki/Wikipedia:Contact_us\">Contact Wikipedia</a></li>\\n\\t\\t\\t\\t\\t\\t\\t\\t<li id=\"footer-places-developers\"><a href=\"https://www.mediawiki.org/wiki/Special:MyLanguage/How_to_contribute\">Developers</a></li>\\n\\t\\t\\t\\t\\t\\t\\t\\t<li id=\"footer-places-statslink\"><a href=\"https://stats.wikimedia.org/v2/#/en.wikipedia.org\">Statistics</a></li>\\n\\t\\t\\t\\t\\t\\t\\t\\t<li id=\"footer-places-cookiestatement\"><a href=\"https://foundation.wikimedia.org/wiki/Cookie_statement\">Cookie statement</a></li>\\n\\t\\t\\t\\t\\t\\t\\t\\t<li id=\"footer-places-mobileview\"><a href=\"//en.m.wikipedia.org/w/index.php?title=Natural_language_processing&amp;mobileaction=toggle_view_mobile\" class=\"noprint stopMobileRedirectToggle\">Mobile view</a></li>\\n\\t\\t\\t\\t\\t\\t\\t</ul>\\n\\t\\t\\t\\t\\t\\t\\t\\t\\t\\t<ul id=\"footer-icons\" class=\"noprint\">\\n\\t\\t\\t\\t\\t\\t\\t\\t\\t\\t<li id=\"footer-copyrightico\">\\n\\t\\t\\t\\t\\t\\t<a href=\"https://wikimediafoundation.org/\"><img src=\"/static/images/wikimedia-button.png\" srcset=\"/static/images/wikimedia-button-1.5x.png 1.5x, /static/images/wikimedia-button-2x.png 2x\" width=\"88\" height=\"31\" alt=\"Wikimedia Foundation\"/></a>\\t\\t\\t\\t\\t</li>\\n\\t\\t\\t\\t\\t\\t\\t\\t\\t\\t<li id=\"footer-poweredbyico\">\\n\\t\\t\\t\\t\\t\\t<a href=\"https://www.mediawiki.org/\"><img src=\"/static/images/poweredby_mediawiki_88x31.png\" alt=\"Powered by MediaWiki\" srcset=\"/static/images/poweredby_mediawiki_132x47.png 1.5x, /static/images/poweredby_mediawiki_176x62.png 2x\" width=\"88\" height=\"31\"/></a>\\t\\t\\t\\t\\t</li>\\n\\t\\t\\t\\t\\t\\t\\t\\t\\t</ul>\\n\\t\\t\\t\\t\\t\\t<div style=\"clear: both;\"></div>\\n\\t\\t</div>\\n\\t\\t\\n\\n<script>(RLQ=window.RLQ||[]).push(function(){mw.config.set({\"wgPageParseReport\":{\"limitreport\":{\"cputime\":\"0.508\",\"walltime\":\"0.727\",\"ppvisitednodes\":{\"value\":2540,\"limit\":1000000},\"ppgeneratednodes\":{\"value\":0,\"limit\":1500000},\"postexpandincludesize\":{\"value\":44202,\"limit\":2097152},\"templateargumentsize\":{\"value\":4909,\"limit\":2097152},\"expansiondepth\":{\"value\":14,\"limit\":40},\"expensivefunctioncount\":{\"value\":8,\"limit\":500},\"unstrip-depth\":{\"value\":1,\"limit\":20},\"unstrip-size\":{\"value\":35109,\"limit\":5000000},\"entityaccesscount\":{\"value\":4,\"limit\":400},\"timingprofile\":[\"100.00%  637.638      1 -total\",\" 31.49%  200.774      1 Template:Reflist\",\" 18.20%  116.063      1 Template:Cite_conference\",\" 12.99%   82.810      7 Template:ISBN\",\" 12.12%   77.301      1 Template:Authority_control\",\" 11.90%   75.886      1 Template:Clarify\",\" 10.90%   69.525      1 Template:Fix-span\",\"  7.43%   47.355      4 Template:Category_handler\",\"  5.44%   34.718      1 Template:Citation\",\"  5.15%   32.862      1 Template:Distinguish\"]},\"scribunto\":{\"limitreport-timeusage\":{\"value\":\"0.248\",\"limit\":\"10.000\"},\"limitreport-memusage\":{\"value\":5633794,\"limit\":52428800}},\"cachereport\":{\"origin\":\"mw1333\",\"timestamp\":\"20200120022809\",\"ttl\":2592000,\"transientcontent\":false}}});});</script>\\n<script type=\"application/ld+json\">{\"@context\":\"https:\\\\/\\\\/schema.org\",\"@type\":\"Article\",\"name\":\"Natural language processing\",\"url\":\"https:\\\\/\\\\/en.wikipedia.org\\\\/wiki\\\\/Natural_language_processing\",\"sameAs\":\"http:\\\\/\\\\/www.wikidata.org\\\\/entity\\\\/Q30642\",\"mainEntity\":\"http:\\\\/\\\\/www.wikidata.org\\\\/entity\\\\/Q30642\",\"author\":{\"@type\":\"Organization\",\"name\":\"Contributors to Wikimedia projects\"},\"publisher\":{\"@type\":\"Organization\",\"name\":\"Wikimedia Foundation, Inc.\",\"logo\":{\"@type\":\"ImageObject\",\"url\":\"https:\\\\/\\\\/www.wikimedia.org\\\\/static\\\\/images\\\\/wmf-hor-googpub.png\"}},\"datePublished\":\"2001-09-22T05:47:41Z\",\"dateModified\":\"2020-01-05T04:01:05Z\",\"image\":\"https:\\\\/\\\\/upload.wikimedia.org\\\\/wikipedia\\\\/commons\\\\/8\\\\/8b\\\\/Automated_online_assistant.png\",\"headline\":\"field of computer science and linguistics\"}</script>\\n<script>(RLQ=window.RLQ||[]).push(function(){mw.config.set({\"wgBackendResponseTime\":122,\"wgHostname\":\"mw1246\"});});</script>\\n</body>\\n</html>\\n'"
      ]
     },
     "execution_count": 117,
     "metadata": {},
     "output_type": "execute_result"
    }
   ],
   "source": [
    "# request the content using urllib2\n",
    "\n",
    "response = urllib2.urlopen('https://en.wikipedia.org/wiki/Natural_language_processing')\n",
    "html_doc = response.read()\n",
    "html_doc"
   ]
  },
  {
   "cell_type": "markdown",
   "metadata": {},
   "source": [
    "### Step 5-3 Parse the HTML file"
   ]
  },
  {
   "cell_type": "code",
   "execution_count": 118,
   "metadata": {
    "scrolled": true
   },
   "outputs": [
    {
     "data": {
      "text/plain": [
       "<!DOCTYPE html>\n",
       "\n",
       "<html class=\"client-nojs\" dir=\"ltr\" lang=\"en\">\n",
       "<head>\n",
       "<meta charset=\"utf-8\"/>\n",
       "<title>Natural language processing - Wikipedia</title>\n",
       "<script>document.documentElement.className=\"client-js\";RLCONF={\"wgBreakFrames\":!1,\"wgSeparatorTransformTable\":[\"\",\"\"],\"wgDigitTransformTable\":[\"\",\"\"],\"wgDefaultDateFormat\":\"dmy\",\"wgMonthNames\":[\"\",\"January\",\"February\",\"March\",\"April\",\"May\",\"June\",\"July\",\"August\",\"September\",\"October\",\"November\",\"December\"],\"wgMonthNamesShort\":[\"\",\"Jan\",\"Feb\",\"Mar\",\"Apr\",\"May\",\"Jun\",\"Jul\",\"Aug\",\"Sep\",\"Oct\",\"Nov\",\"Dec\"],\"wgRequestId\":\"XiUXdApAMFEAACU8fw0AAAAD\",\"wgCSPNonce\":!1,\"wgCanonicalNamespace\":\"\",\"wgCanonicalSpecialPageName\":!1,\"wgNamespaceNumber\":0,\"wgPageName\":\"Natural_language_processing\",\"wgTitle\":\"Natural language processing\",\"wgCurRevisionId\":934178090,\"wgRevisionId\":934178090,\"wgArticleId\":21652,\"wgIsArticle\":!0,\"wgIsRedirect\":!1,\"wgAction\":\"view\",\"wgUserName\":null,\"wgUserGroups\":[\"*\"],\"wgCategories\":[\"Webarchive template wayback links\",\"Wikipedia articles needing clarification from October 2019\",\"All accuracy disputes\",\"Articles with disputed statements from June 2018\",\n",
       "\"Wikipedia articles with LCCN identifiers\",\"Wikipedia articles with NDL identifiers\",\"Natural language processing\",\"Computational linguistics\",\"Speech recognition\",\"Computational fields of study\",\"Artificial intelligence\"],\"wgPageContentLanguage\":\"en\",\"wgPageContentModel\":\"wikitext\",\"wgRelevantPageName\":\"Natural_language_processing\",\"wgRelevantArticleId\":21652,\"wgIsProbablyEditable\":!0,\"wgRelevantPageIsProbablyEditable\":!0,\"wgRestrictionEdit\":[],\"wgRestrictionMove\":[],\"wgMediaViewerOnClick\":!0,\"wgMediaViewerEnabledByDefault\":!0,\"wgPopupsReferencePreviews\":!1,\"wgPopupsConflictsWithNavPopupGadget\":!1,\"wgVisualEditor\":{\"pageLanguageCode\":\"en\",\"pageLanguageDir\":\"ltr\",\"pageVariantFallbacks\":\"en\"},\"wgMFDisplayWikibaseDescriptions\":{\"search\":!0,\"nearby\":!0,\"watchlist\":!0,\"tagline\":!1},\"wgWMESchemaEditAttemptStepOversample\":!1,\"wgULSCurrentAutonym\":\"English\",\"wgNoticeProject\":\"wikipedia\",\"wgWikibaseItemId\":\"Q30642\",\"wgCentralAuthMobileDomain\":!1,\n",
       "\"wgEditSubmitButtonLabelPublish\":!0};RLSTATE={\"ext.globalCssJs.user.styles\":\"ready\",\"site.styles\":\"ready\",\"noscript\":\"ready\",\"user.styles\":\"ready\",\"ext.globalCssJs.user\":\"ready\",\"user\":\"ready\",\"user.options\":\"ready\",\"user.tokens\":\"loading\",\"ext.cite.styles\":\"ready\",\"mediawiki.legacy.shared\":\"ready\",\"mediawiki.legacy.commonPrint\":\"ready\",\"jquery.makeCollapsible.styles\":\"ready\",\"mediawiki.toc.styles\":\"ready\",\"mediawiki.skinning.interface\":\"ready\",\"skins.vector.styles\":\"ready\",\"wikibase.client.init\":\"ready\",\"ext.visualEditor.desktopArticleTarget.noscript\":\"ready\",\"ext.uls.interlanguage\":\"ready\",\"ext.wikimediaBadges\":\"ready\"};RLPAGEMODULES=[\"ext.cite.ux-enhancements\",\"site\",\"mediawiki.page.startup\",\"skins.vector.js\",\"mediawiki.page.ready\",\"jquery.makeCollapsible\",\"mediawiki.toc\",\"ext.gadget.ReferenceTooltips\",\"ext.gadget.watchlist-notice\",\"ext.gadget.DRN-wizard\",\"ext.gadget.charinsert\",\"ext.gadget.refToolbar\",\"ext.gadget.extra-toolbar-buttons\",\"ext.gadget.switcher\",\n",
       "\"ext.centralauth.centralautologin\",\"mmv.head\",\"mmv.bootstrap.autostart\",\"ext.popups\",\"ext.visualEditor.desktopArticleTarget.init\",\"ext.visualEditor.targetLoader\",\"ext.eventLogging\",\"ext.wikimediaEvents\",\"ext.navigationTiming\",\"ext.uls.compactlinks\",\"ext.uls.interface\",\"ext.cx.eventlogging.campaigns\",\"ext.quicksurveys.init\",\"ext.centralNotice.geoIP\",\"ext.centralNotice.startUp\"];</script>\n",
       "<script>(RLQ=window.RLQ||[]).push(function(){mw.loader.implement(\"user.tokens@tffin\",function($,jQuery,require,module){/*@nomin*/mw.user.tokens.set({\"patrolToken\":\"+\\\\\",\"watchToken\":\"+\\\\\",\"csrfToken\":\"+\\\\\"});\n",
       "});});</script>\n",
       "<link href=\"/w/load.php?lang=en&amp;modules=ext.cite.styles%7Cext.uls.interlanguage%7Cext.visualEditor.desktopArticleTarget.noscript%7Cext.wikimediaBadges%7Cjquery.makeCollapsible.styles%7Cmediawiki.legacy.commonPrint%2Cshared%7Cmediawiki.skinning.interface%7Cmediawiki.toc.styles%7Cskins.vector.styles%7Cwikibase.client.init&amp;only=styles&amp;skin=vector\" rel=\"stylesheet\"/>\n",
       "<script async=\"\" src=\"/w/load.php?lang=en&amp;modules=startup&amp;only=scripts&amp;raw=1&amp;skin=vector\"></script>\n",
       "<meta content=\"\" name=\"ResourceLoaderDynamicStyles\"/>\n",
       "<link href=\"/w/load.php?lang=en&amp;modules=site.styles&amp;only=styles&amp;skin=vector\" rel=\"stylesheet\"/>\n",
       "<meta content=\"MediaWiki 1.35.0-wmf.15\" name=\"generator\"/>\n",
       "<meta content=\"origin\" name=\"referrer\"/>\n",
       "<meta content=\"origin-when-crossorigin\" name=\"referrer\"/>\n",
       "<meta content=\"origin-when-cross-origin\" name=\"referrer\"/>\n",
       "<meta content=\"https://upload.wikimedia.org/wikipedia/commons/8/8b/Automated_online_assistant.png\" property=\"og:image\"/>\n",
       "<link href=\"android-app://org.wikipedia/http/en.m.wikipedia.org/wiki/Natural_language_processing\" rel=\"alternate\"/>\n",
       "<link href=\"/w/index.php?title=Natural_language_processing&amp;action=edit\" rel=\"alternate\" title=\"Edit this page\" type=\"application/x-wiki\"/>\n",
       "<link href=\"/w/index.php?title=Natural_language_processing&amp;action=edit\" rel=\"edit\" title=\"Edit this page\"/>\n",
       "<link href=\"/static/apple-touch/wikipedia.png\" rel=\"apple-touch-icon\"/>\n",
       "<link href=\"/static/favicon/wikipedia.ico\" rel=\"shortcut icon\"/>\n",
       "<link href=\"/w/opensearch_desc.php\" rel=\"search\" title=\"Wikipedia (en)\" type=\"application/opensearchdescription+xml\"/>\n",
       "<link href=\"//en.wikipedia.org/w/api.php?action=rsd\" rel=\"EditURI\" type=\"application/rsd+xml\"/>\n",
       "<link href=\"//creativecommons.org/licenses/by-sa/3.0/\" rel=\"license\"/>\n",
       "<link href=\"https://en.wikipedia.org/wiki/Natural_language_processing\" rel=\"canonical\"/>\n",
       "<link href=\"//login.wikimedia.org\" rel=\"dns-prefetch\"/>\n",
       "<link href=\"//meta.wikimedia.org\" rel=\"dns-prefetch\"/>\n",
       "<!--[if lt IE 9]><script src=\"/w/resources/lib/html5shiv/html5shiv.js\"></script><![endif]-->\n",
       "</head>\n",
       "<body class=\"mediawiki ltr sitedir-ltr mw-hide-empty-elt ns-0 ns-subject mw-editable page-Natural_language_processing rootpage-Natural_language_processing skin-vector action-view\">\n",
       "<div class=\"noprint\" id=\"mw-page-base\"></div>\n",
       "<div class=\"noprint\" id=\"mw-head-base\"></div>\n",
       "<div class=\"mw-body\" id=\"content\" role=\"main\">\n",
       "<a id=\"top\"></a>\n",
       "<div class=\"mw-body-content\" id=\"siteNotice\"><!-- CentralNotice --></div>\n",
       "<div class=\"mw-indicators mw-body-content\">\n",
       "</div>\n",
       "<h1 class=\"firstHeading\" id=\"firstHeading\" lang=\"en\">Natural language processing</h1>\n",
       "<div class=\"mw-body-content\" id=\"bodyContent\">\n",
       "<div class=\"noprint\" id=\"siteSub\">From Wikipedia, the free encyclopedia</div>\n",
       "<div id=\"contentSub\"></div>\n",
       "<div id=\"jump-to-nav\"></div>\n",
       "<a class=\"mw-jump-link\" href=\"#mw-head\">Jump to navigation</a>\n",
       "<a class=\"mw-jump-link\" href=\"#p-search\">Jump to search</a>\n",
       "<div class=\"mw-content-ltr\" dir=\"ltr\" id=\"mw-content-text\" lang=\"en\"><div class=\"mw-parser-output\"><div class=\"hatnote navigation-not-searchable\" role=\"note\">Not to be confused with <a href=\"/wiki/Nonlinear_programming\" title=\"Nonlinear programming\">Nonlinear programming</a>.</div><div class=\"thumb tright\"><div class=\"thumbinner\" style=\"width:202px;\"><a class=\"image\" href=\"/wiki/File:Automated_online_assistant.png\"><img alt=\"\" class=\"thumbimage\" data-file-height=\"501\" data-file-width=\"400\" decoding=\"async\" height=\"251\" src=\"//upload.wikimedia.org/wikipedia/commons/thumb/8/8b/Automated_online_assistant.png/200px-Automated_online_assistant.png\" srcset=\"//upload.wikimedia.org/wikipedia/commons/thumb/8/8b/Automated_online_assistant.png/300px-Automated_online_assistant.png 1.5x, //upload.wikimedia.org/wikipedia/commons/8/8b/Automated_online_assistant.png 2x\" width=\"200\"/></a> <div class=\"thumbcaption\"><div class=\"magnify\"><a class=\"internal\" href=\"/wiki/File:Automated_online_assistant.png\" title=\"Enlarge\"></a></div>An <a class=\"mw-redirect\" href=\"/wiki/Automated_online_assistant\" title=\"Automated online assistant\">automated online assistant</a> providing <a href=\"/wiki/Customer_service\" title=\"Customer service\">customer service</a> on a web page, an example of an application where natural language processing is a major component.<sup class=\"reference\" id=\"cite_ref-Kongthon_1-0\"><a href=\"#cite_note-Kongthon-1\">[1]</a></sup></div></div></div>\n",
       "<p><b>Natural language processing</b> (<b>NLP</b>) is a subfield of <a href=\"/wiki/Linguistics\" title=\"Linguistics\">linguistics</a>, <a href=\"/wiki/Computer_science\" title=\"Computer science\">computer science</a>, <a href=\"/wiki/Information_engineering_(field)\" title=\"Information engineering (field)\">information engineering</a>, and <a href=\"/wiki/Artificial_intelligence\" title=\"Artificial intelligence\">artificial intelligence</a> concerned with the interactions between computers and human (natural) languages, in particular how to program computers to process and analyze large amounts of <a href=\"/wiki/Natural_language\" title=\"Natural language\">natural language</a> data.\n",
       "</p><p>Challenges in natural language processing frequently involve <a href=\"/wiki/Speech_recognition\" title=\"Speech recognition\">speech recognition</a>, <a class=\"mw-redirect\" href=\"/wiki/Natural_language_understanding\" title=\"Natural language understanding\">natural language understanding</a>, and <a class=\"mw-redirect\" href=\"/wiki/Natural_language_generation\" title=\"Natural language generation\">natural language generation</a>.\n",
       "</p>\n",
       "<div class=\"toc\" id=\"toc\"><input class=\"toctogglecheckbox\" id=\"toctogglecheckbox\" role=\"button\" style=\"display:none\" type=\"checkbox\"/><div class=\"toctitle\" dir=\"ltr\" lang=\"en\"><h2>Contents</h2><span class=\"toctogglespan\"><label class=\"toctogglelabel\" for=\"toctogglecheckbox\"></label></span></div>\n",
       "<ul>\n",
       "<li class=\"toclevel-1 tocsection-1\"><a href=\"#History\"><span class=\"tocnumber\">1</span> <span class=\"toctext\">History</span></a></li>\n",
       "<li class=\"toclevel-1 tocsection-2\"><a href=\"#Rule-based_vs._statistical_NLP\"><span class=\"tocnumber\">2</span> <span class=\"toctext\">Rule-based vs. statistical NLP</span></a></li>\n",
       "<li class=\"toclevel-1 tocsection-3\"><a href=\"#Major_evaluations_and_tasks\"><span class=\"tocnumber\">3</span> <span class=\"toctext\">Major evaluations and tasks</span></a>\n",
       "<ul>\n",
       "<li class=\"toclevel-2 tocsection-4\"><a href=\"#Syntax\"><span class=\"tocnumber\">3.1</span> <span class=\"toctext\">Syntax</span></a></li>\n",
       "<li class=\"toclevel-2 tocsection-5\"><a href=\"#Semantics\"><span class=\"tocnumber\">3.2</span> <span class=\"toctext\">Semantics</span></a></li>\n",
       "<li class=\"toclevel-2 tocsection-6\"><a href=\"#Discourse\"><span class=\"tocnumber\">3.3</span> <span class=\"toctext\">Discourse</span></a></li>\n",
       "<li class=\"toclevel-2 tocsection-7\"><a href=\"#Speech\"><span class=\"tocnumber\">3.4</span> <span class=\"toctext\">Speech</span></a></li>\n",
       "<li class=\"toclevel-2 tocsection-8\"><a href=\"#Dialogue\"><span class=\"tocnumber\">3.5</span> <span class=\"toctext\">Dialogue</span></a></li>\n",
       "</ul>\n",
       "</li>\n",
       "<li class=\"toclevel-1 tocsection-9\"><a href=\"#See_also\"><span class=\"tocnumber\">4</span> <span class=\"toctext\">See also</span></a></li>\n",
       "<li class=\"toclevel-1 tocsection-10\"><a href=\"#References\"><span class=\"tocnumber\">5</span> <span class=\"toctext\">References</span></a></li>\n",
       "<li class=\"toclevel-1 tocsection-11\"><a href=\"#Further_reading\"><span class=\"tocnumber\">6</span> <span class=\"toctext\">Further reading</span></a></li>\n",
       "</ul>\n",
       "</div>\n",
       "<h2><span class=\"mw-headline\" id=\"History\">History</span><span class=\"mw-editsection\"><span class=\"mw-editsection-bracket\">[</span><a href=\"/w/index.php?title=Natural_language_processing&amp;action=edit&amp;section=1\" title=\"Edit section: History\">edit</a><span class=\"mw-editsection-bracket\">]</span></span></h2>\n",
       "<p>The <a href=\"/wiki/History_of_natural_language_processing\" title=\"History of natural language processing\">history of natural language processing</a> (NLP) generally started in the 1950s, although work can be found from earlier periods.\n",
       "In 1950, <a href=\"/wiki/Alan_Turing\" title=\"Alan Turing\">Alan Turing</a> published an article titled \"<a href=\"/wiki/Computing_Machinery_and_Intelligence\" title=\"Computing Machinery and Intelligence\">Computing Machinery and Intelligence</a>\" which proposed what is now called the <a href=\"/wiki/Turing_test\" title=\"Turing test\">Turing test</a> as a criterion of intelligence<sup class=\"noprint Inline-Template\" style=\"margin-left:0.1em; white-space:nowrap;\">[<i><a href=\"/wiki/Wikipedia:Please_clarify\" title=\"Wikipedia:Please clarify\"><span title=\"What is the relationship between the Turing test and NLP? (October 2019)\">clarification needed</span></a></i>]</sup>.\n",
       "</p><p>The <a class=\"mw-redirect\" href=\"/wiki/Georgetown-IBM_experiment\" title=\"Georgetown-IBM experiment\">Georgetown experiment</a> in 1954 involved fully <a class=\"mw-redirect\" href=\"/wiki/Automatic_translation\" title=\"Automatic translation\">automatic translation</a> of more than sixty Russian sentences into English. The authors claimed that within three or five years, machine translation would be a solved problem.<sup class=\"reference\" id=\"cite_ref-2\"><a href=\"#cite_note-2\">[2]</a></sup>  However, real progress was much slower, and after the <a href=\"/wiki/ALPAC\" title=\"ALPAC\">ALPAC report</a> in 1966, which found that ten-year-long research had failed to fulfill the expectations, funding for machine translation was dramatically reduced.  Little further research in machine translation was conducted until the late 1980s when the first <a href=\"/wiki/Statistical_machine_translation\" title=\"Statistical machine translation\">statistical machine translation</a> systems were developed.\n",
       "</p><p>Some notably successful natural language processing systems developed in the 1960s were <a href=\"/wiki/SHRDLU\" title=\"SHRDLU\">SHRDLU</a>, a natural language system working in restricted \"<a href=\"/wiki/Blocks_world\" title=\"Blocks world\">blocks worlds</a>\" with restricted vocabularies, and <a href=\"/wiki/ELIZA\" title=\"ELIZA\">ELIZA</a>, a simulation of a <a class=\"mw-redirect\" href=\"/wiki/Rogerian_psychotherapy\" title=\"Rogerian psychotherapy\">Rogerian psychotherapist</a>, written by <a href=\"/wiki/Joseph_Weizenbaum\" title=\"Joseph Weizenbaum\">Joseph Weizenbaum</a> between 1964 and 1966.  Using almost no information about human thought or emotion, ELIZA sometimes provided a startlingly human-like interaction. When the \"patient\" exceeded the very small knowledge base, ELIZA might provide a generic response, for example, responding to \"My head hurts\" with \"Why do you say your head hurts?\".\n",
       "</p><p>During the 1970s, many programmers began to write \"conceptual <a href=\"/wiki/Ontology_(information_science)\" title=\"Ontology (information science)\">ontologies</a>\", which structured real-world information into computer-understandable data.  Examples are MARGIE (Schank, 1975), SAM (Cullingford, 1978), PAM (Wilensky, 1978), TaleSpin (Meehan, 1976), QUALM (Lehnert, 1977), Politics (Carbonell, 1979), and Plot Units (Lehnert 1981).  During this time, many <a class=\"mw-redirect\" href=\"/wiki/Chatterbots\" title=\"Chatterbots\">chatterbots</a> were written including <a href=\"/wiki/PARRY\" title=\"PARRY\">PARRY</a>, <a href=\"/wiki/Racter\" title=\"Racter\">Racter</a>, and <a href=\"/wiki/Jabberwacky\" title=\"Jabberwacky\">Jabberwacky</a>.\n",
       "</p><p>Up to the 1980s, most natural language processing systems were based on complex sets of hand-written rules.  Starting in the late 1980s, however, there was a revolution in natural language processing with the introduction of <a href=\"/wiki/Machine_learning\" title=\"Machine learning\">machine learning</a> algorithms for language processing.  This was due to both the steady increase in computational power (see <a href=\"/wiki/Moore%27s_law\" title=\"Moore's law\">Moore's law</a>) and the gradual lessening of the dominance of <a href=\"/wiki/Noam_Chomsky\" title=\"Noam Chomsky\">Chomskyan</a> theories of linguistics (e.g. <a href=\"/wiki/Transformational_grammar\" title=\"Transformational grammar\">transformational grammar</a>), whose theoretical underpinnings discouraged the sort of <a href=\"/wiki/Corpus_linguistics\" title=\"Corpus linguistics\">corpus linguistics</a> that underlies the machine-learning approach to language processing.<sup class=\"reference\" id=\"cite_ref-3\"><a href=\"#cite_note-3\">[3]</a></sup> Some of the earliest-used machine learning algorithms, such as <a href=\"/wiki/Decision_tree\" title=\"Decision tree\">decision trees</a>, produced systems of hard if-then rules similar to existing hand-written rules.  However, <a class=\"mw-redirect\" href=\"/wiki/Part_of_speech_tagging\" title=\"Part of speech tagging\">part-of-speech tagging</a> introduced the use of <a class=\"mw-redirect\" href=\"/wiki/Hidden_Markov_models\" title=\"Hidden Markov models\">hidden Markov models</a> to natural language processing, and increasingly, research has focused on <a class=\"mw-redirect\" href=\"/wiki/Statistical_models\" title=\"Statistical models\">statistical models</a>, which make soft, <a class=\"mw-redirect\" href=\"/wiki/Probabilistic\" title=\"Probabilistic\">probabilistic</a> decisions based on attaching <a class=\"mw-redirect\" href=\"/wiki/Real-valued\" title=\"Real-valued\">real-valued</a> weights to the features making up the input data. The <a href=\"/wiki/Cache_language_model\" title=\"Cache language model\">cache language models</a> upon which many <a href=\"/wiki/Speech_recognition\" title=\"Speech recognition\">speech recognition</a> systems now rely are examples of such statistical models.  Such models are generally more robust when given unfamiliar input, especially input that contains errors (as is very common for real-world data), and produce more reliable results when integrated into a larger system comprising multiple subtasks.\n",
       "</p><p>Many of the notable early successes occurred in the field of <a href=\"/wiki/Machine_translation\" title=\"Machine translation\">machine translation</a>, due especially to work at IBM Research, where successively more complicated statistical models were developed.  These systems were able to take advantage of existing multilingual <a href=\"/wiki/Text_corpus\" title=\"Text corpus\">textual corpora</a> that had been produced by the <a href=\"/wiki/Parliament_of_Canada\" title=\"Parliament of Canada\">Parliament of Canada</a> and the <a href=\"/wiki/European_Union\" title=\"European Union\">European Union</a> as a result of laws calling for the translation of all governmental proceedings into all official languages of the corresponding systems of government.  However, most other systems depended on corpora specifically developed for the tasks implemented by these systems, which was (and often continues to be) a major limitation in the success of these systems. As a result, a great deal of research has gone into methods of more effectively learning from limited amounts of data.\n",
       "</p><p>Recent research has increasingly focused on <a href=\"/wiki/Unsupervised_learning\" title=\"Unsupervised learning\">unsupervised</a> and <a href=\"/wiki/Semi-supervised_learning\" title=\"Semi-supervised learning\">semi-supervised learning</a> algorithms.  Such algorithms can learn from data that has not been hand-annotated with the desired answers or using a combination of annotated and non-annotated data.  Generally, this task is much more difficult than <a href=\"/wiki/Supervised_learning\" title=\"Supervised learning\">supervised learning</a>, and typically produces less accurate results for a given amount of input data.  However, there is an enormous amount of non-annotated data available (including, among other things, the entire content of the <a href=\"/wiki/World_Wide_Web\" title=\"World Wide Web\">World Wide Web</a>), which can often make up for the inferior results if the algorithm used has a low enough <a href=\"/wiki/Time_complexity\" title=\"Time complexity\">time complexity</a> to be practical.\n",
       "</p><p>In the 2010s, <a class=\"mw-redirect\" href=\"/wiki/Representation_learning\" title=\"Representation learning\">representation learning</a> and <a href=\"/wiki/Deep_learning\" title=\"Deep learning\">deep neural network</a>-style machine learning methods became widespread in natural language processing, due in part to a flurry of results showing that such techniques<sup class=\"reference\" id=\"cite_ref-goldberg:nnlp17_4-0\"><a href=\"#cite_note-goldberg:nnlp17-4\">[4]</a></sup><sup class=\"reference\" id=\"cite_ref-goodfellow:book16_5-0\"><a href=\"#cite_note-goodfellow:book16-5\">[5]</a></sup> can achieve state-of-the-art results in many natural language tasks, for example in language modeling,<sup class=\"reference\" id=\"cite_ref-jozefowicz:lm16_6-0\"><a href=\"#cite_note-jozefowicz:lm16-6\">[6]</a></sup>\n",
       "parsing,<sup class=\"reference\" id=\"cite_ref-choe:emnlp16_7-0\"><a href=\"#cite_note-choe:emnlp16-7\">[7]</a></sup><sup class=\"reference\" id=\"cite_ref-vinyals:nips15_8-0\"><a href=\"#cite_note-vinyals:nips15-8\">[8]</a></sup> and many others. Popular techniques include the use of <a href=\"/wiki/Word_embedding\" title=\"Word embedding\">word embeddings</a> to capture semantic properties of words, and an increase in end-to-end learning of a higher-level task (e.g., question answering) instead of relying on a pipeline of separate intermediate tasks (e.g., part-of-speech tagging and dependency parsing). In some areas, this shift has entailed substantial changes in how NLP systems are designed, such that deep neural network-based approaches may be viewed as a new paradigm distinct from statistical natural language processing. For instance, the term <i><a href=\"/wiki/Neural_machine_translation\" title=\"Neural machine translation\">neural machine translation</a></i> (NMT) emphasizes the fact that deep learning-based approaches to machine translation directly learn sequence-to-sequence transformations, obviating the need for intermediate steps such as word alignment and language modeling that was used in <a href=\"/wiki/Statistical_machine_translation\" title=\"Statistical machine translation\">statistical machine translation</a> (SMT).\n",
       "</p>\n",
       "<h2><span class=\"mw-headline\" id=\"Rule-based_vs._statistical_NLP\">Rule-based vs. statistical NLP<span id=\"Statistical_natural_language_processing_(SNLP)\"></span></span><span class=\"mw-editsection\"><span class=\"mw-editsection-bracket\">[</span><a href=\"/w/index.php?title=Natural_language_processing&amp;action=edit&amp;section=2\" title=\"Edit section: Rule-based vs. statistical NLP\">edit</a><span class=\"mw-editsection-bracket\">]</span></span></h2>\n",
       "<p>In the early days, many language-processing systems were designed by hand-coding a set of rules:<sup class=\"reference\" id=\"cite_ref-winograd:shrdlu71_9-0\"><a href=\"#cite_note-winograd:shrdlu71-9\">[9]</a></sup><sup class=\"reference\" id=\"cite_ref-schank77_10-0\"><a href=\"#cite_note-schank77-10\">[10]</a></sup> such as by writing grammars or devising heuristic rules for <a href=\"/wiki/Stemming\" title=\"Stemming\">stemming</a>. \n",
       "</p><p>Since the so-called \"statistical revolution\"<sup class=\"reference\" id=\"cite_ref-johnson:eacl:ilcl09_11-0\"><a href=\"#cite_note-johnson:eacl:ilcl09-11\">[11]</a></sup><sup class=\"reference\" id=\"cite_ref-resnik:langlog11_12-0\"><a href=\"#cite_note-resnik:langlog11-12\">[12]</a></sup> in the late 1980s and mid-1990s, much natural language processing research has relied heavily on <a href=\"/wiki/Machine_learning\" title=\"Machine learning\">machine learning</a>. The machine-learning paradigm calls instead for using <a href=\"/wiki/Statistical_inference\" title=\"Statistical inference\">statistical inference</a> to automatically learn such rules through the analysis of large <i><a href=\"/wiki/Text_corpus\" title=\"Text corpus\">corpora</a></i> (the plural form of <i>corpus</i>, is a set of documents, possibly with human or computer annotations) of typical real-world examples.\n",
       "</p><p>Many different classes of machine-learning algorithms have been applied to natural-language-processing tasks. These algorithms take as input a large set of \"features\" that are generated from the input data. Some of the earliest-used algorithms, such as <a href=\"/wiki/Decision_tree\" title=\"Decision tree\">decision trees</a>, produced systems of hard if-then rules similar to the systems of handwritten rules that were then common. Increasingly, however, research has focused on <a class=\"mw-redirect\" href=\"/wiki/Statistical_models\" title=\"Statistical models\">statistical models</a>, which make soft, <a class=\"mw-redirect\" href=\"/wiki/Probabilistic\" title=\"Probabilistic\">probabilistic</a> decisions based on attaching <a class=\"mw-redirect\" href=\"/wiki/Real-valued\" title=\"Real-valued\">real-valued</a> weights to each input feature. Such models have the advantage that they can express the relative certainty of many different possible answers rather than only one, producing more reliable results when such a model is included as a component of a larger system.\n",
       "</p><p>Systems based on machine-learning algorithms have many advantages over hand-produced rules:\n",
       "</p>\n",
       "<ul><li>The learning procedures used during machine learning automatically focus on the most common cases, whereas when writing rules by hand it is often not at all obvious where the effort should be directed.</li>\n",
       "<li>Automatic learning procedures can make use of statistical inference algorithms to produce models that are robust to unfamiliar input (e.g. containing words or structures that have not been seen before) and to erroneous input (e.g. with misspelled words or words accidentally omitted). Generally, handling such input gracefully with handwritten rules, or, more generally, creating systems of handwritten rules that make soft decisions, is extremely difficult, error-prone and time-consuming.</li>\n",
       "<li>Systems based on automatically learning the rules can be made more accurate simply by supplying more input data. However, systems based on handwritten rules can only be made more accurate by increasing the complexity of the rules, which is a much more difficult task. In particular, there is a limit to the complexity of systems based on handcrafted rules, beyond which the systems become more and more unmanageable. However, creating more data to input to machine-learning systems simply requires a corresponding increase in the number of man-hours worked, generally without significant increases in the complexity of the annotation process.</li></ul>\n",
       "<h2><span class=\"mw-headline\" id=\"Major_evaluations_and_tasks\">Major evaluations and tasks</span><span class=\"mw-editsection\"><span class=\"mw-editsection-bracket\">[</span><a href=\"/w/index.php?title=Natural_language_processing&amp;action=edit&amp;section=3\" title=\"Edit section: Major evaluations and tasks\">edit</a><span class=\"mw-editsection-bracket\">]</span></span></h2>\n",
       "<p>The following is a list of some of the most commonly researched tasks in natural language processing. Some of these tasks have direct real-world applications, while others more commonly serve as subtasks that are used to aid in solving larger tasks.\n",
       "</p><p>Though natural language processing tasks are closely intertwined, they are frequently subdivided into categories for convenience. A coarse division is given below.\n",
       "</p>\n",
       "<h3><span class=\"mw-headline\" id=\"Syntax\">Syntax</span><span class=\"mw-editsection\"><span class=\"mw-editsection-bracket\">[</span><a href=\"/w/index.php?title=Natural_language_processing&amp;action=edit&amp;section=4\" title=\"Edit section: Syntax\">edit</a><span class=\"mw-editsection-bracket\">]</span></span></h3>\n",
       "<dl><dt><a href=\"/wiki/Grammar_induction\" title=\"Grammar induction\">Grammar induction</a><sup class=\"reference\" id=\"cite_ref-13\"><a href=\"#cite_note-13\">[13]</a></sup></dt>\n",
       "<dd>Generate a <a href=\"/wiki/Formal_grammar\" title=\"Formal grammar\">formal grammar</a> that describes a language's syntax.</dd>\n",
       "<dt><a href=\"/wiki/Lemmatisation\" title=\"Lemmatisation\">Lemmatization</a></dt>\n",
       "<dd>The task of removing inflectional endings only and to return the base dictionary form of a word which is also known as a lemma.</dd>\n",
       "<dt><a href=\"/wiki/Morphology_(linguistics)\" title=\"Morphology (linguistics)\">Morphological segmentation</a></dt>\n",
       "<dd>Separate words into individual <a href=\"/wiki/Morpheme\" title=\"Morpheme\">morphemes</a> and identify the class of the morphemes.  The difficulty of this task depends greatly on the complexity of the <a href=\"/wiki/Morphology_(linguistics)\" title=\"Morphology (linguistics)\">morphology</a> (i.e. the structure of words) of the language being considered. <a href=\"/wiki/English_language\" title=\"English language\">English</a> has fairly simple morphology, especially <a class=\"mw-redirect\" href=\"/wiki/Inflectional_morphology\" title=\"Inflectional morphology\">inflectional morphology</a>, and thus it is often possible to ignore this task entirely and simply model all possible forms of a word (e.g. \"open, opens, opened, opening\") as separate words.  In languages such as <a href=\"/wiki/Turkish_language\" title=\"Turkish language\">Turkish</a> or <a href=\"/wiki/Meitei_language\" title=\"Meitei language\">Meitei</a>,<sup class=\"reference\" id=\"cite_ref-14\"><a href=\"#cite_note-14\">[14]</a></sup> a highly <a href=\"/wiki/Agglutination\" title=\"Agglutination\">agglutinated</a> Indian language, however, such an approach is not possible, as each dictionary entry has thousands of possible word forms.</dd>\n",
       "<dt><a href=\"/wiki/Part-of-speech_tagging\" title=\"Part-of-speech tagging\">Part-of-speech tagging</a></dt>\n",
       "<dd>Given a sentence, determine the <a href=\"/wiki/Part_of_speech\" title=\"Part of speech\">part of speech</a> (<b>POS</b>) for each word.  Many words, especially common ones, can serve as multiple <a class=\"mw-redirect\" href=\"/wiki/Parts_of_speech\" title=\"Parts of speech\">parts of speech</a>.  For example, \"book\" can be a <a href=\"/wiki/Noun\" title=\"Noun\">noun</a> (\"the book on the table\") or <a href=\"/wiki/Verb\" title=\"Verb\">verb</a> (\"to book a flight\"); \"set\" can be a <a href=\"/wiki/Noun\" title=\"Noun\">noun</a>, <a href=\"/wiki/Verb\" title=\"Verb\">verb</a> or <a href=\"/wiki/Adjective\" title=\"Adjective\">adjective</a>; and \"out\" can be any of at least five different parts of speech.  Some languages have more such ambiguity than others.<sup class=\"noprint Inline-Template\" style=\"white-space:nowrap;\">[<i><a href=\"/wiki/Wikipedia:Accuracy_dispute#Disputed_statement\" title=\"Wikipedia:Accuracy dispute\"><span title=\"The material near this tag is possibly inaccurate or nonfactual. (June 2018)\">dubious</span></a> <span class=\"metadata\"> – <a href=\"/wiki/Talk:Natural_language_processing#Dubious\" title=\"Talk:Natural language processing\">discuss</a></span></i>]</sup>  Languages with little <a class=\"mw-redirect\" href=\"/wiki/Inflectional_morphology\" title=\"Inflectional morphology\">inflectional morphology</a>, such as <a href=\"/wiki/English_language\" title=\"English language\">English</a>, are particularly prone to such ambiguity. <a href=\"/wiki/Chinese_language\" title=\"Chinese language\">Chinese</a> is prone to such ambiguity because it is a <a class=\"mw-redirect\" href=\"/wiki/Tonal_language\" title=\"Tonal language\">tonal language</a> during verbalization. Such inflection is not readily conveyed via the entities employed within the orthography to convey the intended meaning.</dd>\n",
       "<dt><a href=\"/wiki/Parsing\" title=\"Parsing\">Parsing</a></dt>\n",
       "<dd>Determine the <a href=\"/wiki/Parse_tree\" title=\"Parse tree\">parse tree</a> (grammatical analysis) of a given sentence.  The <a href=\"/wiki/Grammar\" title=\"Grammar\">grammar</a> for <a href=\"/wiki/Natural_language\" title=\"Natural language\">natural languages</a> is <a class=\"mw-redirect\" href=\"/wiki/Ambiguous\" title=\"Ambiguous\">ambiguous</a> and typical sentences have multiple possible analyses.  Perhaps surprisingly, for a typical sentence, there may be thousands of potential parses (most of which will seem completely nonsensical to a human). There are two primary types of parsing, Dependency Parsing, and Constituency Parsing. Dependency Parsing focuses on the relationships between words in a sentence (marking things like Primary Objects and predicates), whereas Constituency Parsing focuses on building out the Parse Tree using a <a href=\"/wiki/Probabilistic_context-free_grammar\" title=\"Probabilistic context-free grammar\">Probabilistic Context-Free Grammar</a> (PCFG). See also: <a href=\"/wiki/Stochastic_grammar\" title=\"Stochastic grammar\">Stochastic grammar</a>.</dd>\n",
       "<dt><a class=\"mw-redirect\" href=\"/wiki/Sentence_breaking\" title=\"Sentence breaking\">Sentence breaking</a> (also known as <a href=\"/wiki/Sentence_boundary_disambiguation\" title=\"Sentence boundary disambiguation\">sentence boundary disambiguation</a>)</dt>\n",
       "<dd>Given a chunk of text, find the sentence boundaries.  Sentence boundaries are often marked by <a href=\"/wiki/Full_stop\" title=\"Full stop\">periods</a> or other <a class=\"mw-redirect\" href=\"/wiki/Punctuation_mark\" title=\"Punctuation mark\">punctuation marks</a>, but these same characters can serve other purposes (e.g. marking <a href=\"/wiki/Abbreviation\" title=\"Abbreviation\">abbreviations</a>).</dd>\n",
       "<dt><a href=\"/wiki/Stemming\" title=\"Stemming\">Stemming</a></dt>\n",
       "<dd>The process of reducing inflected (or sometimes derived) words to their root form. (e.g. \"close\" will be the root for \"closed\", \"closing\", \"close\", \"closer\" etc.).</dd>\n",
       "<dt><a class=\"mw-redirect\" href=\"/wiki/Word_segmentation\" title=\"Word segmentation\">Word segmentation</a></dt>\n",
       "<dd>Separate a chunk of continuous text into separate words.  For a language like <a href=\"/wiki/English_language\" title=\"English language\">English</a>, this is fairly trivial, since words are usually separated by spaces.  However, some written languages like <a href=\"/wiki/Chinese_language\" title=\"Chinese language\">Chinese</a>, <a href=\"/wiki/Japanese_language\" title=\"Japanese language\">Japanese</a> and <a href=\"/wiki/Thai_language\" title=\"Thai language\">Thai</a> do not mark word boundaries in such a fashion, and in those languages text segmentation is a significant task requiring knowledge of the <a href=\"/wiki/Vocabulary\" title=\"Vocabulary\">vocabulary</a> and <a href=\"/wiki/Morphology_(linguistics)\" title=\"Morphology (linguistics)\">morphology</a> of words in the language. Sometimes this process is also used in cases like Bag of Words (BOW) creation in data mining.</dd>\n",
       "<dt><a href=\"/wiki/Terminology_extraction\" title=\"Terminology extraction\">Terminology extraction</a></dt>\n",
       "<dd>The goal of terminology extraction is to automatically extract relevant terms from a given corpus.</dd></dl>\n",
       "<h3><span class=\"mw-headline\" id=\"Semantics\">Semantics</span><span class=\"mw-editsection\"><span class=\"mw-editsection-bracket\">[</span><a href=\"/w/index.php?title=Natural_language_processing&amp;action=edit&amp;section=5\" title=\"Edit section: Semantics\">edit</a><span class=\"mw-editsection-bracket\">]</span></span></h3>\n",
       "<dl><dt><a href=\"/wiki/Lexical_semantics\" title=\"Lexical semantics\">Lexical semantics</a></dt>\n",
       "<dd>What is the computational meaning of individual words in context?</dd>\n",
       "<dt><a href=\"/wiki/Distributional_semantics\" title=\"Distributional semantics\">Distributional semantics</a></dt>\n",
       "<dd>How can we learn semantic representations from data?</dd>\n",
       "<dt><a href=\"/wiki/Machine_translation\" title=\"Machine translation\">Machine translation</a></dt>\n",
       "<dd>Automatically translate text from one human language to another.  This is one of the most difficult problems, and is a member of a class of problems colloquially termed \"<a href=\"/wiki/AI-complete\" title=\"AI-complete\">AI-complete</a>\", i.e. requiring all of the different types of knowledge that humans possess (grammar, semantics, facts about the real world, etc.) to solve properly.</dd>\n",
       "<dt><a class=\"mw-redirect\" href=\"/wiki/Named_entity_recognition\" title=\"Named entity recognition\">Named entity recognition</a> (NER)</dt>\n",
       "<dd>Given a stream of text, determine which items in the text map to proper names, such as people or places, and what the type of each such name is (e.g. person, location, organization). Although <a href=\"/wiki/Capitalization\" title=\"Capitalization\">capitalization</a> can aid in recognizing named entities in languages such as English, this information cannot aid in determining the type of named entity, and in any case, is often inaccurate or insufficient.  For example, the first letter of a sentence is also capitalized, and named entities often span several words, only some of which are capitalized.  Furthermore, many other languages in non-Western scripts (e.g. <a href=\"/wiki/Chinese_language\" title=\"Chinese language\">Chinese</a> or <a class=\"mw-redirect\" href=\"/wiki/Arabic_language\" title=\"Arabic language\">Arabic</a>) do not have any capitalization at all, and even languages with capitalization may not consistently use it to distinguish names. For example, <a href=\"/wiki/German_language\" title=\"German language\">German</a> capitalizes all <a href=\"/wiki/Noun\" title=\"Noun\">nouns</a>, regardless of whether they are names, and <a href=\"/wiki/French_language\" title=\"French language\">French</a> and <a href=\"/wiki/Spanish_language\" title=\"Spanish language\">Spanish</a> do not capitalize names that serve as <a href=\"/wiki/Adjective\" title=\"Adjective\">adjectives</a>.</dd>\n",
       "<dt><a class=\"mw-redirect\" href=\"/wiki/Natural_language_generation\" title=\"Natural language generation\">Natural language generation</a></dt>\n",
       "<dd>Convert information from computer databases or semantic intents into readable human language.</dd>\n",
       "<dt><a class=\"mw-redirect\" href=\"/wiki/Natural_language_understanding\" title=\"Natural language understanding\">Natural language understanding</a></dt>\n",
       "<dd>Convert chunks of text into more formal representations such as <a href=\"/wiki/First-order_logic\" title=\"First-order logic\">first-order logic</a> structures that are easier for <a href=\"/wiki/Computer\" title=\"Computer\">computer</a> programs to manipulate. Natural language understanding involves the identification of the intended semantic from the multiple possible semantics which can be derived from a natural language expression which usually takes the form of organized notations of natural language concepts. Introduction and creation of language metamodel and ontology are efficient however empirical solutions. An explicit formalization of natural language semantics without confusions with implicit assumptions such as <a href=\"/wiki/Closed-world_assumption\" title=\"Closed-world assumption\">closed-world assumption</a> (CWA) vs. <a href=\"/wiki/Open-world_assumption\" title=\"Open-world assumption\">open-world assumption</a>, or subjective Yes/No vs. objective True/False is expected for the construction of a basis of semantics formalization.<sup class=\"reference\" id=\"cite_ref-15\"><a href=\"#cite_note-15\">[15]</a></sup></dd>\n",
       "<dt><a href=\"/wiki/Optical_character_recognition\" title=\"Optical character recognition\">Optical character recognition</a> (OCR)</dt>\n",
       "<dd>Given an image representing printed text, determine the corresponding text.</dd>\n",
       "<dt><a href=\"/wiki/Question_answering\" title=\"Question answering\">Question answering</a></dt>\n",
       "<dd>Given a human-language question, determine its answer.  Typical questions have a specific right answer (such as \"What is the capital of Canada?\"), but sometimes open-ended questions are also considered (such as \"What is the meaning of life?\"). Recent works have looked at even more complex questions.<sup class=\"reference\" id=\"cite_ref-16\"><a href=\"#cite_note-16\">[16]</a></sup></dd>\n",
       "<dt><a href=\"/wiki/Textual_entailment\" title=\"Textual entailment\">Recognizing Textual entailment</a></dt>\n",
       "<dd>Given two text fragments, determine if one being true entails the other, entails the other's negation, or allows the other to be either true or false.<sup class=\"reference\" id=\"cite_ref-rte:11_17-0\"><a href=\"#cite_note-rte:11-17\">[17]</a></sup></dd>\n",
       "<dt><a href=\"/wiki/Relationship_extraction\" title=\"Relationship extraction\">Relationship extraction</a></dt>\n",
       "<dd>Given a chunk of text, identify the relationships among named entities (e.g. who is married to whom).</dd>\n",
       "<dt><a href=\"/wiki/Sentiment_analysis\" title=\"Sentiment analysis\">Sentiment analysis</a> (see also <a href=\"/wiki/Multimodal_sentiment_analysis\" title=\"Multimodal sentiment analysis\">multimodal sentiment analysis</a>)</dt>\n",
       "<dd>Extract subjective information usually from a set of documents, often using online reviews to determine \"polarity\" about specific objects. It is especially useful for identifying trends of public opinion in social media, for marketing.</dd>\n",
       "<dt><a class=\"mw-redirect\" href=\"/wiki/Topic_segmentation\" title=\"Topic segmentation\">Topic segmentation</a> and recognition</dt>\n",
       "<dd>Given a chunk of text, separate it into segments each of which is devoted to a topic, and identify the topic of the segment.</dd>\n",
       "<dt><a class=\"mw-redirect\" href=\"/wiki/Word_sense_disambiguation\" title=\"Word sense disambiguation\">Word sense disambiguation</a></dt>\n",
       "<dd>Many words have more than one <a href=\"/wiki/Meaning_(linguistics)\" title=\"Meaning (linguistics)\">meaning</a>; we have to select the meaning which makes the most sense in context.  For this problem, we are typically given a list of words and associated word senses, e.g. from a dictionary or an online resource such as <a href=\"/wiki/WordNet\" title=\"WordNet\">WordNet</a>.</dd></dl>\n",
       "<h3><span class=\"mw-headline\" id=\"Discourse\">Discourse</span><span class=\"mw-editsection\"><span class=\"mw-editsection-bracket\">[</span><a href=\"/w/index.php?title=Natural_language_processing&amp;action=edit&amp;section=6\" title=\"Edit section: Discourse\">edit</a><span class=\"mw-editsection-bracket\">]</span></span></h3>\n",
       "<dl><dt><a href=\"/wiki/Automatic_summarization\" title=\"Automatic summarization\">Automatic summarization</a></dt>\n",
       "<dd>Produce a readable summary of a chunk of text.  Often used to provide summaries of the text of a known type, such as research papers, articles in the financial section of a newspaper.</dd>\n",
       "<dt><a href=\"/wiki/Coreference\" title=\"Coreference\">Coreference resolution</a></dt>\n",
       "<dd>Given a sentence or larger chunk of text, determine which words (\"mentions\") refer to the same objects (\"entities\"). <a class=\"mw-redirect\" href=\"/wiki/Anaphora_resolution\" title=\"Anaphora resolution\">Anaphora resolution</a> is a specific example of this task, and is specifically concerned with matching up <a href=\"/wiki/Pronoun\" title=\"Pronoun\">pronouns</a> with the nouns or names to which they refer. The more general task of coreference resolution also includes identifying so-called \"bridging relationships\" involving <a href=\"/wiki/Referring_expression\" title=\"Referring expression\">referring expressions</a>. For example, in a sentence such as \"He entered John's house through the front door\", \"the front door\" is a referring expression and the bridging relationship to be identified is the fact that the door being referred to is the front door of John's house (rather than of some other structure that might also be referred to).</dd>\n",
       "<dt><a href=\"/wiki/Discourse_analysis\" title=\"Discourse analysis\">Discourse analysis</a></dt>\n",
       "<dd>This rubric includes several related tasks.  One task is identifying the <a href=\"/wiki/Discourse\" title=\"Discourse\">discourse</a> structure of a connected text, i.e. the nature of the discourse relationships between sentences (e.g. elaboration, explanation, contrast).  Another possible task is recognizing and classifying the <a href=\"/wiki/Speech_act\" title=\"Speech act\">speech acts</a> in a chunk of text (e.g. yes-no question, content question, statement, assertion, etc.).</dd></dl>\n",
       "<h3><span class=\"mw-headline\" id=\"Speech\">Speech</span><span class=\"mw-editsection\"><span class=\"mw-editsection-bracket\">[</span><a href=\"/w/index.php?title=Natural_language_processing&amp;action=edit&amp;section=7\" title=\"Edit section: Speech\">edit</a><span class=\"mw-editsection-bracket\">]</span></span></h3>\n",
       "<dl><dt><a href=\"/wiki/Speech_recognition\" title=\"Speech recognition\">Speech recognition</a></dt>\n",
       "<dd>Given a sound clip of a person or people speaking, determine the textual representation of the speech.  This is the opposite of <a class=\"mw-redirect\" href=\"/wiki/Text_to_speech\" title=\"Text to speech\">text to speech</a> and is one of the extremely difficult problems colloquially termed \"<a href=\"/wiki/AI-complete\" title=\"AI-complete\">AI-complete</a>\" (see above).  In <a class=\"mw-redirect\" href=\"/wiki/Natural_speech\" title=\"Natural speech\">natural speech</a> there are hardly any pauses between successive words, and thus <a href=\"/wiki/Speech_segmentation\" title=\"Speech segmentation\">speech segmentation</a> is a necessary subtask of speech recognition (see below). In most spoken languages, the sounds representing successive letters blend into each other in a process termed <a href=\"/wiki/Coarticulation\" title=\"Coarticulation\">coarticulation</a>, so the conversion of the <a href=\"/wiki/Analog_signal\" title=\"Analog signal\">analog signal</a> to discrete characters can be a very difficult process. Also, given that words in the same language are spoken by people with different accents, the speech recognition software must be able to recognize the wide variety of input as being identical to each other in terms of its textual equivalent.</dd>\n",
       "<dt><a href=\"/wiki/Speech_segmentation\" title=\"Speech segmentation\">Speech segmentation</a></dt>\n",
       "<dd>Given a sound clip of a person or people speaking, separate it into words.  A subtask of <a href=\"/wiki/Speech_recognition\" title=\"Speech recognition\">speech recognition</a> and typically grouped with it.</dd>\n",
       "<dt><a class=\"mw-redirect\" href=\"/wiki/Text-to-speech\" title=\"Text-to-speech\">Text-to-speech</a></dt>\n",
       "<dd>Given a text, transform those units and produce a spoken representation. Text-to-speech can be used to aid the visually impaired.<sup class=\"reference\" id=\"cite_ref-18\"><a href=\"#cite_note-18\">[18]</a></sup></dd></dl>\n",
       "<h3><span class=\"mw-headline\" id=\"Dialogue\"><a href=\"/wiki/Dialogue\" title=\"Dialogue\">Dialogue</a></span><span class=\"mw-editsection\"><span class=\"mw-editsection-bracket\">[</span><a href=\"/w/index.php?title=Natural_language_processing&amp;action=edit&amp;section=8\" title=\"Edit section: Dialogue\">edit</a><span class=\"mw-editsection-bracket\">]</span></span></h3>\n",
       "<p>The first published work by an artificial intelligence was published in 2018, <i><a href=\"/wiki/1_the_Road\" title=\"1 the Road\">1 the Road</a></i>, marketed as a novel, contains sixty million words.\n",
       "</p>\n",
       "<h2><span class=\"mw-headline\" id=\"See_also\">See also</span><span class=\"mw-editsection\"><span class=\"mw-editsection-bracket\">[</span><a href=\"/w/index.php?title=Natural_language_processing&amp;action=edit&amp;section=9\" title=\"Edit section: See also\">edit</a><span class=\"mw-editsection-bracket\">]</span></span></h2>\n",
       "<div class=\"div-col columns column-width\" style=\"-moz-column-width: 22em; -webkit-column-width: 22em; column-width: 22em;\">\n",
       "<ul><li><i><a href=\"/wiki/1_the_Road\" title=\"1 the Road\">1 the Road</a></i></li>\n",
       "<li><a href=\"/wiki/Automated_essay_scoring\" title=\"Automated essay scoring\">Automated essay scoring</a></li>\n",
       "<li><a href=\"/wiki/Biomedical_text_mining\" title=\"Biomedical text mining\">Biomedical text mining</a></li>\n",
       "<li><a class=\"mw-redirect\" href=\"/wiki/Compound_term_processing\" title=\"Compound term processing\">Compound term processing</a></li>\n",
       "<li><a href=\"/wiki/Computational_linguistics\" title=\"Computational linguistics\">Computational linguistics</a></li>\n",
       "<li><a href=\"/wiki/Computer-assisted_reviewing\" title=\"Computer-assisted reviewing\">Computer-assisted reviewing</a></li>\n",
       "<li><a href=\"/wiki/Controlled_natural_language\" title=\"Controlled natural language\">Controlled natural language</a></li>\n",
       "<li><a href=\"/wiki/Deep_learning\" title=\"Deep learning\">Deep learning</a></li>\n",
       "<li><a href=\"/wiki/Deep_linguistic_processing\" title=\"Deep linguistic processing\">Deep linguistic processing</a></li>\n",
       "<li><a href=\"/wiki/Distributional_semantics\" title=\"Distributional semantics\">Distributional semantics</a></li>\n",
       "<li><a class=\"mw-redirect\" href=\"/wiki/Foreign_language_reading_aid\" title=\"Foreign language reading aid\">Foreign language reading aid</a></li>\n",
       "<li><a href=\"/wiki/Foreign_language_writing_aid\" title=\"Foreign language writing aid\">Foreign language writing aid</a></li>\n",
       "<li><a href=\"/wiki/Information_extraction\" title=\"Information extraction\">Information extraction</a></li>\n",
       "<li><a href=\"/wiki/Information_retrieval\" title=\"Information retrieval\">Information retrieval</a></li>\n",
       "<li><a href=\"/wiki/Language_and_Communication_Technologies\" title=\"Language and Communication Technologies\">Language and Communication Technologies</a></li>\n",
       "<li><a href=\"/wiki/Language_technology\" title=\"Language technology\">Language technology</a></li>\n",
       "<li><a class=\"mw-redirect\" href=\"/wiki/Latent_semantic_indexing\" title=\"Latent semantic indexing\">Latent semantic indexing</a></li>\n",
       "<li><a href=\"/wiki/Native-language_identification\" title=\"Native-language identification\">Native-language identification</a></li>\n",
       "<li><a class=\"mw-redirect\" href=\"/wiki/Natural_language_programming\" title=\"Natural language programming\">Natural language programming</a></li>\n",
       "<li><a class=\"mw-redirect\" href=\"/wiki/Natural_language_user_interface\" title=\"Natural language user interface\">Natural language search</a></li>\n",
       "<li><a href=\"/wiki/Query_expansion\" title=\"Query expansion\">Query expansion</a></li>\n",
       "<li><a href=\"/wiki/Reification_(linguistics)\" title=\"Reification (linguistics)\">Reification (linguistics)</a></li>\n",
       "<li><a href=\"/wiki/Speech_processing\" title=\"Speech processing\">Speech processing</a></li>\n",
       "<li><a class=\"mw-redirect\" href=\"/wiki/Spoken_dialogue_system\" title=\"Spoken dialogue system\">Spoken dialogue system</a></li>\n",
       "<li><a class=\"mw-redirect\" href=\"/wiki/Text-proofing\" title=\"Text-proofing\">Text-proofing</a></li>\n",
       "<li><a href=\"/wiki/Text_simplification\" title=\"Text simplification\">Text simplification</a></li>\n",
       "<li><a href=\"/wiki/Transformer_(machine_learning_model)\" title=\"Transformer (machine learning model)\">Transformer (machine learning model)</a></li>\n",
       "<li><a href=\"/wiki/Truecasing\" title=\"Truecasing\">Truecasing</a></li>\n",
       "<li><a href=\"/wiki/Question_answering\" title=\"Question answering\">Question answering</a></li>\n",
       "<li><a href=\"/wiki/Word2vec\" title=\"Word2vec\">Word2vec</a></li></ul>\n",
       "</div>\n",
       "<h2><span class=\"mw-headline\" id=\"References\">References</span><span class=\"mw-editsection\"><span class=\"mw-editsection-bracket\">[</span><a href=\"/w/index.php?title=Natural_language_processing&amp;action=edit&amp;section=10\" title=\"Edit section: References\">edit</a><span class=\"mw-editsection-bracket\">]</span></span></h2>\n",
       "<div class=\"reflist columns references-column-width\" style=\"-moz-column-width: 30em; -webkit-column-width: 30em; column-width: 30em; list-style-type: decimal;\">\n",
       "<ol class=\"references\">\n",
       "<li id=\"cite_note-Kongthon-1\"><span class=\"mw-cite-backlink\"><b><a href=\"#cite_ref-Kongthon_1-0\">^</a></b></span> <span class=\"reference-text\"><cite class=\"citation conference\">Kongthon, Alisa; Sangkeettrakarn, Chatchawal; Kongyoung, Sarawoot; Haruechaiyasak, Choochart (October 27–30, 2009). <i>Implementing an online help desk system based on conversational agent</i>. MEDES '09: The International Conference on Management of Emergent Digital EcoSystems. France: ACM. <a href=\"/wiki/Digital_object_identifier\" title=\"Digital object identifier\">doi</a>:<a class=\"external text\" href=\"https://doi.org/10.1145%2F1643823.1643908\" rel=\"nofollow\">10.1145/1643823.1643908</a>.</cite><span class=\"Z3988\" title=\"ctx_ver=Z39.88-2004&amp;rft_val_fmt=info%3Aofi%2Ffmt%3Akev%3Amtx%3Abook&amp;rft.genre=conference&amp;rft.btitle=Implementing+an+online+help+desk+system+based+on+conversational+agent&amp;rft.place=France&amp;rft.pub=ACM&amp;rft.date=2009-10-27%2F2009-10-30&amp;rft_id=info%3Adoi%2F10.1145%2F1643823.1643908&amp;rft.aulast=Kongthon&amp;rft.aufirst=Alisa&amp;rft.au=Sangkeettrakarn%2C+Chatchawal&amp;rft.au=Kongyoung%2C+Sarawoot&amp;rft.au=Haruechaiyasak%2C+Choochart&amp;rfr_id=info%3Asid%2Fen.wikipedia.org%3ANatural+language+processing\"></span><style data-mw-deduplicate=\"TemplateStyles:r935243608\">.mw-parser-output cite.citation{font-style:inherit}.mw-parser-output .citation q{quotes:\"\\\"\"\"\\\"\"\"'\"\"'\"}.mw-parser-output .id-lock-free a,.mw-parser-output .citation .cs1-lock-free a{background:url(\"//upload.wikimedia.org/wikipedia/commons/thumb/6/65/Lock-green.svg/9px-Lock-green.svg.png\")no-repeat;background-position:right .1em center}.mw-parser-output .id-lock-limited a,.mw-parser-output .id-lock-registration a,.mw-parser-output .citation .cs1-lock-limited a,.mw-parser-output .citation .cs1-lock-registration a{background:url(\"//upload.wikimedia.org/wikipedia/commons/thumb/d/d6/Lock-gray-alt-2.svg/9px-Lock-gray-alt-2.svg.png\")no-repeat;background-position:right .1em center}.mw-parser-output .id-lock-subscription a,.mw-parser-output .citation .cs1-lock-subscription a{background:url(\"//upload.wikimedia.org/wikipedia/commons/thumb/a/aa/Lock-red-alt-2.svg/9px-Lock-red-alt-2.svg.png\")no-repeat;background-position:right .1em center}.mw-parser-output .cs1-subscription,.mw-parser-output .cs1-registration{color:#555}.mw-parser-output .cs1-subscription span,.mw-parser-output .cs1-registration span{border-bottom:1px dotted;cursor:help}.mw-parser-output .cs1-ws-icon a{background:url(\"//upload.wikimedia.org/wikipedia/commons/thumb/4/4c/Wikisource-logo.svg/12px-Wikisource-logo.svg.png\")no-repeat;background-position:right .1em center}.mw-parser-output code.cs1-code{color:inherit;background:inherit;border:inherit;padding:inherit}.mw-parser-output .cs1-hidden-error{display:none;font-size:100%}.mw-parser-output .cs1-visible-error{font-size:100%}.mw-parser-output .cs1-maint{display:none;color:#33aa33;margin-left:0.3em}.mw-parser-output .cs1-subscription,.mw-parser-output .cs1-registration,.mw-parser-output .cs1-format{font-size:95%}.mw-parser-output .cs1-kern-left,.mw-parser-output .cs1-kern-wl-left{padding-left:0.2em}.mw-parser-output .cs1-kern-right,.mw-parser-output .cs1-kern-wl-right{padding-right:0.2em}</style></span>\n",
       "</li>\n",
       "<li id=\"cite_note-2\"><span class=\"mw-cite-backlink\"><b><a href=\"#cite_ref-2\">^</a></b></span> <span class=\"reference-text\"><cite class=\"citation web\">Hutchins, J. (2005). <a class=\"external text\" href=\"http://www.hutchinsweb.me.uk/Nutshell-2005.pdf\" rel=\"nofollow\">\"The history of machine translation in a nutshell\"</a> <span class=\"cs1-format\">(PDF)</span>.</cite><span class=\"Z3988\" title=\"ctx_ver=Z39.88-2004&amp;rft_val_fmt=info%3Aofi%2Ffmt%3Akev%3Amtx%3Abook&amp;rft.genre=unknown&amp;rft.btitle=The+history+of+machine+translation+in+a+nutshell&amp;rft.date=2005&amp;rft.au=Hutchins%2C+J.&amp;rft_id=http%3A%2F%2Fwww.hutchinsweb.me.uk%2FNutshell-2005.pdf&amp;rfr_id=info%3Asid%2Fen.wikipedia.org%3ANatural+language+processing\"></span><link href=\"mw-data:TemplateStyles:r935243608\" rel=\"mw-deduplicated-inline-style\"/><sup class=\"noprint Inline-Template\" style=\"white-space:nowrap;\">[<i><a href=\"/wiki/Wikipedia:Verifiability#Self-published_sources\" title=\"Wikipedia:Verifiability\"><span title=\"This reference citation appears to be to a self-published source. (December 2013)\">self-published source</span></a></i>]</sup></span>\n",
       "</li>\n",
       "<li id=\"cite_note-3\"><span class=\"mw-cite-backlink\"><b><a href=\"#cite_ref-3\">^</a></b></span> <span class=\"reference-text\">Chomskyan linguistics encourages the investigation of \"<a href=\"/wiki/Corner_case\" title=\"Corner case\">corner cases</a>\" that stress the limits of its theoretical models (comparable to <a href=\"/wiki/Pathological_(mathematics)\" title=\"Pathological (mathematics)\">pathological</a> phenomena in mathematics), typically created using <a href=\"/wiki/Thought_experiment\" title=\"Thought experiment\">thought experiments</a>, rather than the systematic investigation of typical phenomena that occur in real-world data, as is the case in <a href=\"/wiki/Corpus_linguistics\" title=\"Corpus linguistics\">corpus linguistics</a>.  The creation and use of such <a href=\"/wiki/Text_corpus\" title=\"Text corpus\">corpora</a> of real-world data is a fundamental part of machine-learning algorithms for natural language processing.  In addition, theoretical underpinnings of Chomskyan linguistics such as the so-called \"<a href=\"/wiki/Poverty_of_the_stimulus\" title=\"Poverty of the stimulus\">poverty of the stimulus</a>\" argument entail that general learning algorithms, as are typically used in machine learning, cannot be successful in language processing.  As a result, the Chomskyan paradigm discouraged the application of such models to language processing.</span>\n",
       "</li>\n",
       "<li id=\"cite_note-goldberg:nnlp17-4\"><span class=\"mw-cite-backlink\"><b><a href=\"#cite_ref-goldberg:nnlp17_4-0\">^</a></b></span> <span class=\"reference-text\">Goldberg, Yoav (2016). <a class=\"external text\" href=\"https://arxiv.org/abs/1807.10854\" rel=\"nofollow\">A Primer on Neural Network Models for Natural Language Processing</a>. Journal of Artificial Intelligence Research 57 (2016) 345–420</span>\n",
       "</li>\n",
       "<li id=\"cite_note-goodfellow:book16-5\"><span class=\"mw-cite-backlink\"><b><a href=\"#cite_ref-goodfellow:book16_5-0\">^</a></b></span> <span class=\"reference-text\">Ian Goodfellow, Yoshua Bengio and Aaron Courville. <a class=\"external text\" href=\"http://www.deeplearningbook.org/\" rel=\"nofollow\">Deep Learning</a>.  MIT Press.</span>\n",
       "</li>\n",
       "<li id=\"cite_note-jozefowicz:lm16-6\"><span class=\"mw-cite-backlink\"><b><a href=\"#cite_ref-jozefowicz:lm16_6-0\">^</a></b></span> <span class=\"reference-text\">Rafal Jozefowicz, Oriol Vinyals, Mike Schuster, Noam Shazeer, and Yonghui Wu (2016). <a class=\"external free\" href=\"https://arxiv.org/abs/1602.02410\" rel=\"nofollow\">https://arxiv.org/abs/1602.02410</a> Exploring the Limits of Language Modeling</span>\n",
       "</li>\n",
       "<li id=\"cite_note-choe:emnlp16-7\"><span class=\"mw-cite-backlink\"><b><a href=\"#cite_ref-choe:emnlp16_7-0\">^</a></b></span> <span class=\"reference-text\">Do Kook Choe and Eugene Charniak (EMNLP 2016). <a class=\"external free\" href=\"https://aclanthology.coli.uni-saarland.de/papers/D16-1257/d16-1257\" rel=\"nofollow\">https://aclanthology.coli.uni-saarland.de/papers/D16-1257/d16-1257</a> Parsing as Language Modeling</span>\n",
       "</li>\n",
       "<li id=\"cite_note-vinyals:nips15-8\"><span class=\"mw-cite-backlink\"><b><a href=\"#cite_ref-vinyals:nips15_8-0\">^</a></b></span> <span class=\"reference-text\">Vinyals, Oriol, et al. (NIPS2015). <a class=\"external free\" href=\"https://papers.nips.cc/paper/5635-grammar-as-a-foreign-language.pdf\" rel=\"nofollow\">https://papers.nips.cc/paper/5635-grammar-as-a-foreign-language.pdf</a></span>\n",
       "</li>\n",
       "<li id=\"cite_note-winograd:shrdlu71-9\"><span class=\"mw-cite-backlink\"><b><a href=\"#cite_ref-winograd:shrdlu71_9-0\">^</a></b></span> <span class=\"reference-text\">Winograd, Terry (1971). Procedures as a Representation for Data in a Computer Program for Understanding Natural Language. <a class=\"external free\" href=\"http://hci.stanford.edu/winograd/shrdlu/\" rel=\"nofollow\">http://hci.stanford.edu/winograd/shrdlu/</a></span>\n",
       "</li>\n",
       "<li id=\"cite_note-schank77-10\"><span class=\"mw-cite-backlink\"><b><a href=\"#cite_ref-schank77_10-0\">^</a></b></span> <span class=\"reference-text\">Roger C. Schank and Robert P. Abelson (1977). Scripts, plans, goals, and understanding: An inquiry into human knowledge structures</span>\n",
       "</li>\n",
       "<li id=\"cite_note-johnson:eacl:ilcl09-11\"><span class=\"mw-cite-backlink\"><b><a href=\"#cite_ref-johnson:eacl:ilcl09_11-0\">^</a></b></span> <span class=\"reference-text\"><a class=\"external text\" href=\"http://www.aclweb.org/anthology/W09-0103\" rel=\"nofollow\">Mark Johnson. How the statistical revolution changes (computational) linguistics.</a> Proceedings of the EACL 2009 Workshop on the Interaction between Linguistics and Computational Linguistics.</span>\n",
       "</li>\n",
       "<li id=\"cite_note-resnik:langlog11-12\"><span class=\"mw-cite-backlink\"><b><a href=\"#cite_ref-resnik:langlog11_12-0\">^</a></b></span> <span class=\"reference-text\"><a class=\"external text\" href=\"http://languagelog.ldc.upenn.edu/nll/?p=2946\" rel=\"nofollow\">Philip Resnik. Four revolutions.</a> Language Log, February 5, 2011.</span>\n",
       "</li>\n",
       "<li id=\"cite_note-13\"><span class=\"mw-cite-backlink\"><b><a href=\"#cite_ref-13\">^</a></b></span> <span class=\"reference-text\">Klein, Dan, and Christopher D. Manning. \"<a class=\"external text\" href=\"http://papers.nips.cc/paper/1945-natural-language-grammar-induction-using-a-constituent-context-model.pdf\" rel=\"nofollow\">Natural language grammar induction using a constituent-context model</a>.\" Advances in neural information processing systems. 2002.</span>\n",
       "</li>\n",
       "<li id=\"cite_note-14\"><span class=\"mw-cite-backlink\"><b><a href=\"#cite_ref-14\">^</a></b></span> <span class=\"reference-text\">Kishorjit, N., Vidya Raj RK., Nirmal Y., and Sivaji B. (2012) \"<a class=\"external text\" href=\"http://aclweb.org/anthology//W/W12/W12-5008.pdf\" rel=\"nofollow\">Manipuri Morpheme Identification</a>\", Proceedings of the 3rd Workshop on South and Southeast Asian Natural Language Processing (SANLP), pages 95–108, COLING 2012, Mumbai, December 2012</span>\n",
       "</li>\n",
       "<li id=\"cite_note-15\"><span class=\"mw-cite-backlink\"><b><a href=\"#cite_ref-15\">^</a></b></span> <span class=\"reference-text\">Yucong Duan, Christophe Cruz (2011), <i><a class=\"external text\" href=\"http://www.ijimt.org/abstract/100-E00187.htm\" rel=\"nofollow\">Formalizing Semantic of Natural Language through Conceptualization from Existence</a></i>. <a class=\"external text\" href=\"https://web.archive.org/web/20111009135952/http://www.ijimt.org/abstract/100-E00187.htm\" rel=\"nofollow\">Archived</a> 2011-10-09 at the <a href=\"/wiki/Wayback_Machine\" title=\"Wayback Machine\">Wayback Machine</a> International Journal of Innovation, Management and Technology(2011) 2 (1), pp. 37-42.</span>\n",
       "</li>\n",
       "<li id=\"cite_note-16\"><span class=\"mw-cite-backlink\"><b><a href=\"#cite_ref-16\">^</a></b></span> <span class=\"reference-text\">\"<a class=\"external text\" href=\"https://www.academia.edu/2475776/Versatile_question_answering_systems_seeing_in_synthesis\" rel=\"nofollow\">Versatile question answering systems: seeing in synthesis</a>\", Mittal et al., IJIIDS, 5(2), 119-142, 2011.</span>\n",
       "</li>\n",
       "<li id=\"cite_note-rte:11-17\"><span class=\"mw-cite-backlink\"><b><a href=\"#cite_ref-rte:11_17-0\">^</a></b></span> <span class=\"reference-text\">PASCAL Recognizing Textual Entailment Challenge (RTE-7) <a class=\"external free\" href=\"https://tac.nist.gov//2011/RTE/\" rel=\"nofollow\">https://tac.nist.gov//2011/RTE/</a></span>\n",
       "</li>\n",
       "<li id=\"cite_note-18\"><span class=\"mw-cite-backlink\"><b><a href=\"#cite_ref-18\">^</a></b></span> <span class=\"reference-text\"><cite class=\"citation\" id=\"CITEREFYiTian2012\">Yi, Chucai; Tian, Yingli (2012), \"Assistive Text Reading from Complex Background for Blind Persons\", <i>Camera-Based Document Analysis and Recognition</i>, Springer Berlin Heidelberg, pp. 15–28, <a href=\"/wiki/CiteSeerX\" title=\"CiteSeerX\">CiteSeerX</a> <span class=\"cs1-lock-free\" title=\"Freely accessible\"><a class=\"external text\" href=\"//citeseerx.ist.psu.edu/viewdoc/summary?doi=10.1.1.668.869\" rel=\"nofollow\">10.1.1.668.869</a></span>, <a href=\"/wiki/Digital_object_identifier\" title=\"Digital object identifier\">doi</a>:<a class=\"external text\" href=\"https://doi.org/10.1007%2F978-3-642-29364-1_2\" rel=\"nofollow\">10.1007/978-3-642-29364-1_2</a>, <a href=\"/wiki/International_Standard_Book_Number\" title=\"International Standard Book Number\">ISBN</a> <a href=\"/wiki/Special:BookSources/9783642293634\" title=\"Special:BookSources/9783642293634\"><bdi>9783642293634</bdi></a></cite><span class=\"Z3988\" title=\"ctx_ver=Z39.88-2004&amp;rft_val_fmt=info%3Aofi%2Ffmt%3Akev%3Amtx%3Ajournal&amp;rft.genre=article&amp;rft.jtitle=Camera-Based+Document+Analysis+and+Recognition&amp;rft.atitle=Assistive+Text+Reading+from+Complex+Background+for+Blind+Persons&amp;rft.pages=15-28&amp;rft.date=2012&amp;rft_id=%2F%2Fciteseerx.ist.psu.edu%2Fviewdoc%2Fsummary%3Fdoi%3D10.1.1.668.869&amp;rft_id=info%3Adoi%2F10.1007%2F978-3-642-29364-1_2&amp;rft.isbn=9783642293634&amp;rft.aulast=Yi&amp;rft.aufirst=Chucai&amp;rft.au=Tian%2C+Yingli&amp;rfr_id=info%3Asid%2Fen.wikipedia.org%3ANatural+language+processing\"></span><link href=\"mw-data:TemplateStyles:r935243608\" rel=\"mw-deduplicated-inline-style\"/></span>\n",
       "</li>\n",
       "</ol></div>\n",
       "<h2><span class=\"mw-headline\" id=\"Further_reading\">Further reading</span><span class=\"mw-editsection\"><span class=\"mw-editsection-bracket\">[</span><a href=\"/w/index.php?title=Natural_language_processing&amp;action=edit&amp;section=11\" title=\"Edit section: Further reading\">edit</a><span class=\"mw-editsection-bracket\">]</span></span></h2>\n",
       "<style data-mw-deduplicate=\"TemplateStyles:r886047268\">.mw-parser-output .refbegin{font-size:90%;margin-bottom:0.5em}.mw-parser-output .refbegin-hanging-indents>ul{list-style-type:none;margin-left:0}.mw-parser-output .refbegin-hanging-indents>ul>li,.mw-parser-output .refbegin-hanging-indents>dl>dd{margin-left:0;padding-left:3.2em;text-indent:-3.2em;list-style:none}.mw-parser-output .refbegin-100{font-size:100%}</style><div class=\"refbegin reflist\" style=\"\">\n",
       "<ul><li><cite class=\"citation journal\">Bates, M (1995). <a class=\"external text\" href=\"//www.ncbi.nlm.nih.gov/pmc/articles/PMC40721\" rel=\"nofollow\">\"Models of natural language understanding\"</a>. <i>Proceedings of the National Academy of Sciences of the United States of America</i>. <b>92</b> (22): 9977–9982. <a href=\"/wiki/Digital_object_identifier\" title=\"Digital object identifier\">doi</a>:<a class=\"external text\" href=\"https://doi.org/10.1073%2Fpnas.92.22.9977\" rel=\"nofollow\">10.1073/pnas.92.22.9977</a>. <a href=\"/wiki/PubMed_Central\" title=\"PubMed Central\">PMC</a> <span class=\"cs1-lock-free\" title=\"Freely accessible\"><a class=\"external text\" href=\"//www.ncbi.nlm.nih.gov/pmc/articles/PMC40721\" rel=\"nofollow\">40721</a></span>. <a class=\"mw-redirect\" href=\"/wiki/PubMed_Identifier\" title=\"PubMed Identifier\">PMID</a> <a class=\"external text\" href=\"//pubmed.ncbi.nlm.nih.gov/7479812\" rel=\"nofollow\">7479812</a>.</cite><span class=\"Z3988\" title=\"ctx_ver=Z39.88-2004&amp;rft_val_fmt=info%3Aofi%2Ffmt%3Akev%3Amtx%3Ajournal&amp;rft.genre=article&amp;rft.jtitle=Proceedings+of+the+National+Academy+of+Sciences+of+the+United+States+of+America&amp;rft.atitle=Models+of+natural+language+understanding&amp;rft.volume=92&amp;rft.issue=22&amp;rft.pages=9977-9982&amp;rft.date=1995&amp;rft_id=%2F%2Fwww.ncbi.nlm.nih.gov%2Fpmc%2Farticles%2FPMC40721&amp;rft_id=info%3Apmid%2F7479812&amp;rft_id=info%3Adoi%2F10.1073%2Fpnas.92.22.9977&amp;rft.aulast=Bates&amp;rft.aufirst=M&amp;rft_id=%2F%2Fwww.ncbi.nlm.nih.gov%2Fpmc%2Farticles%2FPMC40721&amp;rfr_id=info%3Asid%2Fen.wikipedia.org%3ANatural+language+processing\"></span><link href=\"mw-data:TemplateStyles:r935243608\" rel=\"mw-deduplicated-inline-style\"/></li>\n",
       "<li>Steven Bird, Ewan Klein, and Edward Loper (2009). <i>Natural Language Processing with Python</i>. O'Reilly Media. <link href=\"mw-data:TemplateStyles:r935243608\" rel=\"mw-deduplicated-inline-style\"/><a href=\"/wiki/International_Standard_Book_Number\" title=\"International Standard Book Number\">ISBN</a> <a href=\"/wiki/Special:BookSources/978-0-596-51649-9\" title=\"Special:BookSources/978-0-596-51649-9\">978-0-596-51649-9</a>.</li>\n",
       "<li>Daniel Jurafsky and James H. Martin (2008). <i>Speech and Language Processing</i>, 2nd edition. Pearson Prentice Hall. <link href=\"mw-data:TemplateStyles:r935243608\" rel=\"mw-deduplicated-inline-style\"/><a href=\"/wiki/International_Standard_Book_Number\" title=\"International Standard Book Number\">ISBN</a> <a href=\"/wiki/Special:BookSources/978-0-13-187321-6\" title=\"Special:BookSources/978-0-13-187321-6\">978-0-13-187321-6</a>.</li>\n",
       "<li>Mohamed Zakaria Kurdi (2016). <i>Natural Language Processing and Computational Linguistics: speech, morphology, and syntax</i>, Volume 1. ISTE-Wiley. <link href=\"mw-data:TemplateStyles:r935243608\" rel=\"mw-deduplicated-inline-style\"/><a href=\"/wiki/International_Standard_Book_Number\" title=\"International Standard Book Number\">ISBN</a> <a href=\"/wiki/Special:BookSources/978-1848218482\" title=\"Special:BookSources/978-1848218482\">978-1848218482</a>.</li>\n",
       "<li>Mohamed Zakaria Kurdi (2017). <i>Natural Language Processing and Computational Linguistics: semantics, discourse, and applications</i>, Volume 2. ISTE-Wiley. <link href=\"mw-data:TemplateStyles:r935243608\" rel=\"mw-deduplicated-inline-style\"/><a href=\"/wiki/International_Standard_Book_Number\" title=\"International Standard Book Number\">ISBN</a> <a href=\"/wiki/Special:BookSources/978-1848219212\" title=\"Special:BookSources/978-1848219212\">978-1848219212</a>.</li>\n",
       "<li>Christopher D. Manning, Prabhakar Raghavan, and Hinrich Schütze (2008). <i>Introduction to Information Retrieval</i>. Cambridge University Press. <link href=\"mw-data:TemplateStyles:r935243608\" rel=\"mw-deduplicated-inline-style\"/><a href=\"/wiki/International_Standard_Book_Number\" title=\"International Standard Book Number\">ISBN</a> <a href=\"/wiki/Special:BookSources/978-0-521-86571-5\" title=\"Special:BookSources/978-0-521-86571-5\">978-0-521-86571-5</a>. <a class=\"external text\" href=\"http://nlp.stanford.edu/IR-book/\" rel=\"nofollow\">Official html and pdf versions available without charge.</a></li>\n",
       "<li>Christopher D. Manning and Hinrich Schütze (1999). <i>Foundations of Statistical Natural Language Processing</i>. The MIT Press. <link href=\"mw-data:TemplateStyles:r935243608\" rel=\"mw-deduplicated-inline-style\"/><a href=\"/wiki/International_Standard_Book_Number\" title=\"International Standard Book Number\">ISBN</a> <a href=\"/wiki/Special:BookSources/978-0-262-13360-9\" title=\"Special:BookSources/978-0-262-13360-9\">978-0-262-13360-9</a>.</li>\n",
       "<li>David M. W. Powers and Christopher C. R. Turk (1989). <i>Machine Learning of Natural Language</i>. Springer-Verlag. <link href=\"mw-data:TemplateStyles:r935243608\" rel=\"mw-deduplicated-inline-style\"/><a href=\"/wiki/International_Standard_Book_Number\" title=\"International Standard Book Number\">ISBN</a> <a href=\"/wiki/Special:BookSources/978-0-387-19557-5\" title=\"Special:BookSources/978-0-387-19557-5\">978-0-387-19557-5</a>.</li></ul>\n",
       "</div>\n",
       "<table class=\"mbox-small plainlinks sistersitebox\" role=\"presentation\" style=\"background-color:#f9f9f9;border:1px solid #aaa;color:#000\">\n",
       "<tbody><tr>\n",
       "<td class=\"mbox-image\"><img alt=\"\" class=\"noviewer\" data-file-height=\"1376\" data-file-width=\"1024\" decoding=\"async\" height=\"40\" src=\"//upload.wikimedia.org/wikipedia/en/thumb/4/4a/Commons-logo.svg/30px-Commons-logo.svg.png\" srcset=\"//upload.wikimedia.org/wikipedia/en/thumb/4/4a/Commons-logo.svg/45px-Commons-logo.svg.png 1.5x, //upload.wikimedia.org/wikipedia/en/thumb/4/4a/Commons-logo.svg/59px-Commons-logo.svg.png 2x\" width=\"30\"/></td>\n",
       "<td class=\"mbox-text plainlist\">Wikimedia Commons has media related to <i><b><a class=\"extiw\" href=\"https://commons.wikimedia.org/wiki/Special:Search/Natural_language_processing\" title=\"commons:Special:Search/Natural language processing\">Natural language processing</a></b></i>.</td></tr>\n",
       "</tbody></table>\n",
       "<div aria-labelledby=\"Natural_language_processing\" class=\"navbox\" role=\"navigation\" style=\"padding:3px\"><table class=\"nowraplinks hlist mw-collapsible mw-collapsed navbox-inner\" style=\"border-spacing:0;background:transparent;color:inherit\"><tbody><tr><th class=\"navbox-title\" colspan=\"2\" scope=\"col\"><div class=\"plainlinks hlist navbar mini\"><ul><li class=\"nv-view\"><a href=\"/wiki/Template:Natural_Language_Processing\" title=\"Template:Natural Language Processing\"><abbr style=\";;background:none transparent;border:none;-moz-box-shadow:none;-webkit-box-shadow:none;box-shadow:none; padding:0;\" title=\"View this template\">v</abbr></a></li><li class=\"nv-talk\"><a href=\"/wiki/Template_talk:Natural_Language_Processing\" title=\"Template talk:Natural Language Processing\"><abbr style=\";;background:none transparent;border:none;-moz-box-shadow:none;-webkit-box-shadow:none;box-shadow:none; padding:0;\" title=\"Discuss this template\">t</abbr></a></li><li class=\"nv-edit\"><a class=\"external text\" href=\"https://en.wikipedia.org/w/index.php?title=Template:Natural_Language_Processing&amp;action=edit\"><abbr style=\";;background:none transparent;border:none;-moz-box-shadow:none;-webkit-box-shadow:none;box-shadow:none; padding:0;\" title=\"Edit this template\">e</abbr></a></li></ul></div><div id=\"Natural_language_processing\" style=\"font-size:114%;margin:0 4em\"><a class=\"mw-selflink selflink\">Natural language processing</a></div></th></tr><tr><th class=\"navbox-group\" scope=\"row\" style=\"width:1%\">General terms</th><td class=\"navbox-list navbox-odd\" style=\"text-align:left;border-left-width:2px;border-left-style:solid;width:100%;padding:0px\"><div style=\"padding:0em 0.25em\">\n",
       "<ul><li><a class=\"mw-redirect\" href=\"/wiki/Natural_language_understanding\" title=\"Natural language understanding\">Natural language understanding</a></li>\n",
       "<li><a href=\"/wiki/Text_corpus\" title=\"Text corpus\">Text corpus</a></li>\n",
       "<li><a href=\"/wiki/Speech_corpus\" title=\"Speech corpus\">Speech corpus</a></li>\n",
       "<li><a href=\"/wiki/Stop_words\" title=\"Stop words\">Stopwords</a></li>\n",
       "<li><a href=\"/wiki/Bag-of-words_model\" title=\"Bag-of-words model\">Bag-of-words</a></li>\n",
       "<li><a href=\"/wiki/AI-complete\" title=\"AI-complete\">AI-complete</a></li>\n",
       "<li><a href=\"/wiki/N-gram\" title=\"N-gram\">n-gram</a> (<a href=\"/wiki/Bigram\" title=\"Bigram\">Bigram</a>, <a href=\"/wiki/Trigram\" title=\"Trigram\">Trigram</a>)</li></ul>\n",
       "</div></td></tr><tr><th class=\"navbox-group\" scope=\"row\" style=\"width:1%\"><a href=\"/wiki/Text_mining\" title=\"Text mining\">Text analysis</a></th><td class=\"navbox-list navbox-even\" style=\"text-align:left;border-left-width:2px;border-left-style:solid;width:100%;padding:0px\"><div style=\"padding:0em 0.25em\">\n",
       "<ul><li><a href=\"/wiki/Text_segmentation\" title=\"Text segmentation\">Text segmentation</a></li>\n",
       "<li><a href=\"/wiki/Part-of-speech_tagging\" title=\"Part-of-speech tagging\">Part-of-speech tagging</a></li>\n",
       "<li><a href=\"/wiki/Shallow_parsing\" title=\"Shallow parsing\">Text chunking</a></li>\n",
       "<li><a class=\"mw-redirect\" href=\"/wiki/Compound_term_processing\" title=\"Compound term processing\">Compound term processing</a></li>\n",
       "<li><a href=\"/wiki/Collocation_extraction\" title=\"Collocation extraction\">Collocation extraction</a></li>\n",
       "<li><a href=\"/wiki/Stemming\" title=\"Stemming\">Stemming</a></li>\n",
       "<li><a href=\"/wiki/Lemmatisation\" title=\"Lemmatisation\">Lemmatisation</a></li>\n",
       "<li><a href=\"/wiki/Named-entity_recognition\" title=\"Named-entity recognition\">Named-entity recognition</a></li>\n",
       "<li><a href=\"/wiki/Coreference#Coreference_resolution\" title=\"Coreference\">Coreference resolution</a></li>\n",
       "<li><a href=\"/wiki/Sentiment_analysis\" title=\"Sentiment analysis\">Sentiment analysis</a></li>\n",
       "<li><a href=\"/wiki/Concept_mining\" title=\"Concept mining\">Concept mining</a></li>\n",
       "<li><a href=\"/wiki/Parsing\" title=\"Parsing\">Parsing</a></li>\n",
       "<li><a href=\"/wiki/Word-sense_disambiguation\" title=\"Word-sense disambiguation\">Word-sense disambiguation</a></li>\n",
       "<li><a href=\"/wiki/Ontology_learning\" title=\"Ontology learning\">Ontology learning</a></li>\n",
       "<li><a href=\"/wiki/Terminology_extraction\" title=\"Terminology extraction\">Terminology extraction</a></li>\n",
       "<li><a href=\"/wiki/Textual_entailment\" title=\"Textual entailment\">Textual entailment</a></li>\n",
       "<li><a href=\"/wiki/Truecasing\" title=\"Truecasing\">Truecasing</a></li></ul>\n",
       "</div></td></tr><tr><th class=\"navbox-group\" scope=\"row\" style=\"width:1%\"><a href=\"/wiki/Automatic_summarization\" title=\"Automatic summarization\">Automatic summarization</a></th><td class=\"navbox-list navbox-odd\" style=\"text-align:left;border-left-width:2px;border-left-style:solid;width:100%;padding:0px\"><div style=\"padding:0em 0.25em\">\n",
       "<ul><li><a href=\"/wiki/Multi-document_summarization\" title=\"Multi-document summarization\">Multi-document summarization</a></li>\n",
       "<li><a href=\"/wiki/Sentence_extraction\" title=\"Sentence extraction\">Sentence extraction</a></li>\n",
       "<li><a href=\"/wiki/Text_simplification\" title=\"Text simplification\">Text simplification</a></li></ul>\n",
       "</div></td></tr><tr><th class=\"navbox-group\" scope=\"row\" style=\"width:1%\"><a href=\"/wiki/Machine_translation\" title=\"Machine translation\">Machine translation</a></th><td class=\"navbox-list navbox-even\" style=\"text-align:left;border-left-width:2px;border-left-style:solid;width:100%;padding:0px\"><div style=\"padding:0em 0.25em\">\n",
       "<ul><li><a href=\"/wiki/Computer-assisted_translation\" title=\"Computer-assisted translation\">Computer-assisted</a></li>\n",
       "<li><a href=\"/wiki/Example-based_machine_translation\" title=\"Example-based machine translation\">Example-based</a></li>\n",
       "<li><a href=\"/wiki/Rule-based_machine_translation\" title=\"Rule-based machine translation\">Rule-based</a></li>\n",
       "<li><a href=\"/wiki/Neural_machine_translation\" title=\"Neural machine translation\">Neural</a></li></ul>\n",
       "</div></td></tr><tr><th class=\"navbox-group\" scope=\"row\" style=\"width:1%\"><a href=\"/wiki/Automatic_identification_and_data_capture\" title=\"Automatic identification and data capture\">Automatic identification<br/>and data capture</a></th><td class=\"navbox-list navbox-odd\" style=\"text-align:left;border-left-width:2px;border-left-style:solid;width:100%;padding:0px\"><div style=\"padding:0em 0.25em\">\n",
       "<ul><li><a href=\"/wiki/Speech_recognition\" title=\"Speech recognition\">Speech recognition</a></li>\n",
       "<li><a href=\"/wiki/Speech_synthesis\" title=\"Speech synthesis\">Speech synthesis</a></li>\n",
       "<li><a href=\"/wiki/Optical_character_recognition\" title=\"Optical character recognition\">Optical character recognition</a></li>\n",
       "<li><a class=\"mw-redirect\" href=\"/wiki/Natural_language_generation\" title=\"Natural language generation\">Natural language generation</a></li></ul>\n",
       "</div></td></tr><tr><th class=\"navbox-group\" scope=\"row\" style=\"width:1%\"><a href=\"/wiki/Topic_model\" title=\"Topic model\">Topic model</a></th><td class=\"navbox-list navbox-even\" style=\"text-align:left;border-left-width:2px;border-left-style:solid;width:100%;padding:0px\"><div style=\"padding:0em 0.25em\">\n",
       "<ul><li><a href=\"/wiki/Pachinko_allocation\" title=\"Pachinko allocation\">Pachinko allocation</a></li>\n",
       "<li><a href=\"/wiki/Latent_Dirichlet_allocation\" title=\"Latent Dirichlet allocation\">Latent Dirichlet allocation</a></li>\n",
       "<li><a href=\"/wiki/Latent_semantic_analysis\" title=\"Latent semantic analysis\">Latent semantic analysis</a></li></ul>\n",
       "</div></td></tr><tr><th class=\"navbox-group\" scope=\"row\" style=\"width:1%\"><a href=\"/wiki/Computer-assisted_reviewing\" title=\"Computer-assisted reviewing\">Computer-assisted<br/>reviewing</a></th><td class=\"navbox-list navbox-odd\" style=\"text-align:left;border-left-width:2px;border-left-style:solid;width:100%;padding:0px\"><div style=\"padding:0em 0.25em\">\n",
       "<ul><li><a href=\"/wiki/Automated_essay_scoring\" title=\"Automated essay scoring\">Automated essay scoring</a></li>\n",
       "<li><a href=\"/wiki/Concordancer\" title=\"Concordancer\">Concordancer</a></li>\n",
       "<li><a href=\"/wiki/Grammar_checker\" title=\"Grammar checker\">Grammar checker</a></li>\n",
       "<li><a href=\"/wiki/Predictive_text\" title=\"Predictive text\">Predictive text</a></li>\n",
       "<li><a href=\"/wiki/Spell_checker\" title=\"Spell checker\">Spell checker</a></li>\n",
       "<li><a href=\"/wiki/Syntax_guessing\" title=\"Syntax guessing\">Syntax guessing</a></li></ul>\n",
       "</div></td></tr><tr><th class=\"navbox-group\" scope=\"row\" style=\"width:1%\"><a class=\"mw-redirect\" href=\"/wiki/Natural_language_user_interface\" title=\"Natural language user interface\">Natural language<br/>user interface</a></th><td class=\"navbox-list navbox-even\" style=\"text-align:left;border-left-width:2px;border-left-style:solid;width:100%;padding:0px\"><div style=\"padding:0em 0.25em\">\n",
       "<ul><li><a class=\"mw-redirect\" href=\"/wiki/Automated_online_assistant\" title=\"Automated online assistant\">Automated online assistant</a></li>\n",
       "<li><a href=\"/wiki/Chatbot\" title=\"Chatbot\">Chatbot</a></li>\n",
       "<li><a href=\"/wiki/Interactive_fiction\" title=\"Interactive fiction\">Interactive fiction</a></li>\n",
       "<li><a href=\"/wiki/Question_answering\" title=\"Question answering\">Question answering</a></li>\n",
       "<li><a href=\"/wiki/Voice_user_interface\" title=\"Voice user interface\">Voice user interface</a></li></ul>\n",
       "</div></td></tr></tbody></table></div>\n",
       "<div aria-labelledby=\"Authority_control_frameless_&amp;#124;text-top_&amp;#124;10px_&amp;#124;alt=Edit_this_at_Wikidata_&amp;#124;link=https&amp;#58;//www.wikidata.org/wiki/Q30642&amp;#124;Edit_this_at_Wikidata\" class=\"navbox authority-control\" role=\"navigation\" style=\"padding:3px\"><table class=\"nowraplinks hlist navbox-inner\" style=\"border-spacing:0;background:transparent;color:inherit\"><tbody><tr><th class=\"navbox-group\" id=\"Authority_control_frameless_&amp;#124;text-top_&amp;#124;10px_&amp;#124;alt=Edit_this_at_Wikidata_&amp;#124;link=https&amp;#58;//www.wikidata.org/wiki/Q30642&amp;#124;Edit_this_at_Wikidata\" scope=\"row\" style=\"width:1%\"><a href=\"/wiki/Help:Authority_control\" title=\"Help:Authority control\">Authority control</a> <a href=\"https://www.wikidata.org/wiki/Q30642\" title=\"Edit this at Wikidata\"><img alt=\"Edit this at Wikidata\" data-file-height=\"20\" data-file-width=\"20\" decoding=\"async\" height=\"10\" src=\"//upload.wikimedia.org/wikipedia/en/thumb/8/8a/OOjs_UI_icon_edit-ltr-progressive.svg/10px-OOjs_UI_icon_edit-ltr-progressive.svg.png\" srcset=\"//upload.wikimedia.org/wikipedia/en/thumb/8/8a/OOjs_UI_icon_edit-ltr-progressive.svg/15px-OOjs_UI_icon_edit-ltr-progressive.svg.png 1.5x, //upload.wikimedia.org/wikipedia/en/thumb/8/8a/OOjs_UI_icon_edit-ltr-progressive.svg/20px-OOjs_UI_icon_edit-ltr-progressive.svg.png 2x\" style=\"vertical-align: text-top\" width=\"10\"/></a></th><td class=\"navbox-list navbox-odd\" style=\"text-align:left;border-left-width:2px;border-left-style:solid;width:100%;padding:0px\"><div style=\"padding:0em 0.25em\">\n",
       "<ul><li><span class=\"nowrap\"><a href=\"/wiki/Library_of_Congress_Control_Number\" title=\"Library of Congress Control Number\">LCCN</a>: <span class=\"uid\"><a class=\"external text\" href=\"https://id.loc.gov/authorities/subjects/sh88002425\" rel=\"nofollow\">sh88002425</a></span></span></li>\n",
       "<li><span class=\"nowrap\"><a href=\"/wiki/National_Diet_Library\" title=\"National Diet Library\">NDL</a>: <span class=\"uid\"><a class=\"external text\" href=\"https://id.ndl.go.jp/auth/ndlna/00562347\" rel=\"nofollow\">00562347</a></span></span></li></ul>\n",
       "</div></td></tr></tbody></table></div>\n",
       "<div aria-label=\"Portals\" class=\"noprint metadata navbox\" role=\"navigation\" style=\"font-weight:bold;padding:0.4em 2em\"><ul style=\"margin:0.1em 0 0\"><li style=\"display:inline\"><span style=\"display:inline-block;white-space:nowrap\"><span style=\"margin:0 0.5em\"><a class=\"image\" href=\"/wiki/File:Globe_of_letters.svg\"><img alt=\"Globe of letters.svg\" data-file-height=\"512\" data-file-width=\"512\" decoding=\"async\" height=\"21\" src=\"//upload.wikimedia.org/wikipedia/commons/thumb/d/de/Globe_of_letters.svg/21px-Globe_of_letters.svg.png\" srcset=\"//upload.wikimedia.org/wikipedia/commons/thumb/d/de/Globe_of_letters.svg/32px-Globe_of_letters.svg.png 1.5x, //upload.wikimedia.org/wikipedia/commons/thumb/d/de/Globe_of_letters.svg/42px-Globe_of_letters.svg.png 2x\" width=\"21\"/></a></span><a href=\"/wiki/Portal:Language\" title=\"Portal:Language\">Language portal</a></span></li></ul></div>\n",
       "<!-- \n",
       "NewPP limit report\n",
       "Parsed by mw1333\n",
       "Cached time: 20200120022809\n",
       "Cache expiry: 2592000\n",
       "Dynamic content: false\n",
       "Complications: [vary‐revision‐sha1]\n",
       "CPU time usage: 0.508 seconds\n",
       "Real time usage: 0.727 seconds\n",
       "Preprocessor visited node count: 2540/1000000\n",
       "Preprocessor generated node count: 0/1500000\n",
       "Post‐expand include size: 44202/2097152 bytes\n",
       "Template argument size: 4909/2097152 bytes\n",
       "Highest expansion depth: 14/40\n",
       "Expensive parser function count: 8/500\n",
       "Unstrip recursion depth: 1/20\n",
       "Unstrip post‐expand size: 35109/5000000 bytes\n",
       "Number of Wikibase entities loaded: 4/400\n",
       "Lua time usage: 0.248/10.000 seconds\n",
       "Lua memory usage: 5.37 MB/50 MB\n",
       "-->\n",
       "<!--\n",
       "Transclusion expansion time report (%,ms,calls,template)\n",
       "100.00%  637.638      1 -total\n",
       " 31.49%  200.774      1 Template:Reflist\n",
       " 18.20%  116.063      1 Template:Cite_conference\n",
       " 12.99%   82.810      7 Template:ISBN\n",
       " 12.12%   77.301      1 Template:Authority_control\n",
       " 11.90%   75.886      1 Template:Clarify\n",
       " 10.90%   69.525      1 Template:Fix-span\n",
       "  7.43%   47.355      4 Template:Category_handler\n",
       "  5.44%   34.718      1 Template:Citation\n",
       "  5.15%   32.862      1 Template:Distinguish\n",
       "-->\n",
       "<!-- Saved in parser cache with key enwiki:pcache:idhash:21652-0!canonical and timestamp 20200120022808 and revision id 934178090\n",
       " -->\n",
       "</div><noscript><img alt=\"\" height=\"1\" src=\"//en.wikipedia.org/wiki/Special:CentralAutoLogin/start?type=1x1\" style=\"border: none; position: absolute;\" title=\"\" width=\"1\"/></noscript></div>\n",
       "<div class=\"printfooter\">Retrieved from \"<a dir=\"ltr\" href=\"https://en.wikipedia.org/w/index.php?title=Natural_language_processing&amp;oldid=934178090\">https://en.wikipedia.org/w/index.php?title=Natural_language_processing&amp;oldid=934178090</a>\"</div>\n",
       "<div class=\"catlinks\" data-mw=\"interface\" id=\"catlinks\"><div class=\"mw-normal-catlinks\" id=\"mw-normal-catlinks\"><a href=\"/wiki/Help:Category\" title=\"Help:Category\">Categories</a>: <ul><li><a href=\"/wiki/Category:Natural_language_processing\" title=\"Category:Natural language processing\">Natural language processing</a></li><li><a href=\"/wiki/Category:Computational_linguistics\" title=\"Category:Computational linguistics\">Computational linguistics</a></li><li><a href=\"/wiki/Category:Speech_recognition\" title=\"Category:Speech recognition\">Speech recognition</a></li><li><a href=\"/wiki/Category:Computational_fields_of_study\" title=\"Category:Computational fields of study\">Computational fields of study</a></li><li><a href=\"/wiki/Category:Artificial_intelligence\" title=\"Category:Artificial intelligence\">Artificial intelligence</a></li></ul></div><div class=\"mw-hidden-catlinks mw-hidden-cats-hidden\" id=\"mw-hidden-catlinks\">Hidden categories: <ul><li><a href=\"/wiki/Category:Webarchive_template_wayback_links\" title=\"Category:Webarchive template wayback links\">Webarchive template wayback links</a></li><li><a href=\"/wiki/Category:Wikipedia_articles_needing_clarification_from_October_2019\" title=\"Category:Wikipedia articles needing clarification from October 2019\">Wikipedia articles needing clarification from October 2019</a></li><li><a href=\"/wiki/Category:All_accuracy_disputes\" title=\"Category:All accuracy disputes\">All accuracy disputes</a></li><li><a href=\"/wiki/Category:Articles_with_disputed_statements_from_June_2018\" title=\"Category:Articles with disputed statements from June 2018\">Articles with disputed statements from June 2018</a></li><li><a href=\"/wiki/Category:Wikipedia_articles_with_LCCN_identifiers\" title=\"Category:Wikipedia articles with LCCN identifiers\">Wikipedia articles with LCCN identifiers</a></li><li><a href=\"/wiki/Category:Wikipedia_articles_with_NDL_identifiers\" title=\"Category:Wikipedia articles with NDL identifiers\">Wikipedia articles with NDL identifiers</a></li></ul></div></div>\n",
       "<div class=\"visualClear\"></div>\n",
       "</div>\n",
       "</div>\n",
       "<div id=\"mw-data-after-content\">\n",
       "<div class=\"read-more-container\"></div>\n",
       "</div>\n",
       "<div id=\"mw-navigation\">\n",
       "<h2>Navigation menu</h2>\n",
       "<div id=\"mw-head\">\n",
       "<div aria-labelledby=\"p-personal-label\" class=\"\" id=\"p-personal\" role=\"navigation\">\n",
       "<h3 id=\"p-personal-label\">Personal tools</h3>\n",
       "<ul>\n",
       "<li id=\"pt-anonuserpage\">Not logged in</li>\n",
       "<li id=\"pt-anontalk\"><a accesskey=\"n\" href=\"/wiki/Special:MyTalk\" title=\"Discussion about edits from this IP address [n]\">Talk</a></li><li id=\"pt-anoncontribs\"><a accesskey=\"y\" href=\"/wiki/Special:MyContributions\" title=\"A list of edits made from this IP address [y]\">Contributions</a></li><li id=\"pt-createaccount\"><a href=\"/w/index.php?title=Special:CreateAccount&amp;returnto=Natural+language+processing\" title=\"You are encouraged to create an account and log in; however, it is not mandatory\">Create account</a></li><li id=\"pt-login\"><a accesskey=\"o\" href=\"/w/index.php?title=Special:UserLogin&amp;returnto=Natural+language+processing\" title=\"You're encouraged to log in; however, it's not mandatory. [o]\">Log in</a></li>\n",
       "</ul>\n",
       "</div>\n",
       "<div id=\"left-navigation\">\n",
       "<div aria-labelledby=\"p-namespaces-label\" class=\"vectorTabs\" id=\"p-namespaces\" role=\"navigation\">\n",
       "<h3 id=\"p-namespaces-label\">Namespaces</h3>\n",
       "<ul>\n",
       "<li class=\"selected\" id=\"ca-nstab-main\"><a accesskey=\"c\" href=\"/wiki/Natural_language_processing\" title=\"View the content page [c]\">Article</a></li><li id=\"ca-talk\"><a accesskey=\"t\" href=\"/wiki/Talk:Natural_language_processing\" rel=\"discussion\" title=\"Discussion about the content page [t]\">Talk</a></li>\n",
       "</ul>\n",
       "</div>\n",
       "<div aria-labelledby=\"p-variants-label\" class=\"vectorMenu emptyPortlet\" id=\"p-variants\" role=\"navigation\">\n",
       "<input aria-labelledby=\"p-variants-label\" class=\"vectorMenuCheckbox\" type=\"checkbox\"/>\n",
       "<h3 id=\"p-variants-label\">\n",
       "<span>Variants</span>\n",
       "</h3>\n",
       "<ul class=\"menu\">\n",
       "</ul>\n",
       "</div>\n",
       "</div>\n",
       "<div id=\"right-navigation\">\n",
       "<div aria-labelledby=\"p-views-label\" class=\"vectorTabs\" id=\"p-views\" role=\"navigation\">\n",
       "<h3 id=\"p-views-label\">Views</h3>\n",
       "<ul>\n",
       "<li class=\"collapsible selected\" id=\"ca-view\"><a href=\"/wiki/Natural_language_processing\">Read</a></li><li class=\"collapsible\" id=\"ca-edit\"><a accesskey=\"e\" href=\"/w/index.php?title=Natural_language_processing&amp;action=edit\" title=\"Edit this page [e]\">Edit</a></li><li class=\"collapsible\" id=\"ca-history\"><a accesskey=\"h\" href=\"/w/index.php?title=Natural_language_processing&amp;action=history\" title=\"Past revisions of this page [h]\">View history</a></li>\n",
       "</ul>\n",
       "</div>\n",
       "<div aria-labelledby=\"p-cactions-label\" class=\"vectorMenu emptyPortlet\" id=\"p-cactions\" role=\"navigation\">\n",
       "<input aria-labelledby=\"p-cactions-label\" class=\"vectorMenuCheckbox\" type=\"checkbox\"/>\n",
       "<h3 id=\"p-cactions-label\"><span>More</span></h3>\n",
       "<ul class=\"menu\">\n",
       "</ul>\n",
       "</div>\n",
       "<div id=\"p-search\" role=\"search\">\n",
       "<h3>\n",
       "<label for=\"searchInput\">Search</label>\n",
       "</h3>\n",
       "<form action=\"/w/index.php\" id=\"searchform\">\n",
       "<div id=\"simpleSearch\">\n",
       "<input accesskey=\"f\" id=\"searchInput\" name=\"search\" placeholder=\"Search Wikipedia\" title=\"Search Wikipedia [f]\" type=\"search\"/>\n",
       "<input name=\"title\" type=\"hidden\" value=\"Special:Search\"/>\n",
       "<input class=\"searchButton mw-fallbackSearchButton\" id=\"mw-searchButton\" name=\"fulltext\" title=\"Search Wikipedia for this text\" type=\"submit\" value=\"Search\"/>\n",
       "<input class=\"searchButton\" id=\"searchButton\" name=\"go\" title=\"Go to a page with this exact name if it exists\" type=\"submit\" value=\"Go\"/>\n",
       "</div>\n",
       "</form>\n",
       "</div>\n",
       "</div>\n",
       "</div>\n",
       "<div id=\"mw-panel\">\n",
       "<div id=\"p-logo\" role=\"banner\"><a class=\"mw-wiki-logo\" href=\"/wiki/Main_Page\" title=\"Visit the main page\"></a></div>\n",
       "<div aria-labelledby=\"p-navigation-label\" class=\"portal\" id=\"p-navigation\" role=\"navigation\">\n",
       "<h3 id=\"p-navigation-label\">Navigation</h3>\n",
       "<div class=\"body\">\n",
       "<ul>\n",
       "<li id=\"n-mainpage-description\"><a accesskey=\"z\" href=\"/wiki/Main_Page\" title=\"Visit the main page [z]\">Main page</a></li><li id=\"n-contents\"><a href=\"/wiki/Wikipedia:Contents\" title=\"Guides to browsing Wikipedia\">Contents</a></li><li id=\"n-featuredcontent\"><a href=\"/wiki/Wikipedia:Featured_content\" title=\"Featured content – the best of Wikipedia\">Featured content</a></li><li id=\"n-currentevents\"><a href=\"/wiki/Portal:Current_events\" title=\"Find background information on current events\">Current events</a></li><li id=\"n-randompage\"><a accesskey=\"x\" href=\"/wiki/Special:Random\" title=\"Load a random article [x]\">Random article</a></li><li id=\"n-sitesupport\"><a href=\"https://donate.wikimedia.org/wiki/Special:FundraiserRedirector?utm_source=donate&amp;utm_medium=sidebar&amp;utm_campaign=C13_en.wikipedia.org&amp;uselang=en\" title=\"Support us\">Donate to Wikipedia</a></li><li id=\"n-shoplink\"><a href=\"//shop.wikimedia.org\" title=\"Visit the Wikipedia store\">Wikipedia store</a></li> </ul>\n",
       "</div>\n",
       "</div>\n",
       "<div aria-labelledby=\"p-interaction-label\" class=\"portal\" id=\"p-interaction\" role=\"navigation\">\n",
       "<h3 id=\"p-interaction-label\">Interaction</h3>\n",
       "<div class=\"body\">\n",
       "<ul>\n",
       "<li id=\"n-help\"><a href=\"/wiki/Help:Contents\" title=\"Guidance on how to use and edit Wikipedia\">Help</a></li><li id=\"n-aboutsite\"><a href=\"/wiki/Wikipedia:About\" title=\"Find out about Wikipedia\">About Wikipedia</a></li><li id=\"n-portal\"><a href=\"/wiki/Wikipedia:Community_portal\" title=\"About the project, what you can do, where to find things\">Community portal</a></li><li id=\"n-recentchanges\"><a accesskey=\"r\" href=\"/wiki/Special:RecentChanges\" title=\"A list of recent changes in the wiki [r]\">Recent changes</a></li><li id=\"n-contactpage\"><a href=\"//en.wikipedia.org/wiki/Wikipedia:Contact_us\" title=\"How to contact Wikipedia\">Contact page</a></li> </ul>\n",
       "</div>\n",
       "</div>\n",
       "<div aria-labelledby=\"p-tb-label\" class=\"portal\" id=\"p-tb\" role=\"navigation\">\n",
       "<h3 id=\"p-tb-label\">Tools</h3>\n",
       "<div class=\"body\">\n",
       "<ul>\n",
       "<li id=\"t-whatlinkshere\"><a accesskey=\"j\" href=\"/wiki/Special:WhatLinksHere/Natural_language_processing\" title=\"List of all English Wikipedia pages containing links to this page [j]\">What links here</a></li><li id=\"t-recentchangeslinked\"><a accesskey=\"k\" href=\"/wiki/Special:RecentChangesLinked/Natural_language_processing\" rel=\"nofollow\" title=\"Recent changes in pages linked from this page [k]\">Related changes</a></li><li id=\"t-upload\"><a accesskey=\"u\" href=\"/wiki/Wikipedia:File_Upload_Wizard\" title=\"Upload files [u]\">Upload file</a></li><li id=\"t-specialpages\"><a accesskey=\"q\" href=\"/wiki/Special:SpecialPages\" title=\"A list of all special pages [q]\">Special pages</a></li><li id=\"t-permalink\"><a href=\"/w/index.php?title=Natural_language_processing&amp;oldid=934178090\" title=\"Permanent link to this revision of the page\">Permanent link</a></li><li id=\"t-info\"><a href=\"/w/index.php?title=Natural_language_processing&amp;action=info\" title=\"More information about this page\">Page information</a></li><li id=\"t-wikibase\"><a accesskey=\"g\" href=\"https://www.wikidata.org/wiki/Special:EntityPage/Q30642\" title=\"Link to connected data repository item [g]\">Wikidata item</a></li><li id=\"t-cite\"><a href=\"/w/index.php?title=Special:CiteThisPage&amp;page=Natural_language_processing&amp;id=934178090\" title=\"Information on how to cite this page\">Cite this page</a></li> </ul>\n",
       "</div>\n",
       "</div>\n",
       "<div aria-labelledby=\"p-wikibase-otherprojects-label\" class=\"portal\" id=\"p-wikibase-otherprojects\" role=\"navigation\">\n",
       "<h3 id=\"p-wikibase-otherprojects-label\">In other projects</h3>\n",
       "<div class=\"body\">\n",
       "<ul>\n",
       "<li class=\"wb-otherproject-link wb-otherproject-commons\"><a href=\"https://commons.wikimedia.org/wiki/Category:Natural_language_processing\" hreflang=\"en\">Wikimedia Commons</a></li> </ul>\n",
       "</div>\n",
       "</div>\n",
       "<div aria-labelledby=\"p-coll-print_export-label\" class=\"portal\" id=\"p-coll-print_export\" role=\"navigation\">\n",
       "<h3 id=\"p-coll-print_export-label\">Print/export</h3>\n",
       "<div class=\"body\">\n",
       "<ul>\n",
       "<li id=\"coll-create_a_book\"><a href=\"/w/index.php?title=Special:Book&amp;bookcmd=book_creator&amp;referer=Natural+language+processing\">Create a book</a></li><li id=\"coll-download-as-rl\"><a href=\"/w/index.php?title=Special:ElectronPdf&amp;page=Natural+language+processing&amp;action=show-download-screen\">Download as PDF</a></li><li id=\"t-print\"><a accesskey=\"p\" href=\"/w/index.php?title=Natural_language_processing&amp;printable=yes\" title=\"Printable version of this page [p]\">Printable version</a></li> </ul>\n",
       "</div>\n",
       "</div>\n",
       "<div aria-labelledby=\"p-lang-label\" class=\"portal\" id=\"p-lang\" role=\"navigation\">\n",
       "<h3 id=\"p-lang-label\">Languages</h3>\n",
       "<div class=\"body\">\n",
       "<ul>\n",
       "<li class=\"interlanguage-link interwiki-af\"><a class=\"interlanguage-link-target\" href=\"https://af.wikipedia.org/wiki/Natuurliketaalverwerking\" hreflang=\"af\" lang=\"af\" title=\"Natuurliketaalverwerking – Afrikaans\">Afrikaans</a></li><li class=\"interlanguage-link interwiki-ar\"><a class=\"interlanguage-link-target\" href=\"https://ar.wikipedia.org/wiki/%D9%85%D8%B9%D8%A7%D9%84%D8%AC%D8%A9_%D8%A7%D9%84%D9%84%D8%BA%D8%A7%D8%AA_%D8%A7%D9%84%D8%B7%D8%A8%D9%8A%D8%B9%D9%8A%D8%A9\" hreflang=\"ar\" lang=\"ar\" title=\"معالجة اللغات الطبيعية – Arabic\">العربية</a></li><li class=\"interlanguage-link interwiki-az\"><a class=\"interlanguage-link-target\" href=\"https://az.wikipedia.org/wiki/T%C9%99bii_dilin_emal%C4%B1\" hreflang=\"az\" lang=\"az\" title=\"Təbii dilin emalı – Azerbaijani\">Azərbaycanca</a></li><li class=\"interlanguage-link interwiki-bn\"><a class=\"interlanguage-link-target\" href=\"https://bn.wikipedia.org/wiki/%E0%A6%AA%E0%A7%8D%E0%A6%B0%E0%A6%BE%E0%A6%95%E0%A7%83%E0%A6%A4%E0%A6%BF%E0%A6%95_%E0%A6%AD%E0%A6%BE%E0%A6%B7%E0%A6%BE_%E0%A6%AA%E0%A7%8D%E0%A6%B0%E0%A6%95%E0%A7%8D%E0%A6%B0%E0%A6%BF%E0%A6%AF%E0%A6%BC%E0%A6%BE%E0%A6%95%E0%A6%B0%E0%A6%A3\" hreflang=\"bn\" lang=\"bn\" title=\"প্রাকৃতিক ভাষা প্রক্রিয়াকরণ – Bangla\">বাংলা</a></li><li class=\"interlanguage-link interwiki-zh-min-nan\"><a class=\"interlanguage-link-target\" href=\"https://zh-min-nan.wikipedia.org/wiki/Ch%C5%AB-ji%C3%A2n_gi%C3%A2n-g%C3%BA_chh%C3%BA-l%C3%AD\" hreflang=\"nan\" lang=\"nan\" title=\"Chū-jiân giân-gú chhú-lí – Chinese (Min Nan)\">Bân-lâm-gú</a></li><li class=\"interlanguage-link interwiki-be\"><a class=\"interlanguage-link-target\" href=\"https://be.wikipedia.org/wiki/%D0%90%D0%BF%D1%80%D0%B0%D1%86%D0%BE%D1%9E%D0%BA%D0%B0_%D0%BD%D0%B0%D1%82%D1%83%D1%80%D0%B0%D0%BB%D1%8C%D0%BD%D0%B0%D0%B9_%D0%BC%D0%BE%D0%B2%D1%8B\" hreflang=\"be\" lang=\"be\" title=\"Апрацоўка натуральнай мовы – Belarusian\">Беларуская</a></li><li class=\"interlanguage-link interwiki-be-x-old\"><a class=\"interlanguage-link-target\" href=\"https://be-x-old.wikipedia.org/wiki/%D0%90%D0%BF%D1%80%D0%B0%D1%86%D0%BE%D1%9E%D0%BA%D0%B0_%D0%BD%D0%B0%D1%82%D1%83%D1%80%D0%B0%D0%BB%D1%8C%D0%BD%D0%B0%D0%B9_%D0%BC%D0%BE%D0%B2%D1%8B\" hreflang=\"be-tarask\" lang=\"be-tarask\" title=\"Апрацоўка натуральнай мовы – Belarusian (Taraškievica orthography)\">Беларуская (тарашкевіца)‎</a></li><li class=\"interlanguage-link interwiki-bg\"><a class=\"interlanguage-link-target\" href=\"https://bg.wikipedia.org/wiki/%D0%9E%D0%B1%D1%80%D0%B0%D0%B1%D0%BE%D1%82%D0%BA%D0%B0_%D0%BD%D0%B0_%D0%B5%D1%81%D1%82%D0%B5%D1%81%D1%82%D0%B2%D0%B5%D0%BD_%D0%B5%D0%B7%D0%B8%D0%BA\" hreflang=\"bg\" lang=\"bg\" title=\"Обработка на естествен език – Bulgarian\">Български</a></li><li class=\"interlanguage-link interwiki-ca\"><a class=\"interlanguage-link-target\" href=\"https://ca.wikipedia.org/wiki/Processament_de_llenguatge_natural\" hreflang=\"ca\" lang=\"ca\" title=\"Processament de llenguatge natural – Catalan\">Català</a></li><li class=\"interlanguage-link interwiki-cs\"><a class=\"interlanguage-link-target\" href=\"https://cs.wikipedia.org/wiki/Zpracov%C3%A1n%C3%AD_p%C5%99irozen%C3%A9ho_jazyka\" hreflang=\"cs\" lang=\"cs\" title=\"Zpracování přirozeného jazyka – Czech\">Čeština</a></li><li class=\"interlanguage-link interwiki-da\"><a class=\"interlanguage-link-target\" href=\"https://da.wikipedia.org/wiki/Sprogteknologi\" hreflang=\"da\" lang=\"da\" title=\"Sprogteknologi – Danish\">Dansk</a></li><li class=\"interlanguage-link interwiki-de\"><a class=\"interlanguage-link-target\" href=\"https://de.wikipedia.org/wiki/Verarbeitung_nat%C3%BCrlicher_Sprache\" hreflang=\"de\" lang=\"de\" title=\"Verarbeitung natürlicher Sprache – German\">Deutsch</a></li><li class=\"interlanguage-link interwiki-et\"><a class=\"interlanguage-link-target\" href=\"https://et.wikipedia.org/wiki/Loomuliku_keele_t%C3%B6%C3%B6tlus\" hreflang=\"et\" lang=\"et\" title=\"Loomuliku keele töötlus – Estonian\">Eesti</a></li><li class=\"interlanguage-link interwiki-el\"><a class=\"interlanguage-link-target\" href=\"https://el.wikipedia.org/wiki/%CE%95%CF%80%CE%B5%CE%BE%CE%B5%CF%81%CE%B3%CE%B1%CF%83%CE%AF%CE%B1_%CF%86%CF%85%CF%83%CE%B9%CE%BA%CE%AE%CF%82_%CE%B3%CE%BB%CF%8E%CF%83%CF%83%CE%B1%CF%82\" hreflang=\"el\" lang=\"el\" title=\"Επεξεργασία φυσικής γλώσσας – Greek\">Ελληνικά</a></li><li class=\"interlanguage-link interwiki-es\"><a class=\"interlanguage-link-target\" href=\"https://es.wikipedia.org/wiki/Procesamiento_de_lenguajes_naturales\" hreflang=\"es\" lang=\"es\" title=\"Procesamiento de lenguajes naturales – Spanish\">Español</a></li><li class=\"interlanguage-link interwiki-eu\"><a class=\"interlanguage-link-target\" href=\"https://eu.wikipedia.org/wiki/Hizkuntzaren_prozesamendu\" hreflang=\"eu\" lang=\"eu\" title=\"Hizkuntzaren prozesamendu – Basque\">Euskara</a></li><li class=\"interlanguage-link interwiki-fa\"><a class=\"interlanguage-link-target\" href=\"https://fa.wikipedia.org/wiki/%D9%BE%D8%B1%D8%AF%D8%A7%D8%B2%D8%B4_%D8%B2%D8%A8%D8%A7%D9%86%E2%80%8C%D9%87%D8%A7%DB%8C_%D8%B7%D8%A8%DB%8C%D8%B9%DB%8C\" hreflang=\"fa\" lang=\"fa\" title=\"پردازش زبان‌های طبیعی – Persian\">فارسی</a></li><li class=\"interlanguage-link interwiki-fr\"><a class=\"interlanguage-link-target\" href=\"https://fr.wikipedia.org/wiki/Traitement_automatique_du_langage_naturel\" hreflang=\"fr\" lang=\"fr\" title=\"Traitement automatique du langage naturel – French\">Français</a></li><li class=\"interlanguage-link interwiki-gl\"><a class=\"interlanguage-link-target\" href=\"https://gl.wikipedia.org/wiki/Procesamento_da_linguaxe_natural\" hreflang=\"gl\" lang=\"gl\" title=\"Procesamento da linguaxe natural – Galician\">Galego</a></li><li class=\"interlanguage-link interwiki-ko\"><a class=\"interlanguage-link-target\" href=\"https://ko.wikipedia.org/wiki/%EC%9E%90%EC%97%B0%EC%96%B4_%EC%B2%98%EB%A6%AC\" hreflang=\"ko\" lang=\"ko\" title=\"자연어 처리 – Korean\">한국어</a></li><li class=\"interlanguage-link interwiki-hy\"><a class=\"interlanguage-link-target\" href=\"https://hy.wikipedia.org/wiki/%D4%B2%D5%B6%D5%A1%D5%AF%D5%A1%D5%B6_%D5%AC%D5%A5%D5%A6%D5%BE%D5%AB_%D5%B4%D5%B7%D5%A1%D5%AF%D5%B8%D6%82%D5%B4\" hreflang=\"hy\" lang=\"hy\" title=\"Բնական լեզվի մշակում – Armenian\">Հայերեն</a></li><li class=\"interlanguage-link interwiki-hi\"><a class=\"interlanguage-link-target\" href=\"https://hi.wikipedia.org/wiki/%E0%A4%AA%E0%A5%8D%E0%A4%B0%E0%A4%BE%E0%A4%95%E0%A5%83%E0%A4%A4%E0%A4%BF%E0%A4%95_%E0%A4%AD%E0%A4%BE%E0%A4%B7%E0%A4%BE_%E0%A4%B8%E0%A4%82%E0%A4%B8%E0%A4%BE%E0%A4%A7%E0%A4%A8\" hreflang=\"hi\" lang=\"hi\" title=\"प्राकृतिक भाषा संसाधन – Hindi\">हिन्दी</a></li><li class=\"interlanguage-link interwiki-hr\"><a class=\"interlanguage-link-target\" href=\"https://hr.wikipedia.org/wiki/Obrada_prirodnog_jezika\" hreflang=\"hr\" lang=\"hr\" title=\"Obrada prirodnog jezika – Croatian\">Hrvatski</a></li><li class=\"interlanguage-link interwiki-id\"><a class=\"interlanguage-link-target\" href=\"https://id.wikipedia.org/wiki/Pemrosesan_bahasa_alami\" hreflang=\"id\" lang=\"id\" title=\"Pemrosesan bahasa alami – Indonesian\">Bahasa Indonesia</a></li><li class=\"interlanguage-link interwiki-is\"><a class=\"interlanguage-link-target\" href=\"https://is.wikipedia.org/wiki/M%C3%A1lgreining\" hreflang=\"is\" lang=\"is\" title=\"Málgreining – Icelandic\">Íslenska</a></li><li class=\"interlanguage-link interwiki-it\"><a class=\"interlanguage-link-target\" href=\"https://it.wikipedia.org/wiki/Elaborazione_del_linguaggio_naturale\" hreflang=\"it\" lang=\"it\" title=\"Elaborazione del linguaggio naturale – Italian\">Italiano</a></li><li class=\"interlanguage-link interwiki-he\"><a class=\"interlanguage-link-target\" href=\"https://he.wikipedia.org/wiki/%D7%A2%D7%99%D7%91%D7%95%D7%93_%D7%A9%D7%A4%D7%94_%D7%98%D7%91%D7%A2%D7%99%D7%AA\" hreflang=\"he\" lang=\"he\" title=\"עיבוד שפה טבעית – Hebrew\">עברית</a></li><li class=\"interlanguage-link interwiki-kn\"><a class=\"interlanguage-link-target\" href=\"https://kn.wikipedia.org/wiki/%E0%B2%AA%E0%B3%8D%E0%B2%B0%E0%B2%BE%E0%B2%95%E0%B3%83%E0%B2%A4%E0%B2%BF%E0%B2%95_%E0%B2%AD%E0%B2%BE%E0%B2%B7%E0%B3%86%E0%B2%AF_%E0%B2%AA%E0%B2%B0%E0%B2%BF%E0%B2%B7%E0%B3%8D%E0%B2%95%E0%B2%B0%E0%B2%A3%E0%B3%86\" hreflang=\"kn\" lang=\"kn\" title=\"ಪ್ರಾಕೃತಿಕ ಭಾಷೆಯ ಪರಿಷ್ಕರಣೆ – Kannada\">ಕನ್ನಡ</a></li><li class=\"interlanguage-link interwiki-ka\"><a class=\"interlanguage-link-target\" href=\"https://ka.wikipedia.org/wiki/%E1%83%91%E1%83%A3%E1%83%9C%E1%83%94%E1%83%91%E1%83%A0%E1%83%98%E1%83%95%E1%83%98_%E1%83%94%E1%83%9C%E1%83%98%E1%83%A1_%E1%83%93%E1%83%90%E1%83%9B%E1%83%A3%E1%83%A8%E1%83%90%E1%83%95%E1%83%94%E1%83%91%E1%83%90\" hreflang=\"ka\" lang=\"ka\" title=\"ბუნებრივი ენის დამუშავება – Georgian\">ქართული</a></li><li class=\"interlanguage-link interwiki-lt\"><a class=\"interlanguage-link-target\" href=\"https://lt.wikipedia.org/wiki/Nat%C5%ABralios_kalbos_apdorojimas\" hreflang=\"lt\" lang=\"lt\" title=\"Natūralios kalbos apdorojimas – Lithuanian\">Lietuvių</a></li><li class=\"interlanguage-link interwiki-mk\"><a class=\"interlanguage-link-target\" href=\"https://mk.wikipedia.org/wiki/%D0%9E%D0%B1%D1%80%D0%B0%D0%B1%D0%BE%D1%82%D0%BA%D0%B0_%D0%BD%D0%B0_%D0%BF%D1%80%D0%B8%D1%80%D0%BE%D0%B4%D0%BD%D0%B8_%D1%98%D0%B0%D0%B7%D0%B8%D1%86%D0%B8\" hreflang=\"mk\" lang=\"mk\" title=\"Обработка на природни јазици – Macedonian\">Македонски</a></li><li class=\"interlanguage-link interwiki-mr\"><a class=\"interlanguage-link-target\" href=\"https://mr.wikipedia.org/wiki/%E0%A4%A8%E0%A5%88%E0%A4%B8%E0%A4%B0%E0%A5%8D%E0%A4%97%E0%A4%BF%E0%A4%95_%E0%A4%AD%E0%A4%BE%E0%A4%B7%E0%A4%BE_%E0%A4%AA%E0%A5%8D%E0%A4%B0%E0%A4%95%E0%A5%8D%E0%A4%B0%E0%A4%BF%E0%A4%AF%E0%A4%BE\" hreflang=\"mr\" lang=\"mr\" title=\"नैसर्गिक भाषा प्रक्रिया – Marathi\">मराठी</a></li><li class=\"interlanguage-link interwiki-mn\"><a class=\"interlanguage-link-target\" href=\"https://mn.wikipedia.org/wiki/%D0%A5%D1%8D%D0%BB_%D1%8F%D1%80%D0%B8%D0%B0%D0%BD%D1%8B_%D1%85%D0%B8%D0%B9%D0%BC%D1%8D%D0%BB_%D0%BE%D1%8E%D1%83%D0%BD\" hreflang=\"mn\" lang=\"mn\" title=\"Хэл ярианы хиймэл оюун – Mongolian\">Монгол</a></li><li class=\"interlanguage-link interwiki-my\"><a class=\"interlanguage-link-target\" href=\"https://my.wikipedia.org/wiki/%E1%80%99%E1%80%AD%E1%80%81%E1%80%84%E1%80%BA%E1%80%98%E1%80%AC%E1%80%9E%E1%80%AC%E1%80%85%E1%80%80%E1%80%AC%E1%80%B8%E1%80%9E%E1%80%AF%E1%80%B6%E1%80%B8_%E1%80%80%E1%80%BD%E1%80%94%E1%80%BA%E1%80%95%E1%80%BB%E1%80%B0%E1%80%90%E1%80%AC%E1%80%85%E1%80%94%E1%80%85%E1%80%BA\" hreflang=\"my\" lang=\"my\" title=\"မိခင်ဘာသာစကားသုံး ကွန်ပျူတာစနစ် – Burmese\">မြန်မာဘာသာ</a></li><li class=\"interlanguage-link interwiki-ja\"><a class=\"interlanguage-link-target\" href=\"https://ja.wikipedia.org/wiki/%E8%87%AA%E7%84%B6%E8%A8%80%E8%AA%9E%E5%87%A6%E7%90%86\" hreflang=\"ja\" lang=\"ja\" title=\"自然言語処理 – Japanese\">日本語</a></li><li class=\"interlanguage-link interwiki-or\"><a class=\"interlanguage-link-target\" href=\"https://or.wikipedia.org/wiki/%E0%AC%A8%E0%AD%8D%E0%AD%9F%E0%AC%BE%E0%AC%9A%E0%AD%81%E0%AC%B0%E0%AC%BE%E0%AC%B2_%E0%AC%B2%E0%AC%BE%E0%AC%99%E0%AD%8D%E0%AC%97%E0%AD%81%E0%AC%8F%E0%AC%9C_%E0%AC%AA%E0%AD%8D%E0%AC%B0%E0%AD%8B%E0%AC%B8%E0%AD%87%E0%AC%B8%E0%AC%BF%E0%AC%82\" hreflang=\"or\" lang=\"or\" title=\"ନ୍ୟାଚୁରାଲ ଲାଙ୍ଗୁଏଜ ପ୍ରୋସେସିଂ – Odia\">ଓଡ଼ିଆ</a></li><li class=\"interlanguage-link interwiki-pms\"><a class=\"interlanguage-link-target\" href=\"https://pms.wikipedia.org/wiki/NLP\" hreflang=\"pms\" lang=\"pms\" title=\"NLP – Piedmontese\">Piemontèis</a></li><li class=\"interlanguage-link interwiki-pl\"><a class=\"interlanguage-link-target\" href=\"https://pl.wikipedia.org/wiki/Przetwarzanie_j%C4%99zyka_naturalnego\" hreflang=\"pl\" lang=\"pl\" title=\"Przetwarzanie języka naturalnego – Polish\">Polski</a></li><li class=\"interlanguage-link interwiki-pt\"><a class=\"interlanguage-link-target\" href=\"https://pt.wikipedia.org/wiki/Processamento_de_linguagem_natural\" hreflang=\"pt\" lang=\"pt\" title=\"Processamento de linguagem natural – Portuguese\">Português</a></li><li class=\"interlanguage-link interwiki-ro\"><a class=\"interlanguage-link-target\" href=\"https://ro.wikipedia.org/wiki/Prelucrarea_limbajului_natural\" hreflang=\"ro\" lang=\"ro\" title=\"Prelucrarea limbajului natural – Romanian\">Română</a></li><li class=\"interlanguage-link interwiki-ru\"><a class=\"interlanguage-link-target\" href=\"https://ru.wikipedia.org/wiki/%D0%9E%D0%B1%D1%80%D0%B0%D0%B1%D0%BE%D1%82%D0%BA%D0%B0_%D0%B5%D1%81%D1%82%D0%B5%D1%81%D1%82%D0%B2%D0%B5%D0%BD%D0%BD%D0%BE%D0%B3%D0%BE_%D1%8F%D0%B7%D1%8B%D0%BA%D0%B0\" hreflang=\"ru\" lang=\"ru\" title=\"Обработка естественного языка – Russian\">Русский</a></li><li class=\"interlanguage-link interwiki-simple\"><a class=\"interlanguage-link-target\" href=\"https://simple.wikipedia.org/wiki/Natural_language_processing\" hreflang=\"en-simple\" lang=\"en-simple\" title=\"Natural language processing – Simple English\">Simple English</a></li><li class=\"interlanguage-link interwiki-ckb\"><a class=\"interlanguage-link-target\" href=\"https://ckb.wikipedia.org/wiki/%D9%BE%DB%8E%D9%88%D8%A7%DA%98%DB%86%DA%A9%D8%B1%D8%AF%D9%86%DB%8C_%D8%B2%D9%85%D8%A7%D9%86%DB%8C_%D8%B3%D8%B1%D9%88%D8%B4%D8%AA%DB%8C\" hreflang=\"ckb\" lang=\"ckb\" title=\"پێواژۆکردنی زمانی سروشتی – Central Kurdish\">کوردی</a></li><li class=\"interlanguage-link interwiki-sr\"><a class=\"interlanguage-link-target\" href=\"https://sr.wikipedia.org/wiki/Obrada_prirodnih_jezika\" hreflang=\"sr\" lang=\"sr\" title=\"Obrada prirodnih jezika – Serbian\">Српски / srpski</a></li><li class=\"interlanguage-link interwiki-sh\"><a class=\"interlanguage-link-target\" href=\"https://sh.wikipedia.org/wiki/Obrada_prirodnih_jezika\" hreflang=\"sh\" lang=\"sh\" title=\"Obrada prirodnih jezika – Serbo-Croatian\">Srpskohrvatski / српскохрватски</a></li><li class=\"interlanguage-link interwiki-ta\"><a class=\"interlanguage-link-target\" href=\"https://ta.wikipedia.org/wiki/%E0%AE%87%E0%AE%AF%E0%AE%B1%E0%AF%8D%E0%AE%95%E0%AF%88_%E0%AE%AE%E0%AF%8A%E0%AE%B4%E0%AE%BF_%E0%AE%AE%E0%AF%81%E0%AE%B1%E0%AF%88%E0%AE%AF%E0%AE%BE%E0%AE%95%E0%AF%8D%E0%AE%95%E0%AE%AE%E0%AF%8D\" hreflang=\"ta\" lang=\"ta\" title=\"இயற்கை மொழி முறையாக்கம் – Tamil\">தமிழ்</a></li><li class=\"interlanguage-link interwiki-th\"><a class=\"interlanguage-link-target\" href=\"https://th.wikipedia.org/wiki/%E0%B8%81%E0%B8%B2%E0%B8%A3%E0%B8%9B%E0%B8%A3%E0%B8%B0%E0%B8%A1%E0%B8%A7%E0%B8%A5%E0%B8%A0%E0%B8%B2%E0%B8%A9%E0%B8%B2%E0%B8%98%E0%B8%A3%E0%B8%A3%E0%B8%A1%E0%B8%8A%E0%B8%B2%E0%B8%95%E0%B8%B4\" hreflang=\"th\" lang=\"th\" title=\"การประมวลภาษาธรรมชาติ – Thai\">ไทย</a></li><li class=\"interlanguage-link interwiki-tr\"><a class=\"interlanguage-link-target\" href=\"https://tr.wikipedia.org/wiki/Do%C4%9Fal_dil_i%C5%9Fleme\" hreflang=\"tr\" lang=\"tr\" title=\"Doğal dil işleme – Turkish\">Türkçe</a></li><li class=\"interlanguage-link interwiki-uk\"><a class=\"interlanguage-link-target\" href=\"https://uk.wikipedia.org/wiki/%D0%9E%D0%B1%D1%80%D0%BE%D0%B1%D0%BA%D0%B0_%D0%BF%D1%80%D0%B8%D1%80%D0%BE%D0%B4%D0%BD%D0%BE%D1%97_%D0%BC%D0%BE%D0%B2%D0%B8\" hreflang=\"uk\" lang=\"uk\" title=\"Обробка природної мови – Ukrainian\">Українська</a></li><li class=\"interlanguage-link interwiki-vi\"><a class=\"interlanguage-link-target\" href=\"https://vi.wikipedia.org/wiki/X%E1%BB%AD_l%C3%BD_ng%C3%B4n_ng%E1%BB%AF_t%E1%BB%B1_nhi%C3%AAn\" hreflang=\"vi\" lang=\"vi\" title=\"Xử lý ngôn ngữ tự nhiên – Vietnamese\">Tiếng Việt</a></li><li class=\"interlanguage-link interwiki-zh-yue\"><a class=\"interlanguage-link-target\" href=\"https://zh-yue.wikipedia.org/wiki/%E8%87%AA%E7%84%B6%E8%AA%9E%E8%A8%80%E8%99%95%E7%90%86\" hreflang=\"yue\" lang=\"yue\" title=\"自然語言處理 – Cantonese\">粵語</a></li><li class=\"interlanguage-link interwiki-zh\"><a class=\"interlanguage-link-target\" href=\"https://zh.wikipedia.org/wiki/%E8%87%AA%E7%84%B6%E8%AF%AD%E8%A8%80%E5%A4%84%E7%90%86\" hreflang=\"zh\" lang=\"zh\" title=\"自然语言处理 – Chinese\">中文</a></li> </ul>\n",
       "<div class=\"after-portlet after-portlet-lang\"><span class=\"wb-langlinks-edit wb-langlinks-link\"><a class=\"wbc-editpage\" href=\"https://www.wikidata.org/wiki/Special:EntityPage/Q30642#sitelinks-wikipedia\" title=\"Edit interlanguage links\">Edit links</a></span></div> </div>\n",
       "</div>\n",
       "</div>\n",
       "</div>\n",
       "<div id=\"footer\" role=\"contentinfo\">\n",
       "<ul id=\"footer-info\">\n",
       "<li id=\"footer-info-lastmod\"> This page was last edited on 5 January 2020, at 04:01<span class=\"anonymous-show\"> (UTC)</span>.</li>\n",
       "<li id=\"footer-info-copyright\">Text is available under the <a href=\"//en.wikipedia.org/wiki/Wikipedia:Text_of_Creative_Commons_Attribution-ShareAlike_3.0_Unported_License\" rel=\"license\">Creative Commons Attribution-ShareAlike License</a><a href=\"//creativecommons.org/licenses/by-sa/3.0/\" rel=\"license\" style=\"display:none;\"></a>;\n",
       "additional terms may apply.  By using this site, you agree to the <a href=\"//foundation.wikimedia.org/wiki/Terms_of_Use\">Terms of Use</a> and <a href=\"//foundation.wikimedia.org/wiki/Privacy_policy\">Privacy Policy</a>. Wikipedia® is a registered trademark of the <a href=\"//www.wikimediafoundation.org/\">Wikimedia Foundation, Inc.</a>, a non-profit organization.</li>\n",
       "</ul>\n",
       "<ul id=\"footer-places\">\n",
       "<li id=\"footer-places-privacy\"><a class=\"extiw\" href=\"https://foundation.wikimedia.org/wiki/Privacy_policy\" title=\"wmf:Privacy policy\">Privacy policy</a></li>\n",
       "<li id=\"footer-places-about\"><a href=\"/wiki/Wikipedia:About\" title=\"Wikipedia:About\">About Wikipedia</a></li>\n",
       "<li id=\"footer-places-disclaimer\"><a href=\"/wiki/Wikipedia:General_disclaimer\" title=\"Wikipedia:General disclaimer\">Disclaimers</a></li>\n",
       "<li id=\"footer-places-contact\"><a href=\"//en.wikipedia.org/wiki/Wikipedia:Contact_us\">Contact Wikipedia</a></li>\n",
       "<li id=\"footer-places-developers\"><a href=\"https://www.mediawiki.org/wiki/Special:MyLanguage/How_to_contribute\">Developers</a></li>\n",
       "<li id=\"footer-places-statslink\"><a href=\"https://stats.wikimedia.org/v2/#/en.wikipedia.org\">Statistics</a></li>\n",
       "<li id=\"footer-places-cookiestatement\"><a href=\"https://foundation.wikimedia.org/wiki/Cookie_statement\">Cookie statement</a></li>\n",
       "<li id=\"footer-places-mobileview\"><a class=\"noprint stopMobileRedirectToggle\" href=\"//en.m.wikipedia.org/w/index.php?title=Natural_language_processing&amp;mobileaction=toggle_view_mobile\">Mobile view</a></li>\n",
       "</ul>\n",
       "<ul class=\"noprint\" id=\"footer-icons\">\n",
       "<li id=\"footer-copyrightico\">\n",
       "<a href=\"https://wikimediafoundation.org/\"><img alt=\"Wikimedia Foundation\" height=\"31\" src=\"/static/images/wikimedia-button.png\" srcset=\"/static/images/wikimedia-button-1.5x.png 1.5x, /static/images/wikimedia-button-2x.png 2x\" width=\"88\"/></a> </li>\n",
       "<li id=\"footer-poweredbyico\">\n",
       "<a href=\"https://www.mediawiki.org/\"><img alt=\"Powered by MediaWiki\" height=\"31\" src=\"/static/images/poweredby_mediawiki_88x31.png\" srcset=\"/static/images/poweredby_mediawiki_132x47.png 1.5x, /static/images/poweredby_mediawiki_176x62.png 2x\" width=\"88\"/></a> </li>\n",
       "</ul>\n",
       "<div style=\"clear: both;\"></div>\n",
       "</div>\n",
       "<script>(RLQ=window.RLQ||[]).push(function(){mw.config.set({\"wgPageParseReport\":{\"limitreport\":{\"cputime\":\"0.508\",\"walltime\":\"0.727\",\"ppvisitednodes\":{\"value\":2540,\"limit\":1000000},\"ppgeneratednodes\":{\"value\":0,\"limit\":1500000},\"postexpandincludesize\":{\"value\":44202,\"limit\":2097152},\"templateargumentsize\":{\"value\":4909,\"limit\":2097152},\"expansiondepth\":{\"value\":14,\"limit\":40},\"expensivefunctioncount\":{\"value\":8,\"limit\":500},\"unstrip-depth\":{\"value\":1,\"limit\":20},\"unstrip-size\":{\"value\":35109,\"limit\":5000000},\"entityaccesscount\":{\"value\":4,\"limit\":400},\"timingprofile\":[\"100.00%  637.638      1 -total\",\" 31.49%  200.774      1 Template:Reflist\",\" 18.20%  116.063      1 Template:Cite_conference\",\" 12.99%   82.810      7 Template:ISBN\",\" 12.12%   77.301      1 Template:Authority_control\",\" 11.90%   75.886      1 Template:Clarify\",\" 10.90%   69.525      1 Template:Fix-span\",\"  7.43%   47.355      4 Template:Category_handler\",\"  5.44%   34.718      1 Template:Citation\",\"  5.15%   32.862      1 Template:Distinguish\"]},\"scribunto\":{\"limitreport-timeusage\":{\"value\":\"0.248\",\"limit\":\"10.000\"},\"limitreport-memusage\":{\"value\":5633794,\"limit\":52428800}},\"cachereport\":{\"origin\":\"mw1333\",\"timestamp\":\"20200120022809\",\"ttl\":2592000,\"transientcontent\":false}}});});</script>\n",
       "<script type=\"application/ld+json\">{\"@context\":\"https:\\/\\/schema.org\",\"@type\":\"Article\",\"name\":\"Natural language processing\",\"url\":\"https:\\/\\/en.wikipedia.org\\/wiki\\/Natural_language_processing\",\"sameAs\":\"http:\\/\\/www.wikidata.org\\/entity\\/Q30642\",\"mainEntity\":\"http:\\/\\/www.wikidata.org\\/entity\\/Q30642\",\"author\":{\"@type\":\"Organization\",\"name\":\"Contributors to Wikimedia projects\"},\"publisher\":{\"@type\":\"Organization\",\"name\":\"Wikimedia Foundation, Inc.\",\"logo\":{\"@type\":\"ImageObject\",\"url\":\"https:\\/\\/www.wikimedia.org\\/static\\/images\\/wmf-hor-googpub.png\"}},\"datePublished\":\"2001-09-22T05:47:41Z\",\"dateModified\":\"2020-01-05T04:01:05Z\",\"image\":\"https:\\/\\/upload.wikimedia.org\\/wikipedia\\/commons\\/8\\/8b\\/Automated_online_assistant.png\",\"headline\":\"field of computer science and linguistics\"}</script>\n",
       "<script>(RLQ=window.RLQ||[]).push(function(){mw.config.set({\"wgBackendResponseTime\":122,\"wgHostname\":\"mw1246\"});});</script>\n",
       "</body>\n",
       "</html>"
      ]
     },
     "execution_count": 118,
     "metadata": {},
     "output_type": "execute_result"
    }
   ],
   "source": [
    "# Parsing data\n",
    "soup = BeautifulSoup(html_doc, 'html.parser')\n",
    "\n",
    "# Formating the parsed html file\n",
    "strhtm = soup.prettify()\n",
    "\n",
    "# Print few lines\n",
    "print (strhtm[:1000])"
   ]
  },
  {
   "cell_type": "markdown",
   "metadata": {},
   "source": [
    "### Step 5-4 Extracting tag value"
   ]
  },
  {
   "cell_type": "code",
   "execution_count": 31,
   "metadata": {},
   "outputs": [
    {
     "name": "stdout",
     "output_type": "stream",
     "text": [
      "<title>Natural language processing - Wikipedia</title>\n",
      "Natural language processing - Wikipedia\n",
      "None\n",
      "Natural language processing\n"
     ]
    }
   ],
   "source": [
    "# We can extract a tag value from the first instance of the tag\n",
    "\n",
    "print(soup.title)\n",
    "\n",
    "print(soup.title.string)\n",
    "\n",
    "print(soup.a.string)\n",
    "\n",
    "print(soup.b.string)"
   ]
  },
  {
   "cell_type": "markdown",
   "metadata": {},
   "source": [
    "### Step 5-5 Extracting all instances of a particular tag"
   ]
  },
  {
   "cell_type": "code",
   "execution_count": 32,
   "metadata": {
    "scrolled": true
   },
   "outputs": [
    {
     "name": "stdout",
     "output_type": "stream",
     "text": [
      "None\n",
      "Jump to navigation\n",
      "Jump to search\n",
      "Nonlinear programming\n",
      "None\n",
      "None\n",
      "automated online assistant\n",
      "customer service\n",
      "[1]\n",
      "linguistics\n",
      "computer science\n",
      "information engineering\n",
      "artificial intelligence\n",
      "natural language\n",
      "speech recognition\n",
      "natural language understanding\n",
      "natural language generation\n",
      "None\n",
      "None\n",
      "None\n",
      "None\n",
      "None\n",
      "None\n",
      "None\n",
      "None\n",
      "None\n",
      "None\n",
      "None\n",
      "edit\n",
      "history of natural language processing\n",
      "Alan Turing\n",
      "Computing Machinery and Intelligence\n",
      "Turing test\n",
      "clarification needed\n",
      "Georgetown experiment\n",
      "automatic translation\n",
      "[2]\n",
      "ALPAC report\n",
      "statistical machine translation\n",
      "SHRDLU\n",
      "blocks worlds\n",
      "ELIZA\n",
      "Rogerian psychotherapist\n",
      "Joseph Weizenbaum\n",
      "ontologies\n",
      "chatterbots\n",
      "PARRY\n",
      "Racter\n",
      "Jabberwacky\n",
      "machine learning\n",
      "Moore's law\n",
      "Chomskyan\n",
      "transformational grammar\n",
      "corpus linguistics\n",
      "[3]\n",
      "decision trees\n",
      "part-of-speech tagging\n",
      "hidden Markov models\n",
      "statistical models\n",
      "probabilistic\n",
      "real-valued\n",
      "cache language models\n",
      "speech recognition\n",
      "machine translation\n",
      "textual corpora\n",
      "Parliament of Canada\n",
      "European Union\n",
      "unsupervised\n",
      "semi-supervised learning\n",
      "supervised learning\n",
      "World Wide Web\n",
      "time complexity\n",
      "representation learning\n",
      "deep neural network\n",
      "[4]\n",
      "[5]\n",
      "[6]\n",
      "[7]\n",
      "[8]\n",
      "word embeddings\n",
      "neural machine translation\n",
      "statistical machine translation\n",
      "edit\n",
      "[9]\n",
      "[10]\n",
      "stemming\n",
      "[11]\n",
      "[12]\n",
      "machine learning\n",
      "statistical inference\n",
      "corpora\n",
      "decision trees\n",
      "statistical models\n",
      "probabilistic\n",
      "real-valued\n",
      "edit\n",
      "edit\n",
      "Grammar induction\n",
      "[13]\n",
      "formal grammar\n",
      "Lemmatization\n",
      "Morphological segmentation\n",
      "morphemes\n",
      "morphology\n",
      "English\n",
      "inflectional morphology\n",
      "Turkish\n",
      "Meitei\n",
      "[14]\n",
      "agglutinated\n",
      "Part-of-speech tagging\n",
      "part of speech\n",
      "parts of speech\n",
      "noun\n",
      "verb\n",
      "noun\n",
      "verb\n",
      "adjective\n",
      "dubious\n",
      "discuss\n",
      "inflectional morphology\n",
      "English\n",
      "Chinese\n",
      "tonal language\n",
      "Parsing\n",
      "parse tree\n",
      "grammar\n",
      "natural languages\n",
      "ambiguous\n",
      "Probabilistic Context-Free Grammar\n",
      "Stochastic grammar\n",
      "Sentence breaking\n",
      "sentence boundary disambiguation\n",
      "periods\n",
      "punctuation marks\n",
      "abbreviations\n",
      "Stemming\n",
      "Word segmentation\n",
      "English\n",
      "Chinese\n",
      "Japanese\n",
      "Thai\n",
      "vocabulary\n",
      "morphology\n",
      "Terminology extraction\n",
      "edit\n",
      "Lexical semantics\n",
      "Distributional semantics\n",
      "Machine translation\n",
      "AI-complete\n",
      "Named entity recognition\n",
      "capitalization\n",
      "Chinese\n",
      "Arabic\n",
      "German\n",
      "nouns\n",
      "French\n",
      "Spanish\n",
      "adjectives\n",
      "Natural language generation\n",
      "Natural language understanding\n",
      "first-order logic\n",
      "computer\n",
      "closed-world assumption\n",
      "open-world assumption\n",
      "[15]\n",
      "Optical character recognition\n",
      "Question answering\n",
      "[16]\n",
      "Recognizing Textual entailment\n",
      "[17]\n",
      "Relationship extraction\n",
      "Sentiment analysis\n",
      "multimodal sentiment analysis\n",
      "Topic segmentation\n",
      "Word sense disambiguation\n",
      "meaning\n",
      "WordNet\n",
      "edit\n",
      "Automatic summarization\n",
      "Coreference resolution\n",
      "Anaphora resolution\n",
      "pronouns\n",
      "referring expressions\n",
      "Discourse analysis\n",
      "discourse\n",
      "speech acts\n",
      "edit\n",
      "Speech recognition\n",
      "text to speech\n",
      "AI-complete\n",
      "natural speech\n",
      "speech segmentation\n",
      "coarticulation\n",
      "analog signal\n",
      "Speech segmentation\n",
      "speech recognition\n",
      "Text-to-speech\n",
      "[18]\n",
      "Dialogue\n",
      "edit\n",
      "1 the Road\n",
      "edit\n",
      "1 the Road\n",
      "Automated essay scoring\n",
      "Biomedical text mining\n",
      "Compound term processing\n",
      "Computational linguistics\n",
      "Computer-assisted reviewing\n",
      "Controlled natural language\n",
      "Deep learning\n",
      "Deep linguistic processing\n",
      "Distributional semantics\n",
      "Foreign language reading aid\n",
      "Foreign language writing aid\n",
      "Information extraction\n",
      "Information retrieval\n",
      "Language and Communication Technologies\n",
      "Language technology\n",
      "Latent semantic indexing\n",
      "Native-language identification\n",
      "Natural language programming\n",
      "Natural language search\n",
      "Query expansion\n",
      "Reification (linguistics)\n",
      "Speech processing\n",
      "Spoken dialogue system\n",
      "Text-proofing\n",
      "Text simplification\n",
      "Transformer (machine learning model)\n",
      "Truecasing\n",
      "Question answering\n",
      "Word2vec\n",
      "edit\n",
      "^\n",
      "doi\n",
      "10.1145/1643823.1643908\n",
      "^\n",
      "\"The history of machine translation in a nutshell\"\n",
      "self-published source\n",
      "^\n",
      "corner cases\n",
      "pathological\n",
      "thought experiments\n",
      "corpus linguistics\n",
      "corpora\n",
      "poverty of the stimulus\n",
      "^\n",
      "A Primer on Neural Network Models for Natural Language Processing\n",
      "^\n",
      "Deep Learning\n",
      "^\n",
      "https://arxiv.org/abs/1602.02410\n",
      "^\n",
      "https://aclanthology.coli.uni-saarland.de/papers/D16-1257/d16-1257\n",
      "^\n",
      "https://papers.nips.cc/paper/5635-grammar-as-a-foreign-language.pdf\n",
      "^\n",
      "http://hci.stanford.edu/winograd/shrdlu/\n",
      "^\n",
      "^\n",
      "Mark Johnson. How the statistical revolution changes (computational) linguistics.\n",
      "^\n",
      "Philip Resnik. Four revolutions.\n",
      "^\n",
      "Natural language grammar induction using a constituent-context model\n",
      "^\n",
      "Manipuri Morpheme Identification\n",
      "^\n",
      "Formalizing Semantic of Natural Language through Conceptualization from Existence\n",
      "Archived\n",
      "Wayback Machine\n",
      "^\n",
      "Versatile question answering systems: seeing in synthesis\n",
      "^\n",
      "https://tac.nist.gov//2011/RTE/\n",
      "^\n",
      "CiteSeerX\n",
      "10.1.1.668.869\n",
      "doi\n",
      "10.1007/978-3-642-29364-1_2\n",
      "ISBN\n",
      "9783642293634\n",
      "edit\n",
      "\"Models of natural language understanding\"\n",
      "doi\n",
      "10.1073/pnas.92.22.9977\n",
      "PMC\n",
      "40721\n",
      "PMID\n",
      "7479812\n",
      "ISBN\n",
      "978-0-596-51649-9\n",
      "ISBN\n",
      "978-0-13-187321-6\n",
      "ISBN\n",
      "978-1848218482\n",
      "ISBN\n",
      "978-1848219212\n",
      "ISBN\n",
      "978-0-521-86571-5\n",
      "Official html and pdf versions available without charge.\n",
      "ISBN\n",
      "978-0-262-13360-9\n",
      "ISBN\n",
      "978-0-387-19557-5\n",
      "Natural language processing\n",
      "v\n",
      "t\n",
      "e\n",
      "Natural language processing\n",
      "Natural language understanding\n",
      "Text corpus\n",
      "Speech corpus\n",
      "Stopwords\n",
      "Bag-of-words\n",
      "AI-complete\n",
      "n-gram\n",
      "Bigram\n",
      "Trigram\n",
      "Text analysis\n",
      "Text segmentation\n",
      "Part-of-speech tagging\n",
      "Text chunking\n",
      "Compound term processing\n",
      "Collocation extraction\n",
      "Stemming\n",
      "Lemmatisation\n",
      "Named-entity recognition\n",
      "Coreference resolution\n",
      "Sentiment analysis\n",
      "Concept mining\n",
      "Parsing\n",
      "Word-sense disambiguation\n",
      "Ontology learning\n",
      "Terminology extraction\n",
      "Textual entailment\n",
      "Truecasing\n",
      "Automatic summarization\n",
      "Multi-document summarization\n",
      "Sentence extraction\n",
      "Text simplification\n",
      "Machine translation\n",
      "Computer-assisted\n",
      "Example-based\n",
      "Rule-based\n",
      "Neural\n",
      "None\n",
      "Speech recognition\n",
      "Speech synthesis\n",
      "Optical character recognition\n",
      "Natural language generation\n",
      "Topic model\n",
      "Pachinko allocation\n",
      "Latent Dirichlet allocation\n",
      "Latent semantic analysis\n",
      "None\n",
      "Automated essay scoring\n",
      "Concordancer\n",
      "Grammar checker\n",
      "Predictive text\n",
      "Spell checker\n",
      "Syntax guessing\n",
      "None\n",
      "Automated online assistant\n",
      "Chatbot\n",
      "Interactive fiction\n",
      "Question answering\n",
      "Voice user interface\n",
      "Authority control\n",
      "None\n",
      "LCCN\n",
      "sh88002425\n",
      "NDL\n",
      "00562347\n",
      "None\n",
      "Language portal\n",
      "https://en.wikipedia.org/w/index.php?title=Natural_language_processing&oldid=934178090\n",
      "Categories\n",
      "Natural language processing\n",
      "Computational linguistics\n",
      "Speech recognition\n",
      "Computational fields of study\n",
      "Artificial intelligence\n",
      "Webarchive template wayback links\n",
      "Wikipedia articles needing clarification from October 2019\n",
      "All accuracy disputes\n",
      "Articles with disputed statements from June 2018\n",
      "Wikipedia articles with LCCN identifiers\n",
      "Wikipedia articles with NDL identifiers\n",
      "Talk\n",
      "Contributions\n",
      "Create account\n",
      "Log in\n",
      "Article\n",
      "Talk\n",
      "Read\n",
      "Edit\n",
      "View history\n",
      "None\n",
      "Main page\n",
      "Contents\n",
      "Featured content\n",
      "Current events\n",
      "Random article\n",
      "Donate to Wikipedia\n",
      "Wikipedia store\n",
      "Help\n",
      "About Wikipedia\n",
      "Community portal\n",
      "Recent changes\n",
      "Contact page\n",
      "What links here\n",
      "Related changes\n",
      "Upload file\n",
      "Special pages\n",
      "Permanent link\n",
      "Page information\n",
      "Wikidata item\n",
      "Cite this page\n",
      "Wikimedia Commons\n",
      "Create a book\n",
      "Download as PDF\n",
      "Printable version\n",
      "Afrikaans\n",
      "العربية\n",
      "Azərbaycanca\n",
      "বাংলা\n",
      "Bân-lâm-gú\n",
      "Беларуская\n",
      "Беларуская (тарашкевіца)‎\n",
      "Български\n",
      "Català\n",
      "Čeština\n",
      "Dansk\n",
      "Deutsch\n",
      "Eesti\n",
      "Ελληνικά\n",
      "Español\n",
      "Euskara\n",
      "فارسی\n",
      "Français\n",
      "Galego\n",
      "한국어\n",
      "Հայերեն\n",
      "हिन्दी\n",
      "Hrvatski\n",
      "Bahasa Indonesia\n",
      "Íslenska\n",
      "Italiano\n",
      "עברית\n",
      "ಕನ್ನಡ\n",
      "ქართული\n",
      "Lietuvių\n",
      "Македонски\n",
      "मराठी\n",
      "Монгол\n",
      "မြန်မာဘာသာ\n",
      "日本語\n",
      "ଓଡ଼ିଆ\n",
      "Piemontèis\n",
      "Polski\n",
      "Português\n",
      "Română\n",
      "Русский\n",
      "Simple English\n",
      "کوردی\n",
      "Српски / srpski\n",
      "Srpskohrvatski / српскохрватски\n",
      "தமிழ்\n",
      "ไทย\n",
      "Türkçe\n",
      "Українська\n",
      "Tiếng Việt\n",
      "粵語\n",
      "中文\n",
      "Edit links\n",
      "Creative Commons Attribution-ShareAlike License\n",
      "None\n",
      "Terms of Use\n",
      "Privacy Policy\n",
      "Wikimedia Foundation, Inc.\n",
      "Privacy policy\n",
      "About Wikipedia\n",
      "Disclaimers\n",
      "Contact Wikipedia\n",
      "Developers\n",
      "Statistics\n",
      "Cookie statement\n",
      "Mobile view\n",
      "None\n",
      "None\n"
     ]
    }
   ],
   "source": [
    "# Here we get all the instances of a tag that we are interested in:\n",
    "for x in soup.find_all('a'): \n",
    "    print(x.string)"
   ]
  },
  {
   "cell_type": "markdown",
   "metadata": {},
   "source": [
    "### Step 5-6 Extracting all text of a particular tag"
   ]
  },
  {
   "cell_type": "code",
   "execution_count": 33,
   "metadata": {
    "scrolled": true
   },
   "outputs": [
    {
     "name": "stdout",
     "output_type": "stream",
     "text": [
      "Natural language processing (NLP) is a subfield of linguistics, computer science, information engineering, and artificial intelligence concerned with the interactions between computers and human (natural) languages, in particular how to program computers to process and analyze large amounts of natural language data.\n",
      "\n",
      "Challenges in natural language processing frequently involve speech recognition, natural language understanding, and natural language generation.\n",
      "\n",
      "The history of natural language processing (NLP) generally started in the 1950s, although work can be found from earlier periods.\n",
      "In 1950, Alan Turing published an article titled \"Computing Machinery and Intelligence\" which proposed what is now called the Turing test as a criterion of intelligence[clarification needed].\n",
      "\n",
      "The Georgetown experiment in 1954 involved fully automatic translation of more than sixty Russian sentences into English. The authors claimed that within three or five years, machine translation would be a solved problem.[2]  However, real progress was much slower, and after the ALPAC report in 1966, which found that ten-year-long research had failed to fulfill the expectations, funding for machine translation was dramatically reduced.  Little further research in machine translation was conducted until the late 1980s when the first statistical machine translation systems were developed.\n",
      "\n",
      "Some notably successful natural language processing systems developed in the 1960s were SHRDLU, a natural language system working in restricted \"blocks worlds\" with restricted vocabularies, and ELIZA, a simulation of a Rogerian psychotherapist, written by Joseph Weizenbaum between 1964 and 1966.  Using almost no information about human thought or emotion, ELIZA sometimes provided a startlingly human-like interaction. When the \"patient\" exceeded the very small knowledge base, ELIZA might provide a generic response, for example, responding to \"My head hurts\" with \"Why do you say your head hurts?\".\n",
      "\n",
      "During the 1970s, many programmers began to write \"conceptual ontologies\", which structured real-world information into computer-understandable data.  Examples are MARGIE (Schank, 1975), SAM (Cullingford, 1978), PAM (Wilensky, 1978), TaleSpin (Meehan, 1976), QUALM (Lehnert, 1977), Politics (Carbonell, 1979), and Plot Units (Lehnert 1981).  During this time, many chatterbots were written including PARRY, Racter, and Jabberwacky.\n",
      "\n",
      "Up to the 1980s, most natural language processing systems were based on complex sets of hand-written rules.  Starting in the late 1980s, however, there was a revolution in natural language processing with the introduction of machine learning algorithms for language processing.  This was due to both the steady increase in computational power (see Moore's law) and the gradual lessening of the dominance of Chomskyan theories of linguistics (e.g. transformational grammar), whose theoretical underpinnings discouraged the sort of corpus linguistics that underlies the machine-learning approach to language processing.[3] Some of the earliest-used machine learning algorithms, such as decision trees, produced systems of hard if-then rules similar to existing hand-written rules.  However, part-of-speech tagging introduced the use of hidden Markov models to natural language processing, and increasingly, research has focused on statistical models, which make soft, probabilistic decisions based on attaching real-valued weights to the features making up the input data. The cache language models upon which many speech recognition systems now rely are examples of such statistical models.  Such models are generally more robust when given unfamiliar input, especially input that contains errors (as is very common for real-world data), and produce more reliable results when integrated into a larger system comprising multiple subtasks.\n",
      "\n",
      "Many of the notable early successes occurred in the field of machine translation, due especially to work at IBM Research, where successively more complicated statistical models were developed.  These systems were able to take advantage of existing multilingual textual corpora that had been produced by the Parliament of Canada and the European Union as a result of laws calling for the translation of all governmental proceedings into all official languages of the corresponding systems of government.  However, most other systems depended on corpora specifically developed for the tasks implemented by these systems, which was (and often continues to be) a major limitation in the success of these systems. As a result, a great deal of research has gone into methods of more effectively learning from limited amounts of data.\n",
      "\n",
      "Recent research has increasingly focused on unsupervised and semi-supervised learning algorithms.  Such algorithms can learn from data that has not been hand-annotated with the desired answers or using a combination of annotated and non-annotated data.  Generally, this task is much more difficult than supervised learning, and typically produces less accurate results for a given amount of input data.  However, there is an enormous amount of non-annotated data available (including, among other things, the entire content of the World Wide Web), which can often make up for the inferior results if the algorithm used has a low enough time complexity to be practical.\n",
      "\n",
      "In the 2010s, representation learning and deep neural network-style machine learning methods became widespread in natural language processing, due in part to a flurry of results showing that such techniques[4][5] can achieve state-of-the-art results in many natural language tasks, for example in language modeling,[6]\n",
      "parsing,[7][8] and many others. Popular techniques include the use of word embeddings to capture semantic properties of words, and an increase in end-to-end learning of a higher-level task (e.g., question answering) instead of relying on a pipeline of separate intermediate tasks (e.g., part-of-speech tagging and dependency parsing). In some areas, this shift has entailed substantial changes in how NLP systems are designed, such that deep neural network-based approaches may be viewed as a new paradigm distinct from statistical natural language processing. For instance, the term neural machine translation (NMT) emphasizes the fact that deep learning-based approaches to machine translation directly learn sequence-to-sequence transformations, obviating the need for intermediate steps such as word alignment and language modeling that was used in statistical machine translation (SMT).\n",
      "\n",
      "In the early days, many language-processing systems were designed by hand-coding a set of rules:[9][10] such as by writing grammars or devising heuristic rules for stemming. \n",
      "\n",
      "Since the so-called \"statistical revolution\"[11][12] in the late 1980s and mid-1990s, much natural language processing research has relied heavily on machine learning. The machine-learning paradigm calls instead for using statistical inference to automatically learn such rules through the analysis of large corpora (the plural form of corpus, is a set of documents, possibly with human or computer annotations) of typical real-world examples.\n",
      "\n",
      "Many different classes of machine-learning algorithms have been applied to natural-language-processing tasks. These algorithms take as input a large set of \"features\" that are generated from the input data. Some of the earliest-used algorithms, such as decision trees, produced systems of hard if-then rules similar to the systems of handwritten rules that were then common. Increasingly, however, research has focused on statistical models, which make soft, probabilistic decisions based on attaching real-valued weights to each input feature. Such models have the advantage that they can express the relative certainty of many different possible answers rather than only one, producing more reliable results when such a model is included as a component of a larger system.\n",
      "\n",
      "Systems based on machine-learning algorithms have many advantages over hand-produced rules:\n",
      "\n",
      "The following is a list of some of the most commonly researched tasks in natural language processing. Some of these tasks have direct real-world applications, while others more commonly serve as subtasks that are used to aid in solving larger tasks.\n",
      "\n",
      "Though natural language processing tasks are closely intertwined, they are frequently subdivided into categories for convenience. A coarse division is given below.\n",
      "\n",
      "The first published work by an artificial intelligence was published in 2018, 1 the Road, marketed as a novel, contains sixty million words.\n",
      "\n"
     ]
    }
   ],
   "source": [
    "for x in soup.find_all('p'): \n",
    "    print(x.text)"
   ]
  },
  {
   "cell_type": "markdown",
   "metadata": {},
   "source": [
    "## Recipe 1-6. Parsing Text Using Regular Expressions\n",
    "https://www.w3schools.com/python/python_regex.asp"
   ]
  },
  {
   "cell_type": "markdown",
   "metadata": {},
   "source": [
    "**Regular expressions’ functionality:**\n"
   ]
  },
  {
   "cell_type": "raw",
   "metadata": {},
   "source": [
    "• Find the single occurrence of character a and b:\n",
    "Regex: [ab]\n",
    "\n",
    "• Find characters except for a and b:\n",
    "Regex: [^ab]\n",
    "\n",
    "Find the character range of a to z:\n",
    "Regex: [a-z]\n",
    "\n",
    "• Find a range except a to z:\n",
    "Regex: [^a-z]\n",
    "\n",
    "• Find all the characters a to z as well as A to Z:\n",
    "Regex: [a-zA-Z]\n",
    "\n",
    "• Any single character:\n",
    "Regex: .\n",
    "\n",
    "• Any whitespace character:\n",
    "Regex: \\s\n",
    "\n",
    "• Any non-whitespace character:\n",
    "Regex: \\S\n",
    "\n",
    "• Any digit:\n",
    "Regex: \\d\n",
    "\n",
    "• Any non-digit:\n",
    "Regex: \\D\n",
    "\n",
    "• Any non-words:\n",
    "Regex: \\W\n",
    "\n",
    "• Any words:\n",
    "Regex: \\w\n",
    "\n",
    "• Either match a or b:\n",
    "Regex: (a|b)\n",
    "\n",
    "• The occurrence of a is either zero or one:\n",
    "• Matches zero or one occurrence but not more than one occurrence\n",
    "Regex: a? ; ?\n",
    "\n",
    "• The occurrence of a is zero times or more than that:\n",
    "Regex: a* ; * matches zero or more than that\n",
    "\n",
    "• The occurrence of a is one time or more than that:\n",
    "Regex: a+ ; + matches occurrences one or more than that\n",
    "\n",
    "• Exactly match three occurrences of a:\n",
    "Regex: a{3}\n",
    "\n",
    "• Match simultaneous occurrences of a with 3 or more than 3:\n",
    "Regex: a{3,}\n",
    "\n",
    "• Match simultaneous occurrences of a between 3 to 6:\n",
    "Regex: a{3,6}\n",
    "\n",
    "• Starting of the string:\n",
    "Regex: ^\n",
    "\n",
    "• Ending of the string:\n",
    "Regex: $\n",
    "\n",
    "• Match word boundary:\n",
    "Regex: \\b\n",
    "\n",
    "• Non-word boundary:\n",
    "Regex: \\B\n",
    "\n",
    "• re.match(): This checks for a match of the string only at the beginning of the string. So, if it finds the pattern at the beginning of the input string, then it returns the matched pattern; otherwise; it returns a None.\n",
    "\n",
    "• re.search(): This checks for a match of the string anywhere in the string. It finds all the occurrences of\n",
    "the pattern in the given input string or data."
   ]
  },
  {
   "cell_type": "code",
   "execution_count": 122,
   "metadata": {},
   "outputs": [
    {
     "name": "stdout",
     "output_type": "stream",
     "text": [
      "['i', 'o', 's', 'm']\n",
      "<re.Match object; span=(0, 3), match='ali'>\n",
      "None\n",
      "<re.Match object; span=(0, 3), match='ali'>\n",
      "ali\n",
      "ali\n"
     ]
    }
   ],
   "source": [
    "import re\n",
    "\n",
    "print(re.findall(r'[^al]', 'aliosama' ))\n",
    "\n",
    "print(re.match('ali', 'aliosama'))\n",
    "print(re.match('ali', 'osamaali'))\n",
    "\n",
    "print(re.search('ali', 'aliosama'))\n",
    "print(re.search('ali', 'aliosama ali osama ali').group())\n",
    "print(re.search('ali', 'osamaali').group())"
   ]
  },
  {
   "cell_type": "code",
   "execution_count": 173,
   "metadata": {},
   "outputs": [
    {
     "name": "stdout",
     "output_type": "stream",
     "text": [
      "['.legacy.']\n"
     ]
    },
    {
     "data": {
      "text/plain": [
       "['a', 'aa', 'a', 'a']"
      ]
     },
     "execution_count": 173,
     "metadata": {},
     "output_type": "execute_result"
    }
   ],
   "source": [
    "text  = \"mediawikiaa a .legacy. commonP rint\" \n",
    "print(re.findall(r\"\\.\\w+\\.\",text))\n",
    "compiler = re.compile(r\"\\.(\\w+)\\.\")\n",
    "compiler = re.compile(r\"P\\s.*\")\n",
    "compiler = re.compile(r\"a{1,4}\")\n",
    "\n",
    "\n",
    "compiler.findall(text)"
   ]
  },
  {
   "cell_type": "markdown",
   "metadata": {},
   "source": [
    "## Web Scraping Task using (Selenium) :D :D \n",
    "- scrape the content using ***Selenium web driver***\n",
    "- store the content in a ***MongoDB Collection***\n",
    "- make a csv file from the ***MongoDB Collection***\n",
    "- load the csv file into a Pandas Dataframe \n",
    "- **Make your hand dirty! :D**\n",
    "\n",
    "Resources: \n",
    "- https://selenium-python.readthedocs.io\n",
    "- https://medium.com/@LondonAppBrewery/how-to-download-install-mongodb-on-windows-4ee4b3493514\n",
    "- https://www.tutorialspoint.com/python_pandas/index.htm\n",
    "- https://realpython.com/introduction-to-mongodb-and-python/\n",
    "- https://www.mongodb.com/download-center"
   ]
  },
  {
   "cell_type": "markdown",
   "metadata": {},
   "source": [
    "### Step 6-1 Install and import all the necessary libraries"
   ]
  },
  {
   "cell_type": "code",
   "execution_count": 174,
   "metadata": {},
   "outputs": [],
   "source": [
    "import os \n",
    "from bs4 import BeautifulSoup\n",
    "import requests\n",
    "from selenium import webdriver\n",
    "from selenium.webdriver.firefox.firefox_binary import FirefoxBinary\n",
    "from selenium.webdriver.common.keys import Keys\n",
    "from selenium.webdriver.common.by import By\n",
    "from selenium.webdriver.support.wait import WebDriverWait\n",
    "from selenium.webdriver.support import expected_conditions as EC\n",
    "import pandas as pd\n",
    "from pymongo import MongoClient\n",
    "from collections.abc import Iterable\n",
    "import warnings"
   ]
  },
  {
   "cell_type": "code",
   "execution_count": 175,
   "metadata": {},
   "outputs": [],
   "source": [
    "# Global variables\n",
    "client = MongoClient()\n",
    "DB_NAME = 'elmenus'\n",
    "db = client[DB_NAME]\n",
    "elmenus_collection = db['data']\n",
    "\n",
    "cur_path = os.getcwd()\n",
    "# print(cur_path)\n",
    "\n",
    "selenium_driver_path = \"geckodriver\""
   ]
  },
  {
   "cell_type": "markdown",
   "metadata": {},
   "source": [
    "## Helper Functions"
   ]
  },
  {
   "cell_type": "code",
   "execution_count": 176,
   "metadata": {},
   "outputs": [],
   "source": [
    "# get unique elements from a list\n",
    "def unique(data):\n",
    "    return list(dict.fromkeys(data))\n",
    "\n",
    "\n",
    "# get selenium driver object\n",
    "def get_selenium_driver():\n",
    "    \"\"\"\n",
    "    This function returns the selenium driver object.\n",
    "\n",
    "    Parameters:\n",
    "        None\n",
    "\n",
    "    Returns:\n",
    "        driver: selenium driver object\n",
    "    \"\"\"\n",
    "    options = webdriver.FirefoxOptions()\n",
    "#     options.add_argument('-headless')\n",
    "\n",
    "    driver = webdriver.Firefox(executable_path = selenium_driver_path, options = options)\n",
    "\n",
    "    return driver\n",
    "\n",
    "\n",
    "# get BeautifulSoup object\n",
    "def get_soup(url):\n",
    "    \"\"\"\n",
    "    Given the url of a page, this function returns the soup object.\n",
    "    \n",
    "    Parameters:\n",
    "        url: the link to get soup object for\n",
    "    \n",
    "    Returns:\n",
    "        soup: soup object\n",
    "    \"\"\"\n",
    "    driver = get_selenium_driver()\n",
    "\n",
    "    driver.get(url)\n",
    "    driver.implicitly_wait(3)\n",
    "\n",
    "    html = driver.page_source\n",
    "    soup = BeautifulSoup(html, 'html.parser')\n",
    "\n",
    "    driver.close()\n",
    "\n",
    "    return soup\n",
    "\n",
    "\n",
    "#save to MongoDB\n",
    "def saveToDB(collection, city_areas_zones_dict):\n",
    "    \n",
    "    try:\n",
    "        print(\"collection.count_documents({}): \",  collection.count_documents({}))\n",
    "        resultSet = collection.count_documents({\"City\":city_areas_zones_dict[\"City\"],\"Areas_Zones\":city_areas_zones_dict['Areas_Zones']})\n",
    "\n",
    "        if resultSet > 0:\n",
    "            print(\"city_areas_zones_dict is already scrapped >> \", city_areas_zones_dict)\n",
    "            print(\"Skip!\")\n",
    "        else:\n",
    "            print(\"New city_areas_zones_dict will be scrapped >> \", city_areas_zones_dict)\n",
    "            print(\"I will insert it!\")\n",
    "            collection.insert_one(city_areas_zones_dict)\n",
    "            \n",
    "    except Exception as e:\n",
    "        print('Exception : %s' % str(e))\n"
   ]
  },
  {
   "cell_type": "markdown",
   "metadata": {},
   "source": [
    "- scrape the content using ***Selenium web driver***\n",
    "- store the content in a ***MongoDB Collection***"
   ]
  },
  {
   "cell_type": "code",
   "execution_count": 177,
   "metadata": {
    "scrolled": true
   },
   "outputs": [],
   "source": [
    "# scrape elmenus website\n",
    "\n",
    "def scrape_elmenus():\n",
    "    base_url = 'https://www.elmenus.com'\n",
    "    # uniqueJobs = requests.get(base_url).json()\n",
    "    \n",
    "    # get a soup object for elmenus home page\n",
    "    home_page_soup = get_soup(base_url)\n",
    "    \n",
    "    # get all cities' names\n",
    "    dropdown_menu_ul = home_page_soup.find(\"ul\",{\"class\":\"dropdown-menu inner\"})\n",
    "    cities_names = []\n",
    "    \n",
    "    for li in dropdown_menu_ul:\n",
    "        cities_names.append(li.text.strip())\n",
    "    print(\"Number of Cities: \", len(cities_names))\n",
    "    print(\"Cities: \", cities_names)\n",
    "    cities_num = len(cities_names)\n",
    "\n",
    "    # get a get_selenium_driver object\n",
    "    driver = get_selenium_driver()\n",
    "    \n",
    "    # request the delivery base url using selenium\n",
    "    base_url = \"https://www.elmenus.com/cairo/delivery\"\n",
    "    driver.get(base_url)\n",
    "    \n",
    "    header_div = driver.find_element_by_class_name('area-zone-content')\n",
    "    header_div_soup = header_div.get_attribute('innerHTML')\n",
    "    # cities_list_ul =  driver.find_elements_by_class_name(\"zone-btn\")\n",
    "    # cities_names = [ city.text.strip() for city in cities_list_ul]\n",
    "\n",
    "    city_areas_zones_dict = {}\n",
    "\n",
    "    for city_index,city_name in enumerate(cities_names):\n",
    "        print(\"Current City Name: \", city_name)\n",
    "\n",
    "        city_css_selector = '#cities-list > li:nth-child('+ str(city_index+1) +') > button'\n",
    "        # print(\"city_css_selector: \", city_css_selector)\n",
    "        city_button = driver.find_elements_by_css_selector(city_css_selector)\n",
    "        city_button = city_button[0]\n",
    "        driver.execute_script(\"arguments[0].click();\",city_button)\n",
    "        driver.implicitly_wait(3)\n",
    "\n",
    "        areas_list_buttons =  driver.find_elements_by_class_name(\"area-btn\")\n",
    "        areas_names = [ area.text.replace(\"AS\",\"\").strip() for area in areas_list_buttons]\n",
    "        areas_names = [area for area in areas_names if area != '']\n",
    "        areas_num = len(areas_names)\n",
    "        print(\"Areas: \", areas_names)\n",
    "\n",
    "        areas_zones_dict = {}\n",
    "\n",
    "        for area_index in range(1, areas_num + 1 ):\n",
    "            area = areas_list_buttons[area_index-1] \n",
    "            area_name = areas_names[area_index-1]\n",
    "            print(\">>> Current Area Name: \", area_name)\n",
    "\n",
    "            area_button = areas_list_buttons[area_index-1]\n",
    "            # area_button.click()\n",
    "            driver.execute_script(\"arguments[0].click();\",area_button)\n",
    "            driver.implicitly_wait(3)\n",
    "            time.sleep(1)\n",
    "\n",
    "            zones_list =  driver.find_elements_by_class_name(\"city-area-zone\")\n",
    "            zones_names = [ zone.text.strip() for zone in zones_list]\n",
    "            zones_names = [zone for zone in zones_names if zone != '']\n",
    "            print(\">>>>>> zones_names: \", zones_names)\n",
    "            areas_zones_dict[area_name] = zones_names\n",
    "            \n",
    "        city_areas_zones_dict[\"_id\"] = str(city_index)\n",
    "        city_areas_zones_dict[\"City\"] = city_name\n",
    "        city_areas_zones_dict[\"Areas_Zones\"] = areas_zones_dict\n",
    "\n",
    "        print(\"city_areas_zones_dict: \", city_areas_zones_dict)\n",
    "        \n",
    "        # save the city_areas_zones_dict into MongoDB elmenus_collection\n",
    "        saveToDB(elmenus_collection, city_areas_zones_dict)\n",
    "\n",
    "        time.sleep(3)\n",
    "        print(\"----------------------------------\")\n",
    "\n",
    "    driver.close()"
   ]
  },
  {
   "cell_type": "code",
   "execution_count": 178,
   "metadata": {
    "scrolled": true
   },
   "outputs": [
    {
     "name": "stdout",
     "output_type": "stream",
     "text": [
      "Number of Cities:  25\n",
      "Cities:  ['Ain Sokhna', 'Al Fayoum', 'Alexandria', 'Asyut', 'Benha', 'Beni Suef', 'Cairo', 'Dahab', 'Damanhour', 'Damietta', 'El Gouna', 'El Mansoura', 'Hurghada', 'Ismailia', 'Kafr El Sheikh', 'Kafr Eldawar', 'Minya', 'North Coast', 'Port Said', 'Ras Sudr', 'Sharm El Sheikh', 'Shebin El Kawm', 'Suez', 'Suhag', 'Tanta']\n",
      "Current City Name:  Ain Sokhna\n",
      "Areas:  ['Ain Sokhna', 'GR Galala Road', 'SSR Sokhna-Suez Road', 'ZR Zafarana Road']\n",
      ">>> Current Area Name:  Ain Sokhna\n",
      ">>>>>> zones_names:  ['Ain Sokhna']\n",
      ">>> Current Area Name:  GR Galala Road\n",
      ">>>>>> zones_names:  ['Porta Sokhna', 'Telal']\n",
      ">>> Current Area Name:  SSR Sokhna-Suez Road\n",
      ">>>>>> zones_names:  ['Sokhna-Suez Road']\n",
      ">>> Current Area Name:  ZR Zafarana Road\n",
      ">>>>>> zones_names:  ['Cancun', 'La Vista 4']\n",
      "city_areas_zones_dict:  {'_id': '0', 'City': 'Ain Sokhna', 'Areas_Zones': {'Ain Sokhna': ['Ain Sokhna'], 'GR Galala Road': ['Porta Sokhna', 'Telal'], 'SSR Sokhna-Suez Road': ['Sokhna-Suez Road'], 'ZR Zafarana Road': ['Cancun', 'La Vista 4']}}\n",
      "collection.count_documents({}):  24\n",
      "city_areas_zones_dict is already scrapped >>  {'_id': '0', 'City': 'Ain Sokhna', 'Areas_Zones': {'Ain Sokhna': ['Ain Sokhna'], 'GR Galala Road': ['Porta Sokhna', 'Telal'], 'SSR Sokhna-Suez Road': ['Sokhna-Suez Road'], 'ZR Zafarana Road': ['Cancun', 'La Vista 4']}}\n",
      "Skip!\n",
      "----------------------------------\n",
      "Current City Name:  Al Fayoum\n",
      "Areas:  ['AH Al Hawatem', 'D Dallah', 'EM El Massalah', 'FD Fayoum Downtown', 'L Lotfallah', 'TV Tunis Village']\n",
      ">>> Current Area Name:  AH Al Hawatem\n",
      ">>>>>> zones_names:  ['Al Hawatem']\n",
      ">>> Current Area Name:  D Dallah\n",
      ">>>>>> zones_names:  ['Dallah']\n",
      ">>> Current Area Name:  EM El Massalah\n",
      ">>>>>> zones_names:  ['El Massalah']\n",
      ">>> Current Area Name:  FD Fayoum Downtown\n",
      ">>>>>> zones_names:  ['Fayoum Downtown']\n",
      ">>> Current Area Name:  L Lotfallah\n",
      ">>>>>> zones_names:  ['Lotfallah']\n",
      ">>> Current Area Name:  TV Tunis Village\n",
      ">>>>>> zones_names:  ['Tunis Village']\n",
      "city_areas_zones_dict:  {'_id': '1', 'City': 'Al Fayoum', 'Areas_Zones': {'AH Al Hawatem': ['Al Hawatem'], 'D Dallah': ['Dallah'], 'EM El Massalah': ['El Massalah'], 'FD Fayoum Downtown': ['Fayoum Downtown'], 'L Lotfallah': ['Lotfallah'], 'TV Tunis Village': ['Tunis Village']}}\n",
      "collection.count_documents({}):  24\n",
      "city_areas_zones_dict is already scrapped >>  {'_id': '1', 'City': 'Al Fayoum', 'Areas_Zones': {'AH Al Hawatem': ['Al Hawatem'], 'D Dallah': ['Dallah'], 'EM El Massalah': ['El Massalah'], 'FD Fayoum Downtown': ['Fayoum Downtown'], 'L Lotfallah': ['Lotfallah'], 'TV Tunis Village': ['Tunis Village']}}\n",
      "Skip!\n",
      "----------------------------------\n",
      "Current City Name:  Alexandria\n",
      "Areas:  ['AK Abou Kir', 'Abou Soliman', 'AA Al Agami', 'AA Al Amriya', 'AA Al Asafra', 'AA Al Atarin', 'AA Al Awayed']\n",
      ">>> Current Area Name:  AK Abou Kir\n",
      ">>>>>> zones_names:  ['Abou Kir']\n",
      ">>> Current Area Name:  Abou Soliman\n",
      ">>>>>> zones_names:  ['Abou Soliman']\n",
      ">>> Current Area Name:  AA Al Agami\n",
      ">>>>>> zones_names:  ['6 October', 'Abou Talat', 'Abou Youssef', 'Al Bitash', 'Al Dekhila', 'Al Hanoveel']\n",
      ">>> Current Area Name:  AA Al Amriya\n",
      ">>>>>> zones_names:  ['Al Amriya']\n",
      ">>> Current Area Name:  AA Al Asafra\n",
      ">>>>>> zones_names:  ['Al Asafra Bahary', 'Al Asafra Qibly']\n",
      ">>> Current Area Name:  AA Al Atarin\n",
      ">>>>>> zones_names:  ['Al Atarin']\n",
      ">>> Current Area Name:  AA Al Awayed\n",
      ">>>>>> zones_names:  ['Al Awayed']\n",
      "city_areas_zones_dict:  {'_id': '2', 'City': 'Alexandria', 'Areas_Zones': {'AK Abou Kir': ['Abou Kir'], 'Abou Soliman': ['Abou Soliman'], 'AA Al Agami': ['6 October', 'Abou Talat', 'Abou Youssef', 'Al Bitash', 'Al Dekhila', 'Al Hanoveel'], 'AA Al Amriya': ['Al Amriya'], 'AA Al Asafra': ['Al Asafra Bahary', 'Al Asafra Qibly'], 'AA Al Atarin': ['Al Atarin'], 'AA Al Awayed': ['Al Awayed']}}\n",
      "collection.count_documents({}):  24\n",
      "city_areas_zones_dict is already scrapped >>  {'_id': '2', 'City': 'Alexandria', 'Areas_Zones': {'AK Abou Kir': ['Abou Kir'], 'Abou Soliman': ['Abou Soliman'], 'AA Al Agami': ['6 October', 'Abou Talat', 'Abou Youssef', 'Al Bitash', 'Al Dekhila', 'Al Hanoveel'], 'AA Al Amriya': ['Al Amriya'], 'AA Al Asafra': ['Al Asafra Bahary', 'Al Asafra Qibly'], 'AA Al Atarin': ['Al Atarin'], 'AA Al Awayed': ['Al Awayed']}}\n",
      "Skip!\n",
      "----------------------------------\n",
      "Current City Name:  Asyut\n",
      "Areas:  ['AE Abrag Elseoudiya', 'AU Azhar University', 'EME El Mamar Eltogary', 'STJ St. 26Th July', 'SMT St. Mohamed Tawfik']\n",
      ">>> Current Area Name:  AE Abrag Elseoudiya\n",
      ">>>>>> zones_names:  ['Abrag Elseoudiya']\n",
      ">>> Current Area Name:  AU Azhar University\n",
      ">>>>>> zones_names:  ['Azhar University']\n",
      ">>> Current Area Name:  EME El Mamar Eltogary\n",
      ">>>>>> zones_names:  ['El Mamar Eltogary']\n",
      ">>> Current Area Name:  STJ St. 26Th July\n",
      ">>>>>> zones_names:  ['St. 26Th July']\n",
      ">>> Current Area Name:  SMT St. Mohamed Tawfik\n",
      ">>>>>> zones_names:  ['St. Mohamed Tawfik']\n",
      "city_areas_zones_dict:  {'_id': '3', 'City': 'Asyut', 'Areas_Zones': {'AE Abrag Elseoudiya': ['Abrag Elseoudiya'], 'AU Azhar University': ['Azhar University'], 'EME El Mamar Eltogary': ['El Mamar Eltogary'], 'STJ St. 26Th July': ['St. 26Th July'], 'SMT St. Mohamed Tawfik': ['St. Mohamed Tawfik']}}\n",
      "collection.count_documents({}):  24\n",
      "New city_areas_zones_dict will be scrapped >>  {'_id': '3', 'City': 'Asyut', 'Areas_Zones': {'AE Abrag Elseoudiya': ['Abrag Elseoudiya'], 'AU Azhar University': ['Azhar University'], 'EME El Mamar Eltogary': ['El Mamar Eltogary'], 'STJ St. 26Th July': ['St. 26Th July'], 'SMT St. Mohamed Tawfik': ['St. Mohamed Tawfik']}}\n",
      "I will insert it!\n",
      "Exception : key 'STJ St. 26Th July' must not contain '.'\n",
      "----------------------------------\n",
      "Current City Name:  Benha\n",
      "Areas:  ['A Atreb', 'EV El Vill', 'GES Gharb El Stdad', 'KEG Kafr El Gzar', 'KT Kolyt Tegara', 'MEN Mansheyet El Nour', 'MB Manshya Benha']\n",
      ">>> Current Area Name:  A Atreb\n",
      ">>>>>> zones_names:  ['Atreb']\n",
      ">>> Current Area Name:  EV El Vill\n",
      ">>>>>> zones_names:  ['El Vill']\n",
      ">>> Current Area Name:  GES Gharb El Stdad\n",
      ">>>>>> zones_names:  ['Gharb El Stdad']\n",
      ">>> Current Area Name:  KEG Kafr El Gzar\n",
      ">>>>>> zones_names:  ['Kafr El Gzar']\n",
      ">>> Current Area Name:  KT Kolyt Tegara\n",
      ">>>>>> zones_names:  ['Kolyt Tegara']\n",
      ">>> Current Area Name:  MEN Mansheyet El Nour\n",
      ">>>>>> zones_names:  ['Mansheyet El Nour']\n",
      ">>> Current Area Name:  MB Manshya Benha\n",
      ">>>>>> zones_names:  ['Manshya Benha']\n",
      "city_areas_zones_dict:  {'_id': '4', 'City': 'Benha', 'Areas_Zones': {'A Atreb': ['Atreb'], 'EV El Vill': ['El Vill'], 'GES Gharb El Stdad': ['Gharb El Stdad'], 'KEG Kafr El Gzar': ['Kafr El Gzar'], 'KT Kolyt Tegara': ['Kolyt Tegara'], 'MEN Mansheyet El Nour': ['Mansheyet El Nour'], 'MB Manshya Benha': ['Manshya Benha']}}\n",
      "collection.count_documents({}):  24\n",
      "city_areas_zones_dict is already scrapped >>  {'_id': '4', 'City': 'Benha', 'Areas_Zones': {'A Atreb': ['Atreb'], 'EV El Vill': ['El Vill'], 'GES Gharb El Stdad': ['Gharb El Stdad'], 'KEG Kafr El Gzar': ['Kafr El Gzar'], 'KT Kolyt Tegara': ['Kolyt Tegara'], 'MEN Mansheyet El Nour': ['Mansheyet El Nour'], 'MB Manshya Benha': ['Manshya Benha']}}\n",
      "Skip!\n",
      "----------------------------------\n",
      "Current City Name:  Beni Suef\n",
      "Areas:  ['AA Al Azhary', 'AHEG Al Hai El Ghabry', 'BHV Bany Haroon Village', 'EZ El Zohour']\n",
      ">>> Current Area Name:  AA Al Azhary\n",
      ">>>>>> zones_names:  ['Al Azhary']\n",
      ">>> Current Area Name:  AHEG Al Hai El Ghabry\n",
      ">>>>>> zones_names:  ['Al Hai El Ghabry']\n",
      ">>> Current Area Name:  BHV Bany Haroon Village\n",
      ">>>>>> zones_names:  ['Bany Haroon Village']\n",
      ">>> Current Area Name:  EZ El Zohour\n",
      ">>>>>> zones_names:  ['El Zohour']\n",
      "city_areas_zones_dict:  {'_id': '5', 'City': 'Beni Suef', 'Areas_Zones': {'AA Al Azhary': ['Al Azhary'], 'AHEG Al Hai El Ghabry': ['Al Hai El Ghabry'], 'BHV Bany Haroon Village': ['Bany Haroon Village'], 'EZ El Zohour': ['El Zohour']}}\n",
      "collection.count_documents({}):  24\n",
      "city_areas_zones_dict is already scrapped >>  {'_id': '5', 'City': 'Beni Suef', 'Areas_Zones': {'AA Al Azhary': ['Al Azhary'], 'AHEG Al Hai El Ghabry': ['Al Hai El Ghabry'], 'BHV Bany Haroon Village': ['Bany Haroon Village'], 'EZ El Zohour': ['El Zohour']}}\n",
      "Skip!\n",
      "----------------------------------\n",
      "Current City Name:  Cairo\n",
      "Areas:  ['O 6th of October', 'A Abbassiya', 'A Agouza', 'Ain Shams', 'AK Al Katameya', 'AM Al Mokatam', 'ARC Al Rehab City']\n",
      ">>> Current Area Name:  O 6th of October\n",
      ">>>>>> zones_names:  ['1st Urban', '2nd Urban', 'District 1', 'District 10', 'District 11', 'District 12', 'District 2']\n",
      ">>> Current Area Name:  A Abbassiya\n",
      ">>>>>> zones_names:  ['Abbassiya', 'El Daher', 'Sakakini']\n",
      ">>> Current Area Name:  A Agouza\n",
      ">>>>>> zones_names:  ['Agouza']\n",
      ">>> Current Area Name:  Ain Shams\n",
      ">>>>>> zones_names:  ['Ain Shams']\n",
      ">>> Current Area Name:  AK Al Katameya\n",
      ">>>>>> zones_names:  ['Cairo Walk', 'Industrial Area', 'Palm City', 'Sakan Misr', 'Sama W Al Baron', 'Skyline Katameya']\n",
      ">>> Current Area Name:  AM Al Mokatam\n",
      ">>>>>> zones_names:  ['Al Abageya', 'Al Zelzal', 'Asmarat', 'Asmarat Heights', 'The Central Plateau', 'The Upper Plateau', 'Uptown Cairo']\n",
      ">>> Current Area Name:  ARC Al Rehab City\n",
      ">>>>>> zones_names:  ['Al Rehab City']\n",
      "city_areas_zones_dict:  {'_id': '6', 'City': 'Cairo', 'Areas_Zones': {'O 6th of October': ['1st Urban', '2nd Urban', 'District 1', 'District 10', 'District 11', 'District 12', 'District 2'], 'A Abbassiya': ['Abbassiya', 'El Daher', 'Sakakini'], 'A Agouza': ['Agouza'], 'Ain Shams': ['Ain Shams'], 'AK Al Katameya': ['Cairo Walk', 'Industrial Area', 'Palm City', 'Sakan Misr', 'Sama W Al Baron', 'Skyline Katameya'], 'AM Al Mokatam': ['Al Abageya', 'Al Zelzal', 'Asmarat', 'Asmarat Heights', 'The Central Plateau', 'The Upper Plateau', 'Uptown Cairo'], 'ARC Al Rehab City': ['Al Rehab City']}}\n",
      "collection.count_documents({}):  24\n",
      "city_areas_zones_dict is already scrapped >>  {'_id': '6', 'City': 'Cairo', 'Areas_Zones': {'O 6th of October': ['1st Urban', '2nd Urban', 'District 1', 'District 10', 'District 11', 'District 12', 'District 2'], 'A Abbassiya': ['Abbassiya', 'El Daher', 'Sakakini'], 'A Agouza': ['Agouza'], 'Ain Shams': ['Ain Shams'], 'AK Al Katameya': ['Cairo Walk', 'Industrial Area', 'Palm City', 'Sakan Misr', 'Sama W Al Baron', 'Skyline Katameya'], 'AM Al Mokatam': ['Al Abageya', 'Al Zelzal', 'Asmarat', 'Asmarat Heights', 'The Central Plateau', 'The Upper Plateau', 'Uptown Cairo'], 'ARC Al Rehab City': ['Al Rehab City']}}\n",
      "Skip!\n",
      "----------------------------------\n",
      "Current City Name:  Dahab\n",
      "Areas:  ['BL Blue Lagoon', 'ES Elfanar Street', 'ES Elmelil Street', 'L Laguna', 'L Lighthouse', 'ME Magra Elseil', 'M Masbat']\n",
      ">>> Current Area Name:  BL Blue Lagoon\n",
      ">>>>>> zones_names:  ['Blue Lagoon']\n",
      ">>> Current Area Name:  ES Elfanar Street\n",
      ">>>>>> zones_names:  ['Elfanar Street']\n",
      ">>> Current Area Name:  ES Elmelil Street\n",
      ">>>>>> zones_names:  ['Elmelil Street']\n",
      ">>> Current Area Name:  L Laguna\n",
      ">>>>>> zones_names:  ['Laguna']\n",
      ">>> Current Area Name:  L Lighthouse\n",
      ">>>>>> zones_names:  ['Lighthouse']\n",
      ">>> Current Area Name:  ME Magra Elseil\n",
      ">>>>>> zones_names:  ['Magra Elseil']\n",
      ">>> Current Area Name:  M Masbat\n",
      ">>>>>> zones_names:  ['Masbat']\n",
      "city_areas_zones_dict:  {'_id': '7', 'City': 'Dahab', 'Areas_Zones': {'BL Blue Lagoon': ['Blue Lagoon'], 'ES Elfanar Street': ['Elfanar Street'], 'ES Elmelil Street': ['Elmelil Street'], 'L Laguna': ['Laguna'], 'L Lighthouse': ['Lighthouse'], 'ME Magra Elseil': ['Magra Elseil'], 'M Masbat': ['Masbat']}}\n",
      "collection.count_documents({}):  24\n",
      "city_areas_zones_dict is already scrapped >>  {'_id': '7', 'City': 'Dahab', 'Areas_Zones': {'BL Blue Lagoon': ['Blue Lagoon'], 'ES Elfanar Street': ['Elfanar Street'], 'ES Elmelil Street': ['Elmelil Street'], 'L Laguna': ['Laguna'], 'L Lighthouse': ['Lighthouse'], 'ME Magra Elseil': ['Magra Elseil'], 'M Masbat': ['Masbat']}}\n",
      "Skip!\n",
      "----------------------------------\n",
      "Current City Name:  Damanhour\n",
      "Areas:  ['AGS Al Gomhorya Street', 'AMAD Al Maahad Al Dini', 'AA Ard Admon', 'DU Damanhour University', 'O Opera', 'Q Qaraqes']\n",
      ">>> Current Area Name:  AGS Al Gomhorya Street\n",
      ">>>>>> zones_names:  ['Al Gomhorya Street']\n",
      ">>> Current Area Name:  AMAD Al Maahad Al Dini\n",
      ">>>>>> zones_names:  ['Al Maahad Al Dini']\n",
      ">>> Current Area Name:  AA Ard Admon\n",
      ">>>>>> zones_names:  ['Ard Admon']\n",
      ">>> Current Area Name:  DU Damanhour University\n",
      ">>>>>> zones_names:  ['Damanhour University']\n",
      ">>> Current Area Name:  O Opera\n",
      ">>>>>> zones_names:  ['Opera']\n",
      ">>> Current Area Name:  Q Qaraqes\n",
      ">>>>>> zones_names:  ['Qaraqes']\n",
      "city_areas_zones_dict:  {'_id': '8', 'City': 'Damanhour', 'Areas_Zones': {'AGS Al Gomhorya Street': ['Al Gomhorya Street'], 'AMAD Al Maahad Al Dini': ['Al Maahad Al Dini'], 'AA Ard Admon': ['Ard Admon'], 'DU Damanhour University': ['Damanhour University'], 'O Opera': ['Opera'], 'Q Qaraqes': ['Qaraqes']}}\n",
      "collection.count_documents({}):  24\n",
      "city_areas_zones_dict is already scrapped >>  {'_id': '8', 'City': 'Damanhour', 'Areas_Zones': {'AGS Al Gomhorya Street': ['Al Gomhorya Street'], 'AMAD Al Maahad Al Dini': ['Al Maahad Al Dini'], 'AA Ard Admon': ['Ard Admon'], 'DU Damanhour University': ['Damanhour University'], 'O Opera': ['Opera'], 'Q Qaraqes': ['Qaraqes']}}\n",
      "Skip!\n",
      "----------------------------------\n",
      "Current City Name:  Damietta\n",
      "Areas:  ['EH El Harbi', \"ES El Shoa'ara\", 'HEZ Hay El Zohour', 'MAG Mit Abou Ghaleb', 'ND New Damietta', 'REB Ras El Bar', 'SS Sorour Square']\n",
      ">>> Current Area Name:  EH El Harbi\n",
      ">>>>>> zones_names:  ['El Harbi']\n",
      ">>> Current Area Name:  ES El Shoa'ara\n",
      ">>>>>> zones_names:  [\"El Shoa'ara\"]\n",
      ">>> Current Area Name:  HEZ Hay El Zohour\n",
      ">>>>>> zones_names:  ['Hay El Zohour']\n",
      ">>> Current Area Name:  MAG Mit Abou Ghaleb\n",
      ">>>>>> zones_names:  ['Mit Abou Ghaleb']\n",
      ">>> Current Area Name:  ND New Damietta\n",
      ">>>>>> zones_names:  ['New Damietta']\n",
      ">>> Current Area Name:  REB Ras El Bar\n",
      ">>>>>> zones_names:  ['Ras El Bar']\n",
      ">>> Current Area Name:  SS Sorour Square\n",
      ">>>>>> zones_names:  ['Sorour Square']\n",
      "city_areas_zones_dict:  {'_id': '9', 'City': 'Damietta', 'Areas_Zones': {'EH El Harbi': ['El Harbi'], \"ES El Shoa'ara\": [\"El Shoa'ara\"], 'HEZ Hay El Zohour': ['Hay El Zohour'], 'MAG Mit Abou Ghaleb': ['Mit Abou Ghaleb'], 'ND New Damietta': ['New Damietta'], 'REB Ras El Bar': ['Ras El Bar'], 'SS Sorour Square': ['Sorour Square']}}\n",
      "collection.count_documents({}):  24\n",
      "city_areas_zones_dict is already scrapped >>  {'_id': '9', 'City': 'Damietta', 'Areas_Zones': {'EH El Harbi': ['El Harbi'], \"ES El Shoa'ara\": [\"El Shoa'ara\"], 'HEZ Hay El Zohour': ['Hay El Zohour'], 'MAG Mit Abou Ghaleb': ['Mit Abou Ghaleb'], 'ND New Damietta': ['New Damietta'], 'REB Ras El Bar': ['Ras El Bar'], 'SS Sorour Square': ['Sorour Square']}}\n",
      "Skip!\n",
      "----------------------------------\n",
      "Current City Name:  El Gouna\n",
      "Areas:  ['D Downtown', 'GD Gouna Downtown', 'GM Gouna Marina', 'KEG Kafr El Gouna']\n",
      ">>> Current Area Name:  D Downtown\n",
      ">>>>>> zones_names:  ['Downtown']\n",
      ">>> Current Area Name:  GD Gouna Downtown\n",
      ">>>>>> zones_names:  ['Movenpick', 'Sheraton Miramar', 'Steingenberger']\n",
      ">>> Current Area Name:  GM Gouna Marina\n",
      ">>>>>> zones_names:  ['Abu Tig Marina', 'New Marina']\n",
      ">>> Current Area Name:  KEG Kafr El Gouna\n",
      ">>>>>> zones_names:  ['Kafr El Gouna']\n",
      "city_areas_zones_dict:  {'_id': '10', 'City': 'El Gouna', 'Areas_Zones': {'D Downtown': ['Downtown'], 'GD Gouna Downtown': ['Movenpick', 'Sheraton Miramar', 'Steingenberger'], 'GM Gouna Marina': ['Abu Tig Marina', 'New Marina'], 'KEG Kafr El Gouna': ['Kafr El Gouna']}}\n",
      "collection.count_documents({}):  24\n",
      "city_areas_zones_dict is already scrapped >>  {'_id': '10', 'City': 'El Gouna', 'Areas_Zones': {'D Downtown': ['Downtown'], 'GD Gouna Downtown': ['Movenpick', 'Sheraton Miramar', 'Steingenberger'], 'GM Gouna Marina': ['Abu Tig Marina', 'New Marina'], 'KEG Kafr El Gouna': ['Kafr El Gouna']}}\n",
      "Skip!\n",
      "----------------------------------\n",
      "Current City Name:  El Mansoura\n",
      "Areas:  ['A Abdel Salam Aref', 'EG El Galaa', 'EG El Gamaa', 'EG El Gomhoria', 'EM El Mashaya', 'GS Gihan Street', 'PS Portsaid Street']\n",
      ">>> Current Area Name:  A Abdel Salam Aref\n",
      ">>>>>> zones_names:  ['Abdel Salam Aref']\n",
      ">>> Current Area Name:  EG El Galaa\n",
      ">>>>>> zones_names:  ['El Galaa']\n",
      ">>> Current Area Name:  EG El Gamaa\n",
      ">>>>>> zones_names:  ['El Gamaa']\n",
      ">>> Current Area Name:  EG El Gomhoria\n",
      ">>>>>> zones_names:  ['El Gomhoria']\n",
      ">>> Current Area Name:  EM El Mashaya\n",
      ">>>>>> zones_names:  ['El Mashaya']\n",
      ">>> Current Area Name:  GS Gihan Street\n",
      ">>>>>> zones_names:  ['Gihan Street']\n",
      ">>> Current Area Name:  PS Portsaid Street\n",
      ">>>>>> zones_names:  ['Portsaid Street']\n",
      "city_areas_zones_dict:  {'_id': '11', 'City': 'El Mansoura', 'Areas_Zones': {'A Abdel Salam Aref': ['Abdel Salam Aref'], 'EG El Galaa': ['El Galaa'], 'EG El Gamaa': ['El Gamaa'], 'EG El Gomhoria': ['El Gomhoria'], 'EM El Mashaya': ['El Mashaya'], 'GS Gihan Street': ['Gihan Street'], 'PS Portsaid Street': ['Portsaid Street']}}\n",
      "collection.count_documents({}):  24\n",
      "city_areas_zones_dict is already scrapped >>  {'_id': '11', 'City': 'El Mansoura', 'Areas_Zones': {'A Abdel Salam Aref': ['Abdel Salam Aref'], 'EG El Galaa': ['El Galaa'], 'EG El Gamaa': ['El Gamaa'], 'EG El Gomhoria': ['El Gomhoria'], 'EM El Mashaya': ['El Mashaya'], 'GS Gihan Street': ['Gihan Street'], 'PS Portsaid Street': ['Portsaid Street']}}\n",
      "Skip!\n",
      "----------------------------------\n",
      "Current City Name:  Hurghada\n",
      "Areas:  ['ED El Dahar', 'EH El Hadaba', 'EK El Kawther', 'EM El Mamsha', 'MB Makadi Bay', 'MH Marina-Hurghada', 'SH Sahl Hasheesh']\n",
      ">>> Current Area Name:  ED El Dahar\n",
      ">>>>>> zones_names:  ['El Dahar']\n",
      ">>> Current Area Name:  EH El Hadaba\n",
      ">>>>>> zones_names:  ['El Hadaba']\n",
      ">>> Current Area Name:  EK El Kawther\n",
      ">>>>>> zones_names:  ['El Kawther']\n",
      ">>> Current Area Name:  EM El Mamsha\n",
      ">>>>>> zones_names:  ['El Mamsha']\n",
      ">>> Current Area Name:  MB Makadi Bay\n",
      ">>>>>> zones_names:  ['Makadi Bay']\n",
      ">>> Current Area Name:  MH Marina-Hurghada\n",
      ">>>>>> zones_names:  ['Marina-Hurghada']\n",
      ">>> Current Area Name:  SH Sahl Hasheesh\n",
      ">>>>>> zones_names:  ['Sahl Hasheesh']\n",
      "city_areas_zones_dict:  {'_id': '12', 'City': 'Hurghada', 'Areas_Zones': {'ED El Dahar': ['El Dahar'], 'EH El Hadaba': ['El Hadaba'], 'EK El Kawther': ['El Kawther'], 'EM El Mamsha': ['El Mamsha'], 'MB Makadi Bay': ['Makadi Bay'], 'MH Marina-Hurghada': ['Marina-Hurghada'], 'SH Sahl Hasheesh': ['Sahl Hasheesh']}}\n",
      "collection.count_documents({}):  24\n",
      "city_areas_zones_dict is already scrapped >>  {'_id': '12', 'City': 'Hurghada', 'Areas_Zones': {'ED El Dahar': ['El Dahar'], 'EH El Hadaba': ['El Hadaba'], 'EK El Kawther': ['El Kawther'], 'EM El Mamsha': ['El Mamsha'], 'MB Makadi Bay': ['Makadi Bay'], 'MH Marina-Hurghada': ['Marina-Hurghada'], 'SH Sahl Hasheesh': ['Sahl Hasheesh']}}\n",
      "Skip!\n",
      "----------------------------------\n",
      "Current City Name:  Ismailia\n",
      "Areas:  [\"AEG Ard El Gam'yat\", 'D Downtown', 'EB El Balabsa', 'EB El Balajat', 'EMEG El Mahata El Gadeda', 'ES El Shohda', 'HES Hay El Salam']\n",
      ">>> Current Area Name:  AEG Ard El Gam'yat\n",
      ">>>>>> zones_names:  [\"Ard El Gam'yat\"]\n",
      ">>> Current Area Name:  D Downtown\n",
      ">>>>>> zones_names:  ['Downtown']\n",
      ">>> Current Area Name:  EB El Balabsa\n",
      ">>>>>> zones_names:  ['El Balabsa']\n",
      ">>> Current Area Name:  EB El Balajat\n",
      ">>>>>> zones_names:  ['El Balajat']\n",
      ">>> Current Area Name:  EMEG El Mahata El Gadeda\n",
      ">>>>>> zones_names:  ['El Mahata El Gadeda']\n",
      ">>> Current Area Name:  ES El Shohda\n",
      ">>>>>> zones_names:  ['El Shohda']\n",
      ">>> Current Area Name:  HES Hay El Salam\n",
      ">>>>>> zones_names:  ['Hay El Salam']\n",
      "city_areas_zones_dict:  {'_id': '13', 'City': 'Ismailia', 'Areas_Zones': {\"AEG Ard El Gam'yat\": [\"Ard El Gam'yat\"], 'D Downtown': ['Downtown'], 'EB El Balabsa': ['El Balabsa'], 'EB El Balajat': ['El Balajat'], 'EMEG El Mahata El Gadeda': ['El Mahata El Gadeda'], 'ES El Shohda': ['El Shohda'], 'HES Hay El Salam': ['Hay El Salam']}}\n",
      "collection.count_documents({}):  24\n",
      "city_areas_zones_dict is already scrapped >>  {'_id': '13', 'City': 'Ismailia', 'Areas_Zones': {\"AEG Ard El Gam'yat\": [\"Ard El Gam'yat\"], 'D Downtown': ['Downtown'], 'EB El Balabsa': ['El Balabsa'], 'EB El Balajat': ['El Balajat'], 'EMEG El Mahata El Gadeda': ['El Mahata El Gadeda'], 'ES El Shohda': ['El Shohda'], 'HES Hay El Salam': ['Hay El Salam']}}\n",
      "Skip!\n",
      "----------------------------------\n",
      "Current City Name:  Kafr El Sheikh\n",
      "Areas:  [\"EMSE El Madina Sena'Eya\", 'EMT El Madina Togarya', \"HSA Hadekat San'Aa\", 'KESU Kafr El Sheikh University', 'MEM Mabna El Mohafza', 'MER Masaken El Ray', 'NKES Nadi Kafr El Sheikh']\n",
      ">>> Current Area Name:  EMSE El Madina Sena'Eya\n",
      ">>>>>> zones_names:  [\"El Madina Sena'Eya\"]\n",
      ">>> Current Area Name:  EMT El Madina Togarya\n",
      ">>>>>> zones_names:  ['El Madina Togarya']\n",
      ">>> Current Area Name:  HSA Hadekat San'Aa\n",
      ">>>>>> zones_names:  [\"Hadekat San'Aa\"]\n",
      ">>> Current Area Name:  KESU Kafr El Sheikh University\n",
      ">>>>>> zones_names:  ['Kafr El Sheikh University']\n",
      ">>> Current Area Name:  MEM Mabna El Mohafza\n",
      ">>>>>> zones_names:  ['Mabna El Mohafza']\n",
      ">>> Current Area Name:  MER Masaken El Ray\n",
      ">>>>>> zones_names:  ['Masaken El Ray']\n",
      ">>> Current Area Name:  NKES Nadi Kafr El Sheikh\n",
      ">>>>>> zones_names:  ['Nadi Kafr El Sheikh']\n",
      "city_areas_zones_dict:  {'_id': '14', 'City': 'Kafr El Sheikh', 'Areas_Zones': {\"EMSE El Madina Sena'Eya\": [\"El Madina Sena'Eya\"], 'EMT El Madina Togarya': ['El Madina Togarya'], \"HSA Hadekat San'Aa\": [\"Hadekat San'Aa\"], 'KESU Kafr El Sheikh University': ['Kafr El Sheikh University'], 'MEM Mabna El Mohafza': ['Mabna El Mohafza'], 'MER Masaken El Ray': ['Masaken El Ray'], 'NKES Nadi Kafr El Sheikh': ['Nadi Kafr El Sheikh']}}\n",
      "collection.count_documents({}):  24\n",
      "city_areas_zones_dict is already scrapped >>  {'_id': '14', 'City': 'Kafr El Sheikh', 'Areas_Zones': {\"EMSE El Madina Sena'Eya\": [\"El Madina Sena'Eya\"], 'EMT El Madina Togarya': ['El Madina Togarya'], \"HSA Hadekat San'Aa\": [\"Hadekat San'Aa\"], 'KESU Kafr El Sheikh University': ['Kafr El Sheikh University'], 'MEM Mabna El Mohafza': ['Mabna El Mohafza'], 'MER Masaken El Ray': ['Masaken El Ray'], 'NKES Nadi Kafr El Sheikh': ['Nadi Kafr El Sheikh']}}\n",
      "Skip!\n",
      "----------------------------------\n",
      "Current City Name:  Kafr Eldawar\n",
      "Areas:  ['AZC Al Zohoor City', 'SSD Sidi Shehata District', 'THD Talaat Harb District']\n",
      ">>> Current Area Name:  AZC Al Zohoor City\n",
      ">>>>>> zones_names:  ['Al Zohoor City']\n",
      ">>> Current Area Name:  SSD Sidi Shehata District\n",
      ">>>>>> zones_names:  ['Sidi Shehata District']\n",
      ">>> Current Area Name:  THD Talaat Harb District\n",
      ">>>>>> zones_names:  ['Talaat Harb District']\n",
      "city_areas_zones_dict:  {'_id': '15', 'City': 'Kafr Eldawar', 'Areas_Zones': {'AZC Al Zohoor City': ['Al Zohoor City'], 'SSD Sidi Shehata District': ['Sidi Shehata District'], 'THD Talaat Harb District': ['Talaat Harb District']}}\n",
      "collection.count_documents({}):  24\n",
      "city_areas_zones_dict is already scrapped >>  {'_id': '15', 'City': 'Kafr Eldawar', 'Areas_Zones': {'AZC Al Zohoor City': ['Al Zohoor City'], 'SSD Sidi Shehata District': ['Sidi Shehata District'], 'THD Talaat Harb District': ['Talaat Harb District']}}\n",
      "Skip!\n",
      "----------------------------------\n",
      "Current City Name:  Minya\n",
      "Areas:  ['BM Bani Mazar', 'NM New Minya', 'S Samalout']\n",
      ">>> Current Area Name:  BM Bani Mazar\n",
      ">>>>>> zones_names:  ['Bani Mazar']\n",
      ">>> Current Area Name:  NM New Minya\n",
      ">>>>>> zones_names:  ['New Minya']\n",
      ">>> Current Area Name:  S Samalout\n",
      ">>>>>> zones_names:  ['Samalout']\n",
      "city_areas_zones_dict:  {'_id': '16', 'City': 'Minya', 'Areas_Zones': {'BM Bani Mazar': ['Bani Mazar'], 'NM New Minya': ['New Minya'], 'S Samalout': ['Samalout']}}\n",
      "collection.count_documents({}):  24\n",
      "city_areas_zones_dict is already scrapped >>  {'_id': '16', 'City': 'Minya', 'Areas_Zones': {'BM Bani Mazar': ['Bani Mazar'], 'NM New Minya': ['New Minya'], 'S Samalout': ['Samalout']}}\n",
      "Skip!\n",
      "----------------------------------\n",
      "Current City Name:  North Coast\n",
      "Areas:  ['AF Al Fayrouz', 'AH Al Hamam', 'AB Almaza Bay', 'A Amwaj', 'B Badr', 'B Bianchi', 'BSA Blumar Sidi Abdulrahman']\n",
      ">>> Current Area Name:  AF Al Fayrouz\n",
      ">>>>>> zones_names:  ['Al Fayrouz']\n",
      ">>> Current Area Name:  AH Al Hamam\n",
      ">>>>>> zones_names:  ['Al Hamam']\n",
      ">>> Current Area Name:  AB Almaza Bay\n",
      ">>>>>> zones_names:  ['Almaza Bay']\n",
      ">>> Current Area Name:  A Amwaj\n",
      ">>>>>> zones_names:  ['Amwaj']\n",
      ">>> Current Area Name:  B Badr\n",
      ">>>>>> zones_names:  ['Badr']\n",
      ">>> Current Area Name:  B Bianchi\n",
      ">>>>>> zones_names:  ['Bianchi']\n",
      ">>> Current Area Name:  BSA Blumar Sidi Abdulrahman\n",
      ">>>>>> zones_names:  ['Blumar Sidi Abdulrahman']\n",
      "city_areas_zones_dict:  {'_id': '17', 'City': 'North Coast', 'Areas_Zones': {'AF Al Fayrouz': ['Al Fayrouz'], 'AH Al Hamam': ['Al Hamam'], 'AB Almaza Bay': ['Almaza Bay'], 'A Amwaj': ['Amwaj'], 'B Badr': ['Badr'], 'B Bianchi': ['Bianchi'], 'BSA Blumar Sidi Abdulrahman': ['Blumar Sidi Abdulrahman']}}\n",
      "collection.count_documents({}):  24\n",
      "city_areas_zones_dict is already scrapped >>  {'_id': '17', 'City': 'North Coast', 'Areas_Zones': {'AF Al Fayrouz': ['Al Fayrouz'], 'AH Al Hamam': ['Al Hamam'], 'AB Almaza Bay': ['Almaza Bay'], 'A Amwaj': ['Amwaj'], 'B Badr': ['Badr'], 'B Bianchi': ['Bianchi'], 'BSA Blumar Sidi Abdulrahman': ['Blumar Sidi Abdulrahman']}}\n",
      "Skip!\n",
      "----------------------------------\n",
      "Current City Name:  Port Said\n",
      "Areas:  ['E El ta3awoneyat', 'HS Hay Sharq', 'HA Hay el Arab', 'HM Hay el Manakh', 'HZ Hay el Zohoor', 'PF Port Fouad']\n",
      ">>> Current Area Name:  E El ta3awoneyat\n",
      ">>>>>> zones_names:  ['El ta3awoneyat']\n",
      ">>> Current Area Name:  HS Hay Sharq\n",
      ">>>>>> zones_names:  ['Hay Sharq']\n",
      ">>> Current Area Name:  HA Hay el Arab\n",
      ">>>>>> zones_names:  ['Hay el Arab']\n",
      ">>> Current Area Name:  HM Hay el Manakh\n",
      ">>>>>> zones_names:  ['Hay el Manakh']\n",
      ">>> Current Area Name:  HZ Hay el Zohoor\n",
      ">>>>>> zones_names:  ['Hay el Zohoor']\n",
      ">>> Current Area Name:  PF Port Fouad\n",
      ">>>>>> zones_names:  ['Port Fouad']\n",
      "city_areas_zones_dict:  {'_id': '18', 'City': 'Port Said', 'Areas_Zones': {'E El ta3awoneyat': ['El ta3awoneyat'], 'HS Hay Sharq': ['Hay Sharq'], 'HA Hay el Arab': ['Hay el Arab'], 'HM Hay el Manakh': ['Hay el Manakh'], 'HZ Hay el Zohoor': ['Hay el Zohoor'], 'PF Port Fouad': ['Port Fouad']}}\n",
      "collection.count_documents({}):  24\n",
      "city_areas_zones_dict is already scrapped >>  {'_id': '18', 'City': 'Port Said', 'Areas_Zones': {'E El ta3awoneyat': ['El ta3awoneyat'], 'HS Hay Sharq': ['Hay Sharq'], 'HA Hay el Arab': ['Hay el Arab'], 'HM Hay el Manakh': ['Hay el Manakh'], 'HZ Hay el Zohoor': ['Hay el Zohoor'], 'PF Port Fouad': ['Port Fouad']}}\n",
      "Skip!\n",
      "----------------------------------\n",
      "Current City Name:  Ras Sudr\n",
      "Areas:  ['RS Ras Sudr']\n",
      ">>> Current Area Name:  RS Ras Sudr\n",
      ">>>>>> zones_names:  ['Downtown', 'La Hacienda', 'Moon Beach', 'Mousa Coast', 'Ras Matarma']\n",
      "city_areas_zones_dict:  {'_id': '19', 'City': 'Ras Sudr', 'Areas_Zones': {'RS Ras Sudr': ['Downtown', 'La Hacienda', 'Moon Beach', 'Mousa Coast', 'Ras Matarma']}}\n",
      "collection.count_documents({}):  24\n",
      "city_areas_zones_dict is already scrapped >>  {'_id': '19', 'City': 'Ras Sudr', 'Areas_Zones': {'RS Ras Sudr': ['Downtown', 'La Hacienda', 'Moon Beach', 'Mousa Coast', 'Ras Matarma']}}\n",
      "Skip!\n",
      "----------------------------------\n",
      "Current City Name:  Sharm El Sheikh\n",
      "Areas:  ['NB Naama Bay', 'NB Nabq Bay', 'OS Old Sharm', \"SB Shark's Bay\", 'UESH Um El Sid Hill']\n",
      ">>> Current Area Name:  NB Naama Bay\n",
      ">>>>>> zones_names:  ['Naama Bay']\n",
      ">>> Current Area Name:  NB Nabq Bay\n",
      ">>>>>> zones_names:  ['Nabq Bay']\n",
      ">>> Current Area Name:  OS Old Sharm\n",
      ">>>>>> zones_names:  ['Old Sharm']\n",
      ">>> Current Area Name:  SB Shark's Bay\n",
      ">>>>>> zones_names:  [\"Shark's Bay\"]\n",
      ">>> Current Area Name:  UESH Um El Sid Hill\n",
      ">>>>>> zones_names:  ['Um El Sid Hill']\n",
      "city_areas_zones_dict:  {'_id': '20', 'City': 'Sharm El Sheikh', 'Areas_Zones': {'NB Naama Bay': ['Naama Bay'], 'NB Nabq Bay': ['Nabq Bay'], 'OS Old Sharm': ['Old Sharm'], \"SB Shark's Bay\": [\"Shark's Bay\"], 'UESH Um El Sid Hill': ['Um El Sid Hill']}}\n",
      "collection.count_documents({}):  24\n",
      "city_areas_zones_dict is already scrapped >>  {'_id': '20', 'City': 'Sharm El Sheikh', 'Areas_Zones': {'NB Naama Bay': ['Naama Bay'], 'NB Nabq Bay': ['Nabq Bay'], 'OS Old Sharm': ['Old Sharm'], \"SB Shark's Bay\": [\"Shark's Bay\"], 'UESH Um El Sid Hill': ['Um El Sid Hill']}}\n",
      "Skip!\n",
      "----------------------------------\n",
      "Current City Name:  Shebin El Kawm\n",
      "Areas:  ['AG Al Galaa', 'AM Al Mahata', 'KE Kafr Elmeselha', 'SA Stadium Area']\n",
      ">>> Current Area Name:  AG Al Galaa\n",
      ">>>>>> zones_names:  ['Al Galaa']\n",
      ">>> Current Area Name:  AM Al Mahata\n",
      ">>>>>> zones_names:  ['Al Mahata']\n",
      ">>> Current Area Name:  KE Kafr Elmeselha\n",
      ">>>>>> zones_names:  ['Kafr Elmeselha']\n",
      ">>> Current Area Name:  SA Stadium Area\n",
      ">>>>>> zones_names:  ['Stadium Area']\n",
      "city_areas_zones_dict:  {'_id': '21', 'City': 'Shebin El Kawm', 'Areas_Zones': {'AG Al Galaa': ['Al Galaa'], 'AM Al Mahata': ['Al Mahata'], 'KE Kafr Elmeselha': ['Kafr Elmeselha'], 'SA Stadium Area': ['Stadium Area']}}\n",
      "collection.count_documents({}):  24\n",
      "city_areas_zones_dict is already scrapped >>  {'_id': '21', 'City': 'Shebin El Kawm', 'Areas_Zones': {'AG Al Galaa': ['Al Galaa'], 'AM Al Mahata': ['Al Mahata'], 'KE Kafr Elmeselha': ['Kafr Elmeselha'], 'SA Stadium Area': ['Stadium Area']}}\n",
      "Skip!\n",
      "----------------------------------\n",
      "Current City Name:  Suez\n",
      "Areas:  ['O 24 October', 'AAEG Ahmed Abdo El Gded', 'AH Al Herafyeen', 'Al Salam 1', 'Al Salam 2', 'EH El Heisha', 'EM El Mostaqbal 1 & 2']\n",
      ">>> Current Area Name:  O 24 October\n",
      ">>>>>> zones_names:  ['24 October']\n",
      ">>> Current Area Name:  AAEG Ahmed Abdo El Gded\n",
      ">>>>>> zones_names:  ['Ahmed Abdo El Gded']\n",
      ">>> Current Area Name:  AH Al Herafyeen\n",
      ">>>>>> zones_names:  ['Al Herafyeen']\n",
      ">>> Current Area Name:  Al Salam 1\n",
      ">>>>>> zones_names:  ['Al Salam 1']\n",
      ">>> Current Area Name:  Al Salam 2\n",
      ">>>>>> zones_names:  ['Al Salam 2']\n",
      ">>> Current Area Name:  EH El Heisha\n",
      ">>>>>> zones_names:  ['El Heisha']\n",
      ">>> Current Area Name:  EM El Mostaqbal 1 & 2\n",
      ">>>>>> zones_names:  ['El Mostaqbal 1 & 2']\n",
      "city_areas_zones_dict:  {'_id': '22', 'City': 'Suez', 'Areas_Zones': {'O 24 October': ['24 October'], 'AAEG Ahmed Abdo El Gded': ['Ahmed Abdo El Gded'], 'AH Al Herafyeen': ['Al Herafyeen'], 'Al Salam 1': ['Al Salam 1'], 'Al Salam 2': ['Al Salam 2'], 'EH El Heisha': ['El Heisha'], 'EM El Mostaqbal 1 & 2': ['El Mostaqbal 1 & 2']}}\n",
      "collection.count_documents({}):  24\n",
      "city_areas_zones_dict is already scrapped >>  {'_id': '22', 'City': 'Suez', 'Areas_Zones': {'O 24 October': ['24 October'], 'AAEG Ahmed Abdo El Gded': ['Ahmed Abdo El Gded'], 'AH Al Herafyeen': ['Al Herafyeen'], 'Al Salam 1': ['Al Salam 1'], 'Al Salam 2': ['Al Salam 2'], 'EH El Heisha': ['El Heisha'], 'EM El Mostaqbal 1 & 2': ['El Mostaqbal 1 & 2']}}\n",
      "Skip!\n",
      "----------------------------------\n",
      "Current City Name:  Suhag\n",
      "Areas:  ['B Baga', 'CEN Cornishe El Nile', 'D Downtown', 'EGS El Gomhorya Street', 'EM El Mahata', 'EZI El Zohour Island', 'KI Karaman Island']\n",
      ">>> Current Area Name:  B Baga\n",
      ">>>>>> zones_names:  ['Baga']\n",
      ">>> Current Area Name:  CEN Cornishe El Nile\n",
      ">>>>>> zones_names:  ['Cornishe El Nile']\n",
      ">>> Current Area Name:  D Downtown\n",
      ">>>>>> zones_names:  ['Downtown']\n",
      ">>> Current Area Name:  EGS El Gomhorya Street\n",
      ">>>>>> zones_names:  ['El Gomhorya Street']\n",
      ">>> Current Area Name:  EM El Mahata\n",
      ">>>>>> zones_names:  ['El Mahata']\n",
      ">>> Current Area Name:  EZI El Zohour Island\n",
      ">>>>>> zones_names:  ['El Zohour Island']\n",
      ">>> Current Area Name:  KI Karaman Island\n",
      ">>>>>> zones_names:  ['Karaman Island']\n",
      "city_areas_zones_dict:  {'_id': '23', 'City': 'Suhag', 'Areas_Zones': {'B Baga': ['Baga'], 'CEN Cornishe El Nile': ['Cornishe El Nile'], 'D Downtown': ['Downtown'], 'EGS El Gomhorya Street': ['El Gomhorya Street'], 'EM El Mahata': ['El Mahata'], 'EZI El Zohour Island': ['El Zohour Island'], 'KI Karaman Island': ['Karaman Island']}}\n",
      "collection.count_documents({}):  24\n",
      "city_areas_zones_dict is already scrapped >>  {'_id': '23', 'City': 'Suhag', 'Areas_Zones': {'B Baga': ['Baga'], 'CEN Cornishe El Nile': ['Cornishe El Nile'], 'D Downtown': ['Downtown'], 'EGS El Gomhorya Street': ['El Gomhorya Street'], 'EM El Mahata': ['El Mahata'], 'EZI El Zohour Island': ['El Zohour Island'], 'KI Karaman Island': ['Karaman Island']}}\n",
      "Skip!\n",
      "----------------------------------\n",
      "Current City Name:  Tanta\n",
      "Areas:  ['BEM Beit El Maqdis', 'BS Botros Street', 'D Downtown', 'EGSEB El Geish Street (El Bahr )', 'EHS El Helw Street', 'ENS El Nady Street', \"ES El Saree'\"]\n",
      ">>> Current Area Name:  BEM Beit El Maqdis\n",
      ">>>>>> zones_names:  ['Beit El Maqdis']\n",
      ">>> Current Area Name:  BS Botros Street\n",
      ">>>>>> zones_names:  ['Botros Street']\n",
      ">>> Current Area Name:  D Downtown\n",
      ">>>>>> zones_names:  ['Downtown']\n",
      ">>> Current Area Name:  EGSEB El Geish Street (El Bahr )\n",
      ">>>>>> zones_names:  ['El Geish Street (El Bahr )']\n",
      ">>> Current Area Name:  EHS El Helw Street\n",
      ">>>>>> zones_names:  ['El Helw Street']\n",
      ">>> Current Area Name:  ENS El Nady Street\n",
      ">>>>>> zones_names:  ['El Nady Street']\n",
      ">>> Current Area Name:  ES El Saree'\n",
      ">>>>>> zones_names:  [\"El Saree'\"]\n",
      "city_areas_zones_dict:  {'_id': '24', 'City': 'Tanta', 'Areas_Zones': {'BEM Beit El Maqdis': ['Beit El Maqdis'], 'BS Botros Street': ['Botros Street'], 'D Downtown': ['Downtown'], 'EGSEB El Geish Street (El Bahr )': ['El Geish Street (El Bahr )'], 'EHS El Helw Street': ['El Helw Street'], 'ENS El Nady Street': ['El Nady Street'], \"ES El Saree'\": [\"El Saree'\"]}}\n",
      "collection.count_documents({}):  24\n",
      "city_areas_zones_dict is already scrapped >>  {'_id': '24', 'City': 'Tanta', 'Areas_Zones': {'BEM Beit El Maqdis': ['Beit El Maqdis'], 'BS Botros Street': ['Botros Street'], 'D Downtown': ['Downtown'], 'EGSEB El Geish Street (El Bahr )': ['El Geish Street (El Bahr )'], 'EHS El Helw Street': ['El Helw Street'], 'ENS El Nady Street': ['El Nady Street'], \"ES El Saree'\": [\"El Saree'\"]}}\n",
      "Skip!\n",
      "----------------------------------\n"
     ]
    }
   ],
   "source": [
    "# fire the scrapper\n",
    "scrape_elmenus()"
   ]
  },
  {
   "cell_type": "markdown",
   "metadata": {},
   "source": [
    "- make a csv file from the ***MongoDB Collection***"
   ]
  },
  {
   "cell_type": "code",
   "execution_count": 71,
   "metadata": {
    "scrolled": true
   },
   "outputs": [
    {
     "name": "stdout",
     "output_type": "stream",
     "text": [
      "  _id        City                                        Areas_Zones\n",
      "0   0  Ain Sokhna  {'Ain Sokhna': ['Ain Sokhna'], 'GR Galala Road...\n",
      "1   1   Al Fayoum  {'AH Al Hawatem': ['Al Hawatem'], 'D Dallah': ...\n",
      "2   2  Alexandria  {'AK Abou Kir': ['Abou Kir'], 'Abou Soliman': ...\n",
      "3   4       Benha  {'A Atreb': ['Atreb'], 'EV El Vill': ['El Vill...\n",
      "4   5   Beni Suef  {'AA Al Azhary': ['Al Azhary'], 'AHEG Al Hai E...\n"
     ]
    }
   ],
   "source": [
    "# generate_csv_file from elmenus_collection\n",
    "\n",
    "def generate_csv_file():\n",
    "    \n",
    "    cursor = elmenus_collection.find({})\n",
    "    df =  pd.DataFrame(list(cursor))\n",
    "    print(df.head())\n",
    "    df.to_csv('elmenus_data.csv')\n",
    "\n",
    "generate_csv_file()"
   ]
  },
  {
   "cell_type": "markdown",
   "metadata": {},
   "source": [
    "# Data Analysis"
   ]
  },
  {
   "cell_type": "markdown",
   "metadata": {},
   "source": [
    "- load the elmenus_data csv file into a Pandas Dataframe \n",
    "- **Make your hand dirty! :D**"
   ]
  },
  {
   "cell_type": "code",
   "execution_count": 72,
   "metadata": {},
   "outputs": [
    {
     "data": {
      "text/html": [
       "<div>\n",
       "<style scoped>\n",
       "    .dataframe tbody tr th:only-of-type {\n",
       "        vertical-align: middle;\n",
       "    }\n",
       "\n",
       "    .dataframe tbody tr th {\n",
       "        vertical-align: top;\n",
       "    }\n",
       "\n",
       "    .dataframe thead th {\n",
       "        text-align: right;\n",
       "    }\n",
       "</style>\n",
       "<table border=\"1\" class=\"dataframe\">\n",
       "  <thead>\n",
       "    <tr style=\"text-align: right;\">\n",
       "      <th></th>\n",
       "      <th>City</th>\n",
       "      <th>Areas_Zones</th>\n",
       "    </tr>\n",
       "  </thead>\n",
       "  <tbody>\n",
       "    <tr>\n",
       "      <td>0</td>\n",
       "      <td>Ain Sokhna</td>\n",
       "      <td>{'Ain Sokhna': ['Ain Sokhna'], 'GR Galala Road...</td>\n",
       "    </tr>\n",
       "    <tr>\n",
       "      <td>1</td>\n",
       "      <td>Al Fayoum</td>\n",
       "      <td>{'AH Al Hawatem': ['Al Hawatem'], 'D Dallah': ...</td>\n",
       "    </tr>\n",
       "    <tr>\n",
       "      <td>2</td>\n",
       "      <td>Alexandria</td>\n",
       "      <td>{'AK Abou Kir': ['Abou Kir'], 'Abou Soliman': ...</td>\n",
       "    </tr>\n",
       "    <tr>\n",
       "      <td>3</td>\n",
       "      <td>Benha</td>\n",
       "      <td>{'A Atreb': ['Atreb'], 'EV El Vill': ['El Vill...</td>\n",
       "    </tr>\n",
       "    <tr>\n",
       "      <td>4</td>\n",
       "      <td>Beni Suef</td>\n",
       "      <td>{'AA Al Azhary': ['Al Azhary'], 'AHEG Al Hai E...</td>\n",
       "    </tr>\n",
       "  </tbody>\n",
       "</table>\n",
       "</div>"
      ],
      "text/plain": [
       "         City                                        Areas_Zones\n",
       "0  Ain Sokhna  {'Ain Sokhna': ['Ain Sokhna'], 'GR Galala Road...\n",
       "1   Al Fayoum  {'AH Al Hawatem': ['Al Hawatem'], 'D Dallah': ...\n",
       "2  Alexandria  {'AK Abou Kir': ['Abou Kir'], 'Abou Soliman': ...\n",
       "3       Benha  {'A Atreb': ['Atreb'], 'EV El Vill': ['El Vill...\n",
       "4   Beni Suef  {'AA Al Azhary': ['Al Azhary'], 'AHEG Al Hai E..."
      ]
     },
     "execution_count": 72,
     "metadata": {},
     "output_type": "execute_result"
    }
   ],
   "source": [
    "df = pd.read_csv(r\"elmenus_data.csv\")[['City', 'Areas_Zones']]\n",
    "df.head()"
   ]
  },
  {
   "cell_type": "markdown",
   "metadata": {},
   "source": [
    "### Retrieve all cities"
   ]
  },
  {
   "cell_type": "code",
   "execution_count": 73,
   "metadata": {
    "scrolled": true
   },
   "outputs": [
    {
     "name": "stdout",
     "output_type": "stream",
     "text": [
      "['Ain Sokhna', 'Al Fayoum', 'Alexandria', 'Benha', 'Beni Suef', 'Cairo', 'Dahab', 'Damanhour', 'Damietta', 'El Gouna', 'El Mansoura', 'Hurghada', 'Ismailia', 'Kafr El Sheikh', 'Kafr Eldawar', 'Minya', 'North Coast', 'Port Said', 'Ras Sudr', 'Sharm El Sheikh', 'Shebin El Kawm', 'Suez', 'Suhag', 'Tanta']\n"
     ]
    }
   ],
   "source": [
    "print(df.City.tolist())\n",
    "\n",
    "# for row in df.iterrows():\n",
    "#     print(row[1][0])"
   ]
  },
  {
   "cell_type": "markdown",
   "metadata": {},
   "source": [
    "### Retrieve all Areas-zones in specific city"
   ]
  },
  {
   "cell_type": "code",
   "execution_count": 76,
   "metadata": {},
   "outputs": [
    {
     "name": "stdout",
     "output_type": "stream",
     "text": [
      "{'Ain Sokhna': ['Ain Sokhna'], 'GR Galala Road': ['Porta Sokhna', 'Telal'], 'SSR Sokhna-Suez Road': ['Sokhna-Suez Road'], 'ZR Zafarana Road': ['Cancun', 'La Vista 4']}\n"
     ]
    },
    {
     "data": {
      "text/plain": [
       "{'Ain Sokhna': ['Ain Sokhna'],\n",
       " 'GR Galala Road': ['Porta Sokhna', 'Telal'],\n",
       " 'SSR Sokhna-Suez Road': ['Sokhna-Suez Road'],\n",
       " 'ZR Zafarana Road': ['Cancun', 'La Vista 4']}"
      ]
     },
     "execution_count": 76,
     "metadata": {},
     "output_type": "execute_result"
    }
   ],
   "source": [
    "import json \n",
    "\n",
    "string = df.iloc[0][1]\n",
    "print(string)\n",
    "\n",
    "string = string.replace('\\'', '\\\"')\n",
    "json.loads(string)"
   ]
  },
  {
   "cell_type": "code",
   "execution_count": null,
   "metadata": {},
   "outputs": [],
   "source": []
  },
  {
   "cell_type": "markdown",
   "metadata": {},
   "source": [
    "## Lets indexing our MongoDB using Elasticsearch"
   ]
  },
  {
   "cell_type": "markdown",
   "metadata": {},
   "source": [
    "### Step 6-1 Install and import all the necessary libraries"
   ]
  },
  {
   "cell_type": "code",
   "execution_count": 63,
   "metadata": {},
   "outputs": [
    {
     "name": "stderr",
     "output_type": "stream",
     "text": [
      "C:\\Users\\Data Team\\Anaconda3\\lib\\site-packages\\ipykernel_launcher.py:9: DeprecationWarning: count is deprecated. Use estimated_document_count or count_documents instead. Please note that $where must be replaced by $expr, $near must be replaced by $geoWithin with $center, and $nearSphere must be replaced by $geoWithin with $centerSphere\n",
      "  if __name__ == '__main__':\n",
      "\n",
      "  0%|                                                                                                        | 0/24 [00:00<?, ?it/s]"
     ]
    },
    {
     "name": "stdout",
     "output_type": "stream",
     "text": [
      "0\n"
     ]
    },
    {
     "name": "stderr",
     "output_type": "stream",
     "text": [
      "\n",
      "  4%|████                                                                                            | 1/24 [00:00<00:11,  1.98it/s]"
     ]
    },
    {
     "name": "stdout",
     "output_type": "stream",
     "text": [
      "1\n"
     ]
    },
    {
     "name": "stderr",
     "output_type": "stream",
     "text": [
      "\n",
      "  8%|████████                                                                                        | 2/24 [00:01<00:11,  1.97it/s]"
     ]
    },
    {
     "name": "stdout",
     "output_type": "stream",
     "text": [
      "2\n"
     ]
    },
    {
     "name": "stderr",
     "output_type": "stream",
     "text": [
      "\n",
      " 12%|████████████                                                                                    | 3/24 [00:01<00:10,  1.96it/s]"
     ]
    },
    {
     "name": "stdout",
     "output_type": "stream",
     "text": [
      "4\n"
     ]
    },
    {
     "name": "stderr",
     "output_type": "stream",
     "text": [
      "\n",
      " 17%|████████████████                                                                                | 4/24 [00:02<00:10,  1.95it/s]"
     ]
    },
    {
     "name": "stdout",
     "output_type": "stream",
     "text": [
      "5\n"
     ]
    },
    {
     "name": "stderr",
     "output_type": "stream",
     "text": [
      "\n",
      " 21%|████████████████████                                                                            | 5/24 [00:02<00:09,  1.95it/s]"
     ]
    },
    {
     "name": "stdout",
     "output_type": "stream",
     "text": [
      "6\n"
     ]
    },
    {
     "name": "stderr",
     "output_type": "stream",
     "text": [
      "\n",
      " 25%|████████████████████████                                                                        | 6/24 [00:03<00:09,  1.94it/s]"
     ]
    },
    {
     "name": "stdout",
     "output_type": "stream",
     "text": [
      "7\n"
     ]
    },
    {
     "name": "stderr",
     "output_type": "stream",
     "text": [
      "\n",
      " 29%|████████████████████████████                                                                    | 7/24 [00:03<00:08,  1.94it/s]"
     ]
    },
    {
     "name": "stdout",
     "output_type": "stream",
     "text": [
      "8\n"
     ]
    },
    {
     "name": "stderr",
     "output_type": "stream",
     "text": [
      "\n",
      " 33%|████████████████████████████████                                                                | 8/24 [00:04<00:08,  1.93it/s]"
     ]
    },
    {
     "name": "stdout",
     "output_type": "stream",
     "text": [
      "9\n"
     ]
    },
    {
     "name": "stderr",
     "output_type": "stream",
     "text": [
      "\n",
      " 38%|████████████████████████████████████                                                            | 9/24 [00:04<00:07,  1.94it/s]"
     ]
    },
    {
     "name": "stdout",
     "output_type": "stream",
     "text": [
      "10\n"
     ]
    },
    {
     "name": "stderr",
     "output_type": "stream",
     "text": [
      "\n",
      " 42%|███████████████████████████████████████▌                                                       | 10/24 [00:05<00:07,  1.93it/s]"
     ]
    },
    {
     "name": "stdout",
     "output_type": "stream",
     "text": [
      "11\n"
     ]
    },
    {
     "name": "stderr",
     "output_type": "stream",
     "text": [
      "\n",
      " 46%|███████████████████████████████████████████▌                                                   | 11/24 [00:05<00:06,  1.93it/s]"
     ]
    },
    {
     "name": "stdout",
     "output_type": "stream",
     "text": [
      "12\n"
     ]
    },
    {
     "name": "stderr",
     "output_type": "stream",
     "text": [
      "\n",
      " 50%|███████████████████████████████████████████████▌                                               | 12/24 [00:06<00:06,  1.93it/s]"
     ]
    },
    {
     "name": "stdout",
     "output_type": "stream",
     "text": [
      "13\n"
     ]
    },
    {
     "name": "stderr",
     "output_type": "stream",
     "text": [
      "\n",
      " 54%|███████████████████████████████████████████████████▍                                           | 13/24 [00:06<00:05,  1.93it/s]"
     ]
    },
    {
     "name": "stdout",
     "output_type": "stream",
     "text": [
      "14\n"
     ]
    },
    {
     "name": "stderr",
     "output_type": "stream",
     "text": [
      "\n",
      " 58%|███████████████████████████████████████████████████████▍                                       | 14/24 [00:07<00:05,  1.94it/s]"
     ]
    },
    {
     "name": "stdout",
     "output_type": "stream",
     "text": [
      "15\n"
     ]
    },
    {
     "name": "stderr",
     "output_type": "stream",
     "text": [
      "\n",
      " 62%|███████████████████████████████████████████████████████████▍                                   | 15/24 [00:07<00:04,  1.93it/s]"
     ]
    },
    {
     "name": "stdout",
     "output_type": "stream",
     "text": [
      "16\n"
     ]
    },
    {
     "name": "stderr",
     "output_type": "stream",
     "text": [
      "\n",
      " 67%|███████████████████████████████████████████████████████████████▎                               | 16/24 [00:08<00:04,  1.93it/s]"
     ]
    },
    {
     "name": "stdout",
     "output_type": "stream",
     "text": [
      "17\n"
     ]
    },
    {
     "name": "stderr",
     "output_type": "stream",
     "text": [
      "\n",
      " 71%|███████████████████████████████████████████████████████████████████▎                           | 17/24 [00:08<00:03,  1.93it/s]"
     ]
    },
    {
     "name": "stdout",
     "output_type": "stream",
     "text": [
      "18\n"
     ]
    },
    {
     "name": "stderr",
     "output_type": "stream",
     "text": [
      "\n",
      " 75%|███████████████████████████████████████████████████████████████████████▎                       | 18/24 [00:09<00:03,  1.93it/s]"
     ]
    },
    {
     "name": "stdout",
     "output_type": "stream",
     "text": [
      "19\n"
     ]
    },
    {
     "name": "stderr",
     "output_type": "stream",
     "text": [
      "\n",
      " 79%|███████████████████████████████████████████████████████████████████████████▏                   | 19/24 [00:09<00:02,  1.93it/s]"
     ]
    },
    {
     "name": "stdout",
     "output_type": "stream",
     "text": [
      "20\n"
     ]
    },
    {
     "name": "stderr",
     "output_type": "stream",
     "text": [
      "\n",
      " 83%|███████████████████████████████████████████████████████████████████████████████▏               | 20/24 [00:10<00:02,  1.93it/s]"
     ]
    },
    {
     "name": "stdout",
     "output_type": "stream",
     "text": [
      "21\n"
     ]
    },
    {
     "name": "stderr",
     "output_type": "stream",
     "text": [
      "\n",
      " 88%|███████████████████████████████████████████████████████████████████████████████████▏           | 21/24 [00:10<00:01,  1.93it/s]"
     ]
    },
    {
     "name": "stdout",
     "output_type": "stream",
     "text": [
      "22\n"
     ]
    },
    {
     "name": "stderr",
     "output_type": "stream",
     "text": [
      "\n",
      " 92%|███████████████████████████████████████████████████████████████████████████████████████        | 22/24 [00:11<00:01,  1.93it/s]"
     ]
    },
    {
     "name": "stdout",
     "output_type": "stream",
     "text": [
      "23\n"
     ]
    },
    {
     "name": "stderr",
     "output_type": "stream",
     "text": [
      "\n",
      " 96%|███████████████████████████████████████████████████████████████████████████████████████████    | 23/24 [00:11<00:00,  1.93it/s]"
     ]
    },
    {
     "name": "stdout",
     "output_type": "stream",
     "text": [
      "24\n"
     ]
    },
    {
     "name": "stderr",
     "output_type": "stream",
     "text": [
      "\n",
      "100%|███████████████████████████████████████████████████████████████████████████████████████████████| 24/24 [00:12<00:00,  1.93it/s]\n"
     ]
    },
    {
     "name": "stdout",
     "output_type": "stream",
     "text": [
      "-------------------- Elastic Indexing is Done! --------------------\n"
     ]
    }
   ],
   "source": [
    "from elasticsearch import Elasticsearch\n",
    "from elasticsearch.helpers import bulk, parallel_bulk\n",
    "from collections import deque\n",
    "from tqdm import tqdm\n",
    "import time\n",
    "\n",
    "actions = []\n",
    "\n",
    "for data in tqdm(elmenus_collection.find(), total = elmenus_collection.count()):\n",
    "    # print(data)\n",
    "    print(data.pop('_id'))\n",
    "    action = {\n",
    "        \"_index\": DB_NAME,\n",
    "        \"_type\": DB_NAME + \"_branch\",\n",
    "        \"_source\": data\n",
    "    }\n",
    "    actions.append(action)\n",
    "    \n",
    "    # Dump x number of objects at a time\n",
    "    if len(actions) >= 100:\n",
    "        # Bulk API\n",
    "        # The bulk API makes it possible to perform many index/delete operations in a single API call. \n",
    "        # This can greatly increase the indexing speed.\n",
    "        \n",
    "        # Deques are a generalization of stacks and queues \n",
    "        # (the name is pronounced “deck” and is short for “double-ended queue”). \n",
    "        # Deques support thread-safe, memory efficient appends and pops from either side of the deque \n",
    "        # with approximately the same O(1) performance in either direction.\n",
    "        deque(parallel_bulk(client, actions), maxlen=0)\n",
    "        actions = []\n",
    "        \n",
    "    time.sleep(0.5)\n",
    "\n",
    "print(\"-------------------- Elastic Indexing is Done! --------------------\")\n"
   ]
  },
  {
   "cell_type": "markdown",
   "metadata": {},
   "source": [
    "# Data Cleaning"
   ]
  },
  {
   "cell_type": "code",
   "execution_count": null,
   "metadata": {},
   "outputs": [],
   "source": []
  }
 ],
 "metadata": {
  "kernelspec": {
   "display_name": "Python 3",
   "language": "python",
   "name": "python3"
  },
  "language_info": {
   "codemirror_mode": {
    "name": "ipython",
    "version": 3
   },
   "file_extension": ".py",
   "mimetype": "text/x-python",
   "name": "python",
   "nbconvert_exporter": "python",
   "pygments_lexer": "ipython3",
   "version": "3.7.4"
  }
 },
 "nbformat": 4,
 "nbformat_minor": 4
}
